{
 "cells": [
  {
   "cell_type": "markdown",
   "metadata": {},
   "source": [
    "# Préparation des variables de ses"
   ]
  },
  {
   "cell_type": "code",
   "execution_count": null,
   "metadata": {
    "vscode": {
     "languageId": "r"
    }
   },
   "outputs": [],
   "source": [
    "library(tidyverse)\n",
    "library(factoextra)\n",
    "\n",
    "# Charger les données\n",
    "df_pilot1_2022 <- readRDS(\"../../_PrivateFolder_datagotchi_federal_2025/data/clustering/qc2022/01_pilot1_2022.rds\")\n",
    "\n",
    "# Charger le fichier des variables\n",
    "source(\"01-1_variables.R\")\n",
    "\n",
    "df_ses <- df_pilot1_2022 %>%\n",
    "  select(all_of(variables_ses))"
   ]
  },
  {
   "cell_type": "code",
   "execution_count": null,
   "metadata": {
    "vscode": {
     "languageId": "r"
    }
   },
   "outputs": [],
   "source": [
    "# Boucle pour afficher la table pour chaque variable\n",
    "for (v in variables_ses) {\n",
    "  if (v != \"id\") {\n",
    "    cat(\"Table pour la variable:\", v, \"\\n\")\n",
    "    print(table(df_ses[[v]]))\n",
    "    cat(\"\\n\\n\")\n",
    "  }\n",
    "}"
   ]
  },
  {
   "cell_type": "markdown",
   "metadata": {},
   "source": [
    "### Transformations\n",
    "\n",
    "Les variables age, éducation et income devraient être des variables ordinales"
   ]
  },
  {
   "cell_type": "code",
   "execution_count": null,
   "metadata": {
    "vscode": {
     "languageId": "r"
    }
   },
   "outputs": [],
   "source": [
    "# Transformation de age en variable ordinale\n",
    "#-------------------------------------------\n",
    "\n",
    "df_ses <- df_ses %>%\n",
    "\n",
    "  mutate(\n",
    "    age = if_else(\n",
    "      age34m == 1,\n",
    "      0,\n",
    "      if_else(\n",
    "        age3554 == 1,\n",
    "        0.5,\n",
    "        1\n",
    "      )\n",
    "    )\n",
    "  ) %>%\n",
    "  select(\n",
    "    -age34m,\n",
    "    -age3554,\n",
    "    -age55p\n",
    "  )"
   ]
  },
  {
   "cell_type": "code",
   "execution_count": null,
   "metadata": {
    "vscode": {
     "languageId": "r"
    }
   },
   "outputs": [],
   "source": [
    "# Transformation de educ en variable ordinale\n",
    "#--------------------------------------------\n",
    "\n",
    "df_ses <- df_ses %>%\n",
    "\n",
    "  mutate(\n",
    "    educ = if_else(\n",
    "      educBHS == 1,\n",
    "      0,\n",
    "      if_else(\n",
    "        educCollege == 1,\n",
    "        0.5,\n",
    "        1\n",
    "      )\n",
    "    )\n",
    "  ) %>%\n",
    "  select(\n",
    "    -educBHS,\n",
    "    -educCollege,\n",
    "    -educUniv\n",
    "  )"
   ]
  },
  {
   "cell_type": "code",
   "execution_count": null,
   "metadata": {
    "vscode": {
     "languageId": "r"
    }
   },
   "outputs": [],
   "source": [
    "# Transformation de income en variable ordinale\n",
    "#----------------------------------------------\n",
    "\n",
    "df_ses <- df_ses %>%\n",
    "\n",
    "  mutate(\n",
    "    ses_income_None = 0,\n",
    "    ses_income_i1to30    = ses_income_i1to30/7,\n",
    "    ses_income_i31to60   = (1*ses_income_i31to60)/7 + ses_income_i31to60/7,\n",
    "    ses_income_i61to90   = (2*ses_income_i61to90)/7 + ses_income_i61to90/7,\n",
    "    ses_income_i91to110  = (3*ses_income_i91to110)/7 + ses_income_i91to110/7,\n",
    "    ses_income_i111to150 = (4*ses_income_i111to150)/7 + ses_income_i111to150/7,\n",
    "    ses_income_i151to200 = (5*ses_income_i151to200)/7 + ses_income_i151to200/7,\n",
    "    ses_income_i201toInf = (ses_income_i201toInf)\n",
    "  ) %>%\n",
    "  mutate (\n",
    "    ses_income = ses_income_None +\n",
    "      ses_income_i31to60 +\n",
    "      ses_income_i61to90 +\n",
    "      ses_income_i91to110 +\n",
    "      ses_income_i111to150 +\n",
    "      ses_income_i151to200 +\n",
    "      ses_income_i201toInf\n",
    "  ) %>%\n",
    "  select(\n",
    "    -ses_income_None,\n",
    "    -ses_income_i201toInf,\n",
    "    -ses_income_i31to60,\n",
    "    -ses_income_i61to90,\n",
    "    -ses_income_i91to110,\n",
    "    -ses_income_i111to150,\n",
    "    -ses_income_i151to200,\n",
    "    -ses_income_i201toInf\n",
    "  )"
   ]
  },
  {
   "cell_type": "code",
   "execution_count": null,
   "metadata": {
    "vscode": {
     "languageId": "r"
    }
   },
   "outputs": [],
   "source": [
    "variables_ses_clust <- c(\n",
    "  \"id\",\n",
    "  \"male\",\n",
    "  \"female\",\n",
    "  \"age\",\n",
    "  \"langEn\",\n",
    "  \"langFr\",\n",
    "  \"ses_languageOther\",\n",
    "  \"educ\",\n",
    "  \"ses_income\",\n",
    "  \"immigrant\",\n",
    "  \"ses_ethn_White\",\n",
    "  \"ses_ethn_Black\",\n",
    "  \"ses_ethn_Other\",\n",
    "  \"ses_hetero\",\n",
    "  \"ses_gai\",\n",
    "  \"ses_bisex\",\n",
    "  \"ses_sexOri_other\"\n",
    ")"
   ]
  },
  {
   "cell_type": "code",
   "execution_count": null,
   "metadata": {
    "vscode": {
     "languageId": "r"
    }
   },
   "outputs": [],
   "source": [
    "# Boucle pour afficher la table pour chaque variable\n",
    "for (v in variables_ses_clust) {\n",
    "  if (v != \"id\") {\n",
    "    cat(\"Table pour la variable:\", v, \"\\n\")\n",
    "    print(table(df_ses[[v]]))\n",
    "    cat(\"\\n\\n\")\n",
    "  }\n",
    "}"
   ]
  },
  {
   "cell_type": "code",
   "execution_count": null,
   "metadata": {
    "vscode": {
     "languageId": "r"
    }
   },
   "outputs": [],
   "source": [
    "# Sauvegarder les données préparées\n",
    "saveRDS(df_ses, file = \"../../_PrivateFolder_datagotchi_federal_2025/data/clustering/qc2022/02_pilot1_2022_ses.rds\")"
   ]
  },
  {
   "cell_type": "markdown",
   "metadata": {},
   "source": [
    "---"
   ]
  },
  {
   "cell_type": "markdown",
   "metadata": {},
   "source": [
    "# SUGGESTION : Activité de Clustering\n",
    "\n",
    "Si souhaité, effectuer un exercice de clustering avec ce sous-groupe de variables pour mieux saisir les données et leur relation. \n",
    "\n",
    "Cet exercice est purement exploratoire et sert à voir si les données peuvent être utilisées pour faire du clustering."
   ]
  }
 ],
 "metadata": {
  "kernelspec": {
   "display_name": "R",
   "language": "R",
   "name": "ir"
  },
  "language_info": {
   "codemirror_mode": "r",
   "file_extension": ".r",
   "mimetype": "text/x-r-source",
   "name": "R",
   "pygments_lexer": "r",
   "version": "4.4.1"
  }
 },
 "nbformat": 4,
 "nbformat_minor": 2
}
