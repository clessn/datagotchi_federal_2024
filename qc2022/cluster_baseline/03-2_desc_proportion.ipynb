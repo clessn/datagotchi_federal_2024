{
 "cells": [
  {
   "cell_type": "markdown",
   "metadata": {},
   "source": [
    "# Proportion de chaque cluster dans la population (dans les données du pilote qui sont réputées représentatives)\n",
    "\n",
    "Calculer le nombre d'individus par cluster"
   ]
  },
  {
   "cell_type": "code",
   "execution_count": null,
   "metadata": {
    "vscode": {
     "languageId": "r"
    }
   },
   "outputs": [],
   "source": [
    "# Library\n",
    "library(dplyr)\n",
    "library(tidyr)\n",
    "library(ggplot2)\n",
    "\n",
    "# 1. Load Data and Clustering Results\n",
    "df_pilot1_2022 <- readRDS(\"../../_PrivateFolder_datagotchi_federal_2025/data/clustering/qc2022/03_pilot1_2022.rds\")\n"
   ]
  },
  {
   "cell_type": "code",
   "execution_count": null,
   "metadata": {
    "vscode": {
     "languageId": "r"
    }
   },
   "outputs": [],
   "source": [
    "# Table de fréquence\n",
    "table_clusters <- table(df_pilot1_2022$cluster_name)\n",
    "\n",
    "# Calcul des proportions\n",
    "proportions_clusters <- prop.table(table_clusters) * 100\n",
    "\n",
    "# Afficher les résultats\n",
    "table_clusters  # Nombre de personnes par cluster\n",
    "proportions_clusters  # Proportions en pourcentage\n"
   ]
  },
  {
   "cell_type": "code",
   "execution_count": null,
   "metadata": {
    "vscode": {
     "languageId": "r"
    }
   },
   "outputs": [],
   "source": [
    "# Préparer les données pour ggplot\n",
    "df_proportions <- data.frame(\n",
    "  cluster = names(proportions_clusters),\n",
    "  proportion = as.numeric(proportions_clusters)\n",
    ")"
   ]
  },
  {
   "cell_type": "code",
   "execution_count": null,
   "metadata": {
    "vscode": {
     "languageId": "r"
    }
   },
   "outputs": [],
   "source": [
    "# Préparer les données pour ggplot\n",
    "df_proportions <- data.frame(\n",
    "  cluster = names(proportions_clusters),\n",
    "  proportion = as.numeric(proportions_clusters)\n",
    ")\n",
    "\n",
    "# Création du graphique de proportion\n",
    "ggplot(df_proportions, aes(x = reorder(cluster, -proportion), y = proportion, fill = cluster)) +\n",
    "  geom_bar(stat = \"identity\") +\n",
    "  labs(title = \"Proportion de chaque cluster\", x = \"Cluster\", y = \"Proportion (%)\") +\n",
    "  theme_minimal() +\n",
    "  theme(axis.text.x = element_text(angle = 45, hjust = 1))"
   ]
  }
 ],
 "metadata": {
  "kernelspec": {
   "display_name": "R",
   "language": "R",
   "name": "ir"
  },
  "language_info": {
   "codemirror_mode": "r",
   "file_extension": ".r",
   "mimetype": "text/x-r-source",
   "name": "R",
   "pygments_lexer": "r",
   "version": "4.4.1"
  }
 },
 "nbformat": 4,
 "nbformat_minor": 2
}
