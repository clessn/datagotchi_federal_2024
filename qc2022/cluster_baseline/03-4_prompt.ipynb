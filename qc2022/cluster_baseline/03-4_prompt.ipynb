{
 "cells": [
  {
   "cell_type": "markdown",
   "metadata": {},
   "source": [
    "# Création de prompts pour le nommage et la description des clusters"
   ]
  },
  {
   "cell_type": "code",
   "execution_count": null,
   "metadata": {
    "vscode": {
     "languageId": "r"
    }
   },
   "outputs": [],
   "source": [
    "Sys.setlocale(\"LC_ALL\", \"fr_CA.UTF-8\")\n",
    "\n",
    "# Library\n",
    "library(dplyr)\n",
    "library(tidyr)\n",
    "library(ggplot2)\n",
    "library(ggtext)\n",
    "library(tidytext)\n",
    "\n",
    "# Load Data and Clustering Results\n",
    "kmeans_result <- readRDS(\"../../_PrivateFolder_datagotchi_federal_2025/data/clustering/qc2022/03_pilot1_kmeans.rds\") # nolint\n",
    "df_pilot1_2022 <- readRDS(\"../../_PrivateFolder_datagotchi_federal_2025/data/clustering/qc2022/03_pilot1_2022.rds\")\n",
    "df_clusters_composition <- readRDS(\"../../_PrivateFolder_datagotchi_federal_2025/data/clustering/qc2022/03_pilot1_clusters_composition.rds\")"
   ]
  },
  {
   "cell_type": "code",
   "execution_count": null,
   "metadata": {
    "vscode": {
     "languageId": "r"
    }
   },
   "outputs": [],
   "source": [
    "# Identifier les variables qui ont été utilisées pour la construction \n",
    "# des clusters à analyser\n",
    "vars_clusters <- colnames(df_pilot1_2022)[colnames(df_pilot1_2022) %in% colnames(kmeans_result$centers)] # nolint: line_length_linter."
   ]
  },
  {
   "cell_type": "code",
   "execution_count": null,
   "metadata": {
    "vscode": {
     "languageId": "r"
    }
   },
   "outputs": [],
   "source": [
    "dfUsedForClustering <- df_pilot1_2022\n",
    "cluster_names <- unique(dfUsedForClustering$cluster_name)\n",
    "cluster_names <- cluster_names[order(cluster_names)]\n",
    "\n",
    "df_prompts <- tibble(cluster_name = character(), prompt = character())\n",
    "\n",
    "for (cluster_value in cluster_names) {\n",
    "  cluster_data <- dfUsedForClustering %>% filter(cluster_name == cluster_value)\n",
    "  cluster_vars <- df_clusters_composition %>% filter(cluster_name == cluster_value)\n",
    "\n",
    "  # Calculs des proportions de femmes, d'immigrants, âge et revenu moyen\n",
    "  perc_femmes <- mean(cluster_data$female, na.rm = TRUE) * 100\n",
    "  perc_immigrants <- mean(cluster_data$immigrant, na.rm = TRUE) * 100\n",
    "  age_mean <- mean(cluster_data$age, na.rm = TRUE) * 80\n",
    "  revenu_moyen <- mean(cluster_data$ses_income, na.rm = TRUE) * 225000\n",
    "\n",
    "  # Génération du prompt de suggestion de noms\n",
    "  cat(paste0(\"Pour chacun des personnas décrit, tu pourrais trouver un nom québécois et donner une brève description du personna.\\n\",\n",
    "\n",
    "             \"\\nPour le persona \", cluster_value, \" :\\n\",\n",
    "             \"Variables avec une moyenne significativement plus élevée que la moyenne de la population en général :\\n\",\n",
    "             if (any(cluster_vars$color == \"green\")) {\n",
    "               paste(cluster_vars[cluster_vars$color == \"green\", \"variable\"], collapse = \"\\n\")\n",
    "             } else {\n",
    "               \"Aucune variable supérieure ne se distingue fortement.\"\n",
    "             },\n",
    "             \"\\nVariables avec une moyenne significativement plus élevée que la moyenne de la population en général :\\n\",\n",
    "             if (any(cluster_vars$color == \"red\")) {\n",
    "               paste(cluster_vars[cluster_vars$color == \"red\", \"variable\"], collapse = \"\\n\")\n",
    "             } else {\n",
    "               \"Aucune variable inférieure ne se distingue fortement.\"\n",
    "             },\n",
    "             \"\\n\\nCe cluster est composé de \", round(perc_femmes, 1), \"% de femmes, \", \n",
    "             round(perc_immigrants, 1), \"% d'immigrants, un âge moyen de \", round(age_mean, 1), \n",
    "             \" ans et un revenu moyen de \", round(revenu_moyen, 1), \" k$.\\n\"\n",
    "  ))\n",
    "\n",
    "  # df_prompt <- data.frame(\n",
    "  #   cluster_name = cluster_value, \n",
    "  #   prompt = prompt)\n",
    "\n",
    "  # df_prompts <- bind_rows(df_prompts, df_prompt)\n",
    "}"
   ]
  }
 ],
 "metadata": {
  "kernelspec": {
   "display_name": "R",
   "language": "R",
   "name": "ir"
  },
  "language_info": {
   "codemirror_mode": "r",
   "file_extension": ".r",
   "mimetype": "text/x-r-source",
   "name": "R",
   "pygments_lexer": "r",
   "version": "4.4.1"
  }
 },
 "nbformat": 4,
 "nbformat_minor": 2
}
