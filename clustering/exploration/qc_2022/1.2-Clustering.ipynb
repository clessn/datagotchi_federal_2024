{
 "cells": [
  {
   "cell_type": "markdown",
   "metadata": {},
   "source": [
    "Notebook 1.2 Clustering\n",
    "\n",
    "Objectif:\n",
    "\n",
    "    - Sélectionner le nombre optimal de clusters (k)\n",
    "    - Faire le clustering\n",
    "\n",
    "Entrée:\n",
    "\n",
    "    - data_filtered\n",
    "\n",
    "Sortie:\n",
    "\n",
    "    - Graph 1 méthode elbow (coude)\n",
    "\n",
    "\n",
    "\n",
    "    - Graph 2 méthode silhouette \n",
    "\n",
    "Cet indice mesure la qualité de la séparation des clusters. Il varie de -1 à 1, où une valeur proche de 1 indique que les points sont bien regroupés au sein de leur cluster et bien séparés des autres clusters.\n",
    "Interprétation : En observant ce graphique, vous recherchez le nombre de clusters K qui maximise la largeur moyenne de la silhouette. Cela suggère une bonne séparation et une bonne cohésion des clusters.\n",
    "\n",
    "    - Graph 3 combinaison de WSS et de l'Indice de Silhouette\n",
    "Ce graphique indique la qualité du clustering en combinant le WSS (Within-Cluster Sum of Squares), qui mesure la compacité des clusters, et l’indice de silhouette, qui évalue leur séparation. Les valeurs de WSS et de l’indice de silhouette sont d’abord normalisées entre 0 et 1. Le WSS normalisé est ensuite inversé pour que des clusters plus compacts obtiennent une valeur élevée. En additionnant ces deux indices, nous obtenons un indicateur combiné permettant de trouver un équilibre optimal entre compacité et séparation des clusters. Le pic de ce graphique indique le nombre de clusters K offrant le meilleur compromis entre ces deux critères."
   ]
  },
  {
   "cell_type": "code",
   "execution_count": null,
   "metadata": {},
   "outputs": [],
   "source": [
    "## Normalisation des données \n",
    "data_scaled <- scale(data_filtered)"
   ]
  },
  {
   "cell_type": "code",
   "execution_count": null,
   "metadata": {},
   "outputs": [],
   "source": [
    "\n",
    "# Méthode du coude pour trouver nb de k optimal \n",
    "\n",
    "wss <- sapply(2:40, function(k){\n",
    "  kmeans(data_scaled, centers = k, nstart = 25)$tot.withinss\n",
    "})\n",
    "\n",
    "# Graph 1: Tracer la courbe du coude\n",
    "plot(2:40, wss, type = \"b\", pch = 19, frame = FALSE, \n",
    "     xlab = \"Nombre de clusters K\",\n",
    "     ylab = \"Somme des carrés intra-cluster (withinss)\",\n",
    "     main = \"Méthode du coude pour déterminer K\")\n"
   ]
  },
  {
   "cell_type": "code",
   "execution_count": null,
   "metadata": {},
   "outputs": [],
   "source": [
    "# Indice de silhouette pour différents k\n",
    "sil_width <- sapply(2:40, function(k){\n",
    "  km.res <- kmeans(data_scaled, centers = k, nstart = 25)\n",
    "  ss <- cluster::silhouette(km.res$cluster, dist(data_scaled))\n",
    "  mean(ss[, 3])\n",
    "})\n",
    "\n",
    "# Graph 2: Tracer la courbe de l'indice de silhouette\n",
    "plot(2:40, sil_width, type = \"b\", pch = 19, frame = FALSE,\n",
    "     xlab = \"Nombre de clusters K\",\n",
    "     ylab = \"Largeur moyenne de la silhouette\",\n",
    "     main = \"Indice de silhouette pour déterminer K\")"
   ]
  },
  {
   "cell_type": "code",
   "execution_count": null,
   "metadata": {},
   "outputs": [],
   "source": [
    "# WSS + Indice de Silhouette\n",
    "wss_scaled <- (wss - min(wss)) / (max(wss) - min(wss))\n",
    "sil_width_scaled <- (sil_width - min(sil_width)) / (max(sil_width) - min(sil_width))\n",
    "\n",
    "wss_scaled_rev <- rev(wss_scaled)\n",
    "sil_sum <- wss_scaled_rev + sil_width_scaled\n",
    "\n",
    "# Graph 3: Combinaison de WSS et de l'Indice de Silhouette\n",
    "plot(2:40, sil_sum, type = \"b\")"
   ]
  }
 ],
 "metadata": {
  "language_info": {
   "name": "r"
  }
 },
 "nbformat": 4,
 "nbformat_minor": 2
}
