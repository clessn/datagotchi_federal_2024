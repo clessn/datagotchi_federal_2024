{
 "cells": [
  {
   "cell_type": "code",
   "execution_count": 1,
   "metadata": {
    "vscode": {
     "languageId": "r"
    }
   },
   "outputs": [
    {
     "name": "stderr",
     "output_type": "stream",
     "text": [
      "-- \u001b[1mAttaching core tidyverse packages\u001b[22m ------------------------ tidyverse 2.0.0 --\n",
      "\u001b[32mv\u001b[39m \u001b[34mdplyr    \u001b[39m 1.1.4     \u001b[32mv\u001b[39m \u001b[34mreadr    \u001b[39m 2.1.5\n",
      "\u001b[32mv\u001b[39m \u001b[34mforcats  \u001b[39m 1.0.0     \u001b[32mv\u001b[39m \u001b[34mstringr  \u001b[39m 1.5.1\n",
      "\u001b[32mv\u001b[39m \u001b[34mggplot2  \u001b[39m 3.5.1     \u001b[32mv\u001b[39m \u001b[34mtibble   \u001b[39m 3.2.1\n",
      "\u001b[32mv\u001b[39m \u001b[34mlubridate\u001b[39m 1.9.3     \u001b[32mv\u001b[39m \u001b[34mtidyr    \u001b[39m 1.3.1\n",
      "\u001b[32mv\u001b[39m \u001b[34mpurrr    \u001b[39m 1.0.4     \n",
      "-- \u001b[1mConflicts\u001b[22m ------------------------------------------ tidyverse_conflicts() --\n",
      "\u001b[31mx\u001b[39m \u001b[34mdplyr\u001b[39m::\u001b[32mfilter()\u001b[39m masks \u001b[34mstats\u001b[39m::filter()\n",
      "\u001b[31mx\u001b[39m \u001b[34mdplyr\u001b[39m::\u001b[32mlag()\u001b[39m    masks \u001b[34mstats\u001b[39m::lag()\n",
      "\u001b[36mi\u001b[39m Use the conflicted package (\u001b[3m\u001b[34m<http://conflicted.r-lib.org/>\u001b[39m\u001b[23m) to force all conflicts to become errors\n",
      "Welcome! Want to learn more? See two factoextra-related books at https://goo.gl/ve3WBa\n",
      "\n"
     ]
    }
   ],
   "source": [
    "library(tidyverse)\n",
    "library(factoextra)\n",
    "\n",
    "# Charger les données\n",
    "DataPilot <- readRDS(\"../../_PrivateFolder_datagotchi_federal_2025/data/clustering/can2025/01_pilot_2025.rds\")\n",
    "DataRCI <- readRDS(\"../../_SharedFolder_datagotchi_federal_2024/data/potGrowth/01_pilote_with_rci.rds\")\n",
    "\n",
    "# Charger le fichier des variables\n",
    "source(\"01-1_variables.R\")\n",
    "\n",
    "df_dv <- DataPilot %>%\n",
    "  select(all_of(variables_vote))\n",
    "\n",
    "df_RCI <- DataRCI %>%\n",
    "  select(id, starts_with(\"rci\"))\n"
   ]
  },
  {
   "cell_type": "code",
   "execution_count": 3,
   "metadata": {
    "vscode": {
     "languageId": "r"
    }
   },
   "outputs": [
    {
     "name": "stdout",
     "output_type": "stream",
     "text": [
      "Table pour la variable: dv_voteChoiceLPC \n",
      "\n",
      "  0   1 \n",
      "829 192 \n",
      "\n",
      "\n",
      "Table pour la variable: dv_voteChoiceCPC \n",
      "\n",
      "  0   1 \n",
      "743 278 \n",
      "\n",
      "\n",
      "Table pour la variable: dv_voteChoiceNDP \n",
      "\n",
      "  0   1 \n",
      "871 150 \n",
      "\n",
      "\n",
      "Table pour la variable: dv_voteChoiceBQ \n",
      "\n",
      "  0   1 \n",
      "895 126 \n",
      "\n",
      "\n",
      "Table pour la variable: dv_voteChoiceGPC \n",
      "\n",
      "  0   1 \n",
      "984  37 \n",
      "\n",
      "\n",
      "Table pour la variable: dv_voteChoiceOther \n",
      "\n",
      "  0   1 \n",
      "783 238 \n",
      "\n",
      "\n",
      "Table pour la variable: dv_potgrowthLPC \n",
      "\n",
      "  0 0.1 0.2 0.3 0.4 0.5 0.6 0.7 0.8 0.9   1 \n",
      "288 112  41  61  65 125  78  58  58  40  95 \n",
      "\n",
      "\n",
      "Table pour la variable: dv_potgrowthCPC \n",
      "\n",
      "  0 0.1 0.2 0.3 0.4 0.5 0.6 0.7 0.8 0.9   1 \n",
      "305 111  55  40  43 104  52  48  54  58 151 \n",
      "\n",
      "\n",
      "Table pour la variable: dv_potgrowthNDP \n",
      "\n",
      "  0 0.1 0.2 0.3 0.4 0.5 0.6 0.7 0.8 0.9   1 \n",
      "321 131  59  64  67 119  57  52  54  48  49 \n",
      "\n",
      "\n",
      "Table pour la variable: dv_potgrowthBQ \n",
      "\n",
      "  0 0.1 0.2 0.3 0.4 0.5 0.6 0.7 0.8 0.9   1 \n",
      "483 152  58  36  38  54  35  19  29  34  83 \n",
      "\n",
      "\n",
      "Table pour la variable: dv_potgrowthGPC \n",
      "\n",
      "  0 0.1 0.2 0.3 0.4 0.5 0.6 0.7 0.8 0.9   1 \n",
      "420 193  79  50  42  85  57  40  22  17  16 \n",
      "\n",
      "\n",
      "Table pour la variable: dv_potgrowthPPC \n",
      "\n",
      "  0 0.1 0.2 0.3 0.4 0.5 0.6 0.7 0.8 0.9   1 \n",
      "555 196  47  40  39  61  33  25  14   7   4 \n",
      "\n",
      "\n",
      "Table pour la variable: dv_turnout \n",
      "\n",
      "  0 0.1 0.2 0.3 0.4 0.5 0.6 0.7 0.8 0.9   1 \n",
      " 33  16  11  12  18  61  43  67  74  83 603 \n",
      "\n",
      "\n"
     ]
    }
   ],
   "source": [
    "# Boucle pour afficher la table pour chaque variable\n",
    "for (v in variables_vote) {\n",
    "  if (v != \"id\") {\n",
    "    cat(\"Table pour la variable:\", v, \"\\n\")\n",
    "    print(table(df_dv[[v]]))\n",
    "    cat(\"\\n\\n\")\n",
    "  }\n",
    "}"
   ]
  },
  {
   "cell_type": "code",
   "execution_count": 2,
   "metadata": {
    "vscode": {
     "languageId": "r"
    }
   },
   "outputs": [],
   "source": [
    "#Création d'une variable de solidité du vote\n",
    "library(dplyr)\n",
    "\n",
    "df_RCI <- df_RCI %>%\n",
    "  rowwise() %>%\n",
    "  mutate(dv_solidity = max(c_across(starts_with(\"rci_\")), na.rm = TRUE)) %>%\n",
    "  ungroup()\n"
   ]
  },
  {
   "cell_type": "code",
   "execution_count": 3,
   "metadata": {
    "vscode": {
     "languageId": "r"
    }
   },
   "outputs": [
    {
     "data": {
      "text/plain": [
       "\n",
       "  0   1 \n",
       "335 686 "
      ]
     },
     "metadata": {},
     "output_type": "display_data"
    }
   ],
   "source": [
    "#création d'une variable de turnout binaire\n",
    "library(dplyr)\n",
    "\n",
    "df_dv$dv_turnout_bin <- NA\n",
    "df_dv$dv_turnout_bin[df_dv$dv_turnout >= 0.9] <- 1\n",
    "df_dv$dv_turnout_bin[df_dv$dv_turnout < 0.9] <- 0\n",
    "table(df_dv$dv_turnout_bin)"
   ]
  },
  {
   "cell_type": "code",
   "execution_count": 4,
   "metadata": {
    "vscode": {
     "languageId": "r"
    }
   },
   "outputs": [
    {
     "data": {
      "text/plain": [
       "\n",
       "  0 0.1 0.2 0.3 0.4 0.5 0.6 0.7 0.8 0.9   1 \n",
       "205 149 104  81  69  64  47  35  54  61 152 "
      ]
     },
     "metadata": {},
     "output_type": "display_data"
    },
    {
     "data": {
      "text/plain": [
       "\n",
       "  -1 -0.9 -0.8 -0.7 -0.6 -0.5 -0.4 -0.3 -0.2 -0.1    0  0.1  0.2  0.3  0.4  0.5 \n",
       " 176   67   49   44   48   51   54   47   60   77  161   36   26   23   15   13 \n",
       " 0.6  0.7  0.8  0.9    1 \n",
       "  13   11   14    8   28 "
      ]
     },
     "metadata": {},
     "output_type": "display_data"
    }
   ],
   "source": [
    "table(df_RCI$dv_solidity)\n",
    "table(df_RCI$rci_LPC)"
   ]
  },
  {
   "cell_type": "code",
   "execution_count": 5,
   "metadata": {
    "vscode": {
     "languageId": "r"
    }
   },
   "outputs": [],
   "source": [
    "df_dv <- left_join(df_dv, df_RCI, by = \"id\")\n"
   ]
  },
  {
   "cell_type": "code",
   "execution_count": 6,
   "metadata": {
    "vscode": {
     "languageId": "r"
    }
   },
   "outputs": [],
   "source": [
    "# Sauvegarder les données préparées\n",
    "saveRDS(df_dv, file = \"../../_PrivateFolder_datagotchi_federal_2025/data/clustering/can2025/02_pilot_2025_dv.rds\")"
   ]
  }
 ],
 "metadata": {
  "kernelspec": {
   "display_name": "R",
   "language": "R",
   "name": "ir"
  },
  "language_info": {
   "codemirror_mode": "r",
   "file_extension": ".r",
   "mimetype": "text/x-r-source",
   "name": "R",
   "pygments_lexer": "r",
   "version": "4.4.1"
  }
 },
 "nbformat": 4,
 "nbformat_minor": 2
}
