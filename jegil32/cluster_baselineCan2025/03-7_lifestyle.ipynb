{
 "cells": [
  {
   "cell_type": "code",
   "execution_count": 10,
   "metadata": {
    "vscode": {
     "languageId": "r"
    }
   },
   "outputs": [],
   "source": [
    "# Library\n",
    "library(ggplot2)\n",
    "library(dplyr)\n",
    "\n",
    "# Load Data and Clustering Results\n",
    "dfLifestyle <- readRDS(\"../../_SharedFolder_datagotchi_federal_2024/data/pilote/dataClean/datagotchi2025_canada_pilotClustering_20250310.rds\")\n",
    "dfUsedForClustering <- readRDS(\"../../_PrivateFolder_datagotchi_federal_2025/data/clustering/can2025/03_pilot_2025.rds\")"
   ]
  },
  {
   "cell_type": "code",
   "execution_count": 19,
   "metadata": {
    "vscode": {
     "languageId": "r"
    }
   },
   "outputs": [
    {
     "data": {
      "text/html": [
       "<style>\n",
       ".list-inline {list-style: none; margin:0; padding: 0}\n",
       ".list-inline>li {display: inline-block}\n",
       ".list-inline>li:not(:last-child)::after {content: \"\\00b7\"; padding: 0 .5ex}\n",
       "</style>\n",
       "<ol class=list-inline><li>'id'</li><li>'cluster_name'</li><li>'cluster_4'</li><li>'cluster_7'</li><li>'cluster_2'</li><li>'cluster_9'</li><li>'cluster_8'</li><li>'cluster_1'</li><li>'cluster_5'</li><li>'cluster_6'</li><li>'cluster_3'</li><li>'lifestyle_exercise'</li><li>'lifestyle_goFishingFreq_bin'</li><li>'lifestyle_goHuntingFreq_bin'</li><li>'lifestyle_goMuseumsFreq_bin'</li><li>'lifestyle_motorizedActFreq_bin'</li><li>'lifestyle_unmotorizedActFreq_bin'</li><li>'lifestyle_volunteeringFreq_bin'</li><li>'lifestyle_typeTransport'</li><li>'lifestyle_consClothes'</li><li>'lifestyle_eatMeatFreq'</li><li>'lifestyle_fridgeVegetalMilk'</li><li>'lifestyle_fridgeTofuTempeh'</li><li>'lifestyle_fridgeOrganicVeggies'</li><li>'lifestyle_consCoffee'</li><li>'lifestyle_ownPet'</li><li>'lifestyle_favAlcool'</li><li>'lifestyle_hasTattoos'</li><li>'dv_attitudeLeftvsRight'</li><li>'ses_gender'</li><li>'ses_age_4Cat'</li><li>'ses_educ_3Cat'</li><li>'ses_income3Cat'</li><li>'ses_dwelling'</li><li>'dv_voteChoice'</li></ol>\n"
      ],
      "text/latex": [
       "\\begin{enumerate*}\n",
       "\\item 'id'\n",
       "\\item 'cluster\\_name'\n",
       "\\item 'cluster\\_4'\n",
       "\\item 'cluster\\_7'\n",
       "\\item 'cluster\\_2'\n",
       "\\item 'cluster\\_9'\n",
       "\\item 'cluster\\_8'\n",
       "\\item 'cluster\\_1'\n",
       "\\item 'cluster\\_5'\n",
       "\\item 'cluster\\_6'\n",
       "\\item 'cluster\\_3'\n",
       "\\item 'lifestyle\\_exercise'\n",
       "\\item 'lifestyle\\_goFishingFreq\\_bin'\n",
       "\\item 'lifestyle\\_goHuntingFreq\\_bin'\n",
       "\\item 'lifestyle\\_goMuseumsFreq\\_bin'\n",
       "\\item 'lifestyle\\_motorizedActFreq\\_bin'\n",
       "\\item 'lifestyle\\_unmotorizedActFreq\\_bin'\n",
       "\\item 'lifestyle\\_volunteeringFreq\\_bin'\n",
       "\\item 'lifestyle\\_typeTransport'\n",
       "\\item 'lifestyle\\_consClothes'\n",
       "\\item 'lifestyle\\_eatMeatFreq'\n",
       "\\item 'lifestyle\\_fridgeVegetalMilk'\n",
       "\\item 'lifestyle\\_fridgeTofuTempeh'\n",
       "\\item 'lifestyle\\_fridgeOrganicVeggies'\n",
       "\\item 'lifestyle\\_consCoffee'\n",
       "\\item 'lifestyle\\_ownPet'\n",
       "\\item 'lifestyle\\_favAlcool'\n",
       "\\item 'lifestyle\\_hasTattoos'\n",
       "\\item 'dv\\_attitudeLeftvsRight'\n",
       "\\item 'ses\\_gender'\n",
       "\\item 'ses\\_age\\_4Cat'\n",
       "\\item 'ses\\_educ\\_3Cat'\n",
       "\\item 'ses\\_income3Cat'\n",
       "\\item 'ses\\_dwelling'\n",
       "\\item 'dv\\_voteChoice'\n",
       "\\end{enumerate*}\n"
      ],
      "text/markdown": [
       "1. 'id'\n",
       "2. 'cluster_name'\n",
       "3. 'cluster_4'\n",
       "4. 'cluster_7'\n",
       "5. 'cluster_2'\n",
       "6. 'cluster_9'\n",
       "7. 'cluster_8'\n",
       "8. 'cluster_1'\n",
       "9. 'cluster_5'\n",
       "10. 'cluster_6'\n",
       "11. 'cluster_3'\n",
       "12. 'lifestyle_exercise'\n",
       "13. 'lifestyle_goFishingFreq_bin'\n",
       "14. 'lifestyle_goHuntingFreq_bin'\n",
       "15. 'lifestyle_goMuseumsFreq_bin'\n",
       "16. 'lifestyle_motorizedActFreq_bin'\n",
       "17. 'lifestyle_unmotorizedActFreq_bin'\n",
       "18. 'lifestyle_volunteeringFreq_bin'\n",
       "19. 'lifestyle_typeTransport'\n",
       "20. 'lifestyle_consClothes'\n",
       "21. 'lifestyle_eatMeatFreq'\n",
       "22. 'lifestyle_fridgeVegetalMilk'\n",
       "23. 'lifestyle_fridgeTofuTempeh'\n",
       "24. 'lifestyle_fridgeOrganicVeggies'\n",
       "25. 'lifestyle_consCoffee'\n",
       "26. 'lifestyle_ownPet'\n",
       "27. 'lifestyle_favAlcool'\n",
       "28. 'lifestyle_hasTattoos'\n",
       "29. 'dv_attitudeLeftvsRight'\n",
       "30. 'ses_gender'\n",
       "31. 'ses_age_4Cat'\n",
       "32. 'ses_educ_3Cat'\n",
       "33. 'ses_income3Cat'\n",
       "34. 'ses_dwelling'\n",
       "35. 'dv_voteChoice'\n",
       "\n",
       "\n"
      ],
      "text/plain": [
       " [1] \"id\"                               \"cluster_name\"                    \n",
       " [3] \"cluster_4\"                        \"cluster_7\"                       \n",
       " [5] \"cluster_2\"                        \"cluster_9\"                       \n",
       " [7] \"cluster_8\"                        \"cluster_1\"                       \n",
       " [9] \"cluster_5\"                        \"cluster_6\"                       \n",
       "[11] \"cluster_3\"                        \"lifestyle_exercise\"              \n",
       "[13] \"lifestyle_goFishingFreq_bin\"      \"lifestyle_goHuntingFreq_bin\"     \n",
       "[15] \"lifestyle_goMuseumsFreq_bin\"      \"lifestyle_motorizedActFreq_bin\"  \n",
       "[17] \"lifestyle_unmotorizedActFreq_bin\" \"lifestyle_volunteeringFreq_bin\"  \n",
       "[19] \"lifestyle_typeTransport\"          \"lifestyle_consClothes\"           \n",
       "[21] \"lifestyle_eatMeatFreq\"            \"lifestyle_fridgeVegetalMilk\"     \n",
       "[23] \"lifestyle_fridgeTofuTempeh\"       \"lifestyle_fridgeOrganicVeggies\"  \n",
       "[25] \"lifestyle_consCoffee\"             \"lifestyle_ownPet\"                \n",
       "[27] \"lifestyle_favAlcool\"              \"lifestyle_hasTattoos\"            \n",
       "[29] \"dv_attitudeLeftvsRight\"           \"ses_gender\"                      \n",
       "[31] \"ses_age_4Cat\"                     \"ses_educ_3Cat\"                   \n",
       "[33] \"ses_income3Cat\"                   \"ses_dwelling\"                    \n",
       "[35] \"dv_voteChoice\"                   "
      ]
     },
     "metadata": {},
     "output_type": "display_data"
    }
   ],
   "source": [
    "# Join both datasets to have cluster, lifestyle and id\n",
    "\n",
    "# Sélectionner les variables lifestyle et SES de dfLifestyle\n",
    "dfLifestyle_selected <- dfLifestyle %>%\n",
    "  select(id, lifestyle_exercise, lifestyle_goFishingFreq_bin, lifestyle_goHuntingFreq_bin, lifestyle_goMuseumsFreq_bin, lifestyle_motorizedActFreq_bin, lifestyle_unmotorizedActFreq_bin, lifestyle_volunteeringFreq_bin, lifestyle_typeTransport, lifestyle_consClothes, lifestyle_eatMeatFreq, lifestyle_fridgeVegetalMilk, lifestyle_fridgeTofuTempeh, lifestyle_fridgeOrganicVeggies, lifestyle_consCoffee, lifestyle_ownPet, lifestyle_favAlcool, lifestyle_hasTattoos, dv_attitudeLeftvsRight, ses_gender, ses_age_4Cat, ses_educ_3Cat, ses_income3Cat, ses_dwelling, dv_voteChoice)\n",
    "\n",
    "# Sélectionner les variables clusters de dfUsedForClustering\n",
    "dfClusters_selected <- dfUsedForClustering %>%\n",
    "  select(id, cluster_name, starts_with(\"cluster_\"))\n",
    "\n",
    "# Fusionner les deux jeux de données sur id\n",
    "dfValidation <- dfClusters_selected %>%\n",
    "  inner_join(dfLifestyle_selected, by = \"id\")\n",
    "\n",
    "# Voir les variables de ce jeu fusionné\n",
    "names(dfValidation)"
   ]
  },
  {
   "cell_type": "code",
   "execution_count": 20,
   "metadata": {
    "vscode": {
     "languageId": "r"
    }
   },
   "outputs": [],
   "source": [
    "generate_graph <- function(data, lifestyle_variable, output_path) {\n",
    "  \n",
    "  # Convertir la variable en symbole pour dplyr et ggplot\n",
    "  lifestyle_sym <- sym(lifestyle_variable)\n",
    "\n",
    "  # Calculer proportions et créer le graphique\n",
    "  graph <- data %>%\n",
    "    group_by(cluster_name, !!lifestyle_sym) %>%\n",
    "    summarise(nombre_de_repondants = n(), .groups = \"drop\") %>%\n",
    "    group_by(cluster_name) %>%\n",
    "    mutate(\n",
    "      nombre_total_de_repondants = sum(nombre_de_repondants),\n",
    "      proportion = nombre_de_repondants / nombre_total_de_repondants\n",
    "    ) %>%\n",
    "    ggplot(aes(x = !!lifestyle_sym, y = proportion, fill = factor(cluster_name))) +\n",
    "    geom_col() +\n",
    "    facet_wrap(~ cluster_name) +\n",
    "    labs(\n",
    "      x = lifestyle_variable,  \n",
    "      y = \"Proportion\",\n",
    "      fill = \"Cluster\",\n",
    "      title = paste(\"Distribution of\", lifestyle_variable, \"by Cluster\")\n",
    "    ) +\n",
    "    theme_minimal() +\n",
    "    theme(axis.text.x = element_text(angle = 45, hjust = 1))  # Rotation à 45° des labels de l'axe x\n",
    "  \n",
    "  # Sauvegarder le graphique\n",
    "  ggsave(\n",
    "    filename = paste0(output_path, \"/validationCluster_\", lifestyle_variable, \".pdf\"),\n",
    "    plot = graph,\n",
    "    width = 16,\n",
    "    height = 12\n",
    "  )\n",
    "}\n"
   ]
  },
  {
   "cell_type": "code",
   "execution_count": 21,
   "metadata": {
    "vscode": {
     "languageId": "r"
    }
   },
   "outputs": [],
   "source": [
    "# Lister toutes les variables de lifestyle\n",
    "\n",
    "lifestyle_list <- colnames(dfValidation)[grepl(\"^lifestyle_\", colnames(dfValidation))]\n",
    "ses_list <- colnames(dfValidation)[grepl(\"^ses_\", colnames(dfValidation))]\n",
    "dv_list <- colnames(dfValidation)[grepl(\"^dv_\", colnames(dfValidation))]\n",
    "variable_list <- c(lifestyle_list, ses_list, dv_list)"
   ]
  },
  {
   "cell_type": "code",
   "execution_count": null,
   "metadata": {
    "vscode": {
     "languageId": "r"
    }
   },
   "outputs": [
    {
     "data": {
      "text/html": [
       "<ol>\n",
       "\t<li>'../../_PrivateFolder_datagotchi_federal_2025/graph/clustering/can_2025/lifestyle/validationCluster_dv_attitudeLeftvsRight.pdf'</li>\n",
       "\t<li>'../../_PrivateFolder_datagotchi_federal_2025/graph/clustering/can_2025/lifestyle/validationCluster_dv_voteChoice.pdf'</li>\n",
       "</ol>\n"
      ],
      "text/latex": [
       "\\begin{enumerate}\n",
       "\\item '../../\\_PrivateFolder\\_datagotchi\\_federal\\_2025/graph/clustering/can\\_2025/lifestyle/validationCluster\\_dv\\_attitudeLeftvsRight.pdf'\n",
       "\\item '../../\\_PrivateFolder\\_datagotchi\\_federal\\_2025/graph/clustering/can\\_2025/lifestyle/validationCluster\\_dv\\_voteChoice.pdf'\n",
       "\\end{enumerate}\n"
      ],
      "text/markdown": [
       "1. '../../_PrivateFolder_datagotchi_federal_2025/graph/clustering/can_2025/lifestyle/validationCluster_dv_attitudeLeftvsRight.pdf'\n",
       "2. '../../_PrivateFolder_datagotchi_federal_2025/graph/clustering/can_2025/lifestyle/validationCluster_dv_voteChoice.pdf'\n",
       "\n",
       "\n"
      ],
      "text/plain": [
       "[[1]]\n",
       "[1] \"../../_PrivateFolder_datagotchi_federal_2025/graph/clustering/can_2025/lifestyle/validationCluster_dv_attitudeLeftvsRight.pdf\"\n",
       "\n",
       "[[2]]\n",
       "[1] \"../../_PrivateFolder_datagotchi_federal_2025/graph/clustering/can_2025/lifestyle/validationCluster_dv_voteChoice.pdf\"\n"
      ]
     },
     "metadata": {},
     "output_type": "display_data"
    }
   ],
   "source": [
    "# Lancer une boucle pour générer tous les graphiques\n",
    "\n",
    "# Spécifier le dossier où enregistrer les graphiques\n",
    "output_path <- \"../../_PrivateFolder_datagotchi_federal_2025/graph/clustering/can_2025/lifestyle\"\n",
    "\n",
    "# Générer un graphique pour chaque enjeu sélectionné\n",
    "lapply(variable_list, function(lifestyle) {\n",
    "  generate_graph(dfValidation, lifestyle, output_path)\n",
    "})\n"
   ]
  }
 ],
 "metadata": {
  "kernelspec": {
   "display_name": "R",
   "language": "R",
   "name": "ir"
  },
  "language_info": {
   "codemirror_mode": "r",
   "file_extension": ".r",
   "mimetype": "text/x-r-source",
   "name": "R",
   "pygments_lexer": "r",
   "version": "4.4.1"
  }
 },
 "nbformat": 4,
 "nbformat_minor": 2
}
