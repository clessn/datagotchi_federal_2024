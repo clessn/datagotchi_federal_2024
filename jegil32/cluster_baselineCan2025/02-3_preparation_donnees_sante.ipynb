{
 "cells": [
  {
   "cell_type": "markdown",
   "metadata": {},
   "source": [
    "# Préparation des variables de sante"
   ]
  },
  {
   "cell_type": "code",
   "execution_count": 9,
   "metadata": {
    "vscode": {
     "languageId": "r"
    }
   },
   "outputs": [],
   "source": [
    "library(tidyverse)\n",
    "library(factoextra)\n",
    "\n",
    "# Charger les données\n",
    "DataPilot <- readRDS(\"../../_PrivateFolder_datagotchi_federal_2025/data/clustering/can2025/01_pilot_2025.rds\")\n",
    "\n",
    "# Charger le fichier des variables\n",
    "source(\"01-1_variables.R\")\n",
    "\n",
    "df_sante <- DataPilot %>%\n",
    "  select(all_of(variables_sante))"
   ]
  },
  {
   "cell_type": "code",
   "execution_count": 10,
   "metadata": {
    "vscode": {
     "languageId": "r"
    }
   },
   "outputs": [
    {
     "name": "stdout",
     "output_type": "stream",
     "text": [
      "Table pour la variable: lifestyle_eatMeatFreq \n",
      "\n",
      "   0 0.17 0.33  0.5 0.67 0.83    1 \n",
      "  33   18   24  114  500  253   90 \n",
      "\n",
      "\n",
      "Table pour la variable: lifestyle_favAlcoolRedWine \n",
      "\n",
      "  0   1 \n",
      "856 176 \n",
      "\n",
      "\n",
      "Table pour la variable: lifestyle_favAlcoolWhiteWine \n",
      "\n",
      "  0   1 \n",
      "897 135 \n",
      "\n",
      "\n",
      "Table pour la variable: lifestyle_favAlcoolRoseWine \n",
      "\n",
      "  0   1 \n",
      "999  33 \n",
      "\n",
      "\n",
      "Table pour la variable: lifestyle_favAlcoolSpirits \n",
      "\n",
      "  0   1 \n",
      "941  91 \n",
      "\n",
      "\n",
      "Table pour la variable: lifestyle_favAlcoolBubbleDrink \n",
      "\n",
      "  0   1 \n",
      "997  35 \n",
      "\n",
      "\n",
      "Table pour la variable: lifestyle_favAlcoolBeer \n",
      "\n",
      "  0   1 \n",
      "894 138 \n",
      "\n",
      "\n",
      "Table pour la variable: lifestyle_favAlcoolMicroBeer \n",
      "\n",
      "  0   1 \n",
      "958  74 \n",
      "\n",
      "\n",
      "Table pour la variable: lifestyle_favAlcoolCocktail \n",
      "\n",
      "  0   1 \n",
      "921 111 \n",
      "\n",
      "\n",
      "Table pour la variable: lifestyle_favAlcoolDontDrink \n",
      "\n",
      "  0   1 \n",
      "793 239 \n",
      "\n",
      "\n",
      "Table pour la variable: lifestyle_smokeFreq \n",
      "\n",
      "     0 0.1667 0.3333    0.5 0.6667 0.8333      1 \n",
      "   821     53     20     20     16      9     93 \n",
      "\n",
      "\n"
     ]
    }
   ],
   "source": [
    "# Boucle pour afficher la table pour chaque variable\n",
    "for (v in variables_sante) {\n",
    "  if (v != \"id\") {\n",
    "    cat(\"Table pour la variable:\", v, \"\\n\")\n",
    "    print(table(df_sante[[v]]))\n",
    "    cat(\"\\n\\n\")\n",
    "  }\n",
    "}"
   ]
  },
  {
   "cell_type": "markdown",
   "metadata": {},
   "source": [
    "### Transformations\n",
    "\n",
    "- cons_meat : Devrait être une variable ordinale \n",
    "  - 0 Not more than once a month\n",
    "  - 0.5 Few weekly\n",
    "  - 1 Daily\n",
    "\n",
    "- cons_..._Drink : On peut conserver tel quel\n",
    "\n",
    "- cons_Smoke : Devrait être une variable ordinale\n",
    "  - 0 Never\n",
    "  - 0.5 Not daily\n",
    "  - 1 Daily"
   ]
  },
  {
   "cell_type": "code",
   "execution_count": 11,
   "metadata": {
    "vscode": {
     "languageId": "r"
    }
   },
   "outputs": [],
   "source": [
    "# Transformation de cons_meat en variable ordinale\n",
    "#-------------------------------------------------\n",
    "\n",
    "df_sante <- df_sante %>%\n",
    "\n",
    "  mutate(\n",
    "    lifestyle_eatMeatFreq = if_else(\n",
    "      lifestyle_eatMeatFreq == 0 | lifestyle_eatMeatFreq == 0.17 | lifestyle_eatMeatFreq == 0.33,\n",
    "      0,\n",
    "      if_else(\n",
    "        lifestyle_eatMeatFreq == 0.5 | lifestyle_eatMeatFreq == 0.67,\n",
    "        0.5,\n",
    "        1\n",
    "      )\n",
    "    )\n",
    "  ) "
   ]
  },
  {
   "cell_type": "code",
   "execution_count": 12,
   "metadata": {
    "vscode": {
     "languageId": "r"
    }
   },
   "outputs": [],
   "source": [
    "# Transformation de cons_Smoke variable ordinale\n",
    "#-------------------------------------------------\n",
    "\n",
    "df_sante <- df_sante %>%\n",
    "\n",
    "  mutate(\n",
    "    lifestyle_smokeFreq = if_else(\n",
    "      lifestyle_smokeFreq == 0,\n",
    "      0,\n",
    "      if_else(\n",
    "        lifestyle_smokeFreq == 0.1667 | lifestyle_smokeFreq == 0.3333 | lifestyle_smokeFreq == 0.5 | lifestyle_smokeFreq == 0.6667,\n",
    "        0.5,\n",
    "        1\n",
    "      )\n",
    "    )\n",
    "  )"
   ]
  },
  {
   "cell_type": "code",
   "execution_count": 13,
   "metadata": {
    "vscode": {
     "languageId": "r"
    }
   },
   "outputs": [],
   "source": [
    "# Transformation de favAlcool pour regrouper des catégories\n",
    "#-------------------------------------------------\n",
    "\n",
    "df_sante <- df_sante %>%\n",
    "\n",
    "  mutate(\n",
    "    lifestyle_favAlcoolWine = if_else(\n",
    "      lifestyle_favAlcoolRedWine == 1 | lifestyle_favAlcoolWhiteWine == 1 | lifestyle_favAlcoolRoseWine == 1,\n",
    "      1,\n",
    "      0\n",
    "    )\n",
    "  )\n"
   ]
  },
  {
   "cell_type": "code",
   "execution_count": 14,
   "metadata": {
    "vscode": {
     "languageId": "r"
    }
   },
   "outputs": [],
   "source": [
    "variables_sante_clust <- c(\n",
    "  \"id\",\n",
    "  \"lifestyle_eatMeatFreq\",\n",
    "  \"lifestyle_favAlcoolRedWine\",\n",
    "  \"lifestyle_favAlcoolWhiteWine\",\n",
    "  \"lifestyle_favAlcoolRoseWine\",\n",
    "  \"lifestyle_favAlcoolWine\",\n",
    "  \"lifestyle_favAlcoolSpirits\",\n",
    "  \"lifestyle_favAlcoolBubbleDrink\",\n",
    "  \"lifestyle_favAlcoolBeer\",\n",
    "  \"lifestyle_favAlcoolMicroBeer\",\n",
    "  \"lifestyle_favAlcoolCocktail\",\n",
    "  \"lifestyle_favAlcoolDontDrink\",\n",
    "  \"lifestyle_smokeFreq\"\n",
    ")"
   ]
  },
  {
   "cell_type": "code",
   "execution_count": 15,
   "metadata": {
    "vscode": {
     "languageId": "r"
    }
   },
   "outputs": [
    {
     "name": "stdout",
     "output_type": "stream",
     "text": [
      "Table pour la variable: lifestyle_eatMeatFreq \n",
      "\n",
      "  0 0.5   1 \n",
      " 75 614 343 \n",
      "\n",
      "\n",
      "Table pour la variable: lifestyle_favAlcoolRedWine \n",
      "\n",
      "  0   1 \n",
      "856 176 \n",
      "\n",
      "\n",
      "Table pour la variable: lifestyle_favAlcoolWhiteWine \n",
      "\n",
      "  0   1 \n",
      "897 135 \n",
      "\n",
      "\n",
      "Table pour la variable: lifestyle_favAlcoolRoseWine \n",
      "\n",
      "  0   1 \n",
      "999  33 \n",
      "\n",
      "\n",
      "Table pour la variable: lifestyle_favAlcoolWine \n",
      "\n",
      "  0   1 \n",
      "688 344 \n",
      "\n",
      "\n",
      "Table pour la variable: lifestyle_favAlcoolSpirits \n",
      "\n",
      "  0   1 \n",
      "941  91 \n",
      "\n",
      "\n",
      "Table pour la variable: lifestyle_favAlcoolBubbleDrink \n",
      "\n",
      "  0   1 \n",
      "997  35 \n",
      "\n",
      "\n",
      "Table pour la variable: lifestyle_favAlcoolBeer \n",
      "\n",
      "  0   1 \n",
      "894 138 \n",
      "\n",
      "\n",
      "Table pour la variable: lifestyle_favAlcoolMicroBeer \n",
      "\n",
      "  0   1 \n",
      "958  74 \n",
      "\n",
      "\n",
      "Table pour la variable: lifestyle_favAlcoolCocktail \n",
      "\n",
      "  0   1 \n",
      "921 111 \n",
      "\n",
      "\n",
      "Table pour la variable: lifestyle_favAlcoolDontDrink \n",
      "\n",
      "  0   1 \n",
      "793 239 \n",
      "\n",
      "\n",
      "Table pour la variable: lifestyle_smokeFreq \n",
      "\n",
      "  0 0.5   1 \n",
      "821 109 102 \n",
      "\n",
      "\n"
     ]
    }
   ],
   "source": [
    "# Boucle pour afficher la table pour chaque variable\n",
    "for (v in variables_sante_clust) {\n",
    "  if (v != \"id\") {\n",
    "    cat(\"Table pour la variable:\", v, \"\\n\")\n",
    "    print(table(df_sante[[v]]))\n",
    "    cat(\"\\n\\n\")\n",
    "  }\n",
    "}"
   ]
  },
  {
   "cell_type": "code",
   "execution_count": 16,
   "metadata": {
    "vscode": {
     "languageId": "r"
    }
   },
   "outputs": [],
   "source": [
    "# Sauvegarder les données préparées\n",
    "saveRDS(df_sante, file = \"../../_PrivateFolder_datagotchi_federal_2025/data/clustering/can2025/02_pilot_2025_sante.rds\")"
   ]
  },
  {
   "cell_type": "markdown",
   "metadata": {},
   "source": [
    "---"
   ]
  },
  {
   "cell_type": "markdown",
   "metadata": {},
   "source": [
    "# SUGGESTION : Activité de Clustering\n",
    "\n",
    "Si souhaité, effectuer un exercice de clustering avec ce sous-groupe de variables pour mieux saisir les données et leur relation. \n",
    "\n",
    "Cet exercice est purement exploratoire et sert à voir si les données peuvent être utilisées pour faire du clustering."
   ]
  }
 ],
 "metadata": {
  "kernelspec": {
   "display_name": "R",
   "language": "R",
   "name": "ir"
  },
  "language_info": {
   "codemirror_mode": "r",
   "file_extension": ".r",
   "mimetype": "text/x-r-source",
   "name": "R",
   "pygments_lexer": "r",
   "version": "4.4.1"
  }
 },
 "nbformat": 4,
 "nbformat_minor": 2
}
