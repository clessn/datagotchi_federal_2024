{
 "cells": [
  {
   "cell_type": "markdown",
   "metadata": {},
   "source": [
    "# Assemblage des données\n",
    "\n",
    "Les variables ont été préparées pour le clustering en sous-ensemble de variables.\n",
    "\n",
    "Assembler toutes les tables de données contenant chaque sous-ensemble de variables."
   ]
  },
  {
   "cell_type": "code",
   "execution_count": 5,
   "metadata": {
    "vscode": {
     "languageId": "r"
    }
   },
   "outputs": [],
   "source": [
    "library(dplyr)\n",
    "\n",
    "# Assemblage des fichiers\n",
    "\n",
    "df_act         <- readRDS(file = \"../../_PrivateFolder_datagotchi_federal_2025/data/clustering/can2025/02_pilot_2025_act.rds\")\n",
    "df_style       <- readRDS(file = \"../../_PrivateFolder_datagotchi_federal_2025/data/clustering/can2025/02_pilot_2025_style.rds\")\n",
    "df_sante       <- readRDS(file = \"../../_PrivateFolder_datagotchi_federal_2025/data/clustering/can2025/02_pilot_2025_sante.rds\")\n",
    "df_mode_de_vie <- readRDS(file = \"../../_PrivateFolder_datagotchi_federal_2025/data/clustering/can2025/02_pilot_2025_mode_de_vie.rds\")\n",
    "df_commerce    <- readRDS(file = \"../../_PrivateFolder_datagotchi_federal_2025/data/clustering/can2025/02_pilot_2025_commerce.rds\")\n",
    "df_ses         <- readRDS(file = \"../../_PrivateFolder_datagotchi_federal_2025/data/clustering/can2025/02_pilot_2025_ses.rds\")\n",
    "df_dv          <- readRDS(file = \"../../_PrivateFolder_datagotchi_federal_2025/data/clustering/can2025/02_pilot_2025_dv.rds\")\n",
    "\n",
    "df_pilot_2025_clust <- df_act %>%\n",
    "  left_join(df_style, by = \"id\") %>%\n",
    "  left_join(df_sante, by = \"id\") %>%\n",
    "  left_join(df_mode_de_vie, by = \"id\") %>%\n",
    "  left_join(df_commerce, by = \"id\") %>%\n",
    "  left_join(df_ses, by = \"id\") %>%\n",
    "  left_join(df_dv, by = \"id\")\n",
    "\n",
    "saveRDS(df_pilot_2025_clust, file = \"../../_PrivateFolder_datagotchi_federal_2025/data/clustering/can2025/02_pilot_2025.rds\")\n"
   ]
  }
 ],
 "metadata": {
  "kernelspec": {
   "display_name": "R",
   "language": "R",
   "name": "ir"
  },
  "language_info": {
   "codemirror_mode": "r",
   "file_extension": ".r",
   "mimetype": "text/x-r-source",
   "name": "R",
   "pygments_lexer": "r",
   "version": "4.4.1"
  }
 },
 "nbformat": 4,
 "nbformat_minor": 2
}
