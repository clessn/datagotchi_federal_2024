{
 "cells": [
  {
   "cell_type": "markdown",
   "metadata": {},
   "source": [
    "# Préparation des variables de mode de vie"
   ]
  },
  {
   "cell_type": "code",
   "execution_count": null,
   "metadata": {
    "vscode": {
     "languageId": "r"
    }
   },
   "outputs": [],
   "source": [
    "library(tidyverse)\n",
    "library(factoextra)\n",
    "\n",
    "# Charger les données\n",
    "DataPilot <- readRDS(\"../../_PrivateFolder_datagotchi_federal_2025/data/clustering/can2025/01_pilot_2025.rds\")\n",
    "\n",
    "# Charger le fichier des variables\n",
    "source(\"01-1_variables.R\")\n",
    "\n",
    "df_mode_de_vie <- DataPilot %>%\n",
    "  select(all_of(variables_mode_de_vie))"
   ]
  },
  {
   "cell_type": "code",
   "execution_count": 1,
   "metadata": {
    "vscode": {
     "languageId": "r"
    }
   },
   "outputs": [
    {
     "name": "stderr",
     "output_type": "stream",
     "text": [
      "\n",
      "Attachement du package : 'dplyr'\n",
      "\n",
      "\n",
      "Les objets suivants sont masqu'es depuis 'package:stats':\n",
      "\n",
      "    filter, lag\n",
      "\n",
      "\n",
      "Les objets suivants sont masqu'es depuis 'package:base':\n",
      "\n",
      "    intersect, setdiff, setequal, union\n",
      "\n",
      "\n"
     ]
    },
    {
     "ename": "ERROR",
     "evalue": "Error: objet 'df_mode_de_vie' introuvable\n",
     "output_type": "error",
     "traceback": [
      "Error: objet 'df_mode_de_vie' introuvable\nTraceback:\n",
      "1. summarise(., across(everything(), function(x) sum(x, na.rm = TRUE)))",
      "2. select(., starts_with(\"lifestyle_typeTransport\"))",
      "3. .handleSimpleError(function (cnd) \n . {\n .     watcher$capture_plot_and_output()\n .     cnd <- sanitize_call(cnd)\n .     watcher$push(cnd)\n .     switch(on_error, continue = invokeRestart(\"eval_continue\"), \n .         stop = invokeRestart(\"eval_stop\"), error = NULL)\n . }, \"objet 'df_mode_de_vie' introuvable\", base::quote(eval(expr, \n .     envir)))"
     ]
    }
   ],
   "source": [
    "library(dplyr)\n",
    "\n",
    "df_mode_de_vie %>%\n",
    "  select(starts_with(\"lifestyle_typeTransport\")) %>%\n",
    "  summarise(across(everything(), \\(x) sum(x, na.rm = TRUE)))\n",
    "#  summarise(across(everything(), sum, na.rm = TRUE))"
   ]
  },
  {
   "cell_type": "code",
   "execution_count": null,
   "metadata": {
    "vscode": {
     "languageId": "r"
    }
   },
   "outputs": [
    {
     "name": "stdout",
     "output_type": "stream",
     "text": [
      "Table pour la variable: ses_dwellingApp \n",
      "\n",
      "  0   1 \n",
      "890 142 \n",
      "\n",
      "\n",
      "Table pour la variable: ses_dwellingLoft \n",
      "\n",
      "   0    1 \n",
      "1023    9 \n",
      "\n",
      "\n",
      "Table pour la variable: ses_dwellingCondo \n",
      "\n",
      "  0   1 \n",
      "935  97 \n",
      "\n",
      "\n",
      "Table pour la variable: ses_dwellingTour \n",
      "\n",
      "  0   1 \n",
      "977  55 \n",
      "\n",
      "\n",
      "Table pour la variable: ses_dwellingDetachedHouse \n",
      "\n",
      "  0   1 \n",
      "495 537 \n",
      "\n",
      "\n",
      "Table pour la variable: ses_dwellingTownhouse \n",
      "\n",
      "  0   1 \n",
      "951  81 \n",
      "\n",
      "\n",
      "Table pour la variable: ses_dwellingDuplex \n",
      "\n",
      "  0   1 \n",
      "978  54 \n",
      "\n",
      "\n",
      "Table pour la variable: ses_dwellingCoop \n",
      "\n",
      "   0    1 \n",
      "1024    8 \n",
      "\n",
      "\n",
      "Table pour la variable: ses_dwellingHLM \n",
      "\n",
      "   0    1 \n",
      "1024    8 \n",
      "\n",
      "\n",
      "Table pour la variable: ses_dwellingMobile \n",
      "\n",
      "   0    1 \n",
      "1022   10 \n",
      "\n",
      "\n",
      "Table pour la variable: ses_dwellingOther \n",
      "\n",
      "   0    1 \n",
      "1001   31 \n",
      "\n",
      "\n",
      "Table pour la variable: lifestyle_typeTransportCar \n",
      "\n",
      "  0   1 \n",
      "429 603 \n",
      "\n",
      "\n",
      "Table pour la variable: lifestyle_typeTransportSUV \n",
      "\n",
      "  0   1 \n",
      "827 205 \n",
      "\n",
      "\n",
      "Table pour la variable: lifestyle_typeTransportMoto \n",
      "\n",
      "   0    1 \n",
      "1026    6 \n",
      "\n",
      "\n",
      "Table pour la variable: lifestyle_typeTransportWalk \n",
      "\n",
      "  0   1 \n",
      "941  91 \n",
      "\n",
      "\n",
      "Table pour la variable: lifestyle_typeTransportBicycle \n",
      "\n",
      "   0    1 \n",
      "1021   11 \n",
      "\n",
      "\n",
      "Table pour la variable: lifestyle_typeTransportPublicTransit \n",
      "\n",
      "  0   1 \n",
      "920 112 \n",
      "\n",
      "\n"
     ]
    }
   ],
   "source": [
    "# Boucle pour afficher la table pour chaque variable\n",
    "for (v in variables_mode_de_vie) {\n",
    "  if (v != \"id\") {\n",
    "    cat(\"Table pour la variable:\", v, \"\\n\")\n",
    "    print(table(df_mode_de_vie[[v]]))\n",
    "    cat(\"\\n\\n\")\n",
    "  }\n",
    "}"
   ]
  },
  {
   "cell_type": "markdown",
   "metadata": {},
   "source": [
    "### Transformations\n",
    "\n",
    "- Regroupement de ses_dwelling\n",
    "  - ses_dwellingCondo : ses_dwellingCondo + ses_dwellingLoft + ses_dwellingTour\n",
    "  - ses_dwellingOther : ses_dwellingOther + ses_dwellingCoop + ses_dwellingHLM + ses_dwellingMobile\n",
    "\n",
    "- Regroupement des act_transport\n",
    "  - lifestyle_typeTransportCar : lifestyle_typeTransportCar + lifestyle_typeTransportMoto (parce qu'il y avraiment trop peu de moto, assigner la classe la plus populeuse)\n",
    "  - lifestyle_typeTransportActive:   lifestyle_typeTransportWalk + lifestyle_typeTransportBicycle\n",
    "  - Les autres ne sont pas regroupés"
   ]
  },
  {
   "cell_type": "code",
   "execution_count": null,
   "metadata": {
    "vscode": {
     "languageId": "r"
    }
   },
   "outputs": [],
   "source": [
    "# Regroupement de ses_dwelling\n",
    "#-----------------------------\n",
    "\n",
    "df_mode_de_vie <- df_mode_de_vie %>%\n",
    "\n",
    "  mutate(\n",
    "    ses_dwellingCondo = if_else(\n",
    "      ses_dwellingLoft == 1 | ses_dwellingTour == 1,\n",
    "      1,\n",
    "      ses_dwellingCondo\n",
    "    ),\n",
    "    ses_dwellingOther = if_else(\n",
    "      ses_dwellingCoop == 1 | ses_dwellingHLM == 1 | ses_dwellingMobile == 1,\n",
    "      1,\n",
    "      ses_dwellingOther\n",
    "    ),\n",
    "    ses_dwellingDetachedHouse = if_else(\n",
    "      ses_dwellingDetachedHouse == 1 | ses_dwellingTownhouse == 1,\n",
    "      1,\n",
    "      ses_dwellingDetachedHouse\n",
    "    )\n",
    "  ) %>%\n",
    "  select(\n",
    "    -ses_dwellingLoft,\n",
    "    -ses_dwellingTour,\n",
    "    -ses_dwellingCoop,\n",
    "    -ses_dwellingHLM,\n",
    "    -ses_dwellingMobile,\n",
    "    -ses_dwellingTownhouse\n",
    "  )"
   ]
  },
  {
   "cell_type": "code",
   "execution_count": null,
   "metadata": {
    "vscode": {
     "languageId": "r"
    }
   },
   "outputs": [],
   "source": [
    "# Regroupement de act_transport\n",
    "#------------------------------\n",
    "\n",
    "df_mode_de_vie <- df_mode_de_vie %>%\n",
    "  mutate(\n",
    "    lifestyle_typeTransportCar = if_else(\n",
    "      lifestyle_typeTransportMoto == 1 | lifestyle_typeTransportSUV == 1,\n",
    "      1,\n",
    "      lifestyle_typeTransportCar\n",
    "    ),\n",
    "    lifestyle_typeTransportActive = if_else(\n",
    "      lifestyle_typeTransportWalk == 1 | lifestyle_typeTransportBicycle == 1 | lifestyle_typeTransportPublicTransit == 1,\n",
    "      1,\n",
    "      0\n",
    "    )\n",
    "  ) %>%\n",
    "  select(\n",
    "    -lifestyle_typeTransportMoto,\n",
    "    -lifestyle_typeTransportWalk,\n",
    "    -lifestyle_typeTransportBicycle,\n",
    "    -lifestyle_typeTransportSUV,\n",
    "    -lifestyle_typeTransportPublicTransit)"
   ]
  },
  {
   "cell_type": "code",
   "execution_count": null,
   "metadata": {
    "vscode": {
     "languageId": "r"
    }
   },
   "outputs": [],
   "source": [
    "variables_mode_de_vie_clust <- c(\n",
    "  \"id\",\n",
    "  #\"postal_code\", # À transformer en rural, urbain, région, banlieue\n",
    "  \"ses_dwellingApp\",\n",
    "  \"ses_dwellingCondo\",\n",
    "  \"ses_dwellingDetachedHouse\",\n",
    "  \"ses_dwellingDuplex\",\n",
    "  \"ses_dwellingOther\",\n",
    "  \"lifestyle_typeTransportCar\",\n",
    "  #\"lifestyle_typeTransportSUV\",\n",
    "  \"lifestyle_typeTransportActive\"\n",
    "  #\"lifestyle_typeTransportPublicTransit\"\n",
    ")"
   ]
  },
  {
   "cell_type": "code",
   "execution_count": null,
   "metadata": {
    "vscode": {
     "languageId": "r"
    }
   },
   "outputs": [
    {
     "name": "stdout",
     "output_type": "stream",
     "text": [
      "Table pour la variable: ses_dwellingApp \n",
      "\n",
      "  0   1 \n",
      "890 142 \n",
      "\n",
      "\n",
      "Table pour la variable: ses_dwellingCondo \n",
      "\n",
      "  0   1 \n",
      "871 161 \n",
      "\n",
      "\n",
      "Table pour la variable: ses_dwellingDetachedHouse \n",
      "\n",
      "  0   1 \n",
      "414 618 \n",
      "\n",
      "\n",
      "Table pour la variable: ses_dwellingDuplex \n",
      "\n",
      "  0   1 \n",
      "978  54 \n",
      "\n",
      "\n",
      "Table pour la variable: ses_dwellingOther \n",
      "\n",
      "  0   1 \n",
      "975  57 \n",
      "\n",
      "\n",
      "Table pour la variable: lifestyle_typeTransportCar \n",
      "\n",
      "  0   1 \n",
      "218 814 \n",
      "\n",
      "\n",
      "Table pour la variable: lifestyle_typeTransportActive \n",
      "\n",
      "  0   1 \n",
      "818 214 \n",
      "\n",
      "\n"
     ]
    }
   ],
   "source": [
    "# Boucle pour afficher la table pour chaque variable\n",
    "for (v in variables_mode_de_vie_clust) {\n",
    "  if (v != \"id\") {\n",
    "    cat(\"Table pour la variable:\", v, \"\\n\")\n",
    "    print(table(df_mode_de_vie[[v]]))\n",
    "    cat(\"\\n\\n\")\n",
    "  }\n",
    "}"
   ]
  },
  {
   "cell_type": "code",
   "execution_count": null,
   "metadata": {
    "vscode": {
     "languageId": "r"
    }
   },
   "outputs": [],
   "source": [
    "# Sauvegarder les données préparées\n",
    "saveRDS(df_mode_de_vie, file = \"../../_PrivateFolder_datagotchi_federal_2025/data/clustering/can2025/02_pilot_2025_mode_de_vie.rds\")"
   ]
  },
  {
   "cell_type": "markdown",
   "metadata": {},
   "source": [
    "---"
   ]
  },
  {
   "cell_type": "markdown",
   "metadata": {},
   "source": [
    "# SUGGESTION : Activité de Clustering\n",
    "\n",
    "Si souhaité, effectuer un exercice de clustering avec ce sous-groupe de variables pour mieux saisir les données et leur relation. \n",
    "\n",
    "Cet exercice est purement exploratoire et sert à voir si les données peuvent être utilisées pour faire du clustering."
   ]
  }
 ],
 "metadata": {
  "kernelspec": {
   "display_name": "R",
   "language": "R",
   "name": "ir"
  },
  "language_info": {
   "codemirror_mode": "r",
   "file_extension": ".r",
   "mimetype": "text/x-r-source",
   "name": "R",
   "pygments_lexer": "r",
   "version": "4.4.1"
  }
 },
 "nbformat": 4,
 "nbformat_minor": 2
}
