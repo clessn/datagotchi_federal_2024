{
 "cells": [
  {
   "cell_type": "markdown",
   "metadata": {},
   "source": [
    "# Préparation des variables pour les variables de style"
   ]
  },
  {
   "cell_type": "code",
   "execution_count": 2,
   "metadata": {
    "vscode": {
     "languageId": "r"
    }
   },
   "outputs": [],
   "source": [
    "library(tidyverse)\n",
    "library(factoextra)\n",
    "\n",
    "# Charger les données\n",
    "DataApp <- readRDS(\"../../_PrivateFolder_datagotchi_federal_2025/data/clustering/can2025/01_app_2025.rds\")\n",
    "\n",
    "# Charger le fichier des variables\n",
    "source(\"01-1_variables.R\")\n",
    "\n",
    "# Préparation du jeu de données pour les variables de style\n",
    "df_style <- DataApp %>%\n",
    "  select(all_of(variables_style))"
   ]
  },
  {
   "cell_type": "code",
   "execution_count": 3,
   "metadata": {
    "vscode": {
     "languageId": "r"
    }
   },
   "outputs": [
    {
     "name": "stdout",
     "output_type": "stream",
     "text": [
      "Table pour la variable: lifestyle_clothingStyleFormal \n",
      "\n",
      "    0     1 \n",
      "41925  1151 \n",
      "\n",
      "\n",
      "Table pour la variable: lifestyle_clothingStyleClassic \n",
      "\n",
      "    0     1 \n",
      "31599 11477 \n",
      "\n",
      "\n",
      "Table pour la variable: lifestyle_clothingStyleCasual \n",
      "\n",
      "    0     1 \n",
      "22298 20778 \n",
      "\n",
      "\n",
      "Table pour la variable: lifestyle_clothingStyleSport \n",
      "\n",
      "    0     1 \n",
      "41395  1681 \n",
      "\n",
      "\n",
      "Table pour la variable: lifestyle_clothingStyleElegant \n",
      "\n",
      "    0     1 \n",
      "39310  3766 \n",
      "\n",
      "\n",
      "Table pour la variable: lifestyle_clothingStyleHippie \n",
      "\n",
      "    0     1 \n",
      "41358  1718 \n",
      "\n",
      "\n",
      "Table pour la variable: lifestyle_clothingStylePunk \n",
      "\n",
      "    0     1 \n",
      "42604   472 \n",
      "\n",
      "\n",
      "Table pour la variable: lifestyle_clothingStyleRock \n",
      "\n",
      "    0     1 \n",
      "42012  1064 \n",
      "\n",
      "\n",
      "Table pour la variable: lifestyle_clothingStyleOther \n",
      "\n",
      "    0     1 \n",
      "42107   969 \n",
      "\n",
      "\n",
      "Table pour la variable: lifestyle_hasTattoos \n",
      "\n",
      "    0     1 \n",
      "28953 14123 \n",
      "\n",
      "\n",
      "Table pour la variable: lifestyle_ownPetCat \n",
      "\n",
      "    0     1 \n",
      "33066 10010 \n",
      "\n",
      "\n",
      "Table pour la variable: lifestyle_ownPetDog \n",
      "\n",
      "    0     1 \n",
      "33936  9140 \n",
      "\n",
      "\n",
      "Table pour la variable: lifestyle_ownPetOther \n",
      "\n",
      "    0     1 \n",
      "41835  1241 \n",
      "\n",
      "\n",
      "Table pour la variable: lifestyle_ownPetCatAndDog \n",
      "\n",
      "    0     1 \n",
      "38811  4265 \n",
      "\n",
      "\n",
      "Table pour la variable: lifestyle_ownPetFarmAnimals \n",
      "\n",
      "    0     1 \n",
      "42792   284 \n",
      "\n",
      "\n",
      "Table pour la variable: lifestyle_ownPetNone \n",
      "\n",
      "    0     1 \n",
      "24940 18136 \n",
      "\n",
      "\n"
     ]
    }
   ],
   "source": [
    "# Boucle pour afficher la table pour chaque variable\n",
    "for (v in variables_style) {\n",
    "  if (v != \"id\") {\n",
    "    cat(\"Table pour la variable:\", v, \"\\n\")\n",
    "    print(table(df_style[[v]]))\n",
    "    cat(\"\\n\\n\")\n",
    "  }\n",
    "}"
   ]
  },
  {
   "cell_type": "markdown",
   "metadata": {},
   "source": [
    "## Transformations\n",
    "\n",
    "- app_swag\n",
    "\n",
    "Les variables app_swag sont telles que certaines catégories sont très peu peuplées. Regrouper les styles pour en faire des styles plus généraux.\n",
    "\n",
    "- animal\n",
    "\n",
    "Regrouper certaines classes d'animal pour avoir des catégories plus générales\n"
   ]
  },
  {
   "cell_type": "code",
   "execution_count": 4,
   "metadata": {
    "vscode": {
     "languageId": "r"
    }
   },
   "outputs": [],
   "source": [
    "# Regroupement de app_swag\n",
    "#-------------------------\n",
    "\n",
    "df_style <- df_style %>%\n",
    "\n",
    "  # Regrouper Formel et Chic sous Classique\n",
    "  mutate(\n",
    "    lifestyle_clothingStyleClassic = if_else(\n",
    "      lifestyle_clothingStyleFormal == 1 | lifestyle_clothingStyleElegant == 1,\n",
    "      1,\n",
    "      lifestyle_clothingStyleClassic\n",
    "    )\n",
    "  ) %>%\n",
    "  select(-lifestyle_clothingStyleFormal, -lifestyle_clothingStyleElegant) %>%\n",
    "\n",
    "  # Regrouper HippBoheme, Punk, Rock sous Other\n",
    "  mutate(\n",
    "    lifestyle_clothingStyleOther = if_else(\n",
    "      lifestyle_clothingStyleHippie == 1 | lifestyle_clothingStylePunk == 1 | lifestyle_clothingStyleRock == 1,\n",
    "      1,\n",
    "      lifestyle_clothingStyleOther\n",
    "    )\n",
    "  ) %>%\n",
    "  select(-lifestyle_clothingStyleHippie, -lifestyle_clothingStylePunk, -lifestyle_clothingStyleRock)"
   ]
  },
  {
   "cell_type": "code",
   "execution_count": 5,
   "metadata": {
    "vscode": {
     "languageId": "r"
    }
   },
   "outputs": [
    {
     "data": {
      "text/plain": [
       "\n",
       "    0     1 \n",
       "41395  1681 "
      ]
     },
     "metadata": {},
     "output_type": "display_data"
    }
   ],
   "source": [
    "table(df_style$lifestyle_clothingStyleSport)"
   ]
  },
  {
   "cell_type": "code",
   "execution_count": 6,
   "metadata": {
    "vscode": {
     "languageId": "r"
    }
   },
   "outputs": [],
   "source": [
    "# Regroupement de animal\n",
    "#-----------------------\n",
    "\n",
    "df_style <- df_style %>%\n",
    "  mutate(lifestyle_ownPetOther = if_else(\n",
    "   lifestyle_ownPetFarmAnimals == 1,\n",
    "    1,\n",
    "    lifestyle_ownPetOther\n",
    "  )\n",
    "  ) %>%\n",
    "  select(-lifestyle_ownPetFarmAnimals)"
   ]
  },
  {
   "cell_type": "code",
   "execution_count": 7,
   "metadata": {
    "vscode": {
     "languageId": "r"
    }
   },
   "outputs": [],
   "source": [
    "variables_style_clust <- c(\n",
    "  \"id\",\n",
    "  \"lifestyle_clothingStyleClassic\",\n",
    "  \"lifestyle_clothingStyleCasual\",\n",
    "  \"lifestyle_clothingStyleSport\",\n",
    "  \"lifestyle_clothingStyleOther\",\n",
    "  \"lifestyle_hasTattoos\",\n",
    "  \"lifestyle_ownPetCat\",\n",
    "  \"lifestyle_ownPetDog\",\n",
    "  \"lifestyle_ownPetOther\",\n",
    "  \"lifestyle_ownPetCatAndDog\",\n",
    "  \"lifestyle_ownPetNone\"\n",
    ")"
   ]
  },
  {
   "cell_type": "code",
   "execution_count": 8,
   "metadata": {
    "vscode": {
     "languageId": "r"
    }
   },
   "outputs": [
    {
     "name": "stdout",
     "output_type": "stream",
     "text": [
      "Table pour la variable: lifestyle_clothingStyleClassic \n",
      "\n",
      "    0     1 \n",
      "26682 16394 \n",
      "\n",
      "\n",
      "Table pour la variable: lifestyle_clothingStyleCasual \n",
      "\n",
      "    0     1 \n",
      "22298 20778 \n",
      "\n",
      "\n",
      "Table pour la variable: lifestyle_clothingStyleSport \n",
      "\n",
      "    0     1 \n",
      "41395  1681 \n",
      "\n",
      "\n",
      "Table pour la variable: lifestyle_clothingStyleOther \n",
      "\n",
      "    0     1 \n",
      "38853  4223 \n",
      "\n",
      "\n",
      "Table pour la variable: lifestyle_hasTattoos \n",
      "\n",
      "    0     1 \n",
      "28953 14123 \n",
      "\n",
      "\n",
      "Table pour la variable: lifestyle_ownPetCat \n",
      "\n",
      "    0     1 \n",
      "33066 10010 \n",
      "\n",
      "\n",
      "Table pour la variable: lifestyle_ownPetDog \n",
      "\n",
      "    0     1 \n",
      "33936  9140 \n",
      "\n",
      "\n",
      "Table pour la variable: lifestyle_ownPetOther \n",
      "\n",
      "    0     1 \n",
      "41551  1525 \n",
      "\n",
      "\n",
      "Table pour la variable: lifestyle_ownPetCatAndDog \n",
      "\n",
      "    0     1 \n",
      "38811  4265 \n",
      "\n",
      "\n",
      "Table pour la variable: lifestyle_ownPetNone \n",
      "\n",
      "    0     1 \n",
      "24940 18136 \n",
      "\n",
      "\n"
     ]
    }
   ],
   "source": [
    "# Boucle pour afficher la table pour chaque variable\n",
    "for (v in variables_style_clust) {\n",
    "  if (v != \"id\") {\n",
    "    cat(\"Table pour la variable:\", v, \"\\n\")\n",
    "    print(table(df_style[[v]]))\n",
    "    cat(\"\\n\\n\")\n",
    "  }\n",
    "}"
   ]
  },
  {
   "cell_type": "code",
   "execution_count": 9,
   "metadata": {
    "vscode": {
     "languageId": "r"
    }
   },
   "outputs": [],
   "source": [
    "# Sauvegarder les données préparées\n",
    "saveRDS(df_style, file = \"../../_PrivateFolder_datagotchi_federal_2025/data/clustering/can2025/02_app_2025_style.rds\")"
   ]
  },
  {
   "cell_type": "markdown",
   "metadata": {},
   "source": [
    "---"
   ]
  },
  {
   "cell_type": "markdown",
   "metadata": {},
   "source": [
    "# SUGGESTION : Activité de Clustering\n",
    "\n",
    "Si souhaité, effectuer un exercice de clustering avec ce sous-groupe de variables pour mieux saisir les données et leur relation. \n",
    "\n",
    "Cet exercice est purement exploratoire et sert à voir si les données peuvent être utilisées pour faire du clustering."
   ]
  }
 ],
 "metadata": {
  "kernelspec": {
   "display_name": "R",
   "language": "R",
   "name": "ir"
  },
  "language_info": {
   "codemirror_mode": "r",
   "file_extension": ".r",
   "mimetype": "text/x-r-source",
   "name": "R",
   "pygments_lexer": "r",
   "version": "4.4.1"
  }
 },
 "nbformat": 4,
 "nbformat_minor": 2
}
