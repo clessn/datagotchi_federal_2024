{
 "cells": [
  {
   "cell_type": "markdown",
   "metadata": {},
   "source": [
    "# Préparation des variables commerce"
   ]
  },
  {
   "cell_type": "code",
   "execution_count": 2,
   "metadata": {
    "vscode": {
     "languageId": "r"
    }
   },
   "outputs": [],
   "source": [
    "library(tidyverse)\n",
    "library(factoextra)\n",
    "\n",
    "# Charger les données\n",
    "DataApp <- readRDS(\"../../_PrivateFolder_datagotchi_federal_2025/data/clustering/can2025/01_app_2025.rds\")\n",
    "\n",
    "# Charger le fichier des variables\n",
    "source(\"01-1_variables.R\")\n",
    "\n",
    "df_commerce <- DataApp %>%\n",
    "  select(all_of(variables_commerce))"
   ]
  },
  {
   "cell_type": "code",
   "execution_count": 3,
   "metadata": {
    "vscode": {
     "languageId": "r"
    }
   },
   "outputs": [
    {
     "name": "stdout",
     "output_type": "stream",
     "text": [
      "Table pour la variable: lifestyle_consClothesFrip \n",
      "\n",
      "    0     1 \n",
      "37730  5346 \n",
      "\n",
      "\n",
      "Table pour la variable: lifestyle_consClothesIndependent \n",
      "\n",
      "    0     1 \n",
      "38628  4448 \n",
      "\n",
      "\n",
      "Table pour la variable: lifestyle_consClothesChain \n",
      "\n",
      "    0     1 \n",
      "32752 10324 \n",
      "\n",
      "\n",
      "Table pour la variable: lifestyle_consClothesSuperstores \n",
      "\n",
      "    0     1 \n",
      "32754 10322 \n",
      "\n",
      "\n",
      "Table pour la variable: lifestyle_consClothesDepartment \n",
      "\n",
      "    0     1 \n",
      "35919  7157 \n",
      "\n",
      "\n",
      "Table pour la variable: lifestyle_consClothesOnline \n",
      "\n",
      "    0     1 \n",
      "39299  3777 \n",
      "\n",
      "\n",
      "Table pour la variable: lifestyle_consClothesOther \n",
      "\n",
      "    0     1 \n",
      "41374  1702 \n",
      "\n",
      "\n",
      "Table pour la variable: lifestyle_consCoffeeTimHortons \n",
      "\n",
      "    0     1 \n",
      "31772 11304 \n",
      "\n",
      "\n",
      "Table pour la variable: lifestyle_consCoffeeStarbucks \n",
      "\n",
      "    0     1 \n",
      "39283  3793 \n",
      "\n",
      "\n",
      "Table pour la variable: lifestyle_consCoffeeSecondCup \n",
      "\n",
      "    0     1 \n",
      "42602   474 \n",
      "\n",
      "\n",
      "Table pour la variable: lifestyle_consCoffeeMcDo \n",
      "\n",
      "    0     1 \n",
      "39010  4066 \n",
      "\n",
      "\n",
      "Table pour la variable: lifestyle_consCoffeeOther \n",
      "\n",
      "    0     1 \n",
      "41101  1975 \n",
      "\n",
      "\n",
      "Table pour la variable: lifestyle_consCoffeeIndependent \n",
      "\n",
      "    0     1 \n",
      "38733  4343 \n",
      "\n",
      "\n",
      "Table pour la variable: lifestyle_consCoffeeNone \n",
      "\n",
      "    0     1 \n",
      "25955 17121 \n",
      "\n",
      "\n"
     ]
    }
   ],
   "source": [
    "# Boucle pour afficher la table pour chaque variable\n",
    "for (v in variables_commerce) {\n",
    "  if (v != \"id\") {\n",
    "    cat(\"Table pour la variable:\", v, \"\\n\")\n",
    "    print(table(df_commerce[[v]]))\n",
    "    cat(\"\\n\\n\")\n",
    "  }\n",
    "}"
   ]
  },
  {
   "cell_type": "markdown",
   "metadata": {},
   "source": [
    "### Transformations\n",
    "\n",
    "- cons_brand : Aucun changement\n",
    "\n",
    "- cons_coffee : Regrouper SC (second cup) avec Other"
   ]
  },
  {
   "cell_type": "code",
   "execution_count": 4,
   "metadata": {
    "vscode": {
     "languageId": "r"
    }
   },
   "outputs": [],
   "source": [
    "# Regroupement de cons_coffee\n",
    "#-----------------------------\n",
    "\n",
    "df_commerce <- df_commerce %>%\n",
    "\n",
    "  mutate(\n",
    "    lifestyle_consCoffeeOther = if_else(\n",
    "      lifestyle_consCoffeeSecondCup == 1,\n",
    "      1,\n",
    "      lifestyle_consCoffeeOther\n",
    "    )\n",
    "  ) %>%\n",
    "  select(-lifestyle_consCoffeeSecondCup)"
   ]
  },
  {
   "cell_type": "code",
   "execution_count": 5,
   "metadata": {
    "vscode": {
     "languageId": "r"
    }
   },
   "outputs": [],
   "source": [
    "variables_commerce_clust <- c(\n",
    "  \"id\",\n",
    "  \"lifestyle_consClothesFrip\",\n",
    "  \"lifestyle_consClothesIndependent\",\n",
    "  \"lifestyle_consClothesChain\",\n",
    "  \"lifestyle_consClothesSuperstores\",\n",
    "  \"lifestyle_consClothesDepartment\",\n",
    "  \"lifestyle_consClothesOnline\",\n",
    "  \"lifestyle_consClothesOther\",\n",
    "  \"lifestyle_consCoffeeTimHortons\",\n",
    "  \"lifestyle_consCoffeeStarbucks\",\n",
    "  \"lifestyle_consCoffeeMcDo\",\n",
    "  \"lifestyle_consCoffeeOther\",\n",
    "  \"lifestyle_consCoffeeIndependent\",\n",
    "  \"lifestyle_consCoffeeNone\"\n",
    ")"
   ]
  },
  {
   "cell_type": "code",
   "execution_count": 6,
   "metadata": {
    "vscode": {
     "languageId": "r"
    }
   },
   "outputs": [
    {
     "name": "stdout",
     "output_type": "stream",
     "text": [
      "Table pour la variable: lifestyle_consClothesFrip \n",
      "\n",
      "    0     1 \n",
      "37730  5346 \n",
      "\n",
      "\n",
      "Table pour la variable: lifestyle_consClothesIndependent \n",
      "\n",
      "    0     1 \n",
      "38628  4448 \n",
      "\n",
      "\n",
      "Table pour la variable: lifestyle_consClothesChain \n",
      "\n",
      "    0     1 \n",
      "32752 10324 \n",
      "\n",
      "\n",
      "Table pour la variable: lifestyle_consClothesSuperstores \n",
      "\n",
      "    0     1 \n",
      "32754 10322 \n",
      "\n",
      "\n",
      "Table pour la variable: lifestyle_consClothesDepartment \n",
      "\n",
      "    0     1 \n",
      "35919  7157 \n",
      "\n",
      "\n",
      "Table pour la variable: lifestyle_consClothesOnline \n",
      "\n",
      "    0     1 \n",
      "39299  3777 \n",
      "\n",
      "\n",
      "Table pour la variable: lifestyle_consClothesOther \n",
      "\n",
      "    0     1 \n",
      "41374  1702 \n",
      "\n",
      "\n",
      "Table pour la variable: lifestyle_consCoffeeTimHortons \n",
      "\n",
      "    0     1 \n",
      "31772 11304 \n",
      "\n",
      "\n",
      "Table pour la variable: lifestyle_consCoffeeStarbucks \n",
      "\n",
      "    0     1 \n",
      "39283  3793 \n",
      "\n",
      "\n",
      "Table pour la variable: lifestyle_consCoffeeMcDo \n",
      "\n",
      "    0     1 \n",
      "39010  4066 \n",
      "\n",
      "\n",
      "Table pour la variable: lifestyle_consCoffeeOther \n",
      "\n",
      "    0     1 \n",
      "40627  2449 \n",
      "\n",
      "\n",
      "Table pour la variable: lifestyle_consCoffeeIndependent \n",
      "\n",
      "    0     1 \n",
      "38733  4343 \n",
      "\n",
      "\n",
      "Table pour la variable: lifestyle_consCoffeeNone \n",
      "\n",
      "    0     1 \n",
      "25955 17121 \n",
      "\n",
      "\n"
     ]
    }
   ],
   "source": [
    "# Boucle pour afficher la table pour chaque variable\n",
    "for (v in variables_commerce_clust) {\n",
    "  if (v != \"id\") {\n",
    "    cat(\"Table pour la variable:\", v, \"\\n\")\n",
    "    print(table(df_commerce[[v]]))\n",
    "    cat(\"\\n\\n\")\n",
    "  }\n",
    "}"
   ]
  },
  {
   "cell_type": "code",
   "execution_count": 7,
   "metadata": {
    "vscode": {
     "languageId": "r"
    }
   },
   "outputs": [],
   "source": [
    "# Sauvegarder les données préparées\n",
    "saveRDS(df_commerce, file = \"../../_PrivateFolder_datagotchi_federal_2025/data/clustering/can2025/02_app_2025_commerce.rds\")"
   ]
  },
  {
   "cell_type": "markdown",
   "metadata": {},
   "source": [
    "---"
   ]
  },
  {
   "cell_type": "markdown",
   "metadata": {},
   "source": [
    "# SUGGESTION : Activité de Clustering\n",
    "\n",
    "Si souhaité, effectuer un exercice de clustering avec ce sous-groupe de variables pour mieux saisir les données et leur relation. \n",
    "\n",
    "Cet exercice est purement exploratoire et sert à voir si les données peuvent être utilisées pour faire du clustering."
   ]
  }
 ],
 "metadata": {
  "kernelspec": {
   "display_name": "R",
   "language": "R",
   "name": "ir"
  },
  "language_info": {
   "codemirror_mode": "r",
   "file_extension": ".r",
   "mimetype": "text/x-r-source",
   "name": "R",
   "pygments_lexer": "r",
   "version": "4.4.1"
  }
 },
 "nbformat": 4,
 "nbformat_minor": 2
}
