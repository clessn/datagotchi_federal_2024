{
 "cells": [
  {
   "cell_type": "code",
   "execution_count": 2,
   "metadata": {
    "vscode": {
     "languageId": "r"
    }
   },
   "outputs": [],
   "source": [
    "library(tidyverse)\n",
    "library(factoextra)\n",
    "\n",
    "# Charger les données\n",
    "DataApp <- readRDS(\"../../_PrivateFolder_datagotchi_federal_2025/data/clustering/can2025/01_app_2025.rds\")\n",
    "DataRCI <- readRDS(\"../../_SharedFolder_datagotchi_federal_2024/data/potGrowth/01_pilote_with_rci.rds\")\n",
    "\n",
    "# Charger le fichier des variables\n",
    "source(\"01-1_variables.R\")\n",
    "\n",
    "df_dv <- DataApp %>%\n",
    "  select(all_of(variables_vote))\n",
    "\n",
    "df_RCI <- DataRCI %>%\n",
    "  select(id, starts_with(\"rci\"))\n"
   ]
  },
  {
   "cell_type": "code",
   "execution_count": 3,
   "metadata": {
    "vscode": {
     "languageId": "r"
    }
   },
   "outputs": [
    {
     "name": "stdout",
     "output_type": "stream",
     "text": [
      "Table pour la variable: dv_voteChoice \n",
      "\n",
      "  lpc   cpc   ndp    bq   gpc other \n",
      "10671  9860  5512 10080   787  3780 \n",
      "\n",
      "\n"
     ]
    }
   ],
   "source": [
    "# Boucle pour afficher la table pour chaque variable\n",
    "for (v in variables_vote) {\n",
    "  if (v != \"id\") {\n",
    "    cat(\"Table pour la variable:\", v, \"\\n\")\n",
    "    print(table(df_dv[[v]]))\n",
    "    cat(\"\\n\\n\")\n",
    "  }\n",
    "}"
   ]
  },
  {
   "cell_type": "code",
   "execution_count": 4,
   "metadata": {
    "vscode": {
     "languageId": "r"
    }
   },
   "outputs": [],
   "source": [
    "library(dplyr)\n",
    "\n",
    "df_dv$dv_voteChoiceLPC <- NA\n",
    "df_dv$dv_voteChoiceLPC[df_dv$dv_voteChoice == \"lpc\"] <- 1\n",
    "df_dv$dv_voteChoiceLPC[df_dv$dv_voteChoice != \"lpc\"] <- 0\n",
    "\n",
    "df_dv$dv_voteChoiceCPC <- NA\n",
    "df_dv$dv_voteChoiceCPC[df_dv$dv_voteChoice == \"cpc\"] <- 1\n",
    "df_dv$dv_voteChoiceCPC[df_dv$dv_voteChoice != \"cpc\"] <- 0\n",
    "\n",
    "df_dv$dv_voteChoiceNDP <- NA\n",
    "df_dv$dv_voteChoiceNDP[df_dv$dv_voteChoice == \"ndp\"] <- 1\n",
    "df_dv$dv_voteChoiceNDP[df_dv$dv_voteChoice != \"ndp\"] <- 0\n",
    "\n",
    "df_dv$dv_voteChoiceBQ <- NA\n",
    "df_dv$dv_voteChoiceBQ[df_dv$dv_voteChoice == \"bq\"] <- 1\n",
    "df_dv$dv_voteChoiceBQ[df_dv$dv_voteChoice != \"bq\"] <- 0\n",
    "\n",
    "df_dv$dv_voteChoiceGPC <- NA\n",
    "df_dv$dv_voteChoiceGPC[df_dv$dv_voteChoice == \"gpc\"] <- 1\n",
    "df_dv$dv_voteChoiceGPC[df_dv$dv_voteChoice != \"gpc\"] <- 0\n",
    "\n",
    "df_dv$dv_voteChoiceOther <- NA\n",
    "df_dv$dv_voteChoiceOther[df_dv$dv_voteChoice == \"other\"] <- 1\n",
    "df_dv$dv_voteChoiceOther[df_dv$dv_voteChoice != \"other\"] <- 0"
   ]
  },
  {
   "cell_type": "code",
   "execution_count": 5,
   "metadata": {
    "vscode": {
     "languageId": "r"
    }
   },
   "outputs": [],
   "source": [
    "#Création d'une variable de solidité du vote\n",
    "library(dplyr)\n",
    "\n",
    "df_RCI <- df_RCI %>%\n",
    "  rowwise() %>%\n",
    "  mutate(dv_solidity = max(c_across(starts_with(\"rci_\")), na.rm = TRUE)) %>%\n",
    "  ungroup()\n"
   ]
  },
  {
   "cell_type": "code",
   "execution_count": 6,
   "metadata": {
    "vscode": {
     "languageId": "r"
    }
   },
   "outputs": [
    {
     "data": {
      "text/plain": [
       "< table of extent 0 >"
      ]
     },
     "metadata": {},
     "output_type": "display_data"
    }
   ],
   "source": [
    "#création d'une variable de turnout binaire\n",
    "library(dplyr)\n",
    "\n",
    "df_dv$dv_turnout_bin <- NA\n",
    "df_dv$dv_turnout_bin[df_dv$dv_turnout >= 0.9] <- 1\n",
    "df_dv$dv_turnout_bin[df_dv$dv_turnout < 0.9] <- 0\n",
    "table(df_dv$dv_turnout_bin)"
   ]
  },
  {
   "cell_type": "code",
   "execution_count": 7,
   "metadata": {
    "vscode": {
     "languageId": "r"
    }
   },
   "outputs": [
    {
     "data": {
      "text/plain": [
       "\n",
       "  0 0.1 0.2 0.3 0.4 0.5 0.6 0.7 0.8 0.9   1 \n",
       "205 149 104  81  69  64  47  35  54  61 152 "
      ]
     },
     "metadata": {},
     "output_type": "display_data"
    },
    {
     "data": {
      "text/plain": [
       "\n",
       "  -1 -0.9 -0.8 -0.7 -0.6 -0.5 -0.4 -0.3 -0.2 -0.1    0  0.1  0.2  0.3  0.4  0.5 \n",
       " 176   67   49   44   48   51   54   47   60   77  161   36   26   23   15   13 \n",
       " 0.6  0.7  0.8  0.9    1 \n",
       "  13   11   14    8   28 "
      ]
     },
     "metadata": {},
     "output_type": "display_data"
    }
   ],
   "source": [
    "table(df_RCI$dv_solidity)\n",
    "table(df_RCI$rci_LPC)"
   ]
  },
  {
   "cell_type": "code",
   "execution_count": 8,
   "metadata": {
    "vscode": {
     "languageId": "r"
    }
   },
   "outputs": [],
   "source": [
    "df_dv <- left_join(df_dv, df_RCI, by = \"id\")\n"
   ]
  },
  {
   "cell_type": "code",
   "execution_count": 9,
   "metadata": {
    "vscode": {
     "languageId": "r"
    }
   },
   "outputs": [],
   "source": [
    "# Sauvegarder les données préparées\n",
    "saveRDS(df_dv, file = \"../../_PrivateFolder_datagotchi_federal_2025/data/clustering/can2025/02_app_2025_dv.rds\")"
   ]
  }
 ],
 "metadata": {
  "kernelspec": {
   "display_name": "R",
   "language": "R",
   "name": "ir"
  },
  "language_info": {
   "codemirror_mode": "r",
   "file_extension": ".r",
   "mimetype": "text/x-r-source",
   "name": "R",
   "pygments_lexer": "r",
   "version": "4.4.1"
  }
 },
 "nbformat": 4,
 "nbformat_minor": 2
}
