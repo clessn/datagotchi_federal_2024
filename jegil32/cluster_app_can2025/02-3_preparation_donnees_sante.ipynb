{
 "cells": [
  {
   "cell_type": "markdown",
   "metadata": {},
   "source": [
    "# Préparation des variables de sante"
   ]
  },
  {
   "cell_type": "code",
   "execution_count": 2,
   "metadata": {
    "vscode": {
     "languageId": "r"
    }
   },
   "outputs": [],
   "source": [
    "library(tidyverse)\n",
    "library(factoextra)\n",
    "\n",
    "# Charger les données\n",
    "DataApp <- readRDS(\"../../_PrivateFolder_datagotchi_federal_2025/data/clustering/can2025/01_app_2025.rds\")\n",
    "\n",
    "# Charger le fichier des variables\n",
    "source(\"01-1_variables.R\")\n",
    "\n",
    "df_sante <- DataApp %>%\n",
    "  select(all_of(variables_sante))"
   ]
  },
  {
   "cell_type": "code",
   "execution_count": 3,
   "metadata": {
    "vscode": {
     "languageId": "r"
    }
   },
   "outputs": [
    {
     "name": "stdout",
     "output_type": "stream",
     "text": [
      "Table pour la variable: lifestyle_eatMeatFreq \n",
      "\n",
      "    0  0.08  0.17  0.33  0.67  0.83     1 \n",
      " 1419  1062  1438  5430 21934  8449  3344 \n",
      "\n",
      "\n",
      "Table pour la variable: lifestyle_favAlcoolRedWine \n",
      "\n",
      "    0     1 \n",
      "36712  6364 \n",
      "\n",
      "\n",
      "Table pour la variable: lifestyle_favAlcoolWhiteWine \n",
      "\n",
      "    0     1 \n",
      "37546  5530 \n",
      "\n",
      "\n",
      "Table pour la variable: lifestyle_favAlcoolRoseWine \n",
      "\n",
      "    0     1 \n",
      "42048  1028 \n",
      "\n",
      "\n",
      "Table pour la variable: lifestyle_favAlcoolSpirits \n",
      "\n",
      "    0     1 \n",
      "39500  3576 \n",
      "\n",
      "\n",
      "Table pour la variable: lifestyle_favAlcoolBubbleDrink \n",
      "\n",
      "    0     1 \n",
      "41796  1280 \n",
      "\n",
      "\n",
      "Table pour la variable: lifestyle_favAlcoolBeer \n",
      "\n",
      "    0     1 \n",
      "37720  5356 \n",
      "\n",
      "\n",
      "Table pour la variable: lifestyle_favAlcoolMicroBeer \n",
      "\n",
      "    0     1 \n",
      "38637  4439 \n",
      "\n",
      "\n",
      "Table pour la variable: lifestyle_favAlcoolCocktail \n",
      "\n",
      "    0     1 \n",
      "37731  5345 \n",
      "\n",
      "\n",
      "Table pour la variable: lifestyle_favAlcoolDontDrink \n",
      "\n",
      "    0     1 \n",
      "32918 10158 \n",
      "\n",
      "\n",
      "Table pour la variable: lifestyle_smokeFreq \n",
      "\n",
      "     0 0.0833 0.3333    0.5 0.8333      1 \n",
      " 36162   1353    390    671    489   3573 \n",
      "\n",
      "\n"
     ]
    }
   ],
   "source": [
    "# Boucle pour afficher la table pour chaque variable\n",
    "for (v in variables_sante) {\n",
    "  if (v != \"id\") {\n",
    "    cat(\"Table pour la variable:\", v, \"\\n\")\n",
    "    print(table(df_sante[[v]]))\n",
    "    cat(\"\\n\\n\")\n",
    "  }\n",
    "}"
   ]
  },
  {
   "cell_type": "markdown",
   "metadata": {},
   "source": [
    "### Transformations\n",
    "\n",
    "- cons_meat : Devrait être une variable ordinale \n",
    "  - 0 Not more than once a month\n",
    "  - 0.5 Few weekly\n",
    "  - 1 Daily\n",
    "\n",
    "- cons_..._Drink : On peut conserver tel quel\n",
    "\n",
    "- cons_Smoke : Devrait être une variable ordinale\n",
    "  - 0 Never\n",
    "  - 0.5 Not daily\n",
    "  - 1 Daily"
   ]
  },
  {
   "cell_type": "code",
   "execution_count": 4,
   "metadata": {
    "vscode": {
     "languageId": "r"
    }
   },
   "outputs": [],
   "source": [
    "# Transformation de cons_meat en variable ordinale\n",
    "#-------------------------------------------------\n",
    "\n",
    "df_sante <- df_sante %>%\n",
    "\n",
    "  mutate(\n",
    "    lifestyle_eatMeatFreq = if_else(\n",
    "      lifestyle_eatMeatFreq == 0 | lifestyle_eatMeatFreq == 0.17 | lifestyle_eatMeatFreq == 0.33,\n",
    "      0,\n",
    "      if_else(\n",
    "        lifestyle_eatMeatFreq == 0.5 | lifestyle_eatMeatFreq == 0.67,\n",
    "        0.5,\n",
    "        1\n",
    "      )\n",
    "    )\n",
    "  ) "
   ]
  },
  {
   "cell_type": "code",
   "execution_count": 5,
   "metadata": {
    "vscode": {
     "languageId": "r"
    }
   },
   "outputs": [],
   "source": [
    "# Transformation de cons_Smoke variable ordinale\n",
    "#-------------------------------------------------\n",
    "\n",
    "df_sante <- df_sante %>%\n",
    "\n",
    "  mutate(\n",
    "    lifestyle_smokeFreq = if_else(\n",
    "      lifestyle_smokeFreq == 0,\n",
    "      0,\n",
    "      if_else(\n",
    "        lifestyle_smokeFreq == 0.1667 | lifestyle_smokeFreq == 0.3333 | lifestyle_smokeFreq == 0.5 | lifestyle_smokeFreq == 0.6667,\n",
    "        0.5,\n",
    "        1\n",
    "      )\n",
    "    )\n",
    "  )"
   ]
  },
  {
   "cell_type": "code",
   "execution_count": 6,
   "metadata": {
    "vscode": {
     "languageId": "r"
    }
   },
   "outputs": [],
   "source": [
    "variables_sante_clust <- c(\n",
    "  \"id\",\n",
    "  \"lifestyle_eatMeatFreq\",\n",
    "  \"lifestyle_favAlcoolRedWine\",\n",
    "  \"lifestyle_favAlcoolWhiteWine\",\n",
    "  \"lifestyle_favAlcoolRoseWine\",\n",
    "  \"lifestyle_favAlcoolSpirits\",\n",
    "  \"lifestyle_favAlcoolBubbleDrink\",\n",
    "  \"lifestyle_favAlcoolBeer\",\n",
    "  \"lifestyle_favAlcoolMicroBeer\",\n",
    "  \"lifestyle_favAlcoolCocktail\",\n",
    "  \"lifestyle_favAlcoolDontDrink\",\n",
    "  \"lifestyle_smokeFreq\"\n",
    ")"
   ]
  },
  {
   "cell_type": "code",
   "execution_count": 7,
   "metadata": {
    "vscode": {
     "languageId": "r"
    }
   },
   "outputs": [
    {
     "name": "stdout",
     "output_type": "stream",
     "text": [
      "Table pour la variable: lifestyle_eatMeatFreq \n",
      "\n",
      "    0   0.5     1 \n",
      " 8287 21934 12855 \n",
      "\n",
      "\n",
      "Table pour la variable: lifestyle_favAlcoolRedWine \n",
      "\n",
      "    0     1 \n",
      "36712  6364 \n",
      "\n",
      "\n",
      "Table pour la variable: lifestyle_favAlcoolWhiteWine \n",
      "\n",
      "    0     1 \n",
      "37546  5530 \n",
      "\n",
      "\n",
      "Table pour la variable: lifestyle_favAlcoolRoseWine \n",
      "\n",
      "    0     1 \n",
      "42048  1028 \n",
      "\n",
      "\n",
      "Table pour la variable: lifestyle_favAlcoolSpirits \n",
      "\n",
      "    0     1 \n",
      "39500  3576 \n",
      "\n",
      "\n",
      "Table pour la variable: lifestyle_favAlcoolBubbleDrink \n",
      "\n",
      "    0     1 \n",
      "41796  1280 \n",
      "\n",
      "\n",
      "Table pour la variable: lifestyle_favAlcoolBeer \n",
      "\n",
      "    0     1 \n",
      "37720  5356 \n",
      "\n",
      "\n",
      "Table pour la variable: lifestyle_favAlcoolMicroBeer \n",
      "\n",
      "    0     1 \n",
      "38637  4439 \n",
      "\n",
      "\n",
      "Table pour la variable: lifestyle_favAlcoolCocktail \n",
      "\n",
      "    0     1 \n",
      "37731  5345 \n",
      "\n",
      "\n",
      "Table pour la variable: lifestyle_favAlcoolDontDrink \n",
      "\n",
      "    0     1 \n",
      "32918 10158 \n",
      "\n",
      "\n",
      "Table pour la variable: lifestyle_smokeFreq \n",
      "\n",
      "    0   0.5     1 \n",
      "36162  1061  5415 \n",
      "\n",
      "\n"
     ]
    }
   ],
   "source": [
    "# Boucle pour afficher la table pour chaque variable\n",
    "for (v in variables_sante_clust) {\n",
    "  if (v != \"id\") {\n",
    "    cat(\"Table pour la variable:\", v, \"\\n\")\n",
    "    print(table(df_sante[[v]]))\n",
    "    cat(\"\\n\\n\")\n",
    "  }\n",
    "}"
   ]
  },
  {
   "cell_type": "code",
   "execution_count": 8,
   "metadata": {
    "vscode": {
     "languageId": "r"
    }
   },
   "outputs": [],
   "source": [
    "# Sauvegarder les données préparées\n",
    "saveRDS(df_sante, file = \"../../_PrivateFolder_datagotchi_federal_2025/data/clustering/can2025/02_app_2025_sante.rds\")"
   ]
  },
  {
   "cell_type": "markdown",
   "metadata": {},
   "source": [
    "---"
   ]
  },
  {
   "cell_type": "markdown",
   "metadata": {},
   "source": [
    "# SUGGESTION : Activité de Clustering\n",
    "\n",
    "Si souhaité, effectuer un exercice de clustering avec ce sous-groupe de variables pour mieux saisir les données et leur relation. \n",
    "\n",
    "Cet exercice est purement exploratoire et sert à voir si les données peuvent être utilisées pour faire du clustering."
   ]
  }
 ],
 "metadata": {
  "kernelspec": {
   "display_name": "R",
   "language": "R",
   "name": "ir"
  },
  "language_info": {
   "codemirror_mode": "r",
   "file_extension": ".r",
   "mimetype": "text/x-r-source",
   "name": "R",
   "pygments_lexer": "r",
   "version": "4.4.1"
  }
 },
 "nbformat": 4,
 "nbformat_minor": 2
}
