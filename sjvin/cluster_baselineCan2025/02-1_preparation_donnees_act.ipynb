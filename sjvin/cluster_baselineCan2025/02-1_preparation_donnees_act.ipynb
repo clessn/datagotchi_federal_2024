{
 "cells": [
  {
   "cell_type": "markdown",
   "metadata": {},
   "source": [
    "# Préparation des variables pour les variables d'activités "
   ]
  },
  {
   "cell_type": "code",
   "execution_count": 2,
   "metadata": {
    "vscode": {
     "languageId": "r"
    }
   },
   "outputs": [
    {
     "ename": "ERROR",
     "evalue": "\u001b[1m\u001b[33mError\u001b[39m in `select()`:\u001b[22m\n\u001b[1m\u001b[22m\u001b[36mi\u001b[39m In argument: `all_of(variables_act)`.\n\u001b[1mCaused by error in `all_of()`:\u001b[22m\n\u001b[33m!\u001b[39m Can't subset elements that don't exist.\n\u001b[31mx\u001b[39m Elements `lifestyle_exerciseGym`, `lifestyle_exerciseTeamSport`, `lifestyle_exerciseWalk`, `lifestyle_exerciseRun`, `lifestyle_exerciseYoga`, etc. don't exist.\n",
     "output_type": "error",
     "traceback": [
      "\u001b[1m\u001b[33mError\u001b[39m in `select()`:\u001b[22m\n\u001b[1m\u001b[22m\u001b[36mi\u001b[39m In argument: `all_of(variables_act)`.\n\u001b[1mCaused by error in `all_of()`:\u001b[22m\n\u001b[33m!\u001b[39m Can't subset elements that don't exist.\n\u001b[31mx\u001b[39m Elements `lifestyle_exerciseGym`, `lifestyle_exerciseTeamSport`, `lifestyle_exerciseWalk`, `lifestyle_exerciseRun`, `lifestyle_exerciseYoga`, etc. don't exist.\nTraceback:\n",
      "1. select(., all_of(variables_act))",
      "2. select.data.frame(., all_of(variables_act))",
      "3. tidyselect::eval_select(expr(c(...)), data = .data, error_call = error_call)",
      "4. eval_select_impl(data, names(data), as_quosure(expr, env), include = include, \n .     exclude = exclude, strict = strict, name_spec = name_spec, \n .     allow_rename = allow_rename, allow_empty = allow_empty, allow_predicates = allow_predicates, \n .     error_call = error_call, )",
      "5. with_subscript_errors(out <- vars_select_eval(vars, expr, strict = strict, \n .     data = x, name_spec = name_spec, uniquely_named = uniquely_named, \n .     allow_rename = allow_rename, allow_empty = allow_empty, allow_predicates = allow_predicates, \n .     type = type, error_call = error_call), type = type)",
      "6. withCallingHandlers(expr, vctrs_error_subscript = function(cnd) {\n .     cnd$subscript_action <- subscript_action(type)\n .     cnd$subscript_elt <- \"column\"\n .     cnd_signal(cnd)\n . })",
      "7. vars_select_eval(vars, expr, strict = strict, data = x, name_spec = name_spec, \n .     uniquely_named = uniquely_named, allow_rename = allow_rename, \n .     allow_empty = allow_empty, allow_predicates = allow_predicates, \n .     type = type, error_call = error_call)",
      "8. walk_data_tree(expr, data_mask, context_mask)",
      "9. eval_c(expr, data_mask, context_mask)",
      "10. reduce_sels(node, data_mask, context_mask, init = init)",
      "11. walk_data_tree(new, data_mask, context_mask)",
      "12. eval_context(expr, context_mask, call = error_call)",
      "13. with_chained_errors(eval_tidy(as_quosure(expr, env), context_mask), \n  .     call = call, eval_expr = expr)",
      "14. withCallingHandlers(expr, error = function(cnd) {\n  .     eval_expr <- quo_squash(eval_expr)\n  .     if (!is_call(eval_expr) || identical(cnd[[\"call\"]], call2(eval_expr[[1]]))) {\n  .         msg <- \"\"\n  .     }\n  .     else {\n  .         code <- as_label(eval_expr)\n  .         msg <- cli::format_inline(\"In argument: {.code {code}}.\")\n  .     }\n  .     cli::cli_abort(c(i = msg), call = call, parent = cnd)\n  . })",
      "15. eval_tidy(as_quosure(expr, env), context_mask)",
      "16. all_of(variables_act)",
      "17. as_indices_impl(x, vars = vars, strict = TRUE)",
      "18. chr_as_locations(x, vars, call = call, arg = arg)",
      "19. vctrs::vec_as_location(x, n = length(vars), names = vars, call = call, \n  .     arg = arg)",
      "20. (function () \n  . stop_subscript_oob(i = i, subscript_type = subscript_type, names = names, \n  .     subscript_action = subscript_action, subscript_arg = subscript_arg, \n  .     call = call))()",
      "21. stop_subscript_oob(i = i, subscript_type = subscript_type, names = names, \n  .     subscript_action = subscript_action, subscript_arg = subscript_arg, \n  .     call = call)",
      "22. stop_subscript(class = \"vctrs_error_subscript_oob\", i = i, subscript_type = subscript_type, \n  .     ..., call = call)",
      "23. abort(class = c(class, \"vctrs_error_subscript\"), i = i, ..., \n  .     call = call)",
      "24. signal_abort(cnd, .file)",
      "25. signalCondition(cnd)",
      "26. (function (cnd) \n  . {\n  .     eval_expr <- quo_squash(eval_expr)\n  .     if (!is_call(eval_expr) || identical(cnd[[\"call\"]], call2(eval_expr[[1]]))) {\n  .         msg <- \"\"\n  .     }\n  .     else {\n  .         code <- as_label(eval_expr)\n  .         msg <- cli::format_inline(\"In argument: {.code {code}}.\")\n  .     }\n  .     cli::cli_abort(c(i = msg), call = call, parent = cnd)\n  . })(structure(list(message = \"\", trace = structure(list(call = list(\n  .     IRkernel::main(), kernel$run(), handle_shell(), executor$execute(msg), \n  .     tryCatch(evaluate(request$content$code, envir = .GlobalEnv, \n  .         output_handler = oh, stop_on_error = 1L), interrupt = function(cond) {\n  .         log_debug(\"Interrupt during execution\")\n  .         interrupted <<- TRUE\n  .     }, error = .self$handle_error), tryCatchList(expr, classes, \n  .         parentenv, handlers), tryCatchOne(tryCatchList(expr, \n  .         names[-nh], parentenv, handlers[-nh]), names[nh], parentenv, \n  .         handlers[[nh]]), doTryCatch(return(expr), name, parentenv, \n  .         handler), tryCatchList(expr, names[-nh], parentenv, handlers[-nh]), \n  .     tryCatchOne(expr, names, parentenv, handlers[[1L]]), doTryCatch(return(expr), \n  .         name, parentenv, handler), evaluate(request$content$code, \n  .         envir = .GlobalEnv, output_handler = oh, stop_on_error = 1L), \n  .     withRestarts(with_handlers({\n  .         for (expr in tle$exprs) {\n  .             ev <- withVisible(eval(expr, envir))\n  .             watcher$capture_plot_and_output()\n  .             watcher$print_value(ev$value, ev$visible, envir)\n  .         }\n  .         TRUE\n  .     }, handlers), eval_continue = function() TRUE, eval_stop = function() FALSE, \n  .         eval_error = function(cnd) {\n  .             signalCondition(cnd)\n  .             stop(cnd)\n  .         }), withRestartList(expr, restarts), withOneRestart(withRestartList(expr, \n  .         restarts[-nr]), restarts[[nr]]), doWithOneRestart(return(expr), \n  .         restart), withRestartList(expr, restarts[-nr]), withOneRestart(withRestartList(expr, \n  .         restarts[-nr]), restarts[[nr]]), doWithOneRestart(return(expr), \n  .         restart), withRestartList(expr, restarts[-nr]), withOneRestart(expr, \n  .         restarts[[1L]]), doWithOneRestart(return(expr), restart), \n  .     with_handlers({\n  .         for (expr in tle$exprs) {\n  .             ev <- withVisible(eval(expr, envir))\n  .             watcher$capture_plot_and_output()\n  .             watcher$print_value(ev$value, ev$visible, envir)\n  .         }\n  .         TRUE\n  .     }, handlers), eval(call), eval(call), withCallingHandlers(code, \n  .         message = `<fn>`, warning = `<fn>`, error = `<fn>`), \n  .     withVisible(eval(expr, envir)), eval(expr, envir), eval(expr, \n  .         envir), DataPilot %>% select(all_of(variables_act)), \n  .     select(., all_of(variables_act)), select.data.frame(., all_of(variables_act)), \n  .     tidyselect::eval_select(expr(c(...)), data = .data, error_call = error_call), \n  .     eval_select_impl(data, names(data), as_quosure(expr, env), \n  .         include = include, exclude = exclude, strict = strict, \n  .         name_spec = name_spec, allow_rename = allow_rename, allow_empty = allow_empty, \n  .         allow_predicates = allow_predicates, error_call = error_call, \n  .         ), with_subscript_errors(out <- vars_select_eval(vars, \n  .         expr, strict = strict, data = x, name_spec = name_spec, \n  .         uniquely_named = uniquely_named, allow_rename = allow_rename, \n  .         allow_empty = allow_empty, allow_predicates = allow_predicates, \n  .         type = type, error_call = error_call), type = type), \n  .     withCallingHandlers(expr, vctrs_error_subscript = function(cnd) {\n  .         cnd$subscript_action <- subscript_action(type)\n  .         cnd$subscript_elt <- \"column\"\n  .         cnd_signal(cnd)\n  .     }), vars_select_eval(vars, expr, strict = strict, data = x, \n  .         name_spec = name_spec, uniquely_named = uniquely_named, \n  .         allow_rename = allow_rename, allow_empty = allow_empty, \n  .         allow_predicates = allow_predicates, type = type, error_call = error_call), \n  .     walk_data_tree(expr, data_mask, context_mask), eval_c(expr, \n  .         data_mask, context_mask), reduce_sels(node, data_mask, \n  .         context_mask, init = init), walk_data_tree(new, data_mask, \n  .         context_mask), eval_context(expr, context_mask, call = error_call), \n  .     with_chained_errors(eval_tidy(as_quosure(expr, env), context_mask), \n  .         call = call, eval_expr = expr), withCallingHandlers(expr, \n  .         error = function(cnd) {\n  .             eval_expr <- quo_squash(eval_expr)\n  .             if (!is_call(eval_expr) || identical(cnd[[\"call\"]], \n  .                 call2(eval_expr[[1]]))) {\n  .                 msg <- \"\"\n  .             }\n  .             else {\n  .                 code <- as_label(eval_expr)\n  .                 msg <- cli::format_inline(\"In argument: {.code {code}}.\")\n  .             }\n  .             cli::cli_abort(c(i = msg), call = call, parent = cnd)\n  .         }), eval_tidy(as_quosure(expr, env), context_mask), all_of(variables_act), \n  .     as_indices_impl(x, vars = vars, strict = TRUE), chr_as_locations(x, \n  .         vars, call = call, arg = arg), vctrs::vec_as_location(x, \n  .         n = length(vars), names = vars, call = call, arg = arg), \n  .     `<fn>`(), stop_subscript_oob(i = i, subscript_type = subscript_type, \n  .         names = names, subscript_action = subscript_action, subscript_arg = subscript_arg, \n  .         call = call), stop_subscript(class = \"vctrs_error_subscript_oob\", \n  .         i = i, subscript_type = subscript_type, ..., call = call), \n  .     abort(class = c(class, \"vctrs_error_subscript\"), i = i, ..., \n  .         call = call)), parent = c(0L, 1L, 2L, 3L, 4L, 5L, 6L, \n  . 7L, 6L, 9L, 10L, 4L, 12L, 13L, 14L, 15L, 14L, 17L, 18L, 17L, \n  . 20L, 21L, 12L, 23L, 24L, 23L, 12L, 12L, 28L, 0L, 0L, 0L, 32L, \n  . 33L, 34L, 35L, 34L, 37L, 38L, 39L, 40L, 41L, 42L, 43L, 42L, 0L, \n  . 46L, 47L, 48L, 0L, 50L, 51L, 52L), visible = c(TRUE, TRUE, TRUE, \n  . TRUE, TRUE, TRUE, TRUE, TRUE, TRUE, TRUE, TRUE, TRUE, TRUE, TRUE, \n  . TRUE, TRUE, TRUE, TRUE, TRUE, TRUE, TRUE, TRUE, TRUE, TRUE, TRUE, \n  . TRUE, TRUE, TRUE, TRUE, TRUE, TRUE, TRUE, TRUE, TRUE, TRUE, TRUE, \n  . TRUE, TRUE, TRUE, TRUE, TRUE, TRUE, TRUE, TRUE, TRUE, TRUE, FALSE, \n  . FALSE, FALSE, FALSE, FALSE, FALSE, FALSE), namespace = c(\"IRkernel\", \n  . NA, \"IRkernel\", NA, \"base\", \"base\", \"base\", \"base\", \"base\", \"base\", \n  . \"base\", \"evaluate\", \"base\", \"base\", \"base\", \"base\", \"base\", \"base\", \n  . \"base\", \"base\", \"base\", \"base\", \"evaluate\", \"base\", \"base\", \"base\", \n  . \"base\", \"base\", \"base\", NA, \"dplyr\", \"dplyr\", \"tidyselect\", \"tidyselect\", \n  . \"tidyselect\", \"base\", \"tidyselect\", \"tidyselect\", \"tidyselect\", \n  . \"tidyselect\", \"tidyselect\", \"tidyselect\", \"tidyselect\", \"base\", \n  . \"rlang\", \"tidyselect\", \"tidyselect\", \"tidyselect\", \"vctrs\", \"vctrs\", \n  . \"vctrs\", \"vctrs\", \"rlang\"), scope = c(\"::\", NA, \"local\", NA, \n  . \"::\", \"local\", \"local\", \"local\", \"local\", \"local\", \"local\", \"::\", \n  . \"::\", \"local\", \"local\", \"local\", \"local\", \"local\", \"local\", \"local\", \n  . \"local\", \"local\", \":::\", \"::\", \"::\", \"::\", \"::\", \"::\", \"::\", \n  . NA, \"::\", \":::\", \"::\", \":::\", \":::\", \"::\", \":::\", \":::\", \":::\", \n  . \":::\", \":::\", \":::\", \":::\", \"::\", \"::\", \"::\", \":::\", \":::\", \"::\", \n  . \"local\", \":::\", \":::\", \"::\"), error_frame = c(FALSE, FALSE, FALSE, \n  . FALSE, FALSE, FALSE, FALSE, FALSE, FALSE, FALSE, FALSE, FALSE, \n  . FALSE, FALSE, FALSE, FALSE, FALSE, FALSE, FALSE, FALSE, FALSE, \n  . FALSE, FALSE, FALSE, FALSE, FALSE, FALSE, FALSE, FALSE, FALSE, \n  . FALSE, FALSE, FALSE, FALSE, FALSE, FALSE, FALSE, FALSE, FALSE, \n  . FALSE, FALSE, FALSE, FALSE, FALSE, FALSE, TRUE, FALSE, FALSE, \n  . FALSE, FALSE, FALSE, FALSE, FALSE)), row.names = c(NA, -53L), version = 2L, class = c(\"rlang_trace\", \n  . \"rlib_trace\", \"tbl\", \"data.frame\")), parent = NULL, i = c(\"id\", \n  . \"lifestyle_exerciseGym\", \"lifestyle_exerciseTeamSport\", \"lifestyle_exerciseWalk\", \n  . \"lifestyle_exerciseRun\", \"lifestyle_exerciseYoga\", \"lifestyle_exerciseSwim\", \n  . \"lifestyle_exerciseOther\", \"lifestyle_exerciseNone\", \"lifestyle_goFishingFreq\", \n  . \"lifestyle_goHuntingFreq\", \"lifestyle_goMuseumsFreq\", \"lifestyle_motorizedActFreq\", \n  . \"lifestyle_volunteeringFreq\"), subscript_type = \"character\", \n  .     names = c(\"id\", \"act_Gym\", \"act_Walk\", \"act_Run\", \"act_Yoga\", \n  .     \"act_Other\", \"act_None\", \"act_Fishing\", \"act_Hunting\", \"act_VisitsMuseumsGaleries\", \n  .     \"act_MotorizedOutdoorActivities\", \"act_Volunteering\", \"app_swag_Formel\", \n  .     \"app_swag_Classique\", \"app_swag_Casual\", \"app_swag_Sport\", \n  .     \"app_swag_Chic\", \"app_swag_HippBoheme\", \"app_swag_Punk\", \n  .     \"app_swag_Rock\", \"app_swag_Other\", \"app_noTattoo\", \"animal_cat\", \n  .     \"animal_dog\", \"animal_domestic\", \"animal_farm\", \"animal_noPet\", \n  .     \"cons_meat_never\", \"cons_meat_almost_never\", \"cons_meat_once_month\", \n  .     \"cons_meat_once_week\", \"cons_meat_few_week\", \"cons_meat_daily\", \n  .     \"cons_meat_few_daily\", \"cons_redWineDrink\", \"cons_whiteWineDrink\", \n  .     \"cons_roseDrink\", \"cons_spiritDrink\", \"cons_bubbleDrink\", \n  .     \"cons_beerDrink\", \"cons_microDrink\", \"cons_cocktailDrink\", \n  .     \"cons_noDrink\", \"cons_Smoke_never\", \"cons_Smoke_few_times_year\", \n  .     \"cons_Smoke_month\", \"cons_Smoke_once_week\", \"cons_Smoke_few_times_week\", \n  .     \"cons_Smoke_once_day\", \"cons_Smoke_few_times_day\", \"ses_dwelling_App\", \n  .     \"ses_dwelling_Loft\", \"ses_dwelling_Condo\", \"ses_dwelling_Tour\", \n  .     \"ses_dwelling_detachedHouse\", \"ses_dwelling_townHouse\", \"ses_dwelling_Coop\", \n  .     \"ses_dwelling_HLM\", \"ses_dwelling_Mobile\", \"ses_dwelling_Other\", \n  .     \"act_transport_Car\", \"act_transport_SUV\", \"act_transport_Moto\", \n  .     \"act_transport_Walk\", \"act_transport_Bicycle\", \"act_transport_PublicTransportation\", \n  .     \"vehicule_4x4\", \"vehicule_Berline\", \"vehicule_Cabriolet\", \n  .     \"vehicule_PickUp\", \"vehicule_Van\", \"vehicule_luxury\", \"vehicule_sport\", \n  .     \"vehicule_electric\", \"vehicule_VUS\", \"vehicule_other\", \"vehicule_noCar\", \n  .     \"cons_brand_MaR\", \"cons_brand_BInd\", \"cons_brand_ChainesB\", \n  .     \"cons_brand_GSurf\", \"cons_brand_OnlineOnly\", \"cons_brand_Frip\", \n  .     \"cons_brand_Other\", \"cons_coffee_TimH\", \"cons_coffee_Starbucks\", \n  .     \"cons_coffee_SC\", \"cons_coffee_McDo\", \"cons_coffee_Other\", \n  .     \"cons_coffee_place_ind\", \"male\", \"female\", \"age34m\", \"age3554\", \n  .     \"age55p\", \"langEn\", \"langFr\", \"ses_languageOther\", \"educBHS\", \n  .     \"educCollege\", \"educUniv\", \"ses_income_None\", \"ses_income_i1to30\", \n  .     \"ses_income_i31to60\", \"ses_income_i61to90\", \"ses_income_i91to110\", \n  .     \"ses_income_i111to150\", \"ses_income_i151to200\", \"ses_income_i201toInf\", \n  .     \"immigrant\", \"ses_ethn_White\", \"ses_ethn_Black\", \"ses_ethn_Other\", \n  .     \"ses_hetero\", \"ses_gai\", \"ses_bisex\", \"ses_sexOri_other\", \n  .     \"op_intent\", \"op_intent_CAQ\", \"op_intent_PQ\", \"op_intent_PLQ\", \n  .     \"op_intent_QS\", \"op_intent_PCQ\", \"op_intent_Other\"), subscript_action = NULL, \n  .     subscript_arg = \"\", rlang = list(inherit = TRUE), call = all_of(variables_act)), class = c(\"vctrs_error_subscript_oob\", \n  . \"vctrs_error_subscript\", \"rlang_error\", \"error\", \"condition\")))",
      "27. cli::cli_abort(c(i = msg), call = call, parent = cnd)",
      "28. rlang::abort(message, ..., call = call, use_cli_format = TRUE, \n  .     .frame = .frame)",
      "29. signal_abort(cnd, .file)",
      "30. signalCondition(cnd)"
     ]
    }
   ],
   "source": [
    "library(tidyverse)\n",
    "library(factoextra)\n",
    "\n",
    "# Charger les données\n",
    "DataPilot <- readRDS(\"../../_PrivateFolder_datagotchi_federal_2025/data/clustering/qc2022/01_pilot1_2022.rds\")\n",
    "\n",
    "# Charger le fichier des variables\n",
    "source(\"01-1_variables.R\")\n",
    "\n",
    "# Préparation du jeu de données pour les variables d'activités\n",
    "df_act <- DataPilot %>%\n",
    "  select(all_of(variables_act))"
   ]
  },
  {
   "cell_type": "code",
   "execution_count": null,
   "metadata": {
    "vscode": {
     "languageId": "r"
    }
   },
   "outputs": [],
   "source": [
    "# Boucle pour afficher la table pour chaque variable\n",
    "for (v in variables_act) {\n",
    "  if (v != \"id\") {\n",
    "    cat(\"Table pour la variable:\", v, \"\\n\")\n",
    "    print(table(df_act[[v]]))\n",
    "    cat(\"\\n\\n\")\n",
    "  }\n",
    "}\n"
   ]
  },
  {
   "cell_type": "markdown",
   "metadata": {},
   "source": [
    "### Transformations\n",
    "\n",
    "Transformer les variables ordinales pour un regroupement avec des sous-groupes de cardinalité plus adéquate pour\n",
    "la représentativité de la population.\n",
    "\n",
    "Les variables ordinales dénotent une intensité d'opinion (0, 0.25, 0.5, 0.75, 1)\n",
    "\n",
    "Comme les 1 sont peu nombreux, il semble avantageux de transformer les variables en 0, 0.5 et 1 où\n",
    "\n",
    "- 0.25 est intégré à 0.5\n",
    "- 0.75 est intégré à 1"
   ]
  },
  {
   "cell_type": "code",
   "execution_count": null,
   "metadata": {
    "vscode": {
     "languageId": "r"
    }
   },
   "outputs": [],
   "source": [
    "# S'assurer que les variables ont le bon type\n",
    "df_act$act_Gym <- as.numeric(df_act$act_Gym)\n",
    "df_act$act_Walk <- as.numeric(df_act$act_Walk)\n",
    "df_act$act_Run <- as.numeric(df_act$act_Run)\n",
    "df_act$act_Yoga <- as.numeric(df_act$act_Yoga)\n",
    "df_act$act_Other <- as.numeric(df_act$act_Other)\n",
    "df_act$act_None <- as.numeric(df_act$act_None)"
   ]
  },
  {
   "cell_type": "code",
   "execution_count": null,
   "metadata": {
    "vscode": {
     "languageId": "r"
    }
   },
   "outputs": [],
   "source": [
    "df_act$act_Fishing <- ifelse(df_act$act_Fishing == 0.25, 0.5, ifelse(df_act$act_Fishing == 0.75, 1, df_act$act_Fishing))\n",
    "df_act$act_Hunting <- ifelse(df_act$act_Hunting == 0.25, 0.5, ifelse(df_act$act_Hunting == 0.75, 1, df_act$act_Hunting))\n",
    "df_act$act_VisitsMuseumsGaleries <- ifelse(df_act$act_VisitsMuseumsGaleries == 0.25, 0.5, ifelse(df_act$act_VisitsMuseumsGaleries == 0.75, 1, df_act$act_VisitsMuseumsGaleries))\n",
    "df_act$act_MotorizedOutdoorActivities <- ifelse(df_act$act_MotorizedOutdoorActivities == 0.25, 0.5, ifelse(df_act$act_MotorizedOutdoorActivities == 0.75, 1, df_act$act_MotorizedOutdoorActivities))\n",
    "df_act$act_Volunteering <- ifelse(df_act$act_Volunteering == 0.25, 0.5, ifelse(df_act$act_Volunteering == 0.75, 1, df_act$act_Volunteering))\n"
   ]
  },
  {
   "cell_type": "code",
   "execution_count": null,
   "metadata": {
    "vscode": {
     "languageId": "r"
    }
   },
   "outputs": [],
   "source": [
    "str(df_act)"
   ]
  },
  {
   "cell_type": "code",
   "execution_count": null,
   "metadata": {
    "vscode": {
     "languageId": "r"
    }
   },
   "outputs": [],
   "source": [
    "variables_act_clust <- c(\n",
    "  \"id\",\n",
    "  \"act_Gym\",\n",
    "  \"act_Walk\",\n",
    "  \"act_Run\",\n",
    "  \"act_Yoga\",\n",
    "  \"act_Other\",\n",
    "  \"act_None\",\n",
    "  \"act_Fishing\",\n",
    "  \"act_Hunting\",\n",
    "  \"act_VisitsMuseumsGaleries\",\n",
    "  \"act_MotorizedOutdoorActivities\",\n",
    "  \"act_Volunteering\"\n",
    ")"
   ]
  },
  {
   "cell_type": "code",
   "execution_count": null,
   "metadata": {
    "vscode": {
     "languageId": "r"
    }
   },
   "outputs": [],
   "source": [
    "# Boucle pour afficher la table pour chaque variable\n",
    "for (v in variables_act_clust) {\n",
    "  if (v != \"id\") {\n",
    "    cat(\"Table pour la variable:\", v, \"\\n\")\n",
    "    print(table(df_act[[v]]))\n",
    "    cat(\"\\n\\n\")\n",
    "  }\n",
    "}"
   ]
  },
  {
   "cell_type": "code",
   "execution_count": null,
   "metadata": {
    "vscode": {
     "languageId": "r"
    }
   },
   "outputs": [],
   "source": [
    "# Sauvegarder les données préparées\n",
    "saveRDS(df_act, file = \"../../_PrivateFolder_datagotchi_federal_2025/data/clustering/qc2022/02_pilot1_2022_act.rds\")"
   ]
  },
  {
   "cell_type": "markdown",
   "metadata": {},
   "source": [
    "---"
   ]
  },
  {
   "cell_type": "markdown",
   "metadata": {},
   "source": [
    "# SUGGESTION : Activité de Clustering\n",
    "\n",
    "Si souhaité, effectuer un exercice de clustering avec ce sous-groupe de variables pour mieux saisir les données et leur relation. \n",
    "\n",
    "Cet exercice est purement exploratoire et sert à voir si les données peuvent être utilisées pour faire du clustering."
   ]
  }
 ],
 "metadata": {
  "kernelspec": {
   "display_name": "R",
   "language": "R",
   "name": "ir"
  },
  "language_info": {
   "codemirror_mode": "r",
   "file_extension": ".r",
   "mimetype": "text/x-r-source",
   "name": "R",
   "pygments_lexer": "r",
   "version": "4.4.2"
  }
 },
 "nbformat": 4,
 "nbformat_minor": 2
}
