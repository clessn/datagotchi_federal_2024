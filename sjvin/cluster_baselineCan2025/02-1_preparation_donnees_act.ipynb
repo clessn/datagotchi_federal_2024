{
 "cells": [
  {
   "cell_type": "markdown",
   "metadata": {},
   "source": [
    "# Préparation des variables pour les variables d'activités "
   ]
  },
  {
   "cell_type": "code",
   "execution_count": 17,
   "metadata": {
    "vscode": {
     "languageId": "r"
    }
   },
   "outputs": [],
   "source": [
    "library(tidyverse)\n",
    "library(factoextra)\n",
    "\n",
    "# Charger les données\n",
    "DataPilot <- readRDS(\"../../_PrivateFolder_datagotchi_federal_2025/data/clustering/can2025/01_pilot_2025.rds\")\n",
    "\n",
    "# Charger le fichier des variables\n",
    "source(\"01-1_variables.R\")\n",
    "\n",
    "# Préparation du jeu de données pour les variables d'activités\n",
    "df_act <- DataPilot %>%\n",
    "  select(all_of(variables_act))"
   ]
  },
  {
   "cell_type": "code",
   "execution_count": 18,
   "metadata": {
    "vscode": {
     "languageId": "r"
    }
   },
   "outputs": [
    {
     "name": "stdout",
     "output_type": "stream",
     "text": [
      "Table pour la variable: lifestyle_exerciseGym \n",
      "\n",
      "  0   1 \n",
      "850 171 \n",
      "\n",
      "\n",
      "Table pour la variable: lifestyle_exerciseTeamSport \n",
      "\n",
      "  0   1 \n",
      "963  58 \n",
      "\n",
      "\n",
      "Table pour la variable: lifestyle_exerciseWalk \n",
      "\n",
      "  0   1 \n",
      "504 517 \n",
      "\n",
      "\n",
      "Table pour la variable: lifestyle_exerciseRun \n",
      "\n",
      "  0   1 \n",
      "976  45 \n",
      "\n",
      "\n",
      "Table pour la variable: lifestyle_exerciseYoga \n",
      "\n",
      "  0   1 \n",
      "999  22 \n",
      "\n",
      "\n",
      "Table pour la variable: lifestyle_exerciseSwim \n",
      "\n",
      "  0   1 \n",
      "999  22 \n",
      "\n",
      "\n",
      "Table pour la variable: lifestyle_exerciseOther \n",
      "\n",
      "  0   1 \n",
      "926  95 \n",
      "\n",
      "\n",
      "Table pour la variable: lifestyle_exerciseNone \n",
      "\n",
      "  0   1 \n",
      "930  91 \n",
      "\n",
      "\n",
      "Table pour la variable: lifestyle_goFishingFreq_numeric \n",
      "\n",
      "   0 0.25  0.5 0.75    1 \n",
      " 587  195  174   47   18 \n",
      "\n",
      "\n",
      "Table pour la variable: lifestyle_goHuntingFreq_numeric \n",
      "\n",
      "   0 0.25  0.5 0.75    1 \n",
      " 846   89   50   27    9 \n",
      "\n",
      "\n",
      "Table pour la variable: lifestyle_goMuseumsFreq_numeric \n",
      "\n",
      "   0 0.25  0.5 0.75    1 \n",
      " 202  260  442   95   22 \n",
      "\n",
      "\n",
      "Table pour la variable: lifestyle_motorizedActFreq_numeric \n",
      "\n",
      "   0 0.25  0.5 0.75    1 \n",
      " 606  203  130   60   22 \n",
      "\n",
      "\n",
      "Table pour la variable: lifestyle_volunteeringFreq_numeric \n",
      "\n",
      "   0 0.25  0.5 0.75    1 \n",
      " 285  263  279  126   68 \n",
      "\n",
      "\n"
     ]
    }
   ],
   "source": [
    "# Boucle pour afficher la table pour chaque variable\n",
    "for (v in variables_act) {\n",
    "  if (v != \"id\") {\n",
    "    cat(\"Table pour la variable:\", v, \"\\n\")\n",
    "    print(table(df_act[[v]]))\n",
    "    cat(\"\\n\\n\")\n",
    "  }\n",
    "}\n"
   ]
  },
  {
   "cell_type": "markdown",
   "metadata": {},
   "source": [
    "### Transformations\n",
    "\n",
    "Transformer les variables ordinales pour un regroupement avec des sous-groupes de cardinalité plus adéquate pour\n",
    "la représentativité de la population.\n",
    "\n",
    "Les variables ordinales dénotent une intensité d'opinion (0, 0.25, 0.5, 0.75, 1)\n",
    "\n",
    "Comme les 1 sont peu nombreux, il semble avantageux de transformer les variables en 0, 0.5 et 1 où\n",
    "\n",
    "- 0.25 est intégré à 0.5\n",
    "- 0.75 est intégré à 1"
   ]
  },
  {
   "cell_type": "code",
   "execution_count": 19,
   "metadata": {
    "vscode": {
     "languageId": "r"
    }
   },
   "outputs": [],
   "source": [
    "# S'assurer que les variables ont le bon type\n",
    "df_act$lifestyle_exerciseGym <- as.numeric(df_act$lifestyle_exerciseGym)\n",
    "df_act$lifestyle_exerciseTeamSport <- as.numeric(df_act$lifestyle_exerciseTeamSport)\n",
    "df_act$lifestyle_exerciseWalk <- as.numeric(df_act$lifestyle_exerciseWalk)\n",
    "df_act$lifestyle_exerciseRun <- as.numeric(df_act$lifestyle_exerciseRun)\n",
    "df_act$lifestyle_exerciseYoga <- as.numeric(df_act$lifestyle_exerciseYoga)\n",
    "df_act$lifestyle_exerciseSwim <- as.numeric(df_act$lifestyle_exerciseSwim)\n",
    "df_act$lifestyle_exerciseOther <- as.numeric(df_act$lifestyle_exerciseOther)\n",
    "df_act$lifestyle_exerciseNone <- as.numeric(df_act$lifestyle_exerciseNone)\n"
   ]
  },
  {
   "cell_type": "code",
   "execution_count": 20,
   "metadata": {
    "vscode": {
     "languageId": "r"
    }
   },
   "outputs": [],
   "source": [
    "df_act$lifestyle_goMuseumsFreq_numeric <- ifelse(df_act$lifestyle_goMuseumsFreq_numeric == 0.25, 0.5,\n",
    "  ifelse(df_act$lifestyle_goMuseumsFreq_numeric == 0.75, 1, df_act$lifestyle_goMuseumsFreq_numeric))\n",
    "df_act$lifestyle_volunteeringFreq_numeric <- ifelse(df_act$lifestyle_volunteeringFreq_numeric == 0.25, 0.5,\n",
    "  ifelse(df_act$lifestyle_volunteeringFreq_numeric == 0.75, 1, df_act$lifestyle_volunteeringFreq_numeric))\n",
    "#df_act$lifestyle_goFishingFreq_numeric <- ifelse(df_act$lifestyle_goFishingFreq_numeric == 0.25, 0.5,\n",
    "#  ifelse(df_act$lifestyle_goFishingFreq_numeric == 0.75, 1, df_act$lifestyle_goFishingFreq_numeric))\n",
    "#df_act$lifestyle_goHuntingFreq_numeric <- ifelse(df_act$lifestyle_goHuntingFreq_numeric == 0.25, 0.5,\n",
    "#  ifelse(df_act$lifestyle_goHuntingFreq_numeric == 0.75, 1, df_act$lifestyle_goHuntingFreq_numeric))\n",
    "#df_act$lifestyle_motorizedActFreq_numeric <- ifelse(df_act$lifestyle_motorizedActFreq_numeric == 0.25, 0.5,\n",
    "#  ifelse(df_act$lifestyle_motorizedActFreq_numeric == 0.75, 1, df_act$lifestyle_motorizedActFreq_numeric))"
   ]
  },
  {
   "cell_type": "code",
   "execution_count": 21,
   "metadata": {
    "vscode": {
     "languageId": "r"
    }
   },
   "outputs": [
    {
     "data": {
      "text/plain": [
       "\n",
       "  0   1 \n",
       "890 131 "
      ]
     },
     "metadata": {},
     "output_type": "display_data"
    },
    {
     "data": {
      "text/plain": [
       "\n",
       "  0   1 \n",
       "442 579 "
      ]
     },
     "metadata": {},
     "output_type": "display_data"
    }
   ],
   "source": [
    "# Binariser Fishing, Hunting et Motorized et les regrouper\n",
    "\n",
    "df_act$lifestyle_goFishingFreq_bin <- ifelse(df_act$lifestyle_goFishingFreq_numeric > 0, 1, 0)\n",
    "df_act$lifestyle_goHuntingFreq_bin <- ifelse(df_act$lifestyle_goHuntingFreq_numeric > 0, 1, 0)\n",
    "df_act$lifestyle_motorizedActFreq_bin <- ifelse(df_act$lifestyle_motorizedActFreq_numeric > 0, 1, 0)\n",
    "\n",
    "df_act$lifestyle_pleinAirFreqAll_bin <- ifelse(\n",
    "  df_act$lifestyle_goFishingFreq_bin == 1 & \n",
    "  df_act$lifestyle_goHuntingFreq_bin == 1 & \n",
    "  df_act$lifestyle_motorizedActFreq_bin == 1, 1, 0\n",
    ")\n",
    "\n",
    "table(df_act$lifestyle_pleinAirFreqAll_bin)\n",
    "\n",
    "df_act$lifestyle_pleinAirFreqSome_bin <- ifelse(\n",
    "  df_act$lifestyle_goFishingFreq_bin == 1 | \n",
    "  df_act$lifestyle_goHuntingFreq_bin == 1 | \n",
    "  df_act$lifestyle_motorizedActFreq_bin == 1, 1, 0\n",
    ")\n",
    "\n",
    "table(df_act$lifestyle_pleinAirFreqSome_bin)"
   ]
  },
  {
   "cell_type": "code",
   "execution_count": 22,
   "metadata": {
    "vscode": {
     "languageId": "r"
    }
   },
   "outputs": [
    {
     "name": "stdout",
     "output_type": "stream",
     "text": [
      "'data.frame':\t1021 obs. of  19 variables:\n",
      " $ id                                : int  1 2 3 4 5 6 7 8 9 11 ...\n",
      " $ lifestyle_exerciseGym             : num  0 0 0 1 0 0 0 0 1 0 ...\n",
      " $ lifestyle_exerciseTeamSport       : num  0 0 0 0 0 0 0 0 0 0 ...\n",
      " $ lifestyle_exerciseWalk            : num  1 1 0 0 0 0 1 1 0 0 ...\n",
      " $ lifestyle_exerciseRun             : num  0 0 1 0 0 0 0 0 0 0 ...\n",
      " $ lifestyle_exerciseYoga            : num  0 0 0 0 0 0 0 0 0 0 ...\n",
      " $ lifestyle_exerciseSwim            : num  0 0 0 0 0 0 0 0 0 0 ...\n",
      " $ lifestyle_exerciseOther           : num  0 0 0 0 0 0 0 0 0 1 ...\n",
      " $ lifestyle_exerciseNone            : num  0 0 0 0 1 1 0 0 0 0 ...\n",
      " $ lifestyle_goFishingFreq_numeric   : num  0.25 0 0.25 0 0 0 0 0.5 0.25 0.25 ...\n",
      " $ lifestyle_goHuntingFreq_numeric   : num  0 0 0.25 0 0 0 0 0 0 0.25 ...\n",
      " $ lifestyle_goMuseumsFreq_numeric   : num  0.5 0.5 0 0.5 0 0 0.5 0.5 0.5 0.5 ...\n",
      " $ lifestyle_motorizedActFreq_numeric: num  0 0 1 0.25 0.25 0 0 0.5 0 0 ...\n",
      " $ lifestyle_volunteeringFreq_numeric: num  0.5 0.5 0.5 0.5 0 0 0.5 0.5 0 0.5 ...\n",
      " $ lifestyle_goFishingFreq_bin       : num  1 0 1 0 0 0 0 1 1 1 ...\n",
      " $ lifestyle_goHuntingFreq_bin       : num  0 0 1 0 0 0 0 0 0 1 ...\n",
      " $ lifestyle_motorizedActFreq_bin    : num  0 0 1 1 1 0 0 1 0 0 ...\n",
      " $ lifestyle_pleinAirFreqAll_bin     : num  0 0 1 0 0 0 0 0 0 0 ...\n",
      " $ lifestyle_pleinAirFreqSome_bin    : num  1 0 1 1 1 0 0 1 1 1 ...\n"
     ]
    }
   ],
   "source": [
    "str(df_act)"
   ]
  },
  {
   "cell_type": "code",
   "execution_count": 23,
   "metadata": {
    "vscode": {
     "languageId": "r"
    }
   },
   "outputs": [],
   "source": [
    "variables_act_clust <- c(\n",
    "  \"id\",\n",
    "  \"lifestyle_exerciseGym\",\n",
    "  \"lifestyle_exerciseTeamSport\",\n",
    "  \"lifestyle_exerciseWalk\",\n",
    "  \"lifestyle_exerciseRun\",\n",
    "  \"lifestyle_exerciseYoga\",\n",
    "  \"lifestyle_exerciseSwim\",\n",
    "  \"lifestyle_exerciseOther\",\n",
    "  \"lifestyle_exerciseNone\",\n",
    "  \"lifestyle_goMuseumsFreq_numeric\",\n",
    "  \"lifestyle_pleinAirFreqAll_bin\",\n",
    "  \"lifestyle_pleinAirFreqSome_bin\",\n",
    "  \"lifestyle_volunteeringFreq_numeric\"\n",
    ")"
   ]
  },
  {
   "cell_type": "code",
   "execution_count": 24,
   "metadata": {
    "vscode": {
     "languageId": "r"
    }
   },
   "outputs": [
    {
     "name": "stdout",
     "output_type": "stream",
     "text": [
      "Table pour la variable: lifestyle_exerciseGym \n",
      "\n",
      "  0   1 \n",
      "850 171 \n",
      "\n",
      "\n",
      "Table pour la variable: lifestyle_exerciseTeamSport \n",
      "\n",
      "  0   1 \n",
      "963  58 \n",
      "\n",
      "\n",
      "Table pour la variable: lifestyle_exerciseWalk \n",
      "\n",
      "  0   1 \n",
      "504 517 \n",
      "\n",
      "\n",
      "Table pour la variable: lifestyle_exerciseRun \n",
      "\n",
      "  0   1 \n",
      "976  45 \n",
      "\n",
      "\n",
      "Table pour la variable: lifestyle_exerciseYoga \n",
      "\n",
      "  0   1 \n",
      "999  22 \n",
      "\n",
      "\n",
      "Table pour la variable: lifestyle_exerciseSwim \n",
      "\n",
      "  0   1 \n",
      "999  22 \n",
      "\n",
      "\n",
      "Table pour la variable: lifestyle_exerciseOther \n",
      "\n",
      "  0   1 \n",
      "926  95 \n",
      "\n",
      "\n",
      "Table pour la variable: lifestyle_exerciseNone \n",
      "\n",
      "  0   1 \n",
      "930  91 \n",
      "\n",
      "\n",
      "Table pour la variable: lifestyle_goMuseumsFreq_numeric \n",
      "\n",
      "  0 0.5   1 \n",
      "202 702 117 \n",
      "\n",
      "\n",
      "Table pour la variable: lifestyle_pleinAirFreqAll_bin \n",
      "\n",
      "  0   1 \n",
      "890 131 \n",
      "\n",
      "\n",
      "Table pour la variable: lifestyle_pleinAirFreqSome_bin \n",
      "\n",
      "  0   1 \n",
      "442 579 \n",
      "\n",
      "\n",
      "Table pour la variable: lifestyle_volunteeringFreq_numeric \n",
      "\n",
      "  0 0.5   1 \n",
      "285 542 194 \n",
      "\n",
      "\n"
     ]
    }
   ],
   "source": [
    "# Boucle pour afficher la table pour chaque variable\n",
    "for (v in variables_act_clust) {\n",
    "  if (v != \"id\") {\n",
    "    cat(\"Table pour la variable:\", v, \"\\n\")\n",
    "    print(table(df_act[[v]]))\n",
    "    cat(\"\\n\\n\")\n",
    "  }\n",
    "}"
   ]
  },
  {
   "cell_type": "code",
   "execution_count": 26,
   "metadata": {
    "vscode": {
     "languageId": "r"
    }
   },
   "outputs": [],
   "source": [
    "# Sauvegarder les données préparées\n",
    "saveRDS(df_act, file = \"../../_PrivateFolder_datagotchi_federal_2025/data/clustering/can2025/02_pilot_2025_act.rds\")"
   ]
  },
  {
   "cell_type": "markdown",
   "metadata": {},
   "source": [
    "---"
   ]
  },
  {
   "cell_type": "markdown",
   "metadata": {},
   "source": [
    "# SUGGESTION : Activité de Clustering\n",
    "\n",
    "Si souhaité, effectuer un exercice de clustering avec ce sous-groupe de variables pour mieux saisir les données et leur relation. \n",
    "\n",
    "Cet exercice est purement exploratoire et sert à voir si les données peuvent être utilisées pour faire du clustering."
   ]
  }
 ],
 "metadata": {
  "kernelspec": {
   "display_name": "R",
   "language": "R",
   "name": "ir"
  },
  "language_info": {
   "codemirror_mode": "r",
   "file_extension": ".r",
   "mimetype": "text/x-r-source",
   "name": "R",
   "pygments_lexer": "r",
   "version": "4.4.2"
  }
 },
 "nbformat": 4,
 "nbformat_minor": 2
}
