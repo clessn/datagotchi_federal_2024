{
 "cells": [
  {
   "cell_type": "markdown",
   "metadata": {},
   "source": [
    "# Préparation des variables de ses"
   ]
  },
  {
   "cell_type": "code",
   "execution_count": 1,
   "metadata": {
    "vscode": {
     "languageId": "r"
    }
   },
   "outputs": [
    {
     "name": "stderr",
     "output_type": "stream",
     "text": [
      "-- \u001b[1mAttaching core tidyverse packages\u001b[22m ------------------------ tidyverse 2.0.0 --\n",
      "\u001b[32mv\u001b[39m \u001b[34mdplyr    \u001b[39m 1.1.4     \u001b[32mv\u001b[39m \u001b[34mreadr    \u001b[39m 2.1.5\n",
      "\u001b[32mv\u001b[39m \u001b[34mforcats  \u001b[39m 1.0.0     \u001b[32mv\u001b[39m \u001b[34mstringr  \u001b[39m 1.5.1\n",
      "\u001b[32mv\u001b[39m \u001b[34mggplot2  \u001b[39m 3.5.1     \u001b[32mv\u001b[39m \u001b[34mtibble   \u001b[39m 3.2.1\n",
      "\u001b[32mv\u001b[39m \u001b[34mlubridate\u001b[39m 1.9.3     \u001b[32mv\u001b[39m \u001b[34mtidyr    \u001b[39m 1.3.1\n",
      "\u001b[32mv\u001b[39m \u001b[34mpurrr    \u001b[39m 1.0.2     \n",
      "-- \u001b[1mConflicts\u001b[22m ------------------------------------------ tidyverse_conflicts() --\n",
      "\u001b[31mx\u001b[39m \u001b[34mdplyr\u001b[39m::\u001b[32mfilter()\u001b[39m masks \u001b[34mstats\u001b[39m::filter()\n",
      "\u001b[31mx\u001b[39m \u001b[34mdplyr\u001b[39m::\u001b[32mlag()\u001b[39m    masks \u001b[34mstats\u001b[39m::lag()\n",
      "\u001b[36mi\u001b[39m Use the conflicted package (\u001b[3m\u001b[34m<http://conflicted.r-lib.org/>\u001b[39m\u001b[23m) to force all conflicts to become errors\n",
      "Welcome! Want to learn more? See two factoextra-related books at https://goo.gl/ve3WBa\n",
      "\n"
     ]
    }
   ],
   "source": [
    "library(tidyverse)\n",
    "library(factoextra)\n",
    "\n",
    "# Charger les données\n",
    "DataPilot <- readRDS(\"../../_PrivateFolder_datagotchi_federal_2025/data/clustering/can2025/01_pilot_2025.rds\")\n",
    "\n",
    "# Charger le fichier des variables\n",
    "source(\"01-1_variables.R\")\n",
    "\n",
    "df_ses <- DataPilot %>%\n",
    "  select(all_of(variables_ses))"
   ]
  },
  {
   "cell_type": "code",
   "execution_count": 2,
   "metadata": {
    "vscode": {
     "languageId": "r"
    }
   },
   "outputs": [
    {
     "name": "stdout",
     "output_type": "stream",
     "text": [
      "Table pour la variable: ses_genderMale \n",
      "\n",
      "   0    1 \n",
      "1490 1744 \n",
      "\n",
      "\n",
      "Table pour la variable: ses_genderFemale \n",
      "\n",
      "   0    1 \n",
      "1812 1422 \n",
      "\n",
      "\n",
      "Table pour la variable: ses_gender \n",
      "\n",
      "    agender      female        male  non_binary       queer   trans_man \n",
      "          3        1422        1744          18           8          22 \n",
      "trans_woman \n",
      "          7 \n",
      "\n",
      "\n",
      "Table pour la variable: ses_ageGroup5Years \n",
      "\n",
      "18_19 20_24 25_29 30_34 35_39 40_44 45_49 50_54 55_59 60_64 65_69 70_74 75_79 \n",
      "  155   459   308   245   223     0   180   208   197   216   189   161   150 \n",
      "80_84 85_89 90_94 95_99  100+ \n",
      "   61    24     7     1     0 \n",
      "\n",
      "\n",
      "Table pour la variable: ses_age_4Cat \n",
      "\n",
      "18_24 25_44 45_64   65+ \n",
      "  524   959   801   593 \n",
      "\n",
      "\n",
      "Table pour la variable: ses_region \n",
      "\n",
      "         prairie british_columbia         atlantic          ontario \n",
      "             423              359              111              822 \n",
      "          quebec      territories \n",
      "             606               18 \n",
      "\n",
      "\n",
      "Table pour la variable: ses_language \n",
      "\n",
      "english  french   other \n",
      "   1557     548      81 \n",
      "\n",
      "\n",
      "Table pour la variable: ses_educ_3Cat \n",
      "\n",
      " educBUniv educPostHS   educUniv \n",
      "       342        432        626 \n",
      "\n",
      "\n",
      "Table pour la variable: ses_income \n",
      "\n",
      "       no_income       1_to_30000   30001_to_60000   60001_to_90000 \n",
      "              32              177              278              303 \n",
      " 90001_to_110000 110001_to_150000 150001_to_200000 more_than_200000 \n",
      "             182              220              135               72 \n",
      "\n",
      "\n",
      "Table pour la variable: ses_income3Cat \n",
      "\n",
      "High  Low  Mid \n",
      " 207  209  983 \n",
      "\n",
      "\n",
      "Table pour la variable: ses_immigrant \n",
      "\n",
      "   0    1 \n",
      " 295 1101 \n",
      "\n",
      "\n",
      "Table pour la variable: ses_ethnicity \n",
      "\n",
      "     white      black indigenous      asian   hispanic       arab      other \n",
      "      1060         49         30        183         17         14         43 \n",
      "\n",
      "\n",
      "Table pour la variable: ses_ethnicityWB \n",
      "\n",
      "white black other \n",
      " 1060    49   287 \n",
      "\n",
      "\n",
      "Table pour la variable: ses_sexOrientation \n",
      "\n",
      "heterosexual          gay     bisexual        other \n",
      "        1208           72           61           55 \n",
      "\n",
      "\n"
     ]
    }
   ],
   "source": [
    "# Boucle pour afficher la table pour chaque variable\n",
    "for (v in variables_ses) {\n",
    "  if (v != \"id\") {\n",
    "    cat(\"Table pour la variable:\", v, \"\\n\")\n",
    "    print(table(df_ses[[v]]))\n",
    "    cat(\"\\n\\n\")\n",
    "  }\n",
    "}"
   ]
  },
  {
   "cell_type": "markdown",
   "metadata": {},
   "source": [
    "### Transformations\n",
    "\n",
    "Les variables age, éducation et income devraient être des variables ordinales"
   ]
  },
  {
   "cell_type": "code",
   "execution_count": null,
   "metadata": {
    "vscode": {
     "languageId": "r"
    }
   },
   "outputs": [],
   "source": [
    "# Transformation de age en variable ordinale\n",
    "#-------------------------------------------\n",
    "\n",
    "df_ses <- df_ses %>%\n",
    "\n",
    "  mutate(\n",
    "    age = if_else(\n",
    "      age34m == 1,\n",
    "      0,\n",
    "      if_else(\n",
    "        age3554 == 1,\n",
    "        0.5,\n",
    "        1\n",
    "      )\n",
    "    )\n",
    "  ) %>%\n",
    "  select(\n",
    "    -age34m,\n",
    "    -age3554,\n",
    "    -age55p\n",
    "  )"
   ]
  },
  {
   "cell_type": "code",
   "execution_count": null,
   "metadata": {
    "vscode": {
     "languageId": "r"
    }
   },
   "outputs": [],
   "source": [
    "# Transformation de educ en variable ordinale\n",
    "#--------------------------------------------\n",
    "\n",
    "df_ses <- df_ses %>%\n",
    "\n",
    "  mutate(\n",
    "    educ = if_else(\n",
    "      educBHS == 1,\n",
    "      0,\n",
    "      if_else(\n",
    "        educCollege == 1,\n",
    "        0.5,\n",
    "        1\n",
    "      )\n",
    "    )\n",
    "  ) %>%\n",
    "  select(\n",
    "    -educBHS,\n",
    "    -educCollege,\n",
    "    -educUniv\n",
    "  )"
   ]
  },
  {
   "cell_type": "code",
   "execution_count": null,
   "metadata": {
    "vscode": {
     "languageId": "r"
    }
   },
   "outputs": [],
   "source": [
    "# Transformation de income en variable ordinale\n",
    "#----------------------------------------------\n",
    "\n",
    "df_ses <- df_ses %>%\n",
    "\n",
    "  mutate(\n",
    "    ses_income_None = 0,\n",
    "    ses_income_i1to30    = ses_income_i1to30/7,\n",
    "    ses_income_i31to60   = (1*ses_income_i31to60)/7 + ses_income_i31to60/7,\n",
    "    ses_income_i61to90   = (2*ses_income_i61to90)/7 + ses_income_i61to90/7,\n",
    "    ses_income_i91to110  = (3*ses_income_i91to110)/7 + ses_income_i91to110/7,\n",
    "    ses_income_i111to150 = (4*ses_income_i111to150)/7 + ses_income_i111to150/7,\n",
    "    ses_income_i151to200 = (5*ses_income_i151to200)/7 + ses_income_i151to200/7,\n",
    "    ses_income_i201toInf = (ses_income_i201toInf)\n",
    "  ) %>%\n",
    "  mutate (\n",
    "    ses_income = ses_income_None +\n",
    "      ses_income_i31to60 +\n",
    "      ses_income_i61to90 +\n",
    "      ses_income_i91to110 +\n",
    "      ses_income_i111to150 +\n",
    "      ses_income_i151to200 +\n",
    "      ses_income_i201toInf\n",
    "  ) %>%\n",
    "  select(\n",
    "    -ses_income_None,\n",
    "    -ses_income_i201toInf,\n",
    "    -ses_income_i31to60,\n",
    "    -ses_income_i61to90,\n",
    "    -ses_income_i91to110,\n",
    "    -ses_income_i111to150,\n",
    "    -ses_income_i151to200,\n",
    "    -ses_income_i201toInf\n",
    "  )"
   ]
  },
  {
   "cell_type": "code",
   "execution_count": null,
   "metadata": {
    "vscode": {
     "languageId": "r"
    }
   },
   "outputs": [],
   "source": [
    "variables_ses_clust <- c(\n",
    "  \"id\",\n",
    "  \"male\",\n",
    "  \"female\",\n",
    "  \"age\",\n",
    "  \"langEn\",\n",
    "  \"langFr\",\n",
    "  \"ses_languageOther\",\n",
    "  \"educ\",\n",
    "  \"ses_income\",\n",
    "  \"immigrant\",\n",
    "  \"ses_ethn_White\",\n",
    "  \"ses_ethn_Black\",\n",
    "  \"ses_ethn_Other\",\n",
    "  \"ses_hetero\",\n",
    "  \"ses_gai\",\n",
    "  \"ses_bisex\",\n",
    "  \"ses_sexOri_other\"\n",
    ")"
   ]
  },
  {
   "cell_type": "code",
   "execution_count": null,
   "metadata": {
    "vscode": {
     "languageId": "r"
    }
   },
   "outputs": [],
   "source": [
    "# Boucle pour afficher la table pour chaque variable\n",
    "for (v in variables_ses_clust) {\n",
    "  if (v != \"id\") {\n",
    "    cat(\"Table pour la variable:\", v, \"\\n\")\n",
    "    print(table(df_ses[[v]]))\n",
    "    cat(\"\\n\\n\")\n",
    "  }\n",
    "}"
   ]
  },
  {
   "cell_type": "code",
   "execution_count": null,
   "metadata": {
    "vscode": {
     "languageId": "r"
    }
   },
   "outputs": [],
   "source": [
    "# Sauvegarder les données préparées\n",
    "saveRDS(df_ses, file = \"../../_PrivateFolder_datagotchi_federal_2025/data/clustering/qc2022/02_pilot1_2022_ses.rds\")"
   ]
  },
  {
   "cell_type": "markdown",
   "metadata": {},
   "source": [
    "---"
   ]
  },
  {
   "cell_type": "markdown",
   "metadata": {},
   "source": [
    "# SUGGESTION : Activité de Clustering\n",
    "\n",
    "Si souhaité, effectuer un exercice de clustering avec ce sous-groupe de variables pour mieux saisir les données et leur relation. \n",
    "\n",
    "Cet exercice est purement exploratoire et sert à voir si les données peuvent être utilisées pour faire du clustering."
   ]
  }
 ],
 "metadata": {
  "kernelspec": {
   "display_name": "R",
   "language": "R",
   "name": "ir"
  },
  "language_info": {
   "codemirror_mode": "r",
   "file_extension": ".r",
   "mimetype": "text/x-r-source",
   "name": "R",
   "pygments_lexer": "r",
   "version": "4.4.2"
  }
 },
 "nbformat": 4,
 "nbformat_minor": 2
}
