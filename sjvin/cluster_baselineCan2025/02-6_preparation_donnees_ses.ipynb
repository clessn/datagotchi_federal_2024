{
 "cells": [
  {
   "cell_type": "markdown",
   "metadata": {},
   "source": [
    "# Préparation des variables de ses"
   ]
  },
  {
   "cell_type": "code",
   "execution_count": 2,
   "metadata": {
    "vscode": {
     "languageId": "r"
    }
   },
   "outputs": [],
   "source": [
    "library(tidyverse)\n",
    "library(factoextra)\n",
    "\n",
    "# Charger les données\n",
    "DataPilot <- readRDS(\"../../_PrivateFolder_datagotchi_federal_2025/data/clustering/can2025/01_pilot_2025.rds\")\n",
    "\n",
    "# Charger le fichier des variables\n",
    "source(\"01-1_variables.R\")\n",
    "\n",
    "df_ses <- DataPilot %>%\n",
    "  select(all_of(variables_ses))"
   ]
  },
  {
   "cell_type": "code",
   "execution_count": 3,
   "metadata": {
    "vscode": {
     "languageId": "r"
    }
   },
   "outputs": [
    {
     "name": "stdout",
     "output_type": "stream",
     "text": [
      "Table pour la variable: ses_genderMale \n",
      "\n",
      "  0   1 \n",
      "484 537 \n",
      "\n",
      "\n",
      "Table pour la variable: ses_genderFemale \n",
      "\n",
      "  0   1 \n",
      "548 473 \n",
      "\n",
      "\n",
      "Table pour la variable: ses_gender \n",
      "\n",
      "    agender      female        male  non_binary       queer   trans_man \n",
      "          0         473         537           5           2           2 \n",
      "trans_woman \n",
      "          2 \n",
      "\n",
      "\n",
      "Table pour la variable: ses_ageGroup5Years \n",
      "\n",
      "18_19 20_24 25_29 30_34 35_39 40_44 45_49 50_54 55_59 60_64 65_69 70_74 75_79 \n",
      "   13    65   112    91   108     0    82    84    97   103    92    71    67 \n",
      "80_84 85_89 90_94 95_99  100+ \n",
      "   22    10     3     1     0 \n",
      "\n",
      "\n",
      "Table pour la variable: ses_age_4Cat \n",
      "\n",
      "18_24 25_44 45_64   65+ \n",
      "   78   311   366   266 \n",
      "\n",
      "\n",
      "Table pour la variable: ses_region \n",
      "\n",
      "         prairie british_columbia         atlantic          ontario \n",
      "             173              132               38              332 \n",
      "          quebec      territories \n",
      "             342                4 \n",
      "\n",
      "\n",
      "Table pour la variable: ses_language \n",
      "\n",
      "english  french   other \n",
      "    671     306      44 \n",
      "\n",
      "\n",
      "Table pour la variable: ses_educ_3Cat \n",
      "\n",
      "   educBHS educPostHS   educUniv \n",
      "       215        331        475 \n",
      "\n",
      "\n",
      "Table pour la variable: ses_income \n",
      "\n",
      "       no_income       1_to_30000   30001_to_60000   60001_to_90000 \n",
      "              16              125              214              224 \n",
      " 90001_to_110000 110001_to_150000 150001_to_200000 more_than_200000 \n",
      "             120              171               96               55 \n",
      "\n",
      "\n",
      "Table pour la variable: ses_income3Cat \n",
      "\n",
      "High  Low  Mid \n",
      " 151  141  729 \n",
      "\n",
      "\n",
      "Table pour la variable: ses_immigrant \n",
      "\n",
      "  0   1 \n",
      "833 188 \n",
      "\n",
      "\n",
      "Table pour la variable: ses_ethnicity \n",
      "\n",
      "     white      black indigenous      asian   hispanic       arab      other \n",
      "       809         25         19        123         11         10         24 \n",
      "\n",
      "\n",
      "Table pour la variable: ses_ethnicityWB \n",
      "\n",
      "white black other \n",
      "  809    25   187 \n",
      "\n",
      "\n",
      "Table pour la variable: ses_sexOrientation \n",
      "\n",
      "heterosexual          gay     bisexual        other \n",
      "         894           58           38           31 \n",
      "\n",
      "\n"
     ]
    }
   ],
   "source": [
    "# Boucle pour afficher la table pour chaque variable\n",
    "for (v in variables_ses) {\n",
    "  if (v != \"id\") {\n",
    "    cat(\"Table pour la variable:\", v, \"\\n\")\n",
    "    print(table(df_ses[[v]]))\n",
    "    cat(\"\\n\\n\")\n",
    "  }\n",
    "}"
   ]
  },
  {
   "cell_type": "markdown",
   "metadata": {},
   "source": [
    "### Transformations\n",
    "\n",
    "Les variables age, éducation et income devraient être des variables ordinales"
   ]
  },
  {
   "cell_type": "code",
   "execution_count": 4,
   "metadata": {
    "vscode": {
     "languageId": "r"
    }
   },
   "outputs": [],
   "source": [
    "# Transformation de âge en variable ordinale\n",
    "\n",
    "df_ses <- df_ses %>%\n",
    "  mutate(\n",
    "    ses_age = case_when(\n",
    "      ses_ageGroup5Years %in% c(\"18_19\", \"20_24\", \"25_29\", \"30_34\") ~ 0,\n",
    "      ses_ageGroup5Years %in% c(\"35_39\", \"40_44\", \"45_49\", \"50_54\") ~ 0.5,\n",
    "      ses_ageGroup5Years %in% c(\"55_59\", \"60_64\", \"65_69\", \"70_74\",\n",
    "                                \"75_79\", \"80_84\", \"85_89\", \"90_94\",\n",
    "                                \"95_99\", \"100+\") ~ 1,\n",
    "      TRUE ~ NA_real_\n",
    "    ) \n",
    "  ) %>%\n",
    "  select(\n",
    "    -ses_ageGroup5Years,\n",
    "    -ses_age_4Cat\n",
    "  )\n"
   ]
  },
  {
   "cell_type": "code",
   "execution_count": 5,
   "metadata": {
    "vscode": {
     "languageId": "r"
    }
   },
   "outputs": [
    {
     "data": {
      "text/plain": [
       "\n",
       "  0   1 \n",
       "806 215 "
      ]
     },
     "metadata": {},
     "output_type": "display_data"
    },
    {
     "data": {
      "text/plain": [
       "\n",
       "  0   1 \n",
       "690 331 "
      ]
     },
     "metadata": {},
     "output_type": "display_data"
    },
    {
     "data": {
      "text/plain": [
       "\n",
       "  0   1 \n",
       "546 475 "
      ]
     },
     "metadata": {},
     "output_type": "display_data"
    }
   ],
   "source": [
    "# Transformation de educ en variable ordinale\n",
    "#--------------------------------------------\n",
    "\n",
    "df_ses$ses_educBHS <- NA\n",
    "df_ses$ses_educBHS[df_ses$ses_educ_3Cat == 'educBHS'] <- 1\n",
    "df_ses$ses_educBHS[df_ses$ses_educ_3Cat != 'educBHS'] <- 0\n",
    "table(df_ses$ses_educBHS)\n",
    "\n",
    "df_ses$ses_educPostHS <- NA\n",
    "df_ses$ses_educPostHS[df_ses$ses_educ_3Cat == 'educPostHS'] <- 1\n",
    "df_ses$ses_educPostHS[df_ses$ses_educ_3Cat != 'educPostHS'] <- 0\n",
    "table(df_ses$ses_educPostHS)\n",
    "\n",
    "df_ses$ses_educUniv <- NA\n",
    "df_ses$ses_educUniv[df_ses$ses_educ_3Cat == 'educUniv'] <- 1\n",
    "df_ses$ses_educUniv[df_ses$ses_educ_3Cat != 'educUniv'] <- 0\n",
    "table(df_ses$ses_educUniv)"
   ]
  },
  {
   "cell_type": "code",
   "execution_count": 6,
   "metadata": {
    "vscode": {
     "languageId": "r"
    }
   },
   "outputs": [
    {
     "data": {
      "text/plain": [
       "< table of extent 0 >"
      ]
     },
     "metadata": {},
     "output_type": "display_data"
    }
   ],
   "source": [
    "table(df_ses$ses_educ)"
   ]
  },
  {
   "cell_type": "code",
   "execution_count": 7,
   "metadata": {
    "vscode": {
     "languageId": "r"
    }
   },
   "outputs": [
    {
     "data": {
      "text/plain": [
       "\n",
       "  0   1 \n",
       "880 141 "
      ]
     },
     "metadata": {},
     "output_type": "display_data"
    },
    {
     "data": {
      "text/plain": [
       "\n",
       "  0   1 \n",
       "292 729 "
      ]
     },
     "metadata": {},
     "output_type": "display_data"
    },
    {
     "data": {
      "text/plain": [
       "\n",
       "  0   1 \n",
       "870 151 "
      ]
     },
     "metadata": {},
     "output_type": "display_data"
    }
   ],
   "source": [
    "# Transformation de income en variable ordinale\n",
    "#----------------------------------------------\n",
    "\n",
    "df_ses$ses_incomeLow <- NA\n",
    "df_ses$ses_incomeLow[df_ses$ses_income3Cat == 'Low'] <- 1\n",
    "df_ses$ses_incomeLow[df_ses$ses_income3Cat != 'Low'] <- 0\n",
    "table(df_ses$ses_incomeLow)\n",
    "\n",
    "df_ses$ses_incomeMid <- NA\n",
    "df_ses$ses_incomeMid[df_ses$ses_income3Cat == 'Mid'] <- 1\n",
    "df_ses$ses_incomeMid[df_ses$ses_income3Cat != 'Mid'] <- 0\n",
    "table(df_ses$ses_incomeMid)\n",
    "\n",
    "df_ses$ses_incomeHigh <- NA\n",
    "df_ses$ses_incomeHigh[df_ses$ses_income3Cat == 'High'] <- 1\n",
    "df_ses$ses_incomeHigh[df_ses$ses_income3Cat != 'High'] <- 0\n",
    "table(df_ses$ses_incomeHigh)\n"
   ]
  },
  {
   "cell_type": "code",
   "execution_count": 8,
   "metadata": {
    "vscode": {
     "languageId": "r"
    }
   },
   "outputs": [
    {
     "data": {
      "text/plain": [
       "\n",
       "  0   1 \n",
       "350 671 "
      ]
     },
     "metadata": {},
     "output_type": "display_data"
    },
    {
     "data": {
      "text/plain": [
       "\n",
       "  0   1 \n",
       "715 306 "
      ]
     },
     "metadata": {},
     "output_type": "display_data"
    },
    {
     "data": {
      "text/plain": [
       "\n",
       "  0   1 \n",
       "977  44 "
      ]
     },
     "metadata": {},
     "output_type": "display_data"
    }
   ],
   "source": [
    "# Binariser ses_language\n",
    "#-----------------------------------------\n",
    "\n",
    "df_ses$ses_languageEnglish <- NA\n",
    "df_ses$ses_languageEnglish[df_ses$ses_language == 'english'] <- 1\n",
    "df_ses$ses_languageEnglish[df_ses$ses_language != 'english'] <- 0\n",
    "table(df_ses$ses_languageEnglish)\n",
    "\n",
    "df_ses$ses_languageFrench <- NA\n",
    "df_ses$ses_languageFrench[df_ses$ses_language == 'french'] <- 1\n",
    "df_ses$ses_languageFrench[df_ses$ses_language != 'french'] <- 0\n",
    "table(df_ses$ses_languageFrench)\n",
    "\n",
    "df_ses$ses_languageOther <- NA\n",
    "df_ses$ses_languageOther[df_ses$ses_language == 'other'] <- 1\n",
    "df_ses$ses_languageOther[df_ses$ses_language != 'other'] <- 0\n",
    "table(df_ses$ses_languageOther)"
   ]
  },
  {
   "cell_type": "code",
   "execution_count": 9,
   "metadata": {
    "vscode": {
     "languageId": "r"
    }
   },
   "outputs": [
    {
     "data": {
      "text/plain": [
       "\n",
       "  0   1 \n",
       "212 809 "
      ]
     },
     "metadata": {},
     "output_type": "display_data"
    },
    {
     "data": {
      "text/plain": [
       "\n",
       "  0   1 \n",
       "809 212 "
      ]
     },
     "metadata": {},
     "output_type": "display_data"
    }
   ],
   "source": [
    "# Binariser ses_ethnicityWB\n",
    "#-----------------------------------------\n",
    "\n",
    "df_ses$ses_ethnicityWhite <- NA\n",
    "df_ses$ses_ethnicityWhite[df_ses$ses_ethnicityWB == 'white'] <- 1\n",
    "df_ses$ses_ethnicityWhite[df_ses$ses_ethnicityWB != 'white'] <- 0\n",
    "table(df_ses$ses_ethnicityWhite)\n",
    "\n",
    "df_ses$ses_ethnicityMinority <- NA\n",
    "df_ses$ses_ethnicityMinority[df_ses$ses_ethnicityWB != 'white'] <- 1\n",
    "df_ses$ses_ethnicityMinority[df_ses$ses_ethnicityWB == 'white'] <- 0\n",
    "table(df_ses$ses_ethnicityMinority)\n"
   ]
  },
  {
   "cell_type": "code",
   "execution_count": 10,
   "metadata": {
    "vscode": {
     "languageId": "r"
    }
   },
   "outputs": [
    {
     "data": {
      "text/plain": [
       "\n",
       "  0   1 \n",
       "127 894 "
      ]
     },
     "metadata": {},
     "output_type": "display_data"
    },
    {
     "data": {
      "text/plain": [
       "\n",
       "  0   1 \n",
       "894 127 "
      ]
     },
     "metadata": {},
     "output_type": "display_data"
    }
   ],
   "source": [
    "# Binariser ses_sexOrientation\n",
    "#-----------------------------------------\n",
    "\n",
    "df_ses$ses_sexOrientationHetero <- NA\n",
    "df_ses$ses_sexOrientationHetero[df_ses$ses_sexOrientation == 'heterosexual'] <- 1\n",
    "df_ses$ses_sexOrientationHetero[df_ses$ses_sexOrientation != 'heterosexual'] <- 0\n",
    "table(df_ses$ses_sexOrientationHetero)\n",
    "\n",
    "df_ses$ses_sexOrientationQueer <- NA\n",
    "df_ses$ses_sexOrientationQueer[df_ses$ses_sexOrientation %in% c('gay', 'bisexual', 'other')] <- 1\n",
    "df_ses$ses_sexOrientationQueer[df_ses$ses_sexOrientation == 'heterosexual'] <- 0\n",
    "table(df_ses$ses_sexOrientationQueer)"
   ]
  },
  {
   "cell_type": "code",
   "execution_count": 11,
   "metadata": {
    "vscode": {
     "languageId": "r"
    }
   },
   "outputs": [],
   "source": [
    "# Binariser ses_region\n",
    "#-----------------------------------------\n",
    "\n",
    "df_ses$ses_regionPrairies <- NA\n",
    "df_ses$ses_regionPrairies[df_ses$ses_region == \"prairie\"] <- 1\n",
    "df_ses$ses_regionPrairies[df_ses$ses_region != \"prairie\"] <- 0\n",
    "\n",
    "df_ses$ses_regionBC <- NA\n",
    "df_ses$ses_regionBC[df_ses$ses_region == \"british_columbia\"] <- 1\n",
    "df_ses$ses_regionBC[df_ses$ses_region != \"british_columbia\"] <- 0\n",
    "\n",
    "df_ses$ses_regionAtlantic <- NA\n",
    "df_ses$ses_regionAtlantic[df_ses$ses_region == \"atlantic\"] <- 1\n",
    "df_ses$ses_regionAtlantic[df_ses$ses_region != \"atlantic\"] <- 0\n",
    "\n",
    "df_ses$ses_regionOntario <- NA\n",
    "df_ses$ses_regionOntario[df_ses$ses_region == \"ontario\"] <- 1\n",
    "df_ses$ses_regionOntario[df_ses$ses_region != \"ontario\"] <- 0\n",
    "\n",
    "df_ses$ses_regionQuebec <- NA\n",
    "df_ses$ses_regionQuebec[df_ses$ses_region == \"quebec\"] <- 1\n",
    "df_ses$ses_regionQuebec[df_ses$ses_region != \"quebec\"] <- 0\n",
    "\n",
    "df_ses$ses_regionTerritories <- NA\n",
    "df_ses$ses_regionTerritories[df_ses$ses_region == \"territories\"] <- 1\n",
    "df_ses$ses_regionTerritories[df_ses$ses_region != \"territories\"] <- 0"
   ]
  },
  {
   "cell_type": "code",
   "execution_count": 12,
   "metadata": {
    "vscode": {
     "languageId": "r"
    }
   },
   "outputs": [
    {
     "data": {
      "text/plain": [
       "\n",
       "         prairie british_columbia         atlantic          ontario \n",
       "             173              132               38              332 \n",
       "          quebec      territories \n",
       "             342                4 "
      ]
     },
     "metadata": {},
     "output_type": "display_data"
    },
    {
     "data": {
      "text/plain": [
       "\n",
       "  0   1 \n",
       "716 305 "
      ]
     },
     "metadata": {},
     "output_type": "display_data"
    }
   ],
   "source": [
    "# Regrouper ses_region\n",
    "table(df_ses$ses_region)\n",
    "df_ses$ses_regionWest <- NA\n",
    "df_ses$ses_regionWest[df_ses$ses_region %in% c(\"prairie\", \"british_columbia\")] <- 1\n",
    "df_ses$ses_regionWest[df_ses$ses_region %in% c(\"atlantic\", \"ontario\", \"quebec\", \"territories\")] <- 0\n",
    "table(df_ses$ses_regionWest)"
   ]
  },
  {
   "cell_type": "code",
   "execution_count": 13,
   "metadata": {
    "vscode": {
     "languageId": "r"
    }
   },
   "outputs": [],
   "source": [
    "variables_ses_clust <- c(\n",
    "  \"id\",\n",
    "  \"ses_genderMale\",\n",
    "  \"ses_age\",\n",
    "  \"ses_languageEnglish\",\n",
    "  \"ses_languageFrench\",\n",
    "  \"ses_languageOther\",\n",
    "  \"ses_educBHS\",\n",
    "  \"ses_educPostHS\",\n",
    "  \"ses_educUniv\",\n",
    "  \"ses_incomeLow\",\n",
    "  \"ses_incomeMid\",\n",
    "  \"ses_incomeHigh\",\n",
    "  \"ses_immigrant\",\n",
    "  \"ses_ethnicityWhite\",\n",
    "  \"ses_ethnicityMinority\",\n",
    "  \"ses_sexOrientationHetero\",\n",
    "  \"ses_sexOrientationQueer\",\n",
    "  \"ses_regionPrairies\",\n",
    "  \"ses_regionBC\",\n",
    "  \"ses_regionAtlantic\",\n",
    "  \"ses_regionOntario\",\n",
    "  \"ses_regionQuebec\",\n",
    "  \"ses_regionTerritories\",\n",
    "  \"ses_regionWest\"\n",
    ")"
   ]
  },
  {
   "cell_type": "code",
   "execution_count": 14,
   "metadata": {
    "vscode": {
     "languageId": "r"
    }
   },
   "outputs": [
    {
     "name": "stdout",
     "output_type": "stream",
     "text": [
      "Table pour la variable: ses_genderMale \n",
      "\n",
      "  0   1 \n",
      "484 537 \n",
      "\n",
      "\n",
      "Table pour la variable: ses_age \n",
      "\n",
      "  0 0.5   1 \n",
      "281 274 466 \n",
      "\n",
      "\n",
      "Table pour la variable: ses_languageEnglish \n",
      "\n",
      "  0   1 \n",
      "350 671 \n",
      "\n",
      "\n",
      "Table pour la variable: ses_languageFrench \n",
      "\n",
      "  0   1 \n",
      "715 306 \n",
      "\n",
      "\n",
      "Table pour la variable: ses_languageOther \n",
      "\n",
      "  0   1 \n",
      "977  44 \n",
      "\n",
      "\n",
      "Table pour la variable: ses_educBHS \n",
      "\n",
      "  0   1 \n",
      "806 215 \n",
      "\n",
      "\n",
      "Table pour la variable: ses_educPostHS \n",
      "\n",
      "  0   1 \n",
      "690 331 \n",
      "\n",
      "\n",
      "Table pour la variable: ses_educUniv \n",
      "\n",
      "  0   1 \n",
      "546 475 \n",
      "\n",
      "\n",
      "Table pour la variable: ses_incomeLow \n",
      "\n",
      "  0   1 \n",
      "880 141 \n",
      "\n",
      "\n",
      "Table pour la variable: ses_incomeMid \n",
      "\n",
      "  0   1 \n",
      "292 729 \n",
      "\n",
      "\n",
      "Table pour la variable: ses_incomeHigh \n",
      "\n",
      "  0   1 \n",
      "870 151 \n",
      "\n",
      "\n",
      "Table pour la variable: ses_immigrant \n",
      "\n",
      "  0   1 \n",
      "833 188 \n",
      "\n",
      "\n",
      "Table pour la variable: ses_ethnicityWhite \n",
      "\n",
      "  0   1 \n",
      "212 809 \n",
      "\n",
      "\n",
      "Table pour la variable: ses_ethnicityMinority \n",
      "\n",
      "  0   1 \n",
      "809 212 \n",
      "\n",
      "\n",
      "Table pour la variable: ses_sexOrientationHetero \n",
      "\n",
      "  0   1 \n",
      "127 894 \n",
      "\n",
      "\n",
      "Table pour la variable: ses_sexOrientationQueer \n",
      "\n",
      "  0   1 \n",
      "894 127 \n",
      "\n",
      "\n",
      "Table pour la variable: ses_regionPrairies \n",
      "\n",
      "  0   1 \n",
      "848 173 \n",
      "\n",
      "\n",
      "Table pour la variable: ses_regionBC \n",
      "\n",
      "  0   1 \n",
      "889 132 \n",
      "\n",
      "\n",
      "Table pour la variable: ses_regionAtlantic \n",
      "\n",
      "  0   1 \n",
      "983  38 \n",
      "\n",
      "\n",
      "Table pour la variable: ses_regionOntario \n",
      "\n",
      "  0   1 \n",
      "689 332 \n",
      "\n",
      "\n",
      "Table pour la variable: ses_regionQuebec \n",
      "\n",
      "  0   1 \n",
      "679 342 \n",
      "\n",
      "\n",
      "Table pour la variable: ses_regionTerritories \n",
      "\n",
      "   0    1 \n",
      "1017    4 \n",
      "\n",
      "\n",
      "Table pour la variable: ses_regionWest \n",
      "\n",
      "  0   1 \n",
      "716 305 \n",
      "\n",
      "\n"
     ]
    }
   ],
   "source": [
    "# Boucle pour afficher la table pour chaque variable\n",
    "for (v in variables_ses_clust) {\n",
    "  if (v != \"id\") {\n",
    "    cat(\"Table pour la variable:\", v, \"\\n\")\n",
    "    print(table(df_ses[[v]]))\n",
    "    cat(\"\\n\\n\")\n",
    "  }\n",
    "}"
   ]
  },
  {
   "cell_type": "code",
   "execution_count": 15,
   "metadata": {
    "vscode": {
     "languageId": "r"
    }
   },
   "outputs": [],
   "source": [
    "# Sauvegarder les données préparées\n",
    "saveRDS(df_ses, file = \"../../_PrivateFolder_datagotchi_federal_2025/data/clustering/can2025/02_pilot_2025_ses.rds\")"
   ]
  },
  {
   "cell_type": "markdown",
   "metadata": {},
   "source": [
    "---"
   ]
  },
  {
   "cell_type": "markdown",
   "metadata": {},
   "source": [
    "# SUGGESTION : Activité de Clustering\n",
    "\n",
    "Si souhaité, effectuer un exercice de clustering avec ce sous-groupe de variables pour mieux saisir les données et leur relation. \n",
    "\n",
    "Cet exercice est purement exploratoire et sert à voir si les données peuvent être utilisées pour faire du clustering."
   ]
  }
 ],
 "metadata": {
  "kernelspec": {
   "display_name": "R",
   "language": "R",
   "name": "ir"
  },
  "language_info": {
   "codemirror_mode": "r",
   "file_extension": ".r",
   "mimetype": "text/x-r-source",
   "name": "R",
   "pygments_lexer": "r",
   "version": "4.4.2"
  }
 },
 "nbformat": 4,
 "nbformat_minor": 2
}
