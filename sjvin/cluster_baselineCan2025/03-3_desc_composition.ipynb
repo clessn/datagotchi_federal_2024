{
 "cells": [
  {
   "cell_type": "markdown",
   "metadata": {},
   "source": [
    "# Description de la composition des clusters\n",
    "\n",
    "- Calculer l'importance relative des variables\n",
    "- Décrire chaque cluster (persona) par la moyenne et l'écart type de chaque variable à l'intérieur du cluster\n",
    "- Pour chaque cluster afficher les variables les plus distinctives (par leur présence ou leur absence)"
   ]
  },
  {
   "cell_type": "code",
   "execution_count": null,
   "metadata": {
    "vscode": {
     "languageId": "r"
    }
   },
   "outputs": [],
   "source": [
    "# Library\n",
    "library(dplyr)\n",
    "library(tidyr)\n",
    "library(ggplot2)\n",
    "library(ggtext)\n",
    "library(tidytext)\n",
    "\n",
    "# Load Data and Clustering Results\n",
    "kmeans_result <- readRDS(\"../../_PrivateFolder_datagotchi_federal_2025/data/clustering/can2025/03_pilot_kmeans.rds\") # nolint\n",
    "df_pilot_2025 <- readRDS(\"../../_PrivateFolder_datagotchi_federal_2025/data/clustering/can2025/03_pilot_2025.rds\")"
   ]
  },
  {
   "cell_type": "code",
   "execution_count": null,
   "metadata": {
    "vscode": {
     "languageId": "r"
    }
   },
   "outputs": [],
   "source": [
    "getwd()"
   ]
  },
  {
   "cell_type": "code",
   "execution_count": null,
   "metadata": {
    "vscode": {
     "languageId": "r"
    }
   },
   "outputs": [],
   "source": [
    "# Identifier les variables qui ont été utilisées pour la construction \n",
    "# des clusters à analyser\n",
    "vars_clusters <- colnames(df_pilot_2025)[colnames(df_pilot_2025) %in% colnames(kmeans_result$centers)] # nolint: line_length_linter."
   ]
  },
  {
   "cell_type": "markdown",
   "metadata": {},
   "source": [
    "## Calcul de l'importance relative des variables utilisées pour le clustering\n",
    "\n",
    "- Mesure l’importance relative des variables en comparant leurs moyennes par cluster à la moyenne globale.\n",
    "- Utilise l’écart-type pour rendre les différences comparables entre variables.\n",
    "- Normalise les scores pour les exprimer en proportions.\n",
    "\n",
    "💡 Utilisation : Identifier quelles variables différencient le plus les clusters dans une segmentation."
   ]
  },
  {
   "cell_type": "code",
   "execution_count": null,
   "metadata": {
    "vscode": {
     "languageId": "r"
    }
   },
   "outputs": [],
   "source": [
    "# Fonction pour calculer l'importance relative de chaque variable \n",
    "# dans la création des clusters -----------------------------\n",
    "\n",
    "# Fonction pour calculer l'importance relative des variables dans le clustering\n",
    "calculate_importance <- function(data, variables) {\n",
    "  importance_scores <- sapply(variables, function(var) {\n",
    "    overall_mean <- mean(data[[var]], na.rm = TRUE)\n",
    "    cluster_means <- tapply(data[[var]], data$cluster, mean, na.rm = TRUE)\n",
    "    abs_diff <- abs(cluster_means - overall_mean) / sd(data[[var]], na.rm = TRUE)\n",
    "    return(mean(abs_diff, na.rm = TRUE))\n",
    "  })\n",
    "  importance_scores <- importance_scores / sum(importance_scores)  # Normaliser\n",
    "  return(importance_scores)\n",
    "}"
   ]
  },
  {
   "cell_type": "code",
   "execution_count": null,
   "metadata": {
    "vscode": {
     "languageId": "r"
    }
   },
   "outputs": [],
   "source": [
    "# Calcul du score d'importance relatif pour chaque variable\n",
    "importance_scores <- calculate_importance(df_pilot_2025, vars_clusters)\n",
    "importance_scores <- signif(importance_scores[order(desc(importance_scores))], 4)\n",
    "cat(paste(names(importance_scores), \":\", importance_scores, collapse = \"\\n\"))"
   ]
  },
  {
   "cell_type": "markdown",
   "metadata": {},
   "source": [
    "## Décrire les personas\n",
    "\n",
    "Calcule les moyennes et écarts-types de chaque variable par cluster"
   ]
  },
  {
   "cell_type": "code",
   "execution_count": null,
   "metadata": {
    "vscode": {
     "languageId": "r"
    }
   },
   "outputs": [],
   "source": [
    "# Fonction pour décrire les personas en affichant les moyennes et écarts-types par cluster\n",
    "# (La variable \"cluster\" doit déjà être présente et factorisée dans data)\n",
    "describe_personas <- function(data, variables) {\n",
    "  persona_summary <- data %>%\n",
    "    group_by(cluster) %>%\n",
    "    summarise(across(all_of(variables), list(X_mean = ~mean(.x, na.rm = TRUE),\n",
    "                                               X_sd = ~sd(.x, na.rm = TRUE))))\n",
    "  return(persona_summary)\n",
    "}"
   ]
  },
  {
   "cell_type": "code",
   "execution_count": null,
   "metadata": {
    "vscode": {
     "languageId": "r"
    }
   },
   "outputs": [],
   "source": [
    "# Afficher les statistiques descriptives par cluster\n",
    "describe_personas(df_pilot_2025, vars_clusters)"
   ]
  },
  {
   "cell_type": "markdown",
   "metadata": {},
   "source": [
    "## Identification des variables distinctives\n",
    "\n",
    "Pour chaque cluster, identifier les variables qui le distingue des autres clusters.\n",
    "\n",
    "1. Calculer les moyennes globlale et par cluster de chaque variable\n",
    "1. Associer une couleur (rouge, vert, noir) à chaque variable de chaque cluster en fonction de la capacité de la variable à distinguer le cluster\n",
    "1. Afficher sous forme de graphique la différence entre la moyenne du cluster et la moyenne globale pour chaque variable de chaque cluster. \n",
    "\n",
    "Dans les graphiques, les variables distinctives seront colorées en \n",
    "\n",
    "- rouge si leur moyenne dans le cluster est significativement sous la moyenne globale. On dira que leur absence caractérise le cluster.\n",
    "- vert si leur moyenne est significativement au-dessus de la moyenne globale. On dira que leur présence caractérise le cluster."
   ]
  },
  {
   "cell_type": "code",
   "execution_count": null,
   "metadata": {
    "vscode": {
     "languageId": "r"
    }
   },
   "outputs": [],
   "source": [
    "# Produire une table contenant la valeur moyenne pour chaque\n",
    "# variable (mean_overall) et la valeur moyenne par variable par\n",
    "# cluster (mean_per_cluster)\n",
    "df_means <- df_pilot_2025 %>%\n",
    "  select(all_of(vars_clusters), cluster_name) %>%\n",
    "  pivot_longer(cols = -cluster_name, names_to = \"variable\", values_to = \"value\") %>%\n",
    "  group_by(variable) %>%\n",
    "  mutate(mean_overall = mean(value, na.rm = TRUE)) %>%\n",
    "  group_by(variable, cluster_name) %>%\n",
    "  summarise(mean_per_cluster = mean(value, na.rm = TRUE), mean_overall = first(mean_overall), .groups = \"drop\")\n"
   ]
  },
  {
   "cell_type": "code",
   "execution_count": null,
   "metadata": {
    "vscode": {
     "languageId": "r"
    }
   },
   "outputs": [],
   "source": [
    "# Fonction pour déterminer la couleur d'une variable binaire\n",
    "#   Black : La variable ne distingue pas le cluster\n",
    "#   Red : La variable distingue le cluster par son absence\n",
    "#   Green : La variable distingue le cluster par sa présence\n",
    "calculate_binary_color <- function(cluster_data, df, var) {\n",
    "  prop_cluster <- mean(cluster_data[[var]], na.rm = TRUE)\n",
    "  prop_overall <- mean(df[[var]], na.rm = TRUE)\n",
    "  \n",
    "  # Test de proportion\n",
    "  p_value <- prop.test(\n",
    "    x = c(sum(cluster_data[[var]]), sum(df[[var]])), \n",
    "    n = c(nrow(cluster_data), nrow(df))\n",
    "  )$p.value\n",
    "  \n",
    "  # Calcul de la différence des proportions\n",
    "  prop_diff <- abs(prop_cluster - prop_overall)\n",
    "  \n",
    "  # Déterminer la couleur selon les résultats du test\n",
    "  if (p_value < 0.05 && prop_diff > 0.3) {\n",
    "    return(ifelse(prop_cluster > prop_overall, \"green\", \"red\"))\n",
    "  } else {\n",
    "    return(\"black\")\n",
    "  }\n",
    "}"
   ]
  },
  {
   "cell_type": "code",
   "execution_count": null,
   "metadata": {
    "vscode": {
     "languageId": "r"
    }
   },
   "outputs": [],
   "source": [
    "# Fonction pour déterminer la couleur d'une variable continue\n",
    "#   Black : La variable ne distingue pas le cluster\n",
    "#   Red : La variable distingue le cluster par son absence\n",
    "#   Green : La variable distingue le cluster par sa présence\n",
    "calculate_continuous_color <- function(cluster_data, df, var) {\n",
    "  # Test de Student\n",
    "  t_test <- t.test(cluster_data[[var]], df[[var]])\n",
    "  \n",
    "  # Calcul de la taille d'effet (Cohen's d)\n",
    "  effect_size <- abs(t_test$estimate[1] - t_test$estimate[2]) / sd(df[[var]], na.rm = TRUE)\n",
    "  \n",
    "  # Déterminer la couleur selon le p-value et la taille d'effet\n",
    "  if (t_test$p.value < 0.05 && effect_size > 0.25) {\n",
    "    return(ifelse(t_test$estimate[1] > t_test$estimate[2], \"green\", \"red\"))\n",
    "  } else {\n",
    "    return(\"black\")\n",
    "  }\n",
    "}"
   ]
  },
  {
   "cell_type": "code",
   "execution_count": null,
   "metadata": {
    "vscode": {
     "languageId": "r"
    }
   },
   "outputs": [],
   "source": [
    "# Pour chaque variable de chaque cluster, associer une couleur selon\n",
    "# la capacité de la variable à caractériser un cluster\n",
    "#   Black : La variable ne distingue pas le cluster\n",
    "#   Red : La variable distingue le cluster par son absence\n",
    "#   Green : La variable distingue le cluster par sa présence\n",
    "dfUsedForClustering <- df_pilot_2025\n",
    "variablesUsedForClustering <- vars_clusters\n",
    "\n",
    "# Créer un dataframe vide pour stocker les résultats\n",
    "df_colors <- data.frame(cluster_name = character(), variable = character(), color = character(), stringsAsFactors = FALSE)  #nolint\n",
    "\n",
    "# Boucle pour traiter chaque cluster\n",
    "for (cluster_value in unique(dfUsedForClustering$cluster_name)) {\n",
    "  # Filtrer les données pour le cluster actuel\n",
    "  cluster_data <- dfUsedForClustering %>% filter(cluster_name == cluster_value)\n",
    "\n",
    "  # Identification des caractéristiques marquantes\n",
    "  characteristic_vars <- sapply(variablesUsedForClustering, function(var) {\n",
    "    if (all(dfUsedForClustering[[var]] %in% c(0, 1))) {\n",
    "      # Si la variable est binaire, on utilise la fonction pour binaire\n",
    "      return(calculate_binary_color(cluster_data, dfUsedForClustering, var))\n",
    "    } else {\n",
    "      # Si la variable est continue, on utilise la fonction pour continue\n",
    "      return(calculate_continuous_color(cluster_data, dfUsedForClustering, var))\n",
    "    }\n",
    "  })\n",
    "\n",
    "  # Ajouter les résultats pour ce cluster dans le tableau global\n",
    "  cluster_results <- data.frame(\n",
    "    cluster_name = rep(cluster_value, length(variablesUsedForClustering)),\n",
    "    variable = variablesUsedForClustering,\n",
    "    color = characteristic_vars,\n",
    "    stringsAsFactors = FALSE\n",
    "  )\n",
    "\n",
    "  # Fusionner les résultats du cluster avec le dataframe global\n",
    "  df_colors <- bind_rows(df_colors, cluster_results)\n",
    "}\n",
    "rownames(df_colors) <- NULL"
   ]
  },
  {
   "cell_type": "code",
   "execution_count": null,
   "metadata": {
    "vscode": {
     "languageId": "r"
    }
   },
   "outputs": [],
   "source": [
    "options(jupyter.plot_mimetypes = \"image/png\")\n",
    "options(repr.plot.width = 30, repr.plot.height = 25)\n",
    "\n",
    "df_joined <- df_means %>%\n",
    "  left_join(df_colors, by = c(\"variable\", \"cluster_name\"))\n",
    "\n",
    "# Tri des données pour le graphique\n",
    "all_data_viz <- df_joined %>%\n",
    "  group_by(cluster_name) %>%\n",
    "  arrange(desc(mean_per_cluster)) %>%\n",
    "  ungroup() %>%\n",
    "  mutate(cluster_name = as.factor(cluster_name),\n",
    "         variable = as.character(variable))\n",
    "\n",
    "# Afficher le graphique\n",
    "ggplot(all_data_viz, aes(x = reorder_within(variable, mean_per_cluster, cluster_name), y = mean_per_cluster, fill = color)) +\n",
    "  geom_bar(stat = \"identity\", color = \"black\", show.legend = FALSE) +\n",
    "  scale_fill_identity() +\n",
    "  labs(title = \"Visualisation des personas\", x = \"\", y = \"Moyenne/Proportion\") +\n",
    "  theme_minimal() +\n",
    "  coord_flip() +\n",
    "  facet_wrap(~ cluster_name, scales = \"free_y\") +\n",
    "  scale_x_reordered()"
   ]
  },
  {
   "cell_type": "code",
   "execution_count": null,
   "metadata": {
    "vscode": {
     "languageId": "r"
    }
   },
   "outputs": [],
   "source": [
    "options(jupyter.plot_mimetypes = \"image/png\")\n",
    "options(repr.plot.width = 15, repr.plot.height = 8)\n",
    "\n",
    "# Afficher les variables distinctives par clusters\n",
    "all_data_viz_signif <- all_data_viz %>%\n",
    "  filter(color %in% c(\"green\", \"red\"))\n",
    "\n",
    "# Afficher le graphique\n",
    "ggplot(all_data_viz_signif, aes(x = reorder_within(variable, mean_per_cluster, cluster_name), y = mean_per_cluster, fill = color)) +\n",
    "  geom_bar(stat = \"identity\", color = \"black\", show.legend = FALSE) +\n",
    "  scale_fill_identity() +\n",
    "  labs(title = \"Visualisation des personas\", x = \"\", y = \"Moyenne/Proportion\") +\n",
    "  theme_minimal() +\n",
    "  coord_flip() +\n",
    "  facet_wrap(~ cluster_name, scales = \"free_y\") +\n",
    "  scale_x_reordered()\n",
    "\n",
    "df_distinctives_vars <- df_joined[which(df_joined$color != \"black\"),]\n",
    "df_distinctives_vars <- df_distinctives_vars[order(df_distinctives_vars$cluster_name, desc(df_distinctives_vars$mean_per_cluster)),]\n",
    "df_distinctives_vars"
   ]
  },
  {
   "cell_type": "code",
   "execution_count": null,
   "metadata": {
    "vscode": {
     "languageId": "r"
    }
   },
   "outputs": [],
   "source": [
    "# Sauvegarder la table des mesures qui permettent d'identifier les variables significatives par clusters\n",
    "saveRDS(df_joined, file = \"../../_PrivateFolder_datagotchi_federal_2025/data/clustering/can2025/03_pilot_clusters_composition.rds\")"
   ]
  }
 ],
 "metadata": {
  "kernelspec": {
   "display_name": "R",
   "language": "R",
   "name": "ir"
  },
  "language_info": {
   "codemirror_mode": "r",
   "file_extension": ".r",
   "mimetype": "text/x-r-source",
   "name": "R",
   "pygments_lexer": "r",
   "version": "4.4.2"
  }
 },
 "nbformat": 4,
 "nbformat_minor": 2
}
