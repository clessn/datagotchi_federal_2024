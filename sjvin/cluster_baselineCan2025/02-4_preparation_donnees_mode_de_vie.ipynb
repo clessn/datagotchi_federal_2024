{
 "cells": [
  {
   "cell_type": "markdown",
   "metadata": {},
   "source": [
    "# Préparation des variables de mode de vie"
   ]
  },
  {
   "cell_type": "code",
   "execution_count": 2,
   "metadata": {
    "vscode": {
     "languageId": "r"
    }
   },
   "outputs": [],
   "source": [
    "library(tidyverse)\n",
    "library(factoextra)\n",
    "\n",
    "# Charger les données\n",
    "DataPilot <- readRDS(\"../../_PrivateFolder_datagotchi_federal_2025/data/clustering/can2025/01_pilot_2025.rds\")\n",
    "\n",
    "# Charger le fichier des variables\n",
    "source(\"01-1_variables.R\")\n",
    "\n",
    "df_mode_de_vie <- DataPilot %>%\n",
    "  select(all_of(variables_mode_de_vie))"
   ]
  },
  {
   "cell_type": "code",
   "execution_count": 3,
   "metadata": {
    "vscode": {
     "languageId": "r"
    }
   },
   "outputs": [
    {
     "data": {
      "text/html": [
       "<table class=\"dataframe\">\n",
       "<caption>A data.frame: 1 x 6</caption>\n",
       "<thead>\n",
       "\t<tr><th scope=col>lifestyle_typeTransportCar</th><th scope=col>lifestyle_typeTransportSUV</th><th scope=col>lifestyle_typeTransportMoto</th><th scope=col>lifestyle_typeTransportWalk</th><th scope=col>lifestyle_typeTransportBicycle</th><th scope=col>lifestyle_typeTransportPublicTransit</th></tr>\n",
       "\t<tr><th scope=col>&lt;dbl&gt;</th><th scope=col>&lt;dbl&gt;</th><th scope=col>&lt;dbl&gt;</th><th scope=col>&lt;dbl&gt;</th><th scope=col>&lt;dbl&gt;</th><th scope=col>&lt;dbl&gt;</th></tr>\n",
       "</thead>\n",
       "<tbody>\n",
       "\t<tr><td>598</td><td>204</td><td>6</td><td>88</td><td>11</td><td>111</td></tr>\n",
       "</tbody>\n",
       "</table>\n"
      ],
      "text/latex": [
       "A data.frame: 1 x 6\n",
       "\\begin{tabular}{llllll}\n",
       " lifestyle\\_typeTransportCar & lifestyle\\_typeTransportSUV & lifestyle\\_typeTransportMoto & lifestyle\\_typeTransportWalk & lifestyle\\_typeTransportBicycle & lifestyle\\_typeTransportPublicTransit\\\\\n",
       " <dbl> & <dbl> & <dbl> & <dbl> & <dbl> & <dbl>\\\\\n",
       "\\hline\n",
       "\t 598 & 204 & 6 & 88 & 11 & 111\\\\\n",
       "\\end{tabular}\n"
      ],
      "text/markdown": [
       "\n",
       "A data.frame: 1 x 6\n",
       "\n",
       "| lifestyle_typeTransportCar &lt;dbl&gt; | lifestyle_typeTransportSUV &lt;dbl&gt; | lifestyle_typeTransportMoto &lt;dbl&gt; | lifestyle_typeTransportWalk &lt;dbl&gt; | lifestyle_typeTransportBicycle &lt;dbl&gt; | lifestyle_typeTransportPublicTransit &lt;dbl&gt; |\n",
       "|---|---|---|---|---|---|\n",
       "| 598 | 204 | 6 | 88 | 11 | 111 |\n",
       "\n"
      ],
      "text/plain": [
       "  lifestyle_typeTransportCar lifestyle_typeTransportSUV\n",
       "1 598                        204                       \n",
       "  lifestyle_typeTransportMoto lifestyle_typeTransportWalk\n",
       "1 6                           88                         \n",
       "  lifestyle_typeTransportBicycle lifestyle_typeTransportPublicTransit\n",
       "1 11                             111                                 "
      ]
     },
     "metadata": {},
     "output_type": "display_data"
    }
   ],
   "source": [
    "library(dplyr)\n",
    "\n",
    "df_mode_de_vie %>%\n",
    "  select(starts_with(\"lifestyle_typeTransport\")) %>%\n",
    "  summarise(across(everything(), \\(x) sum(x, na.rm = TRUE)))\n",
    "#  summarise(across(everything(), sum, na.rm = TRUE))"
   ]
  },
  {
   "cell_type": "code",
   "execution_count": 4,
   "metadata": {
    "vscode": {
     "languageId": "r"
    }
   },
   "outputs": [
    {
     "name": "stdout",
     "output_type": "stream",
     "text": [
      "Table pour la variable: ses_dwellingApp \n",
      "\n",
      "  0   1 \n",
      "881 140 \n",
      "\n",
      "\n",
      "Table pour la variable: ses_dwellingLoft \n",
      "\n",
      "   0    1 \n",
      "1012    9 \n",
      "\n",
      "\n",
      "Table pour la variable: ses_dwellingCondo \n",
      "\n",
      "  0   1 \n",
      "925  96 \n",
      "\n",
      "\n",
      "Table pour la variable: ses_dwellingTour \n",
      "\n",
      "  0   1 \n",
      "968  53 \n",
      "\n",
      "\n",
      "Table pour la variable: ses_dwellingDetachedHouse \n",
      "\n",
      "  0   1 \n",
      "486 535 \n",
      "\n",
      "\n",
      "Table pour la variable: ses_dwellingTownhouse \n",
      "\n",
      "  0   1 \n",
      "941  80 \n",
      "\n",
      "\n",
      "Table pour la variable: ses_dwellingDuplex \n",
      "\n",
      "  0   1 \n",
      "968  53 \n",
      "\n",
      "\n",
      "Table pour la variable: ses_dwellingCoop \n",
      "\n",
      "   0    1 \n",
      "1014    7 \n",
      "\n",
      "\n",
      "Table pour la variable: ses_dwellingHLM \n",
      "\n",
      "   0    1 \n",
      "1014    7 \n",
      "\n",
      "\n",
      "Table pour la variable: ses_dwellingMobile \n",
      "\n",
      "   0    1 \n",
      "1011   10 \n",
      "\n",
      "\n",
      "Table pour la variable: ses_dwellingOther \n",
      "\n",
      "  0   1 \n",
      "990  31 \n",
      "\n",
      "\n",
      "Table pour la variable: lifestyle_typeTransportCar \n",
      "\n",
      "  0   1 \n",
      "423 598 \n",
      "\n",
      "\n",
      "Table pour la variable: lifestyle_typeTransportSUV \n",
      "\n",
      "  0   1 \n",
      "817 204 \n",
      "\n",
      "\n",
      "Table pour la variable: lifestyle_typeTransportMoto \n",
      "\n",
      "   0    1 \n",
      "1015    6 \n",
      "\n",
      "\n",
      "Table pour la variable: lifestyle_typeTransportWalk \n",
      "\n",
      "  0   1 \n",
      "933  88 \n",
      "\n",
      "\n",
      "Table pour la variable: lifestyle_typeTransportBicycle \n",
      "\n",
      "   0    1 \n",
      "1010   11 \n",
      "\n",
      "\n",
      "Table pour la variable: lifestyle_typeTransportPublicTransit \n",
      "\n",
      "  0   1 \n",
      "910 111 \n",
      "\n",
      "\n"
     ]
    }
   ],
   "source": [
    "# Boucle pour afficher la table pour chaque variable\n",
    "for (v in variables_mode_de_vie) {\n",
    "  if (v != \"id\") {\n",
    "    cat(\"Table pour la variable:\", v, \"\\n\")\n",
    "    print(table(df_mode_de_vie[[v]]))\n",
    "    cat(\"\\n\\n\")\n",
    "  }\n",
    "}"
   ]
  },
  {
   "cell_type": "markdown",
   "metadata": {},
   "source": [
    "### Transformations\n",
    "\n",
    "- Regroupement de ses_dwelling\n",
    "  - ses_dwellingCondo : ses_dwellingCondo + ses_dwellingLoft + ses_dwellingTour\n",
    "  - ses_dwellingOther : ses_dwellingOther + ses_dwellingCoop + ses_dwellingHLM + ses_dwellingMobile\n",
    "\n",
    "- Regroupement des act_transport\n",
    "  - lifestyle_typeTransportCar : lifestyle_typeTransportCar + lifestyle_typeTransportMoto (parce qu'il y avraiment trop peu de moto, assigner la classe la plus populeuse)\n",
    "  - lifestyle_typeTransportActive:   lifestyle_typeTransportWalk + lifestyle_typeTransportBicycle\n",
    "  - Les autres ne sont pas regroupés"
   ]
  },
  {
   "cell_type": "code",
   "execution_count": 5,
   "metadata": {
    "vscode": {
     "languageId": "r"
    }
   },
   "outputs": [],
   "source": [
    "# Regroupement de ses_dwelling\n",
    "#-----------------------------\n",
    "\n",
    "df_mode_de_vie <- df_mode_de_vie %>%\n",
    "\n",
    "  mutate(\n",
    "    ses_dwellingCondo = if_else(\n",
    "      ses_dwellingLoft == 1 | ses_dwellingTour == 1,\n",
    "      1,\n",
    "      ses_dwellingCondo\n",
    "    ),\n",
    "    ses_dwellingOther = if_else(\n",
    "      ses_dwellingCoop == 1 | ses_dwellingHLM == 1 | ses_dwellingMobile == 1,\n",
    "      1,\n",
    "      ses_dwellingOther\n",
    "    )\n",
    "  ) %>%\n",
    "  select(\n",
    "    -ses_dwellingLoft,\n",
    "    -ses_dwellingTour,\n",
    "    -ses_dwellingCoop,\n",
    "    -ses_dwellingHLM,\n",
    "    -ses_dwellingMobile\n",
    "  )"
   ]
  },
  {
   "cell_type": "code",
   "execution_count": 6,
   "metadata": {
    "vscode": {
     "languageId": "r"
    }
   },
   "outputs": [],
   "source": [
    "# Regroupement de act_transport\n",
    "#------------------------------\n",
    "\n",
    "df_mode_de_vie <- df_mode_de_vie %>%\n",
    "  mutate(\n",
    "    lifestyle_typeTransportCar = if_else(\n",
    "      lifestyle_typeTransportMoto == 1 | lifestyle_typeTransportSUV == 1,\n",
    "      1,\n",
    "      lifestyle_typeTransportCar\n",
    "    ),\n",
    "    lifestyle_typeTransportNoCar = if_else(\n",
    "      lifestyle_typeTransportWalk == 1 | lifestyle_typeTransportBicycle == 1 | lifestyle_typeTransportPublicTransit == 1,\n",
    "      1,\n",
    "      0\n",
    "    )\n",
    "  ) %>%\n",
    "  select(\n",
    "    -lifestyle_typeTransportMoto,\n",
    "    -lifestyle_typeTransportSUV,\n",
    "    -lifestyle_typeTransportWalk,\n",
    "    -lifestyle_typeTransportBicycle,\n",
    "    -lifestyle_typeTransportPublicTransit)"
   ]
  },
  {
   "cell_type": "code",
   "execution_count": 7,
   "metadata": {
    "vscode": {
     "languageId": "r"
    }
   },
   "outputs": [],
   "source": [
    "variables_mode_de_vie_clust <- c(\n",
    "  \"id\",\n",
    "  #\"postal_code\", # À transformer en rural, urbain, région, banlieue\n",
    "  \"ses_dwellingApp\",\n",
    "  \"ses_dwellingCondo\",\n",
    "  \"ses_dwellingDetachedHouse\",\n",
    "  \"ses_dwellingTownhouse\",\n",
    "  \"ses_dwellingDuplex\",\n",
    "  \"ses_dwellingOther\",\n",
    "  \"lifestyle_typeTransportCar\",\n",
    "  \"lifestyle_typeTransportNoCar\"\n",
    ")"
   ]
  },
  {
   "cell_type": "code",
   "execution_count": 8,
   "metadata": {
    "vscode": {
     "languageId": "r"
    }
   },
   "outputs": [
    {
     "name": "stdout",
     "output_type": "stream",
     "text": [
      "Table pour la variable: ses_dwellingApp \n",
      "\n",
      "  0   1 \n",
      "881 140 \n",
      "\n",
      "\n",
      "Table pour la variable: ses_dwellingCondo \n",
      "\n",
      "  0   1 \n",
      "863 158 \n",
      "\n",
      "\n",
      "Table pour la variable: ses_dwellingDetachedHouse \n",
      "\n",
      "  0   1 \n",
      "486 535 \n",
      "\n",
      "\n",
      "Table pour la variable: ses_dwellingTownhouse \n",
      "\n",
      "  0   1 \n",
      "941  80 \n",
      "\n",
      "\n",
      "Table pour la variable: ses_dwellingDuplex \n",
      "\n",
      "  0   1 \n",
      "968  53 \n",
      "\n",
      "\n",
      "Table pour la variable: ses_dwellingOther \n",
      "\n",
      "  0   1 \n",
      "966  55 \n",
      "\n",
      "\n",
      "Table pour la variable: lifestyle_typeTransportCar \n",
      "\n",
      "  0   1 \n",
      "213 808 \n",
      "\n",
      "\n",
      "Table pour la variable: lifestyle_typeTransportNoCar \n",
      "\n",
      "  0   1 \n",
      "811 210 \n",
      "\n",
      "\n"
     ]
    }
   ],
   "source": [
    "# Boucle pour afficher la table pour chaque variable\n",
    "for (v in variables_mode_de_vie_clust) {\n",
    "  if (v != \"id\") {\n",
    "    cat(\"Table pour la variable:\", v, \"\\n\")\n",
    "    print(table(df_mode_de_vie[[v]]))\n",
    "    cat(\"\\n\\n\")\n",
    "  }\n",
    "}"
   ]
  },
  {
   "cell_type": "code",
   "execution_count": 9,
   "metadata": {
    "vscode": {
     "languageId": "r"
    }
   },
   "outputs": [],
   "source": [
    "# Sauvegarder les données préparées\n",
    "saveRDS(df_mode_de_vie, file = \"../../_PrivateFolder_datagotchi_federal_2025/data/clustering/can2025/02_pilot_2025_mode_de_vie.rds\")"
   ]
  },
  {
   "cell_type": "markdown",
   "metadata": {},
   "source": [
    "---"
   ]
  },
  {
   "cell_type": "markdown",
   "metadata": {},
   "source": [
    "# SUGGESTION : Activité de Clustering\n",
    "\n",
    "Si souhaité, effectuer un exercice de clustering avec ce sous-groupe de variables pour mieux saisir les données et leur relation. \n",
    "\n",
    "Cet exercice est purement exploratoire et sert à voir si les données peuvent être utilisées pour faire du clustering."
   ]
  }
 ],
 "metadata": {
  "kernelspec": {
   "display_name": "R",
   "language": "R",
   "name": "ir"
  },
  "language_info": {
   "codemirror_mode": "r",
   "file_extension": ".r",
   "mimetype": "text/x-r-source",
   "name": "R",
   "pygments_lexer": "r",
   "version": "4.4.2"
  }
 },
 "nbformat": 4,
 "nbformat_minor": 2
}
