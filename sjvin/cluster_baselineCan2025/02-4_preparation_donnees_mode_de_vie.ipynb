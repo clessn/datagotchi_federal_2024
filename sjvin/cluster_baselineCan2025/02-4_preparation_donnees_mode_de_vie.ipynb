{
 "cells": [
  {
   "cell_type": "markdown",
   "metadata": {},
   "source": [
    "# Préparation des variables de mode de vie"
   ]
  },
  {
   "cell_type": "code",
   "execution_count": 1,
   "metadata": {
    "vscode": {
     "languageId": "r"
    }
   },
   "outputs": [
    {
     "name": "stderr",
     "output_type": "stream",
     "text": [
      "-- \u001b[1mAttaching core tidyverse packages\u001b[22m ------------------------ tidyverse 2.0.0 --\n",
      "\u001b[32mv\u001b[39m \u001b[34mdplyr    \u001b[39m 1.1.4     \u001b[32mv\u001b[39m \u001b[34mreadr    \u001b[39m 2.1.5\n",
      "\u001b[32mv\u001b[39m \u001b[34mforcats  \u001b[39m 1.0.0     \u001b[32mv\u001b[39m \u001b[34mstringr  \u001b[39m 1.5.1\n",
      "\u001b[32mv\u001b[39m \u001b[34mggplot2  \u001b[39m 3.5.1     \u001b[32mv\u001b[39m \u001b[34mtibble   \u001b[39m 3.2.1\n",
      "\u001b[32mv\u001b[39m \u001b[34mlubridate\u001b[39m 1.9.3     \u001b[32mv\u001b[39m \u001b[34mtidyr    \u001b[39m 1.3.1\n",
      "\u001b[32mv\u001b[39m \u001b[34mpurrr    \u001b[39m 1.0.2     \n",
      "-- \u001b[1mConflicts\u001b[22m ------------------------------------------ tidyverse_conflicts() --\n",
      "\u001b[31mx\u001b[39m \u001b[34mdplyr\u001b[39m::\u001b[32mfilter()\u001b[39m masks \u001b[34mstats\u001b[39m::filter()\n",
      "\u001b[31mx\u001b[39m \u001b[34mdplyr\u001b[39m::\u001b[32mlag()\u001b[39m    masks \u001b[34mstats\u001b[39m::lag()\n",
      "\u001b[36mi\u001b[39m Use the conflicted package (\u001b[3m\u001b[34m<http://conflicted.r-lib.org/>\u001b[39m\u001b[23m) to force all conflicts to become errors\n",
      "Welcome! Want to learn more? See two factoextra-related books at https://goo.gl/ve3WBa\n",
      "\n"
     ]
    }
   ],
   "source": [
    "library(tidyverse)\n",
    "library(factoextra)\n",
    "\n",
    "# Charger les données\n",
    "DataPilot <- readRDS(\"../../_PrivateFolder_datagotchi_federal_2025/data/clustering/can2025/01_pilot_2025.rds\")\n",
    "\n",
    "# Charger le fichier des variables\n",
    "source(\"01-1_variables.R\")\n",
    "\n",
    "df_mode_de_vie <- DataPilot %>%\n",
    "  select(all_of(variables_mode_de_vie))"
   ]
  },
  {
   "cell_type": "code",
   "execution_count": 2,
   "metadata": {
    "vscode": {
     "languageId": "r"
    }
   },
   "outputs": [
    {
     "data": {
      "text/html": [
       "<table class=\"dataframe\">\n",
       "<caption>A data.frame: 1 x 6</caption>\n",
       "<thead>\n",
       "\t<tr><th scope=col>lifestyle_typeTransportCar</th><th scope=col>lifestyle_typeTransportSUV</th><th scope=col>lifestyle_typeTransportMoto</th><th scope=col>lifestyle_typeTransportWalk</th><th scope=col>lifestyle_typeTransportBicycle</th><th scope=col>lifestyle_typeTransportPublicTransit</th></tr>\n",
       "\t<tr><th scope=col>&lt;dbl&gt;</th><th scope=col>&lt;dbl&gt;</th><th scope=col>&lt;dbl&gt;</th><th scope=col>&lt;dbl&gt;</th><th scope=col>&lt;dbl&gt;</th><th scope=col>&lt;dbl&gt;</th></tr>\n",
       "</thead>\n",
       "<tbody>\n",
       "\t<tr><td>912</td><td>298</td><td>8</td><td>131</td><td>19</td><td>184</td></tr>\n",
       "</tbody>\n",
       "</table>\n"
      ],
      "text/latex": [
       "A data.frame: 1 x 6\n",
       "\\begin{tabular}{llllll}\n",
       " lifestyle\\_typeTransportCar & lifestyle\\_typeTransportSUV & lifestyle\\_typeTransportMoto & lifestyle\\_typeTransportWalk & lifestyle\\_typeTransportBicycle & lifestyle\\_typeTransportPublicTransit\\\\\n",
       " <dbl> & <dbl> & <dbl> & <dbl> & <dbl> & <dbl>\\\\\n",
       "\\hline\n",
       "\t 912 & 298 & 8 & 131 & 19 & 184\\\\\n",
       "\\end{tabular}\n"
      ],
      "text/markdown": [
       "\n",
       "A data.frame: 1 x 6\n",
       "\n",
       "| lifestyle_typeTransportCar &lt;dbl&gt; | lifestyle_typeTransportSUV &lt;dbl&gt; | lifestyle_typeTransportMoto &lt;dbl&gt; | lifestyle_typeTransportWalk &lt;dbl&gt; | lifestyle_typeTransportBicycle &lt;dbl&gt; | lifestyle_typeTransportPublicTransit &lt;dbl&gt; |\n",
       "|---|---|---|---|---|---|\n",
       "| 912 | 298 | 8 | 131 | 19 | 184 |\n",
       "\n"
      ],
      "text/plain": [
       "  lifestyle_typeTransportCar lifestyle_typeTransportSUV\n",
       "1 912                        298                       \n",
       "  lifestyle_typeTransportMoto lifestyle_typeTransportWalk\n",
       "1 8                           131                        \n",
       "  lifestyle_typeTransportBicycle lifestyle_typeTransportPublicTransit\n",
       "1 19                             184                                 "
      ]
     },
     "metadata": {},
     "output_type": "display_data"
    }
   ],
   "source": [
    "library(dplyr)\n",
    "\n",
    "df_mode_de_vie %>%\n",
    "  select(starts_with(\"lifestyle_typeTransport\")) %>%\n",
    "  summarise(across(everything(), \\(x) sum(x, na.rm = TRUE)))\n",
    "#  summarise(across(everything(), sum, na.rm = TRUE))"
   ]
  },
  {
   "cell_type": "code",
   "execution_count": 3,
   "metadata": {
    "vscode": {
     "languageId": "r"
    }
   },
   "outputs": [
    {
     "name": "stdout",
     "output_type": "stream",
     "text": [
      "Table pour la variable: ses_dwellingApp \n",
      "\n",
      "   0    1 \n",
      "1137  180 \n",
      "\n",
      "\n",
      "Table pour la variable: ses_dwellingLoft \n",
      "\n",
      "   0    1 \n",
      "1306   11 \n",
      "\n",
      "\n",
      "Table pour la variable: ses_dwellingCondo \n",
      "\n",
      "   0    1 \n",
      "1191  126 \n",
      "\n",
      "\n",
      "Table pour la variable: ses_dwellingTour \n",
      "\n",
      "   0    1 \n",
      "1252   65 \n",
      "\n",
      "\n",
      "Table pour la variable: ses_dwellingDetachedHouse \n",
      "\n",
      "  0   1 \n",
      "647 670 \n",
      "\n",
      "\n",
      "Table pour la variable: ses_dwellingTownhouse \n",
      "\n",
      "   0    1 \n",
      "1201  116 \n",
      "\n",
      "\n",
      "Table pour la variable: ses_dwellingDuplex \n",
      "\n",
      "   0    1 \n",
      "1250   67 \n",
      "\n",
      "\n",
      "Table pour la variable: ses_dwellingCoop \n",
      "\n",
      "   0    1 \n",
      "1307   10 \n",
      "\n",
      "\n",
      "Table pour la variable: ses_dwellingHLM \n",
      "\n",
      "   0    1 \n",
      "1308    9 \n",
      "\n",
      "\n",
      "Table pour la variable: ses_dwellingMobile \n",
      "\n",
      "   0    1 \n",
      "1301   16 \n",
      "\n",
      "\n",
      "Table pour la variable: ses_dwellingOther \n",
      "\n",
      "   0    1 \n",
      "1270   47 \n",
      "\n",
      "\n",
      "Table pour la variable: lifestyle_typeTransportCar \n",
      "\n",
      "  0   1 \n",
      "652 912 \n",
      "\n",
      "\n",
      "Table pour la variable: lifestyle_typeTransportSUV \n",
      "\n",
      "   0    1 \n",
      "1266  298 \n",
      "\n",
      "\n",
      "Table pour la variable: lifestyle_typeTransportMoto \n",
      "\n",
      "   0    1 \n",
      "1556    8 \n",
      "\n",
      "\n",
      "Table pour la variable: lifestyle_typeTransportWalk \n",
      "\n",
      "   0    1 \n",
      "1433  131 \n",
      "\n",
      "\n",
      "Table pour la variable: lifestyle_typeTransportBicycle \n",
      "\n",
      "   0    1 \n",
      "1545   19 \n",
      "\n",
      "\n",
      "Table pour la variable: lifestyle_typeTransportPublicTransit \n",
      "\n",
      "   0    1 \n",
      "1380  184 \n",
      "\n",
      "\n"
     ]
    }
   ],
   "source": [
    "# Boucle pour afficher la table pour chaque variable\n",
    "for (v in variables_mode_de_vie) {\n",
    "  if (v != \"id\") {\n",
    "    cat(\"Table pour la variable:\", v, \"\\n\")\n",
    "    print(table(df_mode_de_vie[[v]]))\n",
    "    cat(\"\\n\\n\")\n",
    "  }\n",
    "}"
   ]
  },
  {
   "cell_type": "markdown",
   "metadata": {},
   "source": [
    "### Transformations\n",
    "\n",
    "- Regroupement de ses_dwelling\n",
    "  - ses_dwelling_Condo : ses_dwelling_Condo + ses_dwelling_Loft + ses_dwelling_Tour\n",
    "  - ses_dwelling_Other : ses_dwelling_Other + ses_dwelling_Coop + ses_dwelling_HLM + ses_dwelling_Mobile\n",
    "\n",
    "- Regroupement des act_transport\n",
    "  - act_transport_Car : act_transport_Car + act_transport_Moto (parce qu'il y avraiment trop peu de moto, assigner la classe la plus populeuse)\n",
    "  - Les autres ne sont pas regroupés"
   ]
  },
  {
   "cell_type": "code",
   "execution_count": 4,
   "metadata": {
    "vscode": {
     "languageId": "r"
    }
   },
   "outputs": [],
   "source": [
    "# Regroupement de ses_dwelling\n",
    "#-----------------------------\n",
    "\n",
    "df_mode_de_vie <- df_mode_de_vie %>%\n",
    "\n",
    "  mutate(\n",
    "    ses_dwellingCondo = if_else(\n",
    "      ses_dwellingLoft == 1 | ses_dwellingTour == 1,\n",
    "      1,\n",
    "      ses_dwellingCondo\n",
    "    ),\n",
    "    ses_dwellingOther = if_else(\n",
    "      ses_dwellingCoop == 1 | ses_dwellingHLM == 1 | ses_dwellingMobile == 1,\n",
    "      1,\n",
    "      ses_dwellingOther\n",
    "    )\n",
    "  ) %>%\n",
    "  select(\n",
    "    -ses_dwellingLoft,\n",
    "    -ses_dwellingTour,\n",
    "    -ses_dwellingCoop,\n",
    "    -ses_dwellingHLM,\n",
    "    -ses_dwellingMobile\n",
    "  )"
   ]
  },
  {
   "cell_type": "code",
   "execution_count": 5,
   "metadata": {
    "vscode": {
     "languageId": "r"
    }
   },
   "outputs": [],
   "source": [
    "# Regroupement de act_transport\n",
    "#------------------------------\n",
    "\n",
    "df_mode_de_vie <- df_mode_de_vie %>%\n",
    "\n",
    "  mutate(\n",
    "    lifestyle_typeTransportCar = if_else(\n",
    "      lifestyle_typeTransportMoto == 1,\n",
    "      1,\n",
    "      lifestyle_typeTransportCar\n",
    "    )) %>%\n",
    "  select(\n",
    "    -lifestyle_typeTransportMoto\n",
    "  )"
   ]
  },
  {
   "cell_type": "code",
   "execution_count": 6,
   "metadata": {
    "vscode": {
     "languageId": "r"
    }
   },
   "outputs": [],
   "source": [
    "variables_mode_de_vie_clust <- c(\n",
    "  \"id\",\n",
    "  #\"postal_code\", # À transformer en rural, urbain, région, banlieue\n",
    "  \"ses_dwellingApp\",\n",
    "  \"ses_dwellingCondo\",\n",
    "  \"ses_dwellingDetachedHouse\",\n",
    "  \"ses_dwellingTownhouse\",\n",
    "  \"ses_dwellingDuplex\",\n",
    "  \"ses_dwellingOther\",\n",
    "  \"lifestyle_typeTransportCar\",\n",
    "  \"lifestyle_typeTransportSUV\",\n",
    "  \"lifestyle_typeTransportWalk\",\n",
    "  \"lifestyle_typeTransportBicycle\",\n",
    "  \"lifestyle_typeTransportPublicTransit\"\n",
    ")"
   ]
  },
  {
   "cell_type": "code",
   "execution_count": 7,
   "metadata": {
    "vscode": {
     "languageId": "r"
    }
   },
   "outputs": [
    {
     "name": "stdout",
     "output_type": "stream",
     "text": [
      "Table pour la variable: ses_dwellingApp \n",
      "\n",
      "   0    1 \n",
      "1137  180 \n",
      "\n",
      "\n",
      "Table pour la variable: ses_dwellingCondo \n",
      "\n",
      "   0    1 \n",
      "1115  202 \n",
      "\n",
      "\n",
      "Table pour la variable: ses_dwellingDetachedHouse \n",
      "\n",
      "  0   1 \n",
      "647 670 \n",
      "\n",
      "\n",
      "Table pour la variable: ses_dwellingTownhouse \n",
      "\n",
      "   0    1 \n",
      "1201  116 \n",
      "\n",
      "\n",
      "Table pour la variable: ses_dwellingDuplex \n",
      "\n",
      "   0    1 \n",
      "1250   67 \n",
      "\n",
      "\n",
      "Table pour la variable: ses_dwellingOther \n",
      "\n",
      "   0    1 \n",
      "1235   82 \n",
      "\n",
      "\n",
      "Table pour la variable: lifestyle_typeTransportCar \n",
      "\n",
      "  0   1 \n",
      "644 920 \n",
      "\n",
      "\n",
      "Table pour la variable: lifestyle_typeTransportSUV \n",
      "\n",
      "   0    1 \n",
      "1266  298 \n",
      "\n",
      "\n",
      "Table pour la variable: lifestyle_typeTransportWalk \n",
      "\n",
      "   0    1 \n",
      "1433  131 \n",
      "\n",
      "\n",
      "Table pour la variable: lifestyle_typeTransportBicycle \n",
      "\n",
      "   0    1 \n",
      "1545   19 \n",
      "\n",
      "\n",
      "Table pour la variable: lifestyle_typeTransportPublicTransit \n",
      "\n",
      "   0    1 \n",
      "1380  184 \n",
      "\n",
      "\n"
     ]
    }
   ],
   "source": [
    "# Boucle pour afficher la table pour chaque variable\n",
    "for (v in variables_mode_de_vie_clust) {\n",
    "  if (v != \"id\") {\n",
    "    cat(\"Table pour la variable:\", v, \"\\n\")\n",
    "    print(table(df_mode_de_vie[[v]]))\n",
    "    cat(\"\\n\\n\")\n",
    "  }\n",
    "}"
   ]
  },
  {
   "cell_type": "code",
   "execution_count": 8,
   "metadata": {
    "vscode": {
     "languageId": "r"
    }
   },
   "outputs": [],
   "source": [
    "# Sauvegarder les données préparées\n",
    "saveRDS(df_mode_de_vie, file = \"../../_PrivateFolder_datagotchi_federal_2025/data/clustering/can2025/02_pilot_2025_mode_de_vie.rds\")"
   ]
  },
  {
   "cell_type": "markdown",
   "metadata": {},
   "source": [
    "---"
   ]
  },
  {
   "cell_type": "markdown",
   "metadata": {},
   "source": [
    "# SUGGESTION : Activité de Clustering\n",
    "\n",
    "Si souhaité, effectuer un exercice de clustering avec ce sous-groupe de variables pour mieux saisir les données et leur relation. \n",
    "\n",
    "Cet exercice est purement exploratoire et sert à voir si les données peuvent être utilisées pour faire du clustering."
   ]
  }
 ],
 "metadata": {
  "kernelspec": {
   "display_name": "R",
   "language": "R",
   "name": "ir"
  },
  "language_info": {
   "codemirror_mode": "r",
   "file_extension": ".r",
   "mimetype": "text/x-r-source",
   "name": "R",
   "pygments_lexer": "r",
   "version": "4.4.2"
  }
 },
 "nbformat": 4,
 "nbformat_minor": 2
}
