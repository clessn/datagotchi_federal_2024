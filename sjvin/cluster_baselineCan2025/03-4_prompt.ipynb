{
 "cells": [
  {
   "cell_type": "markdown",
   "metadata": {},
   "source": [
    "# Création de prompts pour le nommage et la description des clusters"
   ]
  },
  {
   "cell_type": "code",
   "execution_count": null,
   "metadata": {
    "vscode": {
     "languageId": "r"
    }
   },
   "outputs": [],
   "source": [
    "Sys.setlocale(\"LC_ALL\", \"fr_CA.UTF-8\")\n",
    "\n",
    "# Library\n",
    "library(dplyr)\n",
    "library(tidyr)\n",
    "library(ggplot2)\n",
    "library(ggtext)\n",
    "library(tidytext)\n",
    "library(ellipsellm)\n",
    "\n",
    "# Load Data and Clustering Results\n",
    "kmeans_result <- readRDS(\"../../_PrivateFolder_datagotchi_federal_2025/data/clustering/can2025/03_pilot_kmeans.rds\") # nolint\n",
    "dfUsedForClustering <- readRDS(\"../../_PrivateFolder_datagotchi_federal_2025/data/clustering/can2025/03_pilot_2025.rds\")\n",
    "df_clusters_composition <- readRDS(\"../../_PrivateFolder_datagotchi_federal_2025/data/clustering/can2025/03_pilot_clusters_composition.rds\")"
   ]
  },
  {
   "cell_type": "code",
   "execution_count": null,
   "metadata": {
    "vscode": {
     "languageId": "r"
    }
   },
   "outputs": [],
   "source": [
    "cluster_names <- unique(dfUsedForClustering$cluster_name)\n",
    "cluster_names <- cluster_names[order(cluster_names)]\n",
    "\n",
    "prompts <- list()\n",
    "\n",
    "for (cluster_value in cluster_names) {\n",
    "  cluster_data <- dfUsedForClustering %>% filter(cluster_name == cluster_value)\n",
    "  cluster_vars <- df_clusters_composition %>% filter(cluster_name == cluster_value)\n",
    "\n",
    "  # Calculer quelques statistiques démographiques pour le cluster\n",
    "  perc_hommes     <- mean(cluster_data$ses_genderMale, na.rm = TRUE) * 100\n",
    "  perc_immigrants <- mean(cluster_data$ses_immigrant, na.rm = TRUE) * 100\n",
    "  perc_langEn     <- mean(cluster_data$ses_languageEnglish, na.rm = TRUE) * 100\n",
    "  perc_langFr     <- mean(cluster_data$ses_languageFrench, na.rm = TRUE) * 100\n",
    "  perc_ses_languageOther <- mean(cluster_data$ses_languageOther, na.rm = TRUE) * 100\n",
    "  perc_ethn_white <- mean(cluster_data$ses_ethnicityWhite, na.rm = TRUE) * 100\n",
    "  perc_hetero     <- mean(cluster_data$ses_sexOrientationHetero, na.rm = TRUE) * 100\n",
    "  educ_mean_BHS       <- mean(cluster_data$ses_educBHS, na.rm = TRUE) * 100\n",
    "  educ_mean_PostHS       <- mean(cluster_data$ses_educPostHS, na.rm = TRUE) * 100\n",
    "  educ_mean_Univ       <- mean(cluster_data$ses_educUniv, na.rm = TRUE) * 100\n",
    "  age_mean        <- mean(cluster_data$ses_age, na.rm = TRUE) * 80\n",
    "  revenu_moyen_Low    <- mean(cluster_data$ses_incomeLow, na.rm = TRUE) * 100\n",
    "  revenu_moyen_Mid    <- mean(cluster_data$ses_incomeMid, na.rm = TRUE) * 100\n",
    "  revenu_moyen_High    <- mean(cluster_data$ses_incomeHigh, na.rm = TRUE) * 100\n",
    "\n",
    "  # Génération du prompt de suggestion de noms\n",
    "  prompt_description <- (paste0(\n",
    "  \"Propose un prénom pour une personne habitant au Canada et donne une brève description pour le persona \", cluster_value, \" :\\n\\n\",\n",
    "  \n",
    "  \"Variables avec une moyenne significativement plus élevée que la moyenne de la population en général :\\n\",\n",
    "  if (any(cluster_vars$color == \"green\")) {\n",
    "    paste(cluster_vars[cluster_vars$color == \"green\", \"variable\"], collapse = \"\\n\")\n",
    "  } else {\n",
    "    \"Aucune variable n'a une moyenne significativement plus élevée que la moyenne de la population en général.\"\n",
    "  },\n",
    "  \n",
    "  \"\\n\\nVariables avec une moyenne significativement plus basse que la moyenne de la population en général :\\n\",\n",
    "  if (any(cluster_vars$color == \"red\")) {\n",
    "    paste(cluster_vars[cluster_vars$color == \"red\", \"variable\"], collapse = \"\\n\")\n",
    "  } else {\n",
    "    \"Aucune variable avec une moyenne significativement plus basse que la moyenne de la population en général.\"\n",
    "  },\n",
    "  \n",
    "  \"\\n\\nCe cluster est composé de :\\n\", \n",
    "  \"Hommes: \", round(perc_hommes, 1), \"%, \",\n",
    "  \"Immigrants: \", round(perc_immigrants, 1), \"%\\n\",\n",
    "  \"Âge: \", round(age_mean, 1), \" ans\\n\",\n",
    "  \"Revenus:\\n\",\n",
    "  \"  Revenu Bas: \", round(revenu_moyen_Low, 1), \" %\\n\",\n",
    "  \"  Revenu Mid: \", round(revenu_moyen_Mid, 1), \" %\\n\",\n",
    "  \"  Revenu High: \", round(revenu_moyen_High, 1), \" %\\n\",\n",
    "  \"Langues:\\n\",\n",
    "  \"  En: \", round(perc_langEn, 1), \"%, \",\n",
    "  \"Fr: \", round(perc_langFr, 1), \"%, \",\n",
    "  \"Autres: \", round(perc_ses_languageOther, 1), \"%\\n\",\n",
    "  \"EducBHS: \", round(educ_mean_BHS, 1), \"%\\n\",\n",
    "  \"EducPostHS: \", round(educ_mean_PostHS, 1), \"%\\n\",\n",
    "  \"EducUniv: \", round(educ_mean_Univ, 1), \"%\\n\",\n",
    "  \"Ethnie (Blanc): \", round(perc_ethn_white, 1), \"%\\n\",\n",
    "  \"Orientation (Hétéro): \", round(perc_hetero, 1), \"%\\n\"\n",
    "))\n",
    "\n",
    "  prompts[[cluster_value]] <- prompt_description\n",
    "}\n"
   ]
  },
  {
   "cell_type": "code",
   "execution_count": null,
   "metadata": {
    "vscode": {
     "languageId": "r"
    }
   },
   "outputs": [],
   "source": [
    "prompts"
   ]
  },
  {
   "cell_type": "code",
   "execution_count": null,
   "metadata": {
    "vscode": {
     "languageId": "r"
    }
   },
   "outputs": [],
   "source": [
    "reponses_openai <- list()\n",
    "# Afficher ou traiter tous les prompts\n",
    "for (cluster in names(prompts)) {\n",
    "  # Par exemple, envoyer chaque prompt à OpenAI (si la fonction est correctement définie)\n",
    "  conv <- openai_create_conversation(prompts[[cluster]])\n",
    "  resp <- openai_chat_completion(conv)\n",
    "  reponses_openai[[cluster]] <- resp$content\n",
    "}\n"
   ]
  },
  {
   "cell_type": "code",
   "execution_count": null,
   "metadata": {
    "vscode": {
     "languageId": "r"
    }
   },
   "outputs": [],
   "source": [
    "reponses_openai"
   ]
  },
  {
   "cell_type": "code",
   "execution_count": null,
   "metadata": {
    "vscode": {
     "languageId": "r"
    }
   },
   "outputs": [],
   "source": [
    "description_clusters <- data.frame(prompt = unlist(prompts), description = unlist(reponses_openai))"
   ]
  },
  {
   "cell_type": "code",
   "execution_count": null,
   "metadata": {
    "vscode": {
     "languageId": "r"
    }
   },
   "outputs": [],
   "source": [
    "description_clusters"
   ]
  },
  {
   "cell_type": "code",
   "execution_count": null,
   "metadata": {
    "vscode": {
     "languageId": "r"
    }
   },
   "outputs": [],
   "source": [
    "write.csv(description_clusters, \"description_clusters.csv\", row.names = FALSE)"
   ]
  },
  {
   "cell_type": "code",
   "execution_count": null,
   "metadata": {
    "vscode": {
     "languageId": "r"
    }
   },
   "outputs": [],
   "source": [
    "saveRDS(description_clusters, file = \"../../_PrivateFolder_datagotchi_federal_2025/data/clustering/can2025/03_pilot_clusters_description.rds\")"
   ]
  }
 ],
 "metadata": {
  "kernelspec": {
   "display_name": "R",
   "language": "R",
   "name": "ir"
  },
  "language_info": {
   "codemirror_mode": "r",
   "file_extension": ".r",
   "mimetype": "text/x-r-source",
   "name": "R",
   "pygments_lexer": "r",
   "version": "4.4.2"
  }
 },
 "nbformat": 4,
 "nbformat_minor": 2
}
