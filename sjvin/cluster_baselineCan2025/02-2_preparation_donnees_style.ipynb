{
 "cells": [
  {
   "cell_type": "markdown",
   "metadata": {},
   "source": [
    "# Préparation des variables pour les variables de style"
   ]
  },
  {
   "cell_type": "code",
   "execution_count": null,
   "metadata": {
    "vscode": {
     "languageId": "r"
    }
   },
   "outputs": [],
   "source": [
    "library(tidyverse)\n",
    "library(factoextra)\n",
    "\n",
    "# Charger les données\n",
    "DataPilot <- readRDS(\"../../_PrivateFolder_datagotchi_federal_2025/data/clustering/can2025/01_pilot_2025.rds\")\n",
    "\n",
    "# Charger le fichier des variables\n",
    "source(\"01-1_variables.R\")\n",
    "\n",
    "# Préparation du jeu de données pour les variables de style\n",
    "df_style <- DataPilot %>%\n",
    "  select(all_of(variables_style))"
   ]
  },
  {
   "cell_type": "code",
   "execution_count": null,
   "metadata": {
    "vscode": {
     "languageId": "r"
    }
   },
   "outputs": [],
   "source": [
    "# Boucle pour afficher la table pour chaque variable\n",
    "for (v in variables_style) {\n",
    "  if (v != \"id\") {\n",
    "    cat(\"Table pour la variable:\", v, \"\\n\")\n",
    "    print(table(df_style[[v]]))\n",
    "    cat(\"\\n\\n\")\n",
    "  }\n",
    "}"
   ]
  },
  {
   "cell_type": "markdown",
   "metadata": {},
   "source": [
    "## Transformations\n",
    "\n",
    "- app_swag\n",
    "\n",
    "Les variables app_swag sont telles que certaines catégories sont très peu peuplées. Regrouper les styles pour en faire des styles plus généraux.\n",
    "\n",
    "- animal\n",
    "\n",
    "Regrouper certaines classes d'animal pour avoir des catégories plus générales\n"
   ]
  },
  {
   "cell_type": "code",
   "execution_count": null,
   "metadata": {
    "vscode": {
     "languageId": "r"
    }
   },
   "outputs": [],
   "source": [
    "# Regroupement de app_swag\n",
    "#-------------------------\n",
    "\n",
    "df_style <- df_style %>%\n",
    "\n",
    "  # Regrouper Formel et Chic sous Classique\n",
    "  mutate(\n",
    "    lifestyle_clothingStyleClassic = if_else(\n",
    "      lifestyle_clothingStyleFormal == 1 | lifestyle_clothingStyleElegant == 1,\n",
    "      1,\n",
    "      lifestyle_clothingStyleClassic\n",
    "    )\n",
    "  ) %>%\n",
    "  select(-lifestyle_clothingStyleFormal, -lifestyle_clothingStyleElegant) %>%\n",
    "\n",
    "  # Regrouper HippBoheme, Punk, Rock sous Other\n",
    "  mutate(\n",
    "    lifestyle_clothingStyleOther = if_else(\n",
    "      lifestyle_clothingStyleHippie == 1 | lifestyle_clothingStylePunk == 1 | lifestyle_clothingStyleRock == 1,\n",
    "      1,\n",
    "      lifestyle_clothingStyleOther\n",
    "    )\n",
    "  ) %>%\n",
    "  select(-lifestyle_clothingStyleHippie, -lifestyle_clothingStylePunk, -lifestyle_clothingStyleRock)"
   ]
  },
  {
   "cell_type": "code",
   "execution_count": null,
   "metadata": {
    "vscode": {
     "languageId": "r"
    }
   },
   "outputs": [],
   "source": [
    "table(df_style$lifestyle_clothingStyleSport)"
   ]
  },
  {
   "cell_type": "code",
   "execution_count": null,
   "metadata": {
    "vscode": {
     "languageId": "r"
    }
   },
   "outputs": [],
   "source": [
    "# Regroupement de animal\n",
    "#-----------------------\n",
    "\n",
    "df_style <- df_style %>%\n",
    "  mutate(lifestyle_ownPetOther = if_else(\n",
    "   lifestyle_ownPetFarmAnimals == 1,\n",
    "    1,\n",
    "    lifestyle_ownPetOther\n",
    "  )\n",
    "  ) %>%\n",
    "  select(-lifestyle_ownPetFarmAnimals)"
   ]
  },
  {
   "cell_type": "code",
   "execution_count": null,
   "metadata": {
    "vscode": {
     "languageId": "r"
    }
   },
   "outputs": [],
   "source": [
    "variables_style_clust <- c(\n",
    "  \"id\",\n",
    "  \"lifestyle_clothingStyleClassic\",\n",
    "  \"lifestyle_clothingStyleCasual\",\n",
    "  \"lifestyle_clothingStyleSport\",\n",
    "  \"lifestyle_clothingStyleOther\",\n",
    "  \"lifestyle_hasTattoos\",\n",
    "  \"lifestyle_ownPetCat\",\n",
    "  \"lifestyle_ownPetDog\",\n",
    "  \"lifestyle_ownPetOther\",\n",
    "  \"lifestyle_ownPetCatAndDog\",\n",
    "  \"lifestyle_ownPetNone\"\n",
    ")"
   ]
  },
  {
   "cell_type": "code",
   "execution_count": null,
   "metadata": {
    "vscode": {
     "languageId": "r"
    }
   },
   "outputs": [],
   "source": [
    "# Boucle pour afficher la table pour chaque variable\n",
    "for (v in variables_style_clust) {\n",
    "  if (v != \"id\") {\n",
    "    cat(\"Table pour la variable:\", v, \"\\n\")\n",
    "    print(table(df_style[[v]]))\n",
    "    cat(\"\\n\\n\")\n",
    "  }\n",
    "}"
   ]
  },
  {
   "cell_type": "code",
   "execution_count": null,
   "metadata": {
    "vscode": {
     "languageId": "r"
    }
   },
   "outputs": [],
   "source": [
    "# Sauvegarder les données préparées\n",
    "saveRDS(df_style, file = \"../../_PrivateFolder_datagotchi_federal_2025/data/clustering/can2025/02_pilot_2025_style.rds\")"
   ]
  },
  {
   "cell_type": "markdown",
   "metadata": {},
   "source": [
    "---"
   ]
  },
  {
   "cell_type": "markdown",
   "metadata": {},
   "source": [
    "# SUGGESTION : Activité de Clustering\n",
    "\n",
    "Si souhaité, effectuer un exercice de clustering avec ce sous-groupe de variables pour mieux saisir les données et leur relation. \n",
    "\n",
    "Cet exercice est purement exploratoire et sert à voir si les données peuvent être utilisées pour faire du clustering."
   ]
  }
 ],
 "metadata": {
  "kernelspec": {
   "display_name": "R",
   "language": "R",
   "name": "ir"
  },
  "language_info": {
   "codemirror_mode": "r",
   "file_extension": ".r",
   "mimetype": "text/x-r-source",
   "name": "R",
   "pygments_lexer": "r",
   "version": "4.4.2"
  }
 },
 "nbformat": 4,
 "nbformat_minor": 2
}
