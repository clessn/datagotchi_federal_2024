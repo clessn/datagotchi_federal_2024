{
 "cells": [
  {
   "cell_type": "markdown",
   "metadata": {},
   "source": [
    "# Préparation des variables de ses"
   ]
  },
  {
   "cell_type": "code",
   "execution_count": 19,
   "metadata": {
    "vscode": {
     "languageId": "r"
    }
   },
   "outputs": [],
   "source": [
    "library(tidyverse)\n",
    "library(factoextra)\n",
    "\n",
    "# Charger les données\n",
    "df_pilot1_2022 <- readRDS(\"../../_PrivateFolder_datagotchi_federal_2025/data/clustering/qc2022/01_pilot1_2022.rds\")\n",
    "\n",
    "# Charger le fichier des variables\n",
    "source(\"01-1_variables.R\")\n",
    "\n",
    "df_ses <- df_pilot1_2022 %>%\n",
    "  select(all_of(variables_ses))"
   ]
  },
  {
   "cell_type": "code",
   "execution_count": 20,
   "metadata": {
    "vscode": {
     "languageId": "r"
    }
   },
   "outputs": [
    {
     "name": "stdout",
     "output_type": "stream",
     "text": [
      "Table pour la variable: male \n",
      "\n",
      "  0   1 \n",
      "814 686 \n",
      "\n",
      "\n",
      "Table pour la variable: female \n",
      "\n",
      "  0   1 \n",
      "695 805 \n",
      "\n",
      "\n",
      "Table pour la variable: age34m \n",
      "\n",
      "   0    1 \n",
      "1147  353 \n",
      "\n",
      "\n",
      "Table pour la variable: age3554 \n",
      "\n",
      "  0   1 \n",
      "958 542 \n",
      "\n",
      "\n",
      "Table pour la variable: age55p \n",
      "\n",
      "  0   1 \n",
      "895 605 \n",
      "\n",
      "\n",
      "Table pour la variable: langEn \n",
      "\n",
      "   0    1 \n",
      "1287  213 \n",
      "\n",
      "\n",
      "Table pour la variable: langFr \n",
      "\n",
      "   0    1 \n",
      " 249 1251 \n",
      "\n",
      "\n",
      "Table pour la variable: ses_languageOther \n",
      "\n",
      "   0    1 \n",
      "1464   36 \n",
      "\n",
      "\n",
      "Table pour la variable: educBHS \n",
      "\n",
      "   0    1 \n",
      "1110  390 \n",
      "\n",
      "\n",
      "Table pour la variable: educCollege \n",
      "\n",
      "  0   1 \n",
      "957 543 \n",
      "\n",
      "\n",
      "Table pour la variable: educUniv \n",
      "\n",
      "  0   1 \n",
      "933 567 \n",
      "\n",
      "\n",
      "Table pour la variable: ses_income_None \n",
      "\n",
      "   0    1 \n",
      "1494    6 \n",
      "\n",
      "\n",
      "Table pour la variable: ses_income_i1to30 \n",
      "\n",
      "   0    1 \n",
      "1302  198 \n",
      "\n",
      "\n",
      "Table pour la variable: ses_income_i31to60 \n",
      "\n",
      "   0    1 \n",
      "1159  341 \n",
      "\n",
      "\n",
      "Table pour la variable: ses_income_i61to90 \n",
      "\n",
      "   0    1 \n",
      "1206  294 \n",
      "\n",
      "\n",
      "Table pour la variable: ses_income_i91to110 \n",
      "\n",
      "   0    1 \n",
      "1321  179 \n",
      "\n",
      "\n",
      "Table pour la variable: ses_income_i111to150 \n",
      "\n",
      "   0    1 \n",
      "1330  170 \n",
      "\n",
      "\n",
      "Table pour la variable: ses_income_i151to200 \n",
      "\n",
      "   0    1 \n",
      "1404   96 \n",
      "\n",
      "\n",
      "Table pour la variable: ses_income_i201toInf \n",
      "\n",
      "   0    1 \n",
      "1460   40 \n",
      "\n",
      "\n",
      "Table pour la variable: immigrant \n",
      "\n",
      "   0    1 \n",
      "1309  191 \n",
      "\n",
      "\n",
      "Table pour la variable: ses_ethn_White \n",
      "\n",
      "   0    1 \n",
      " 150 1350 \n",
      "\n",
      "\n",
      "Table pour la variable: ses_ethn_Black \n",
      "\n",
      "   0    1 \n",
      "1475   25 \n",
      "\n",
      "\n",
      "Table pour la variable: ses_ethn_Other \n",
      "\n",
      "   0    1 \n",
      "1471   29 \n",
      "\n",
      "\n",
      "Table pour la variable: ses_hetero \n",
      "\n",
      "   0    1 \n",
      " 154 1346 \n",
      "\n",
      "\n",
      "Table pour la variable: ses_gai \n",
      "\n",
      "   0    1 \n",
      "1425   75 \n",
      "\n",
      "\n",
      "Table pour la variable: ses_bisex \n",
      "\n",
      "   0    1 \n",
      "1449   51 \n",
      "\n",
      "\n",
      "Table pour la variable: ses_sexOri_other \n",
      "\n",
      "   0    1 \n",
      "1472   28 \n",
      "\n",
      "\n"
     ]
    }
   ],
   "source": [
    "# Boucle pour afficher la table pour chaque variable\n",
    "for (v in variables_ses) {\n",
    "  if (v != \"id\") {\n",
    "    cat(\"Table pour la variable:\", v, \"\\n\")\n",
    "    print(table(df_ses[[v]]))\n",
    "    cat(\"\\n\\n\")\n",
    "  }\n",
    "}"
   ]
  },
  {
   "cell_type": "markdown",
   "metadata": {},
   "source": [
    "### Transformations\n",
    "\n",
    "Les variables age, éducation et income devraient être des variables ordinales"
   ]
  },
  {
   "cell_type": "code",
   "execution_count": 21,
   "metadata": {
    "vscode": {
     "languageId": "r"
    }
   },
   "outputs": [],
   "source": [
    "# Transformation de age en variable ordinale\n",
    "#-------------------------------------------\n",
    "\n",
    "df_ses <- df_ses %>%\n",
    "\n",
    "  mutate(\n",
    "    age = if_else(\n",
    "      age34m == 1,\n",
    "      0,\n",
    "      if_else(\n",
    "        age3554 == 1,\n",
    "        0.5,\n",
    "        1\n",
    "      )\n",
    "    )\n",
    "  ) %>%\n",
    "  select(\n",
    "    -age34m,\n",
    "    -age3554,\n",
    "    -age55p\n",
    "  )"
   ]
  },
  {
   "cell_type": "code",
   "execution_count": 22,
   "metadata": {
    "vscode": {
     "languageId": "r"
    }
   },
   "outputs": [],
   "source": [
    "# Transformation de educ en variable ordinale\n",
    "#--------------------------------------------\n",
    "\n",
    "df_ses <- df_ses %>%\n",
    "\n",
    "  mutate(\n",
    "    educ = if_else(\n",
    "      educBHS == 1,\n",
    "      0,\n",
    "      if_else(\n",
    "        educCollege == 1,\n",
    "        0.5,\n",
    "        1\n",
    "      )\n",
    "    )\n",
    "  ) %>%\n",
    "  select(\n",
    "    -educBHS,\n",
    "    -educCollege,\n",
    "    -educUniv\n",
    "  )"
   ]
  },
  {
   "cell_type": "code",
   "execution_count": 23,
   "metadata": {
    "vscode": {
     "languageId": "r"
    }
   },
   "outputs": [],
   "source": [
    "# Transformation de income en variable ordinale\n",
    "#----------------------------------------------\n",
    "\n",
    "df_ses <- df_ses %>%\n",
    "\n",
    "  mutate(\n",
    "    ses_income_None = 0,\n",
    "    ses_income_i1to30    = ses_income_i1to30/7,\n",
    "    ses_income_i31to60   = (1*ses_income_i31to60)/7 + ses_income_i31to60/7,\n",
    "    ses_income_i61to90   = (2*ses_income_i61to90)/7 + ses_income_i61to90/7,\n",
    "    ses_income_i91to110  = (3*ses_income_i91to110)/7 + ses_income_i91to110/7,\n",
    "    ses_income_i111to150 = (4*ses_income_i111to150)/7 + ses_income_i111to150/7,\n",
    "    ses_income_i151to200 = (5*ses_income_i151to200)/7 + ses_income_i151to200/7,\n",
    "    ses_income_i201toInf = (ses_income_i201toInf)\n",
    "  ) %>%\n",
    "  mutate (\n",
    "    ses_income = ses_income_None +\n",
    "      ses_income_i31to60 +\n",
    "      ses_income_i61to90 +\n",
    "      ses_income_i91to110 +\n",
    "      ses_income_i111to150 +\n",
    "      ses_income_i151to200 +\n",
    "      ses_income_i201toInf\n",
    "  ) %>%\n",
    "  select(\n",
    "    -ses_income_None,\n",
    "    -ses_income_i201toInf,\n",
    "    -ses_income_i31to60,\n",
    "    -ses_income_i61to90,\n",
    "    -ses_income_i91to110,\n",
    "    -ses_income_i111to150,\n",
    "    -ses_income_i151to200,\n",
    "    -ses_income_i201toInf\n",
    "  )"
   ]
  },
  {
   "cell_type": "code",
   "execution_count": 24,
   "metadata": {
    "vscode": {
     "languageId": "r"
    }
   },
   "outputs": [],
   "source": [
    "# Transformation de l'orientation sexuelle \n",
    "#----------------------------------------------\n",
    "\n",
    "df_ses <- df_ses %>%\n",
    "\n",
    "  mutate(ses_queer = if_else(ses_gai == 1 | ses_bisex == 1 | ses_sexOri_other == 1,\n",
    "  1, 0)) %>%\n",
    "    select(-ses_gai, -ses_bisex, -ses_sexOri_other)"
   ]
  },
  {
   "cell_type": "code",
   "execution_count": 25,
   "metadata": {
    "vscode": {
     "languageId": "r"
    }
   },
   "outputs": [],
   "source": [
    "variables_ses_clust <- c(\n",
    "  \"id\",\n",
    "  \"male\",\n",
    "  \"female\",\n",
    "  \"age\",\n",
    "  \"langEn\",\n",
    "  \"langFr\",\n",
    "  \"ses_languageOther\",\n",
    "  \"educ\",\n",
    "  \"ses_income\",\n",
    "  \"immigrant\",\n",
    "  \"ses_ethn_White\",\n",
    "  \"ses_ethn_Black\",\n",
    "  \"ses_ethn_Other\",\n",
    "  \"ses_hetero\",\n",
    "  \"ses_queer\"\n",
    ")"
   ]
  },
  {
   "cell_type": "code",
   "execution_count": 26,
   "metadata": {
    "vscode": {
     "languageId": "r"
    }
   },
   "outputs": [
    {
     "name": "stdout",
     "output_type": "stream",
     "text": [
      "Table pour la variable: male \n",
      "\n",
      "  0   1 \n",
      "814 686 \n",
      "\n",
      "\n",
      "Table pour la variable: female \n",
      "\n",
      "  0   1 \n",
      "695 805 \n",
      "\n",
      "\n",
      "Table pour la variable: age \n",
      "\n",
      "  0 0.5   1 \n",
      "353 542 605 \n",
      "\n",
      "\n",
      "Table pour la variable: langEn \n",
      "\n",
      "   0    1 \n",
      "1287  213 \n",
      "\n",
      "\n",
      "Table pour la variable: langFr \n",
      "\n",
      "   0    1 \n",
      " 249 1251 \n",
      "\n",
      "\n",
      "Table pour la variable: ses_languageOther \n",
      "\n",
      "   0    1 \n",
      "1464   36 \n",
      "\n",
      "\n",
      "Table pour la variable: educ \n",
      "\n",
      "  0 0.5   1 \n",
      "390 543 567 \n",
      "\n",
      "\n",
      "Table pour la variable: ses_income \n",
      "\n",
      "                0 0.285714285714286 0.428571428571429 0.571428571428571 \n",
      "              380               341               294               179 \n",
      "0.714285714285714 0.857142857142857                 1 \n",
      "              170                96                40 \n",
      "\n",
      "\n",
      "Table pour la variable: immigrant \n",
      "\n",
      "   0    1 \n",
      "1309  191 \n",
      "\n",
      "\n",
      "Table pour la variable: ses_ethn_White \n",
      "\n",
      "   0    1 \n",
      " 150 1350 \n",
      "\n",
      "\n",
      "Table pour la variable: ses_ethn_Black \n",
      "\n",
      "   0    1 \n",
      "1475   25 \n",
      "\n",
      "\n",
      "Table pour la variable: ses_ethn_Other \n",
      "\n",
      "   0    1 \n",
      "1471   29 \n",
      "\n",
      "\n",
      "Table pour la variable: ses_hetero \n",
      "\n",
      "   0    1 \n",
      " 154 1346 \n",
      "\n",
      "\n",
      "Table pour la variable: ses_queer \n",
      "\n",
      "   0    1 \n",
      "1346  154 \n",
      "\n",
      "\n"
     ]
    }
   ],
   "source": [
    "# Boucle pour afficher la table pour chaque variable\n",
    "for (v in variables_ses_clust) {\n",
    "  if (v != \"id\") {\n",
    "    cat(\"Table pour la variable:\", v, \"\\n\")\n",
    "    print(table(df_ses[[v]]))\n",
    "    cat(\"\\n\\n\")\n",
    "  }\n",
    "}"
   ]
  },
  {
   "cell_type": "code",
   "execution_count": 27,
   "metadata": {
    "vscode": {
     "languageId": "r"
    }
   },
   "outputs": [],
   "source": [
    "# Sauvegarder les données préparées\n",
    "saveRDS(df_ses, file = \"../../_PrivateFolder_datagotchi_federal_2025/data/clustering/qc2022/02_pilot1_2022_ses.rds\")"
   ]
  },
  {
   "cell_type": "markdown",
   "metadata": {},
   "source": [
    "---"
   ]
  },
  {
   "cell_type": "markdown",
   "metadata": {},
   "source": [
    "# SUGGESTION : Activité de Clustering\n",
    "\n",
    "Si souhaité, effectuer un exercice de clustering avec ce sous-groupe de variables pour mieux saisir les données et leur relation. \n",
    "\n",
    "Cet exercice est purement exploratoire et sert à voir si les données peuvent être utilisées pour faire du clustering."
   ]
  }
 ],
 "metadata": {
  "kernelspec": {
   "display_name": "R",
   "language": "R",
   "name": "ir"
  },
  "language_info": {
   "codemirror_mode": "r",
   "file_extension": ".r",
   "mimetype": "text/x-r-source",
   "name": "R",
   "pygments_lexer": "r",
   "version": "4.4.2"
  }
 },
 "nbformat": 4,
 "nbformat_minor": 2
}
