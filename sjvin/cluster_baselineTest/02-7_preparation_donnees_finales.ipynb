{
 "cells": [
  {
   "cell_type": "markdown",
   "metadata": {},
   "source": [
    "# Assemblage des données\n",
    "\n",
    "Les variables ont été préparées pour le clustering en sous-ensemble de variables.\n",
    "\n",
    "Assembler toutes les tables de données contenant chaque sous-ensemble de variables."
   ]
  },
  {
   "cell_type": "code",
   "execution_count": 7,
   "metadata": {
    "vscode": {
     "languageId": "r"
    }
   },
   "outputs": [],
   "source": [
    "library(dplyr)\n",
    "\n",
    "# Assemblage des fichiers\n",
    "\n",
    "df_pilot1_2022_act         <- readRDS(file = \"../../_PrivateFolder_datagotchi_federal_2025/data/clustering/qc2022/02_pilot1_2022_act.rds\")\n",
    "df_pilot1_2022_style       <- readRDS(file = \"../../_PrivateFolder_datagotchi_federal_2025/data/clustering/qc2022/02_pilot1_2022_style.rds\")\n",
    "df_pilot1_2022_sante       <- readRDS(file = \"../../_PrivateFolder_datagotchi_federal_2025/data/clustering/qc2022/02_pilot1_2022_sante.rds\")\n",
    "df_pilot1_2022_mode_de_vie <- readRDS(file = \"../../_PrivateFolder_datagotchi_federal_2025/data/clustering/qc2022/02_pilot1_2022_mode_de_vie.rds\")\n",
    "df_pilot1_2022_commerce    <- readRDS(file = \"../../_PrivateFolder_datagotchi_federal_2025/data/clustering/qc2022/02_pilot1_2022_commerce.rds\")\n",
    "df_pilot1_2022_ses         <- readRDS(file = \"../../_PrivateFolder_datagotchi_federal_2025/data/clustering/qc2022/02_pilot1_2022_ses.rds\")\n",
    "\n",
    "df_pilot1_2022_clust <- df_pilot1_2022_act %>%\n",
    "  left_join(df_pilot1_2022_style, by = \"id\") %>%\n",
    "  left_join(df_pilot1_2022_sante, by = \"id\") %>%\n",
    "  left_join(df_pilot1_2022_mode_de_vie, by = \"id\") %>%\n",
    "  left_join(df_pilot1_2022_commerce, by = \"id\") %>%\n",
    "  left_join(df_pilot1_2022_ses, by = \"id\")\n",
    "\n",
    "saveRDS(df_pilot1_2022_clust, file = \"../../_PrivateFolder_datagotchi_federal_2025/data/clustering/qc2022/02_pilot1_2022.rds\")\n"
   ]
  }
 ],
 "metadata": {
  "kernelspec": {
   "display_name": "R",
   "language": "R",
   "name": "ir"
  },
  "language_info": {
   "codemirror_mode": "r",
   "file_extension": ".r",
   "mimetype": "text/x-r-source",
   "name": "R",
   "pygments_lexer": "r",
   "version": "4.4.2"
  }
 },
 "nbformat": 4,
 "nbformat_minor": 2
}
