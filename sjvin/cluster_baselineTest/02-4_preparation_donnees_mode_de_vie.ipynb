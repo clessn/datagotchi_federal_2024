{
 "cells": [
  {
   "cell_type": "markdown",
   "metadata": {},
   "source": [
    "# Préparation des variables de mode de vie"
   ]
  },
  {
   "cell_type": "code",
   "execution_count": 1,
   "metadata": {
    "vscode": {
     "languageId": "r"
    }
   },
   "outputs": [
    {
     "name": "stderr",
     "output_type": "stream",
     "text": [
      "-- \u001b[1mAttaching core tidyverse packages\u001b[22m ------------------------ tidyverse 2.0.0 --\n",
      "\u001b[32mv\u001b[39m \u001b[34mdplyr    \u001b[39m 1.1.4     \u001b[32mv\u001b[39m \u001b[34mreadr    \u001b[39m 2.1.5\n",
      "\u001b[32mv\u001b[39m \u001b[34mforcats  \u001b[39m 1.0.0     \u001b[32mv\u001b[39m \u001b[34mstringr  \u001b[39m 1.5.1\n",
      "\u001b[32mv\u001b[39m \u001b[34mggplot2  \u001b[39m 3.5.1     \u001b[32mv\u001b[39m \u001b[34mtibble   \u001b[39m 3.2.1\n",
      "\u001b[32mv\u001b[39m \u001b[34mlubridate\u001b[39m 1.9.3     \u001b[32mv\u001b[39m \u001b[34mtidyr    \u001b[39m 1.3.1\n",
      "\u001b[32mv\u001b[39m \u001b[34mpurrr    \u001b[39m 1.0.2     \n",
      "-- \u001b[1mConflicts\u001b[22m ------------------------------------------ tidyverse_conflicts() --\n",
      "\u001b[31mx\u001b[39m \u001b[34mdplyr\u001b[39m::\u001b[32mfilter()\u001b[39m masks \u001b[34mstats\u001b[39m::filter()\n",
      "\u001b[31mx\u001b[39m \u001b[34mdplyr\u001b[39m::\u001b[32mlag()\u001b[39m    masks \u001b[34mstats\u001b[39m::lag()\n",
      "\u001b[36mi\u001b[39m Use the conflicted package (\u001b[3m\u001b[34m<http://conflicted.r-lib.org/>\u001b[39m\u001b[23m) to force all conflicts to become errors\n",
      "Welcome! Want to learn more? See two factoextra-related books at https://goo.gl/ve3WBa\n",
      "\n"
     ]
    }
   ],
   "source": [
    "library(tidyverse)\n",
    "library(factoextra)\n",
    "\n",
    "# Charger les données\n",
    "df_pilot1_2022 <- readRDS(\"../../_PrivateFolder_datagotchi_federal_2025/data/clustering/qc2022/01_pilot1_2022.rds\")\n",
    "\n",
    "# Charger le fichier des variables\n",
    "source(\"01-1_variables.R\")\n",
    "\n",
    "df_mode_de_vie <- df_pilot1_2022 %>%\n",
    "  select(all_of(variables_mode_de_vie))"
   ]
  },
  {
   "cell_type": "code",
   "execution_count": 2,
   "metadata": {
    "vscode": {
     "languageId": "r"
    }
   },
   "outputs": [
    {
     "data": {
      "text/html": [
       "<table class=\"dataframe\">\n",
       "<caption>A data.frame: 1 x 11</caption>\n",
       "<thead>\n",
       "\t<tr><th scope=col>vehicule_4x4</th><th scope=col>vehicule_Berline</th><th scope=col>vehicule_Cabriolet</th><th scope=col>vehicule_PickUp</th><th scope=col>vehicule_Van</th><th scope=col>vehicule_luxury</th><th scope=col>vehicule_sport</th><th scope=col>vehicule_electric</th><th scope=col>vehicule_VUS</th><th scope=col>vehicule_other</th><th scope=col>vehicule_noCar</th></tr>\n",
       "\t<tr><th scope=col>&lt;int&gt;</th><th scope=col>&lt;int&gt;</th><th scope=col>&lt;int&gt;</th><th scope=col>&lt;int&gt;</th><th scope=col>&lt;int&gt;</th><th scope=col>&lt;int&gt;</th><th scope=col>&lt;int&gt;</th><th scope=col>&lt;int&gt;</th><th scope=col>&lt;int&gt;</th><th scope=col>&lt;int&gt;</th><th scope=col>&lt;int&gt;</th></tr>\n",
       "</thead>\n",
       "<tbody>\n",
       "\t<tr><td>64</td><td>520</td><td>13</td><td>43</td><td>54</td><td>20</td><td>28</td><td>96</td><td>396</td><td>66</td><td>200</td></tr>\n",
       "</tbody>\n",
       "</table>\n"
      ],
      "text/latex": [
       "A data.frame: 1 x 11\n",
       "\\begin{tabular}{lllllllllll}\n",
       " vehicule\\_4x4 & vehicule\\_Berline & vehicule\\_Cabriolet & vehicule\\_PickUp & vehicule\\_Van & vehicule\\_luxury & vehicule\\_sport & vehicule\\_electric & vehicule\\_VUS & vehicule\\_other & vehicule\\_noCar\\\\\n",
       " <int> & <int> & <int> & <int> & <int> & <int> & <int> & <int> & <int> & <int> & <int>\\\\\n",
       "\\hline\n",
       "\t 64 & 520 & 13 & 43 & 54 & 20 & 28 & 96 & 396 & 66 & 200\\\\\n",
       "\\end{tabular}\n"
      ],
      "text/markdown": [
       "\n",
       "A data.frame: 1 x 11\n",
       "\n",
       "| vehicule_4x4 &lt;int&gt; | vehicule_Berline &lt;int&gt; | vehicule_Cabriolet &lt;int&gt; | vehicule_PickUp &lt;int&gt; | vehicule_Van &lt;int&gt; | vehicule_luxury &lt;int&gt; | vehicule_sport &lt;int&gt; | vehicule_electric &lt;int&gt; | vehicule_VUS &lt;int&gt; | vehicule_other &lt;int&gt; | vehicule_noCar &lt;int&gt; |\n",
       "|---|---|---|---|---|---|---|---|---|---|---|\n",
       "| 64 | 520 | 13 | 43 | 54 | 20 | 28 | 96 | 396 | 66 | 200 |\n",
       "\n"
      ],
      "text/plain": [
       "  vehicule_4x4 vehicule_Berline vehicule_Cabriolet vehicule_PickUp vehicule_Van\n",
       "1 64           520              13                 43              54          \n",
       "  vehicule_luxury vehicule_sport vehicule_electric vehicule_VUS vehicule_other\n",
       "1 20              28             96                396          66            \n",
       "  vehicule_noCar\n",
       "1 200           "
      ]
     },
     "metadata": {},
     "output_type": "display_data"
    },
    {
     "data": {
      "text/html": [
       "<table class=\"dataframe\">\n",
       "<caption>A data.frame: 1 x 6</caption>\n",
       "<thead>\n",
       "\t<tr><th scope=col>act_transport_Car</th><th scope=col>act_transport_SUV</th><th scope=col>act_transport_Moto</th><th scope=col>act_transport_Walk</th><th scope=col>act_transport_Bicycle</th><th scope=col>act_transport_PublicTransportation</th></tr>\n",
       "\t<tr><th scope=col>&lt;int&gt;</th><th scope=col>&lt;int&gt;</th><th scope=col>&lt;int&gt;</th><th scope=col>&lt;int&gt;</th><th scope=col>&lt;int&gt;</th><th scope=col>&lt;int&gt;</th></tr>\n",
       "</thead>\n",
       "<tbody>\n",
       "\t<tr><td>913</td><td>183</td><td>8</td><td>188</td><td>53</td><td>155</td></tr>\n",
       "</tbody>\n",
       "</table>\n"
      ],
      "text/latex": [
       "A data.frame: 1 x 6\n",
       "\\begin{tabular}{llllll}\n",
       " act\\_transport\\_Car & act\\_transport\\_SUV & act\\_transport\\_Moto & act\\_transport\\_Walk & act\\_transport\\_Bicycle & act\\_transport\\_PublicTransportation\\\\\n",
       " <int> & <int> & <int> & <int> & <int> & <int>\\\\\n",
       "\\hline\n",
       "\t 913 & 183 & 8 & 188 & 53 & 155\\\\\n",
       "\\end{tabular}\n"
      ],
      "text/markdown": [
       "\n",
       "A data.frame: 1 x 6\n",
       "\n",
       "| act_transport_Car &lt;int&gt; | act_transport_SUV &lt;int&gt; | act_transport_Moto &lt;int&gt; | act_transport_Walk &lt;int&gt; | act_transport_Bicycle &lt;int&gt; | act_transport_PublicTransportation &lt;int&gt; |\n",
       "|---|---|---|---|---|---|\n",
       "| 913 | 183 | 8 | 188 | 53 | 155 |\n",
       "\n"
      ],
      "text/plain": [
       "  act_transport_Car act_transport_SUV act_transport_Moto act_transport_Walk\n",
       "1 913               183               8                  188               \n",
       "  act_transport_Bicycle act_transport_PublicTransportation\n",
       "1 53                    155                               "
      ]
     },
     "metadata": {},
     "output_type": "display_data"
    }
   ],
   "source": [
    "library(dplyr)\n",
    "\n",
    "df_mode_de_vie %>%\n",
    "  select(starts_with(\"vehicule\")) %>%\n",
    "  summarise(across(everything(), \\(x) sum(x, na.rm = TRUE)))\n",
    "#  summarise(across(everything(), sum, na.rm = TRUE))\n",
    "\n",
    "df_mode_de_vie %>%\n",
    "  select(starts_with(\"act_transport\")) %>%\n",
    "  summarise(across(everything(), \\(x) sum(x, na.rm = TRUE)))\n",
    "#  summarise(across(everything(), sum, na.rm = TRUE))"
   ]
  },
  {
   "cell_type": "code",
   "execution_count": 3,
   "metadata": {
    "vscode": {
     "languageId": "r"
    }
   },
   "outputs": [
    {
     "name": "stdout",
     "output_type": "stream",
     "text": [
      "Table pour la variable: ses_dwelling_App \n",
      "\n",
      "   0    1 \n",
      "1201  299 \n",
      "\n",
      "\n",
      "Table pour la variable: ses_dwelling_Loft \n",
      "\n",
      "   0    1 \n",
      "1492    8 \n",
      "\n",
      "\n",
      "Table pour la variable: ses_dwelling_Condo \n",
      "\n",
      "   0    1 \n",
      "1334  166 \n",
      "\n",
      "\n",
      "Table pour la variable: ses_dwelling_Tour \n",
      "\n",
      "   0    1 \n",
      "1463   37 \n",
      "\n",
      "\n",
      "Table pour la variable: ses_dwelling_detachedHouse \n",
      "\n",
      "  0   1 \n",
      "784 716 \n",
      "\n",
      "\n",
      "Table pour la variable: ses_dwelling_townHouse \n",
      "\n",
      "   0    1 \n",
      "1419   81 \n",
      "\n",
      "\n",
      "Table pour la variable: ses_dwelling_Coop \n",
      "\n",
      "   0    1 \n",
      "1493    7 \n",
      "\n",
      "\n",
      "Table pour la variable: ses_dwelling_HLM \n",
      "\n",
      "   0    1 \n",
      "1488   12 \n",
      "\n",
      "\n",
      "Table pour la variable: ses_dwelling_Mobile \n",
      "\n",
      "   0    1 \n",
      "1491    9 \n",
      "\n",
      "\n",
      "Table pour la variable: ses_dwelling_Other \n",
      "\n",
      "   0    1 \n",
      "1335  165 \n",
      "\n",
      "\n",
      "Table pour la variable: act_transport_Car \n",
      "\n",
      "  0   1 \n",
      "587 913 \n",
      "\n",
      "\n",
      "Table pour la variable: act_transport_SUV \n",
      "\n",
      "   0    1 \n",
      "1317  183 \n",
      "\n",
      "\n",
      "Table pour la variable: act_transport_Moto \n",
      "\n",
      "   0    1 \n",
      "1492    8 \n",
      "\n",
      "\n",
      "Table pour la variable: act_transport_Walk \n",
      "\n",
      "   0    1 \n",
      "1312  188 \n",
      "\n",
      "\n",
      "Table pour la variable: act_transport_Bicycle \n",
      "\n",
      "   0    1 \n",
      "1447   53 \n",
      "\n",
      "\n",
      "Table pour la variable: act_transport_PublicTransportation \n",
      "\n",
      "   0    1 \n",
      "1345  155 \n",
      "\n",
      "\n",
      "Table pour la variable: vehicule_4x4 \n",
      "\n",
      "   0    1 \n",
      "1436   64 \n",
      "\n",
      "\n",
      "Table pour la variable: vehicule_Berline \n",
      "\n",
      "  0   1 \n",
      "980 520 \n",
      "\n",
      "\n",
      "Table pour la variable: vehicule_Cabriolet \n",
      "\n",
      "   0    1 \n",
      "1487   13 \n",
      "\n",
      "\n",
      "Table pour la variable: vehicule_PickUp \n",
      "\n",
      "   0    1 \n",
      "1457   43 \n",
      "\n",
      "\n",
      "Table pour la variable: vehicule_Van \n",
      "\n",
      "   0    1 \n",
      "1446   54 \n",
      "\n",
      "\n",
      "Table pour la variable: vehicule_luxury \n",
      "\n",
      "   0    1 \n",
      "1480   20 \n",
      "\n",
      "\n",
      "Table pour la variable: vehicule_sport \n",
      "\n",
      "   0    1 \n",
      "1472   28 \n",
      "\n",
      "\n",
      "Table pour la variable: vehicule_electric \n",
      "\n",
      "   0    1 \n",
      "1404   96 \n",
      "\n",
      "\n",
      "Table pour la variable: vehicule_VUS \n",
      "\n",
      "   0    1 \n",
      "1104  396 \n",
      "\n",
      "\n",
      "Table pour la variable: vehicule_other \n",
      "\n",
      "   0    1 \n",
      "1434   66 \n",
      "\n",
      "\n",
      "Table pour la variable: vehicule_noCar \n",
      "\n",
      "   0    1 \n",
      "1300  200 \n",
      "\n",
      "\n"
     ]
    }
   ],
   "source": [
    "# Boucle pour afficher la table pour chaque variable\n",
    "for (v in variables_mode_de_vie) {\n",
    "  if (v != \"id\") {\n",
    "    cat(\"Table pour la variable:\", v, \"\\n\")\n",
    "    print(table(df_mode_de_vie[[v]]))\n",
    "    cat(\"\\n\\n\")\n",
    "  }\n",
    "}"
   ]
  },
  {
   "cell_type": "markdown",
   "metadata": {},
   "source": [
    "### Transformations\n",
    "\n",
    "- Regroupement de ses_dwelling\n",
    "  - ses_dwelling_Condo : ses_dwelling_Condo + ses_dwelling_Loft + ses_dwelling_Tour\n",
    "  - ses_dwelling_Other : ses_dwelling_Other + ses_dwelling_Coop + ses_dwelling_HLM + ses_dwelling_Mobile\n",
    "\n",
    "- Regroupement des vehicules\n",
    "  - vehicule_ToutTerrain : vehicule_4x4\t+ vehicule_PickUp\n",
    "  - vehicle_Voiture : vehicule_Berline + vehicule_Cabriolet + vehicule_luxury + vehicule_sport\n",
    "  - vehicule_Van\n",
    "  - vehicule_electric\n",
    "  - vehicule_VUS\n",
    "  - vehicule_other\n",
    "  - vehicule_noCar\n",
    "\n",
    "- Regroupement des act_transport\n",
    "  - act_transport_Car : act_transport_Car + act_transport_Moto (parce qu'il y avraiment trop peu de moto, assigner la classe la plus populeuse)\n",
    "  - Les autres ne sont pas regroupés"
   ]
  },
  {
   "cell_type": "code",
   "execution_count": 4,
   "metadata": {
    "vscode": {
     "languageId": "r"
    }
   },
   "outputs": [],
   "source": [
    "# Regroupement de ses_dwelling\n",
    "#-----------------------------\n",
    "\n",
    "df_mode_de_vie <- df_mode_de_vie %>%\n",
    "\n",
    "  mutate(\n",
    "    ses_dwelling_Condo = if_else(\n",
    "      ses_dwelling_Loft == 1 | ses_dwelling_Tour == 1,\n",
    "      1,\n",
    "      ses_dwelling_Condo\n",
    "    ),\n",
    "    ses_dwelling_Other = if_else(\n",
    "      ses_dwelling_Coop == 1 | ses_dwelling_HLM == 1 | ses_dwelling_Mobile == 1,\n",
    "      1,\n",
    "      ses_dwelling_Other\n",
    "    )\n",
    "  ) %>%\n",
    "  select(\n",
    "    -ses_dwelling_Loft,\n",
    "    -ses_dwelling_Tour,\n",
    "    -ses_dwelling_Coop,\n",
    "    -ses_dwelling_HLM,\n",
    "    -ses_dwelling_Mobile\n",
    "  )"
   ]
  },
  {
   "cell_type": "code",
   "execution_count": 5,
   "metadata": {
    "vscode": {
     "languageId": "r"
    }
   },
   "outputs": [],
   "source": [
    "# Regroupement de vehicule\n",
    "#-------------------------\n",
    "\n",
    "df_mode_de_vie <- df_mode_de_vie %>%\n",
    "\n",
    "  mutate(\n",
    "    vehicule_ToutTerrain = if_else(\n",
    "      vehicule_4x4 == 1 | vehicule_PickUp == 1,\n",
    "      1,\n",
    "      0\n",
    "    ),\n",
    "    vehicule_Voiture = if_else(\n",
    "      vehicule_Berline == 1 | vehicule_Cabriolet == 1 | vehicule_luxury == 1 | vehicule_sport,\n",
    "      1,\n",
    "      0\n",
    "    )\n",
    "  ) %>%\n",
    "  select(\n",
    "    -vehicule_4x4,\n",
    "    -vehicule_PickUp,\n",
    "    -vehicule_Berline,\n",
    "    -vehicule_Cabriolet,\n",
    "    -vehicule_luxury,\n",
    "    -vehicule_sport\n",
    "  )"
   ]
  },
  {
   "cell_type": "code",
   "execution_count": 6,
   "metadata": {
    "vscode": {
     "languageId": "r"
    }
   },
   "outputs": [
    {
     "data": {
      "text/html": [
       "<style>\n",
       ".list-inline {list-style: none; margin:0; padding: 0}\n",
       ".list-inline>li {display: inline-block}\n",
       ".list-inline>li:not(:last-child)::after {content: \"\\00b7\"; padding: 0 .5ex}\n",
       "</style>\n",
       "<ol class=list-inline><li>'id'</li><li>'ses_dwelling_App'</li><li>'ses_dwelling_Condo'</li><li>'ses_dwelling_detachedHouse'</li><li>'ses_dwelling_townHouse'</li><li>'ses_dwelling_Other'</li><li>'act_transport_Car'</li><li>'act_transport_SUV'</li><li>'act_transport_Moto'</li><li>'act_transport_Walk'</li><li>'act_transport_Bicycle'</li><li>'act_transport_PublicTransportation'</li><li>'vehicule_Van'</li><li>'vehicule_electric'</li><li>'vehicule_VUS'</li><li>'vehicule_other'</li><li>'vehicule_noCar'</li><li>'vehicule_ToutTerrain'</li><li>'vehicule_Voiture'</li></ol>\n"
      ],
      "text/latex": [
       "\\begin{enumerate*}\n",
       "\\item 'id'\n",
       "\\item 'ses\\_dwelling\\_App'\n",
       "\\item 'ses\\_dwelling\\_Condo'\n",
       "\\item 'ses\\_dwelling\\_detachedHouse'\n",
       "\\item 'ses\\_dwelling\\_townHouse'\n",
       "\\item 'ses\\_dwelling\\_Other'\n",
       "\\item 'act\\_transport\\_Car'\n",
       "\\item 'act\\_transport\\_SUV'\n",
       "\\item 'act\\_transport\\_Moto'\n",
       "\\item 'act\\_transport\\_Walk'\n",
       "\\item 'act\\_transport\\_Bicycle'\n",
       "\\item 'act\\_transport\\_PublicTransportation'\n",
       "\\item 'vehicule\\_Van'\n",
       "\\item 'vehicule\\_electric'\n",
       "\\item 'vehicule\\_VUS'\n",
       "\\item 'vehicule\\_other'\n",
       "\\item 'vehicule\\_noCar'\n",
       "\\item 'vehicule\\_ToutTerrain'\n",
       "\\item 'vehicule\\_Voiture'\n",
       "\\end{enumerate*}\n"
      ],
      "text/markdown": [
       "1. 'id'\n",
       "2. 'ses_dwelling_App'\n",
       "3. 'ses_dwelling_Condo'\n",
       "4. 'ses_dwelling_detachedHouse'\n",
       "5. 'ses_dwelling_townHouse'\n",
       "6. 'ses_dwelling_Other'\n",
       "7. 'act_transport_Car'\n",
       "8. 'act_transport_SUV'\n",
       "9. 'act_transport_Moto'\n",
       "10. 'act_transport_Walk'\n",
       "11. 'act_transport_Bicycle'\n",
       "12. 'act_transport_PublicTransportation'\n",
       "13. 'vehicule_Van'\n",
       "14. 'vehicule_electric'\n",
       "15. 'vehicule_VUS'\n",
       "16. 'vehicule_other'\n",
       "17. 'vehicule_noCar'\n",
       "18. 'vehicule_ToutTerrain'\n",
       "19. 'vehicule_Voiture'\n",
       "\n",
       "\n"
      ],
      "text/plain": [
       " [1] \"id\"                                 \"ses_dwelling_App\"                  \n",
       " [3] \"ses_dwelling_Condo\"                 \"ses_dwelling_detachedHouse\"        \n",
       " [5] \"ses_dwelling_townHouse\"             \"ses_dwelling_Other\"                \n",
       " [7] \"act_transport_Car\"                  \"act_transport_SUV\"                 \n",
       " [9] \"act_transport_Moto\"                 \"act_transport_Walk\"                \n",
       "[11] \"act_transport_Bicycle\"              \"act_transport_PublicTransportation\"\n",
       "[13] \"vehicule_Van\"                       \"vehicule_electric\"                 \n",
       "[15] \"vehicule_VUS\"                       \"vehicule_other\"                    \n",
       "[17] \"vehicule_noCar\"                     \"vehicule_ToutTerrain\"              \n",
       "[19] \"vehicule_Voiture\"                  "
      ]
     },
     "metadata": {},
     "output_type": "display_data"
    }
   ],
   "source": [
    "names(df_mode_de_vie)"
   ]
  },
  {
   "cell_type": "code",
   "execution_count": 7,
   "metadata": {
    "vscode": {
     "languageId": "r"
    }
   },
   "outputs": [],
   "source": [
    "# Regroupement de act_transport\n",
    "#------------------------------\n",
    "\n",
    "df_mode_de_vie <- df_mode_de_vie %>%\n",
    "  mutate(\n",
    "    act_transport_Car = if_else(\n",
    "      act_transport_Car == 1 | act_transport_Moto == 1 | act_transport_SUV == 1,\n",
    "       1, 0),\n",
    "    act_transport_activeTransport = if_else(\n",
    "      act_transport_Bicycle == 1 | act_transport_Walk == 1, 1, 0)) %>%\n",
    "   select(\n",
    "    -act_transport_Moto,\n",
    "    -act_transport_SUV,\n",
    "    -act_transport_Bicycle,\n",
    "    -act_transport_Walk\n",
    "   )\n"
   ]
  },
  {
   "cell_type": "code",
   "execution_count": 9,
   "metadata": {
    "vscode": {
     "languageId": "r"
    }
   },
   "outputs": [],
   "source": [
    "variables_mode_de_vie_clust <- c(\n",
    "  \"id\",\n",
    "  #\"postal_code\", # À transformer en rural, urbain, région, banlieue\n",
    "  \"ses_dwelling_App\",\n",
    "  \"ses_dwelling_Condo\",\n",
    "  \"ses_dwelling_detachedHouse\",\n",
    "  \"ses_dwelling_townHouse\",\n",
    "  \"ses_dwelling_Other\",\n",
    "  \"act_transport_Car\",\n",
    "  \"act_transport_activeTransport\",\n",
    "  \"act_transport_PublicTransportation\",\n",
    "  \"vehicule_ToutTerrain\",\n",
    "  \"vehicule_Van\",\n",
    "  \"vehicule_Voiture\",\n",
    "  \"vehicule_electric\",\n",
    "  \"vehicule_VUS\",\n",
    "  \"vehicule_other\",\n",
    "  \"vehicule_noCar\"\n",
    ")"
   ]
  },
  {
   "cell_type": "code",
   "execution_count": 10,
   "metadata": {
    "vscode": {
     "languageId": "r"
    }
   },
   "outputs": [
    {
     "name": "stdout",
     "output_type": "stream",
     "text": [
      "Table pour la variable: ses_dwelling_App \n",
      "\n",
      "   0    1 \n",
      "1201  299 \n",
      "\n",
      "\n",
      "Table pour la variable: ses_dwelling_Condo \n",
      "\n",
      "   0    1 \n",
      "1289  211 \n",
      "\n",
      "\n",
      "Table pour la variable: ses_dwelling_detachedHouse \n",
      "\n",
      "  0   1 \n",
      "784 716 \n",
      "\n",
      "\n",
      "Table pour la variable: ses_dwelling_townHouse \n",
      "\n",
      "   0    1 \n",
      "1419   81 \n",
      "\n",
      "\n",
      "Table pour la variable: ses_dwelling_Other \n",
      "\n",
      "   0    1 \n",
      "1307  193 \n",
      "\n",
      "\n",
      "Table pour la variable: act_transport_Car \n",
      "\n",
      "   0    1 \n",
      " 396 1104 \n",
      "\n",
      "\n",
      "Table pour la variable: act_transport_activeTransport \n",
      "\n",
      "   0    1 \n",
      "1259  241 \n",
      "\n",
      "\n",
      "Table pour la variable: act_transport_PublicTransportation \n",
      "\n",
      "   0    1 \n",
      "1345  155 \n",
      "\n",
      "\n",
      "Table pour la variable: vehicule_ToutTerrain \n",
      "\n",
      "   0    1 \n",
      "1393  107 \n",
      "\n",
      "\n",
      "Table pour la variable: vehicule_Van \n",
      "\n",
      "   0    1 \n",
      "1446   54 \n",
      "\n",
      "\n",
      "Table pour la variable: vehicule_Voiture \n",
      "\n",
      "  0   1 \n",
      "919 581 \n",
      "\n",
      "\n",
      "Table pour la variable: vehicule_electric \n",
      "\n",
      "   0    1 \n",
      "1404   96 \n",
      "\n",
      "\n",
      "Table pour la variable: vehicule_VUS \n",
      "\n",
      "   0    1 \n",
      "1104  396 \n",
      "\n",
      "\n",
      "Table pour la variable: vehicule_other \n",
      "\n",
      "   0    1 \n",
      "1434   66 \n",
      "\n",
      "\n",
      "Table pour la variable: vehicule_noCar \n",
      "\n",
      "   0    1 \n",
      "1300  200 \n",
      "\n",
      "\n"
     ]
    }
   ],
   "source": [
    "# Boucle pour afficher la table pour chaque variable\n",
    "for (v in variables_mode_de_vie_clust) {\n",
    "  if (v != \"id\") {\n",
    "    cat(\"Table pour la variable:\", v, \"\\n\")\n",
    "    print(table(df_mode_de_vie[[v]]))\n",
    "    cat(\"\\n\\n\")\n",
    "  }\n",
    "}"
   ]
  },
  {
   "cell_type": "code",
   "execution_count": 11,
   "metadata": {
    "vscode": {
     "languageId": "r"
    }
   },
   "outputs": [],
   "source": [
    "# Sauvegarder les données préparées\n",
    "saveRDS(df_mode_de_vie, file = \"../../_PrivateFolder_datagotchi_federal_2025/data/clustering/qc2022/02_pilot1_2022_mode_de_vie.rds\")"
   ]
  },
  {
   "cell_type": "markdown",
   "metadata": {},
   "source": [
    "---"
   ]
  },
  {
   "cell_type": "markdown",
   "metadata": {},
   "source": [
    "# SUGGESTION : Activité de Clustering\n",
    "\n",
    "Si souhaité, effectuer un exercice de clustering avec ce sous-groupe de variables pour mieux saisir les données et leur relation. \n",
    "\n",
    "Cet exercice est purement exploratoire et sert à voir si les données peuvent être utilisées pour faire du clustering."
   ]
  }
 ],
 "metadata": {
  "kernelspec": {
   "display_name": "R",
   "language": "R",
   "name": "ir"
  },
  "language_info": {
   "codemirror_mode": "r",
   "file_extension": ".r",
   "mimetype": "text/x-r-source",
   "name": "R",
   "pygments_lexer": "r",
   "version": "4.4.2"
  }
 },
 "nbformat": 4,
 "nbformat_minor": 2
}
