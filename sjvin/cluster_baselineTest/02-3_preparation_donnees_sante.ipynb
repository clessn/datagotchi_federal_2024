{
 "cells": [
  {
   "cell_type": "markdown",
   "metadata": {},
   "source": [
    "# Préparation des variables de sante"
   ]
  },
  {
   "cell_type": "code",
   "execution_count": 65,
   "metadata": {
    "vscode": {
     "languageId": "r"
    }
   },
   "outputs": [],
   "source": [
    "library(tidyverse)\n",
    "library(factoextra)\n",
    "\n",
    "# Charger les données\n",
    "df_pilot1_2022 <- readRDS(\"../../_PrivateFolder_datagotchi_federal_2025/data/clustering/qc2022/01_pilot1_2022.rds\")\n",
    "\n",
    "# Charger le fichier des variables\n",
    "source(\"01-1_variables.R\")\n",
    "\n",
    "df_sante <- df_pilot1_2022 %>%\n",
    "  select(all_of(variables_sante))"
   ]
  },
  {
   "cell_type": "code",
   "execution_count": 66,
   "metadata": {
    "vscode": {
     "languageId": "r"
    }
   },
   "outputs": [
    {
     "name": "stdout",
     "output_type": "stream",
     "text": [
      "Table pour la variable: cons_meat_never \n",
      "\n",
      "   0    1 \n",
      "1455   45 \n",
      "\n",
      "\n",
      "Table pour la variable: cons_meat_almost_never \n",
      "\n",
      "   0    1 \n",
      "1480   20 \n",
      "\n",
      "\n",
      "Table pour la variable: cons_meat_once_month \n",
      "\n",
      "   0    1 \n",
      "1459   41 \n",
      "\n",
      "\n",
      "Table pour la variable: cons_meat_once_week \n",
      "\n",
      "   0    1 \n",
      "1351  149 \n",
      "\n",
      "\n",
      "Table pour la variable: cons_meat_few_week \n",
      "\n",
      "  0   1 \n",
      "725 775 \n",
      "\n",
      "\n",
      "Table pour la variable: cons_meat_daily \n",
      "\n",
      "   0    1 \n",
      "1155  345 \n",
      "\n",
      "\n",
      "Table pour la variable: cons_meat_few_daily \n",
      "\n",
      "   0    1 \n",
      "1375  125 \n",
      "\n",
      "\n",
      "Table pour la variable: cons_redWineDrink \n",
      "\n",
      "   0    1 \n",
      "1186  314 \n",
      "\n",
      "\n",
      "Table pour la variable: cons_whiteWineDrink \n",
      "\n",
      "   0    1 \n",
      "1299  201 \n",
      "\n",
      "\n",
      "Table pour la variable: cons_roseDrink \n",
      "\n",
      "   0    1 \n",
      "1451   49 \n",
      "\n",
      "\n",
      "Table pour la variable: cons_spiritDrink \n",
      "\n",
      "   0    1 \n",
      "1401   99 \n",
      "\n",
      "\n",
      "Table pour la variable: cons_bubbleDrink \n",
      "\n",
      "   0    1 \n",
      "1456   44 \n",
      "\n",
      "\n",
      "Table pour la variable: cons_beerDrink \n",
      "\n",
      "   0    1 \n",
      "1335  165 \n",
      "\n",
      "\n",
      "Table pour la variable: cons_microDrink \n",
      "\n",
      "   0    1 \n",
      "1381  119 \n",
      "\n",
      "\n",
      "Table pour la variable: cons_cocktailDrink \n",
      "\n",
      "   0    1 \n",
      "1300  200 \n",
      "\n",
      "\n",
      "Table pour la variable: cons_noDrink \n",
      "\n",
      "   0    1 \n",
      "1191  309 \n",
      "\n",
      "\n",
      "Table pour la variable: cons_Smoke_never \n",
      "\n",
      "   0    1 \n",
      " 251 1249 \n",
      "\n",
      "\n",
      "Table pour la variable: cons_Smoke_few_times_year \n",
      "\n",
      "   0    1 \n",
      "1463   37 \n",
      "\n",
      "\n",
      "Table pour la variable: cons_Smoke_month \n",
      "\n",
      "   0    1 \n",
      "1485   15 \n",
      "\n",
      "\n",
      "Table pour la variable: cons_Smoke_once_week \n",
      "\n",
      "   0    1 \n",
      "1493    7 \n",
      "\n",
      "\n",
      "Table pour la variable: cons_Smoke_few_times_week \n",
      "\n",
      "   0    1 \n",
      "1478   22 \n",
      "\n",
      "\n",
      "Table pour la variable: cons_Smoke_once_day \n",
      "\n",
      "   0    1 \n",
      "1486   14 \n",
      "\n",
      "\n",
      "Table pour la variable: cons_Smoke_few_times_day \n",
      "\n",
      "   0    1 \n",
      "1344  156 \n",
      "\n",
      "\n"
     ]
    }
   ],
   "source": [
    "# Boucle pour afficher la table pour chaque variable\n",
    "for (v in variables_sante) {\n",
    "  if (v != \"id\") {\n",
    "    cat(\"Table pour la variable:\", v, \"\\n\")\n",
    "    print(table(df_sante[[v]]))\n",
    "    cat(\"\\n\\n\")\n",
    "  }\n",
    "}"
   ]
  },
  {
   "cell_type": "markdown",
   "metadata": {},
   "source": [
    "### Transformations\n",
    "\n",
    "- cons_meat : Devrait être une variable ordinale \n",
    "  - 0 Not more than once a month\n",
    "  - 0.5 Few weekly\n",
    "  - 1 Daily\n",
    "\n",
    "- cons_..._Drink : On peut conserver tel quel\n",
    "\n",
    "- cons_Smoke : Devrait être une variable ordinale\n",
    "  - 0 Never\n",
    "  - 0.5 Not daily\n",
    "  - 1 Daily"
   ]
  },
  {
   "cell_type": "code",
   "execution_count": 67,
   "metadata": {
    "vscode": {
     "languageId": "r"
    }
   },
   "outputs": [],
   "source": [
    "# Transformation de cons_meat en variable ordinale\n",
    "#-------------------------------------------------\n",
    "\n",
    "df_sante$cons_Meat <- ifelse(df_sante$cons_meat_never == 1 | df_sante$cons_meat_almost_never == 1, 0,\n",
    " if_else(df_sante$cons_meat_once_month == 1 | df_sante$cons_meat_once_week == 1 | df_sante$cons_meat_few_week == 1, 0.5,\n",
    " if_else(df_sante$cons_meat_daily == 1 | df_sante$cons_meat_few_daily == 1, 1, 0)))\n"
   ]
  },
  {
   "cell_type": "code",
   "execution_count": 60,
   "metadata": {
    "vscode": {
     "languageId": "r"
    }
   },
   "outputs": [
    {
     "data": {
      "text/plain": [
       "\n",
       "  0 0.5   1 \n",
       " 65 965 470 "
      ]
     },
     "metadata": {},
     "output_type": "display_data"
    }
   ],
   "source": [
    "table(df_sante$cons_Meat)"
   ]
  },
  {
   "cell_type": "code",
   "execution_count": 61,
   "metadata": {
    "vscode": {
     "languageId": "r"
    }
   },
   "outputs": [],
   "source": [
    "# Transformation de cons_Smoke variable ordinale\n",
    "#-------------------------------------------------\n",
    "\n",
    "df_sante <- df_sante %>%\n",
    "\n",
    "  mutate(\n",
    "    cons_Smoke = if_else(\n",
    "      cons_Smoke_never == 1,\n",
    "      0,\n",
    "      if_else(\n",
    "        cons_Smoke_few_times_year == 1 | cons_Smoke_month == 1 | cons_Smoke_once_week == 1 | cons_Smoke_few_times_week == 1,\n",
    "        0.5,\n",
    "        1\n",
    "      )\n",
    "    )\n",
    "  ) %>%\n",
    "  select(\n",
    "    -cons_Smoke_never,\n",
    "    -cons_Smoke_few_times_year,\n",
    "    -cons_Smoke_month,\n",
    "    -cons_Smoke_once_week,\n",
    "    -cons_Smoke_few_times_week,\n",
    "    -cons_Smoke_once_day,\n",
    "    -cons_Smoke_few_times_day\n",
    "  )"
   ]
  },
  {
   "cell_type": "code",
   "execution_count": 62,
   "metadata": {
    "vscode": {
     "languageId": "r"
    }
   },
   "outputs": [],
   "source": [
    "variables_sante_clust <- c(\n",
    "  \"id\",\n",
    "  \"cons_Meat\",\n",
    "  \"cons_redWineDrink\",\n",
    "  \"cons_whiteWineDrink\",\n",
    "  \"cons_roseDrink\",\n",
    "  \"cons_spiritDrink\",\n",
    "  \"cons_noDrink\",\n",
    "  \"cons_Smoke\"\n",
    ")"
   ]
  },
  {
   "cell_type": "code",
   "execution_count": 63,
   "metadata": {
    "vscode": {
     "languageId": "r"
    }
   },
   "outputs": [
    {
     "name": "stdout",
     "output_type": "stream",
     "text": [
      "Table pour la variable: cons_Meat \n",
      "\n",
      "  0 0.5   1 \n",
      " 65 965 470 \n",
      "\n",
      "\n",
      "Table pour la variable: cons_redWineDrink \n",
      "\n",
      "   0    1 \n",
      "1186  314 \n",
      "\n",
      "\n",
      "Table pour la variable: cons_whiteWineDrink \n",
      "\n",
      "   0    1 \n",
      "1299  201 \n",
      "\n",
      "\n",
      "Table pour la variable: cons_roseDrink \n",
      "\n",
      "   0    1 \n",
      "1451   49 \n",
      "\n",
      "\n",
      "Table pour la variable: cons_spiritDrink \n",
      "\n",
      "   0    1 \n",
      "1401   99 \n",
      "\n",
      "\n",
      "Table pour la variable: cons_noDrink \n",
      "\n",
      "   0    1 \n",
      "1191  309 \n",
      "\n",
      "\n",
      "Table pour la variable: cons_Smoke \n",
      "\n",
      "   0  0.5    1 \n",
      "1249   81  170 \n",
      "\n",
      "\n"
     ]
    }
   ],
   "source": [
    "# Boucle pour afficher la table pour chaque variable\n",
    "for (v in variables_sante_clust) {\n",
    "  if (v != \"id\") {\n",
    "    cat(\"Table pour la variable:\", v, \"\\n\")\n",
    "    print(table(df_sante[[v]]))\n",
    "    cat(\"\\n\\n\")\n",
    "  }\n",
    "}"
   ]
  },
  {
   "cell_type": "code",
   "execution_count": 64,
   "metadata": {
    "vscode": {
     "languageId": "r"
    }
   },
   "outputs": [],
   "source": [
    "# Sauvegarder les données préparées\n",
    "saveRDS(df_sante, file = \"../../_PrivateFolder_datagotchi_federal_2025/data/clustering/qc2022/02_pilot1_2022_sante.rds\")"
   ]
  },
  {
   "cell_type": "markdown",
   "metadata": {},
   "source": [
    "---"
   ]
  },
  {
   "cell_type": "markdown",
   "metadata": {},
   "source": [
    "# SUGGESTION : Activité de Clustering\n",
    "\n",
    "Si souhaité, effectuer un exercice de clustering avec ce sous-groupe de variables pour mieux saisir les données et leur relation. \n",
    "\n",
    "Cet exercice est purement exploratoire et sert à voir si les données peuvent être utilisées pour faire du clustering."
   ]
  }
 ],
 "metadata": {
  "kernelspec": {
   "display_name": "R",
   "language": "R",
   "name": "ir"
  },
  "language_info": {
   "codemirror_mode": "r",
   "file_extension": ".r",
   "mimetype": "text/x-r-source",
   "name": "R",
   "pygments_lexer": "r",
   "version": "4.4.2"
  }
 },
 "nbformat": 4,
 "nbformat_minor": 2
}
