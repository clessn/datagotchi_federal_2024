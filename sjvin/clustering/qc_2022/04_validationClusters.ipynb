{
 "cells": [
  {
   "cell_type": "code",
   "execution_count": 1,
   "metadata": {},
   "outputs": [],
   "source": [
    "# Library ----------------------------------------------------------------\n",
    "library(dplyr)\n",
    "library(tidyr)\n",
    "\n",
    "# 1. Load Data and Clustering Results ---------------------------\n",
    "kmeans_result <- readRDS(\"../../../data/qc2022/preparation_donnees/03_pilot1_kmeans.rds\")\n",
    "df_pilot1_2022 <- readRDS(\"../../../data/qc2022/preparation_donnees/03_pilot1_2022.rds\")\n",
    "\n",
    "# write.csv(clusters_means, file = \"../../../data/qc2022/preparation_donnees/03_pilot1_clusters_desc.csv\", row.names = FALSE)"
   ]
  }
 ],
 "metadata": {
  "language_info": {
   "name": "r"
  }
 },
 "nbformat": 4,
 "nbformat_minor": 2
}
