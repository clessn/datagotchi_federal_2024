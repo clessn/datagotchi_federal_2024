{
 "cells": [
  {
   "cell_type": "code",
   "execution_count": 12,
   "metadata": {},
   "outputs": [],
   "source": [
    "# Library ----------------------------------------------------------------\n",
    "library(dplyr)\n",
    "library(tidyr)\n",
    "library(ggplot2)\n",
    "library(sondr)\n",
    "library(clessnize)\n",
    "\n",
    "# 1. Load Data and Clustering Results ---------------------------\n",
    "kmeans_result <- readRDS(\"../../../_PrivateFolder_datagotchi_federal_2025/data/clustering/qc2022/03_pilot1_kmeans.rds\")\n",
    "df_pilot1_2022 <- readRDS(\"../../../_PrivateFolder_datagotchi_federal_2025/data/clustering/qc2022/03_pilot1_2022.rds\")\n",
    "cluster_means <- read.csv(\"../../../_PrivateFolder_datagotchi_federal_2025/data/clustering/qc2022/03_pilot1_clusters_desc.csv\")\n",
    "df_pilot1_2022_with_issues <- readRDS(\"../../../_PrivateFolder_datagotchi_federal_2025/data/clustering/qc2022/datagotchiQuebec2022_pilote1Clean.rds\")\n"
   ]
  },
  {
   "cell_type": "code",
   "execution_count": 13,
   "metadata": {},
   "outputs": [],
   "source": [
    " \n",
    "# Cluster's Visualization ------------------------------------------------\n",
    "\n",
    "df_long <-cluster_means %>%\n",
    "  pivot_longer(cols = -cluster, names_to = \"variable\", values_to = \"mean\")\n",
    "\n",
    "ggplot(df_long, aes(x = variable, y = mean, fill = as.factor(cluster))) +\n",
    "  geom_bar(stat = \"identity\", position = \"dodge\") +\n",
    "  theme_minimal() +\n",
    "  theme(axis.text.x = element_text(angle = 90, hjust = 1)) +\n",
    "  labs(title = \"Comparaison des moyennes par cluster\", x = \"Variable\", y = \"Moyenne\", fill = \"Cluster\")\n",
    "\n",
    "ggsave(\"../../../_PrivateFolder_datagotchi_federal_2025/graph/clustering/qc_2022/clusterMeans_barplot.pdf\",  width = 16, height = 12)\n"
   ]
  },
  {
   "cell_type": "code",
   "execution_count": 14,
   "metadata": {},
   "outputs": [],
   "source": [
    "ggplot(df_long, aes(x = cluster, y = variable, fill = mean)) +\n",
    "  geom_tile() +\n",
    "  scale_fill_gradient2(low = \"blue\", mid = \"white\", high = \"red\") +\n",
    "  theme_minimal() +\n",
    "  labs(title = \"Heatmap des moyennes par cluster\", x = \"Cluster\", y = \"Variable\", fill = \"Moyenne\")\n",
    "\n",
    "ggsave(\"../../../_PrivateFolder_datagotchi_federal_2025/graph/clustering/qc_2022/clusterMeans_heatmap.pdf\",  width = 16, height = 12)"
   ]
  },
  {
   "cell_type": "code",
   "execution_count": 15,
   "metadata": {},
   "outputs": [],
   "source": [
    "# Barplot des moyennes sans les SES\n",
    "\n",
    "df_filtered <- cluster_means %>%\n",
    "  select(-matches(\"^ses_\"), -female, -male, -educ, -age, -langFr, -langEn, -immigrant)\n",
    "\n",
    "\n",
    "df_long_filtered <- df_filtered %>%\n",
    "  pivot_longer(cols = -cluster, names_to = \"variable\", values_to = \"mean\")\n",
    "\n",
    "ggplot(df_long_filtered, aes(x = variable, y = mean, fill = as.factor(cluster))) +\n",
    "  geom_bar(stat = \"identity\", position = \"dodge\") +\n",
    "  theme_minimal() +\n",
    "  theme(axis.text.x = element_text(angle = 90, hjust = 1)) +\n",
    "  labs(title = \"Comparaison des moyennes par cluster (sans les ses_)\", \n",
    "       x = \"Variable\", \n",
    "       y = \"Moyenne\", \n",
    "       fill = \"Cluster\")\n",
    "\n",
    "       ggsave(\"../../../_PrivateFolder_datagotchi_federal_2025/graph/clustering/qc_2022/clusterMeans_barplotFiltered.pdf\",  width = 16, height = 12)"
   ]
  },
  {
   "cell_type": "code",
   "execution_count": 16,
   "metadata": {},
   "outputs": [],
   "source": [
    "# Heatmap sans les SES\n",
    "\n",
    "ggplot(df_long_filtered, aes(x = cluster, y = variable, fill = mean)) +\n",
    "  geom_tile() +\n",
    "  scale_fill_gradient2(low = \"blue\", mid = \"white\", high = \"red\") +\n",
    "  theme_minimal() +\n",
    "  labs(title = \"Heatmap des moyennes par cluster\", x = \"Cluster\", y = \"Variable\", fill = \"Moyenne\")\n",
    "\n",
    "ggsave(\"../../../_PrivateFolder_datagotchi_federal_2025/graph/clustering/qc_2022/clusterMeans_heatmapFiltered.pdf\",  width = 16, height = 12)"
   ]
  },
  {
   "cell_type": "code",
   "execution_count": 21,
   "metadata": {},
   "outputs": [
    {
     "data": {
      "text/plain": [
       "\n",
       "  Charlie   Jacques  Jean-Guy     Julie     Karim   Mélanie \n",
       " 9.266667 11.000000 25.933333 33.466667  8.266667 12.066667 "
      ]
     },
     "execution_count": null,
     "metadata": {},
     "output_type": "execute_result"
    }
   ],
   "source": [
    "# Table de fréquence\n",
    "table_clusters <- table(df_pilot1_2022$cluster_name)\n",
    "\n",
    "# Calcul des proportions\n",
    "proportions_clusters <- prop.table(table_clusters) * 100\n",
    "\n",
    "# Afficher les résultats\n",
    "table_clusters  # Nombre de personnes par cluster\n",
    "proportions_clusters  # Proportions en pourcentage\n"
   ]
  },
  {
   "cell_type": "code",
   "execution_count": null,
   "metadata": {},
   "outputs": [],
   "source": [
    "# Enlever toutes les variables sauf id et enjeux\n",
    "\n",
    "Df_pilot1_issues <- df_pilot1_2022_with_issues |> \n",
    "  select(id, starts_with(\"issue_\"))\n",
    "\n",
    "# Bind df avec enjeux au pilote utilisé auparavant\n",
    "\n",
    "Df_validation <- merge(df_pilot1_2022, Df_pilot1_issues, by = \"id\")"
   ]
  },
  {
   "cell_type": "code",
   "execution_count": null,
   "metadata": {},
   "outputs": [],
   "source": [
    "# Créer une fonction pour enjeu par cluster (pour ne pas avoir à créer 12 graphiques un par un)\n",
    "\n",
    "generate_graph <- function(data, issue_variable, output_path) {\n",
    "  \n",
    "  # Convertir la variable en symbole\n",
    "  issue_sym <- ensym(issue_variable)\n",
    "  \n",
    "  # Regroupement et génération du graphique\n",
    "  data |> \n",
    "    group_by(cluster_name, !!issue_sym) |> \n",
    "    summarise(nombre_de_repondants = n(), .groups = \"drop\") |> \n",
    "    group_by(cluster_name) |> \n",
    "    mutate(\n",
    "      nombre_total_de_repondants = sum(nombre_de_repondants),\n",
    "      proportion = nombre_de_repondants / nombre_total_de_repondants\n",
    "    ) |> \n",
    "    ggplot(aes(x = !!issue_sym, y = proportion, fill = factor(cluster_name))) +\n",
    "    geom_col() +\n",
    "    facet_wrap(~ cluster_name) +\n",
    "    labs(\n",
    "      x = as_label(issue_sym),  # Affiche la variable dynamiquement dans le label\n",
    "      y = \"Proportion\",\n",
    "      fill = \"Cluster\",\n",
    "      title = paste(\"Distribution of\", as_label(issue_sym), \"by Cluster\")\n",
    "    ) +\n",
    "    theme_clean_light() -> graph\n",
    "  \n",
    "  # Sauvegarder le graphique\n",
    "  ggsave(\n",
    "    filename = paste0(output_path, \"/validationCluster_\", as_label(issue_sym), \".pdf\"),\n",
    "    plot = graph,\n",
    "    width = 16,\n",
    "    height = 12\n",
    "  )\n",
    "}\n",
    "\n",
    "# Loop pour générer les graphiques\n",
    "\n",
    "# Utiliser lapply pour créer les graphiques\n",
    "lapply(variables_issues, function(issue) {\n",
    "  generate_graph(Df_validation, !!sym(issue), output_path)\n",
    "})"
   ]
  },
  {
   "cell_type": "code",
   "execution_count": null,
   "metadata": {},
   "outputs": [],
   "source": [
    "# Préparer mes variables pour la loop\n",
    "\n",
    "# Liste des variables d'enjeux\n",
    "variables_issues <- c(\n",
    "  \"issue_systemicRacismExistQc\",\n",
    "  \"issue_proImmigration\",\n",
    "  \"issue_reduceDeficit\",\n",
    "  \"issue_proPrivateHealth\", \n",
    "  \"issue_protectFrench\", \n",
    "  \"issue_proQcIndependance\",\n",
    "  \"issue_proTeachersReligiousSymbols\",\n",
    "  \"issue_proStrictEnviroRules\",\n",
    "  \"issue_QcTooPolCorrect\",\n",
    "  \"issue_abortionMoreAccessibleQc\",\n",
    "  \"issue_begin3eLienImportant\",\n",
    "  \"issue_respectGHGReductionImportant\"\n",
    ")\n",
    "\n",
    "# Chemin d’enregistrement des graphiques\n",
    "output_path <- \"../../../_PrivateFolder_datagotchi_federal_2025/graph/clustering/qc_2022\""
   ]
  },
  {
   "cell_type": "code",
   "execution_count": null,
   "metadata": {},
   "outputs": [],
   "source": [
    " \n",
    "# Créer une fonction par enjeu pour la proportion totale pour meilleure comparaison ----\n",
    "\n",
    "generate_graph_all <- function(data, issue_variable, output_path) {\n",
    "  \n",
    "  # Convertir la variable en symbole\n",
    "  issue_sym <- ensym(issue_variable)\n",
    "  \n",
    "  # Regroupement et génération du graphique\n",
    "  data |> \n",
    "    group_by(!!issue_sym) |> \n",
    "    summarise(nombre_de_repondants = n(), .groups = \"drop\") |> \n",
    "    mutate(\n",
    "      nombre_total_de_repondants = sum(nombre_de_repondants),\n",
    "      proportion = nombre_de_repondants / nombre_total_de_repondants\n",
    "    ) |> \n",
    "    ggplot(aes(x = !!issue_sym, y = proportion, fill = factor(!!issue_sym))) +\n",
    "    geom_col(show.legend = FALSE) +\n",
    "    labs(\n",
    "      x = as_label(issue_sym),  # Affiche la variable dynamiquement dans le label\n",
    "      y = \"Proportion\",\n",
    "      title = paste(\"Distribution of\", as_label(issue_sym), \"among all respondents\")\n",
    "    ) +\n",
    "    theme_clean_light() -> graph\n",
    "  \n",
    "  # Sauvegarder le graphique\n",
    "  ggsave(\n",
    "    filename = paste0(output_path, \"/distribution_all_\", as_label(issue_sym), \".pdf\"),\n",
    "    plot = graph,\n",
    "    width = 16,\n",
    "    height = 12\n",
    "  )\n",
    "}\n",
    "\n",
    "# Loop pour générer les graphiques\n",
    "lapply(variables_issues, function(issue) {\n",
    "  generate_graph_all(Df_validation, !!sym(issue), output_path)\n",
    "})"
   ]
  }
 ],
 "metadata": {
  "language_info": {
   "name": "r"
  }
 },
 "nbformat": 4,
 "nbformat_minor": 2
}
