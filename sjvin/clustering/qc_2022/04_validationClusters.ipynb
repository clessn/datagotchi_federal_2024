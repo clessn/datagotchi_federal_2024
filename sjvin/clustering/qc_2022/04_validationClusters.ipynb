{
 "cells": [
  {
   "cell_type": "code",
   "execution_count": 26,
   "metadata": {},
   "outputs": [],
   "source": [
    "# Library ----------------------------------------------------------------\n",
    "library(dplyr)\n",
    "library(tidyr)\n",
    "library(ggplot2)\n",
    "library(sondr)\n",
    "library(clessnize)\n",
    "\n",
    "# 1. Load Data and Clustering Results ---------------------------\n",
    "kmeans_result <- readRDS(\"../../../_PrivateFolder_datagotchi_federal_2025/data/clustering/qc2022/03_pilot1_kmeans.rds\")\n",
    "df_pilot1_2022 <- readRDS(\"../../../_PrivateFolder_datagotchi_federal_2025/data/clustering/qc2022/03_pilot1_2022.rds\")\n",
    "cluster_means <- read.csv(\"../../../_PrivateFolder_datagotchi_federal_2025/data/clustering/qc2022/03_pilot1_clusters_desc.csv\")\n",
    "df_pilot1_2022_with_issues <- readRDS(\"../../../_PrivateFolder_datagotchi_federal_2025/data/clustering/qc2022/datagotchiQuebec2022_pilote1Clean.rds\")\n"
   ]
  },
  {
   "cell_type": "code",
   "execution_count": 27,
   "metadata": {},
   "outputs": [],
   "source": [
    "df_long <-cluster_means %>%\n",
    "  pivot_longer(cols = -cluster, names_to = \"variable\", values_to = \"mean\")\n",
    "\n",
    "ggplot(df_long, aes(x = variable, y = mean, fill = as.factor(cluster))) +\n",
    "  geom_bar(stat = \"identity\", position = \"dodge\") +\n",
    "  theme_minimal() +\n",
    "  theme(axis.text.x = element_text(angle = 90, hjust = 1)) +\n",
    "  labs(title = \"Comparaison des moyennes par cluster\", x = \"Variable\", y = \"Moyenne\", fill = \"Cluster\")\n",
    "\n",
    "ggsave(\"../../../_PrivateFolder_datagotchi_federal_2025/graph/clustering/qc_2022/clusterMeans_barplot.pdf\",  width = 16, height = 12)\n"
   ]
  },
  {
   "cell_type": "code",
   "execution_count": 28,
   "metadata": {},
   "outputs": [],
   "source": [
    "ggplot(df_long, aes(x = cluster, y = variable, fill = mean)) +\n",
    "  geom_tile() +\n",
    "  scale_fill_gradient2(low = \"blue\", mid = \"white\", high = \"red\") +\n",
    "  theme_minimal() +\n",
    "  labs(title = \"Heatmap des moyennes par cluster\", x = \"Cluster\", y = \"Variable\", fill = \"Moyenne\")\n",
    "\n",
    "ggsave(\"../../../_PrivateFolder_datagotchi_federal_2025/graph/clustering/qc_2022/clusterMeans_heatmap.pdf\",  width = 16, height = 12)"
   ]
  },
  {
   "cell_type": "code",
   "execution_count": 29,
   "metadata": {},
   "outputs": [],
   "source": [
    "# Barplot des moyennes sans les SES\n",
    "\n",
    "df_filtered <- cluster_means %>%\n",
    "  select(-matches(\"^ses_\"), -female, -male, -educ, -age, -langFr, -langEn, -immigrant)\n",
    "\n",
    "\n",
    "df_long_filtered <- df_filtered %>%\n",
    "  pivot_longer(cols = -cluster, names_to = \"variable\", values_to = \"mean\")\n",
    "\n",
    "ggplot(df_long_filtered, aes(x = variable, y = mean, fill = as.factor(cluster))) +\n",
    "  geom_bar(stat = \"identity\", position = \"dodge\") +\n",
    "  theme_minimal() +\n",
    "  theme(axis.text.x = element_text(angle = 90, hjust = 1)) +\n",
    "  labs(title = \"Comparaison des moyennes par cluster (sans les ses_)\", \n",
    "       x = \"Variable\", \n",
    "       y = \"Moyenne\", \n",
    "       fill = \"Cluster\")\n",
    "\n",
    "       ggsave(\"../../../_PrivateFolder_datagotchi_federal_2025/graph/clustering/qc_2022/clusterMeans_barplotFiltered.pdf\",  width = 16, height = 12)"
   ]
  },
  {
   "cell_type": "code",
   "execution_count": 30,
   "metadata": {},
   "outputs": [],
   "source": [
    "# Heatmap sans les SES\n",
    "\n",
    "ggplot(df_long_filtered, aes(x = cluster, y = variable, fill = mean)) +\n",
    "  geom_tile() +\n",
    "  scale_fill_gradient2(low = \"blue\", mid = \"white\", high = \"red\") +\n",
    "  theme_minimal() +\n",
    "  labs(title = \"Heatmap des moyennes par cluster\", x = \"Cluster\", y = \"Variable\", fill = \"Moyenne\")\n",
    "\n",
    "ggsave(\"../../../_PrivateFolder_datagotchi_federal_2025/graph/clustering/qc_2022/clusterMeans_heatmapFiltered.pdf\",  width = 16, height = 12)"
   ]
  },
  {
   "cell_type": "code",
   "execution_count": 31,
   "metadata": {},
   "outputs": [
    {
     "data": {
      "text/plain": [
       "\n",
       " Charlie  Jacques Jean-Guy    Julie \n",
       "     139      165      389      502 \n",
       "   Karim  Mélanie \n",
       "     124      181 "
      ]
     },
     "execution_count": null,
     "metadata": {},
     "output_type": "execute_result"
    }
   ],
   "source": [
    "# Combien de personnes par cluster\n",
    "\n",
    "table(df_pilot1_2022$cluster_name)\n"
   ]
  },
  {
   "cell_type": "code",
   "execution_count": 32,
   "metadata": {},
   "outputs": [],
   "source": [
    "# Enlever toutes les variables sauf id et enjeux\n",
    "\n",
    "Df_pilot1_issues <- df_pilot1_2022_with_issues |> \n",
    "  select(id, starts_with(\"issue_\"))"
   ]
  },
  {
   "cell_type": "code",
   "execution_count": 33,
   "metadata": {},
   "outputs": [],
   "source": [
    "# Bind df avec enjeux au pilote utilisé auparavant\n",
    "\n",
    "Df_validation <- merge(df_pilot1_2022, Df_pilot1_issues, by = \"id\")\n"
   ]
  },
  {
   "cell_type": "code",
   "execution_count": 38,
   "metadata": {},
   "outputs": [],
   "source": [
    "# Créer une fonction pour ne pas avoir à créer 12 graphiques un par un\n",
    "\n",
    "generate_graph <- function(data, issue_variable, output_path) {\n",
    "  \n",
    "  # Convertir la variable en symbole\n",
    "  issue_sym <- ensym(issue_variable)\n",
    "  \n",
    "  # Regroupement et génération du graphique\n",
    "  data |> \n",
    "    group_by(cluster_name, !!issue_sym) |> \n",
    "    summarise(nombre_de_repondants = n(), .groups = \"drop\") |> \n",
    "    group_by(cluster_name) |> \n",
    "    mutate(\n",
    "      nombre_total_de_repondants = sum(nombre_de_repondants),\n",
    "      proportion = nombre_de_repondants / nombre_total_de_repondants\n",
    "    ) |> \n",
    "    ggplot(aes(x = !!issue_sym, y = proportion, fill = factor(cluster_name))) +\n",
    "    geom_col() +\n",
    "    facet_wrap(~ cluster_name) +\n",
    "    labs(\n",
    "      x = as_label(issue_sym),  # Affiche la variable dynamiquement dans le label\n",
    "      y = \"Proportion\",\n",
    "      fill = \"Cluster\",\n",
    "      title = paste(\"Distribution of\", as_label(issue_sym), \"by Cluster\")\n",
    "    ) +\n",
    "    theme_clean_light() -> graph\n",
    "  \n",
    "  # Sauvegarder le graphique\n",
    "  ggsave(\n",
    "    filename = paste0(output_path, \"/validationCluster_\", as_label(issue_sym), \".pdf\"),\n",
    "    plot = graph,\n",
    "    width = 16,\n",
    "    height = 12\n",
    "  )\n",
    "}\n"
   ]
  },
  {
   "cell_type": "code",
   "execution_count": 39,
   "metadata": {},
   "outputs": [],
   "source": [
    "# Préparer mes variables pour la loop\n",
    "\n",
    "# Liste des variables d'enjeux\n",
    "variables_issues <- c(\n",
    "  \"issue_systemicRacismExistQc\",\n",
    "  \"issue_proImmigration\",\n",
    "  \"issue_reduceDeficit\",\n",
    "  \"issue_proPrivateHealth\", \n",
    "  \"issue_protectFrench\", \n",
    "  \"issue_proQcIndependance\",\n",
    "  \"issue_proTeachersReligiousSymbols\",\n",
    "  \"issue_proStrictEnviroRules\",\n",
    "  \"issue_QcTooPolCorrect\",\n",
    "  \"issue_abortionMoreAccessibleQc\",\n",
    "  \"issue_begin3eLienImportant\",\n",
    "  \"issue_respectGHGReductionImportant\"\n",
    ")\n",
    "\n",
    "# Chemin d’enregistrement des graphiques\n",
    "output_path <- \"../../../_PrivateFolder_datagotchi_federal_2025/graph/clustering/qc_2022\""
   ]
  },
  {
   "cell_type": "code",
   "execution_count": 40,
   "metadata": {},
   "outputs": [
    {
     "data": {
      "text/plain": [
       "[[1]]\n",
       "[1] \"../../../_PrivateFolder_datagotchi_federal_2025/graph/clustering/qc_2022/validationCluster_issue_systemicRacismExistQc.pdf\"\n",
       "\n",
       "[[2]]\n",
       "[1] \"../../../_PrivateFolder_datagotchi_federal_2025/graph/clustering/qc_2022/validationCluster_issue_proImmigration.pdf\"\n",
       "\n",
       "[[3]]\n",
       "[1] \"../../../_PrivateFolder_datagotchi_federal_2025/graph/clustering/qc_2022/validationCluster_issue_reduceDeficit.pdf\"\n",
       "\n",
       "[[4]]\n",
       "[1] \"../../../_PrivateFolder_datagotchi_federal_2025/graph/clustering/qc_2022/validationCluster_issue_proPrivateHealth.pdf\"\n",
       "\n",
       "[[5]]\n",
       "[1] \"../../../_PrivateFolder_datagotchi_federal_2025/graph/clustering/qc_2022/validationCluster_issue_protectFrench.pdf\"\n",
       "\n",
       "[[6]]\n",
       "[1] \"../../../_PrivateFolder_datagotchi_federal_2025/graph/clustering/qc_2022/validationCluster_issue_proQcIndependance.pdf\"\n",
       "\n",
       "[[7]]\n",
       "[1] \"../../../_PrivateFolder_datagotchi_federal_2025/graph/clustering/qc_2022/validationCluster_issue_proTeachersReligiousSymbols.pdf\"\n",
       "\n",
       "[[8]]\n",
       "[1] \"../../../_PrivateFolder_datagotchi_federal_2025/graph/clustering/qc_2022/validationCluster_issue_proStrictEnviroRules.pdf\"\n",
       "\n",
       "[[9]]\n",
       "[1] \"../../../_PrivateFolder_datagotchi_federal_2025/graph/clustering/qc_2022/validationCluster_issue_QcTooPolCorrect.pdf\"\n",
       "\n",
       "[[10]]\n",
       "[1] \"../../../_PrivateFolder_datagotchi_federal_2025/graph/clustering/qc_2022/validationCluster_issue_abortionMoreAccessibleQc.pdf\"\n",
       "\n",
       "[[11]]\n",
       "[1] \"../../../_PrivateFolder_datagotchi_federal_2025/graph/clustering/qc_2022/validationCluster_issue_begin3eLienImportant.pdf\"\n",
       "\n",
       "[[12]]\n",
       "[1] \"../../../_PrivateFolder_datagotchi_federal_2025/graph/clustering/qc_2022/validationCluster_issue_respectGHGReductionImportant.pdf\"\n"
      ]
     },
     "execution_count": null,
     "metadata": {},
     "output_type": "execute_result"
    }
   ],
   "source": [
    "# Faire une loop\n",
    "\n",
    "# Utiliser lapply pour créer les graphiques\n",
    "lapply(variables_issues, function(issue) {\n",
    "  generate_graph(Df_validation, !!sym(issue), output_path)\n",
    "})"
   ]
  }
 ],
 "metadata": {
  "language_info": {
   "name": "r"
  }
 },
 "nbformat": 4,
 "nbformat_minor": 2
}
