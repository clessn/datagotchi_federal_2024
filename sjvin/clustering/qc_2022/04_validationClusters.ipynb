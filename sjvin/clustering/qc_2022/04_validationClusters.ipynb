{
 "cells": [
  {
   "cell_type": "code",
   "execution_count": 49,
   "metadata": {},
   "outputs": [],
   "source": [
    "# Library ----------------------------------------------------------------\n",
    "library(dplyr)\n",
    "library(tidyr)\n",
    "library(ggplot2)\n",
    "\n",
    "# 1. Load Data and Clustering Results ---------------------------\n",
    "kmeans_result <- readRDS(\"../../../_PrivateFolder_datagotchi_federal_2025/data/clustering/qc2022/03_pilot1_kmeans.rds\")\n",
    "df_pilot1_2022 <- readRDS(\"../../../_PrivateFolder_datagotchi_federal_2025/data/clustering/qc2022/03_pilot1_2022.rds\")\n",
    "cluster_means <- read.csv(\"../../../_PrivateFolder_datagotchi_federal_2025/data/clustering/qc2022/03_pilot1_clusters_desc.csv\")\n"
   ]
  },
  {
   "cell_type": "code",
   "execution_count": 50,
   "metadata": {},
   "outputs": [],
   "source": [
    "df_long <-cluster_means %>%\n",
    "  pivot_longer(cols = -cluster, names_to = \"variable\", values_to = \"mean\")\n",
    "\n",
    "ggplot(df_long, aes(x = variable, y = mean, fill = as.factor(cluster))) +\n",
    "  geom_bar(stat = \"identity\", position = \"dodge\") +\n",
    "  theme_minimal() +\n",
    "  theme(axis.text.x = element_text(angle = 90, hjust = 1)) +\n",
    "  labs(title = \"Comparaison des moyennes par cluster\", x = \"Variable\", y = \"Moyenne\", fill = \"Cluster\")\n",
    "\n",
    "ggsave(\"../../../_PrivateFolder_datagotchi_federal_2025/graph/clustering/qc_2022/clusterMeans_barplot.pdf\",  width = 16, height = 12)\n"
   ]
  },
  {
   "cell_type": "code",
   "execution_count": 51,
   "metadata": {},
   "outputs": [],
   "source": [
    "ggplot(df_long, aes(x = cluster, y = variable, fill = mean)) +\n",
    "  geom_tile() +\n",
    "  scale_fill_gradient2(low = \"blue\", mid = \"white\", high = \"red\") +\n",
    "  theme_minimal() +\n",
    "  labs(title = \"Heatmap des moyennes par cluster\", x = \"Cluster\", y = \"Variable\", fill = \"Moyenne\")\n",
    "\n",
    "ggsave(\"../../../_PrivateFolder_datagotchi_federal_2025/graph/clustering/qc_2022/clusterMeans_heatmap.pdf\",  width = 16, height = 12)"
   ]
  },
  {
   "cell_type": "code",
   "execution_count": 52,
   "metadata": {},
   "outputs": [],
   "source": [
    "# Barplot des moyennes sans les SES\n",
    "\n",
    "df_filtered <- cluster_means %>%\n",
    "  select(-matches(\"^ses_\"), -female, -male, -educ, -age, -langFr, -langEn, -immigrant)\n",
    "\n",
    "\n",
    "df_long_filtered <- df_filtered %>%\n",
    "  pivot_longer(cols = -cluster, names_to = \"variable\", values_to = \"mean\")\n",
    "\n",
    "ggplot(df_long_filtered, aes(x = variable, y = mean, fill = as.factor(cluster))) +\n",
    "  geom_bar(stat = \"identity\", position = \"dodge\") +\n",
    "  theme_minimal() +\n",
    "  theme(axis.text.x = element_text(angle = 90, hjust = 1)) +\n",
    "  labs(title = \"Comparaison des moyennes par cluster (sans les ses_)\", \n",
    "       x = \"Variable\", \n",
    "       y = \"Moyenne\", \n",
    "       fill = \"Cluster\")\n",
    "\n",
    "       ggsave(\"../../../_PrivateFolder_datagotchi_federal_2025/graph/clustering/qc_2022/clusterMeans_barplotFiltered.pdf\",  width = 16, height = 12)"
   ]
  },
  {
   "cell_type": "code",
   "execution_count": 53,
   "metadata": {},
   "outputs": [],
   "source": [
    "# Heatmap sans les SES\n",
    "\n",
    "ggplot(df_long_filtered, aes(x = cluster, y = variable, fill = mean)) +\n",
    "  geom_tile() +\n",
    "  scale_fill_gradient2(low = \"blue\", mid = \"white\", high = \"red\") +\n",
    "  theme_minimal() +\n",
    "  labs(title = \"Heatmap des moyennes par cluster\", x = \"Cluster\", y = \"Variable\", fill = \"Moyenne\")\n",
    "\n",
    "ggsave(\"../../../_PrivateFolder_datagotchi_federal_2025/graph/clustering/qc_2022/clusterMeans_heatmapFiltered.pdf\",  width = 16, height = 12)"
   ]
  },
  {
   "cell_type": "code",
   "execution_count": null,
   "metadata": {},
   "outputs": [],
   "source": [
    "# Moyenne de certaines SES par cluster\n",
    "# Age par cluster ( 0 = 34 et moins, 0.5 = 35-54, 1 = 55+)\n",
    "\n",
    "# Revenu par cluster (0.14 = moins de 30k, 0.28 = 31-60k, 0.43 = 61-90k, 0.57 = 91-110k,\n",
    "# 0.71 = 111-150k, 0.86 = 151-200k, 1 = 200k+)\n",
    "\n",
    "# Education ( 0 = BHS, 0.5 = college, 1 = univ)\n"
   ]
  },
  {
   "cell_type": "code",
   "execution_count": 54,
   "metadata": {},
   "outputs": [
    {
     "data": {
      "text/plain": [
       "\n",
       " Charlie  Jacques Jean-Guy    Julie \n",
       "     139      165      389      502 \n",
       "   Karim  Mélanie \n",
       "     124      181 "
      ]
     },
     "execution_count": null,
     "metadata": {},
     "output_type": "execute_result"
    }
   ],
   "source": [
    "# Combien de personnes par cluster\n",
    "\n",
    "table(df_pilot1_2022$cluster_name)\n"
   ]
  },
  {
   "cell_type": "code",
   "execution_count": 45,
   "metadata": {},
   "outputs": [],
   "source": [
    "# Enjeux pilote 1 qc_2022\n",
    "\n",
    "df_pilot1_2022_enjeux <- read.csv(\"../../../_SharedFolder_datagotchi_federal_2024/data/clustering/qc_2022/pilote-1-quebec-prov-2022.csv\")"
   ]
  }
 ],
 "metadata": {
  "language_info": {
   "name": "r"
  }
 },
 "nbformat": 4,
 "nbformat_minor": 2
}
