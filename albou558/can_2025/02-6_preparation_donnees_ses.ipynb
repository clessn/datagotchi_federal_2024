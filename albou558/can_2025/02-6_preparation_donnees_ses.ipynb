{
 "cells": [
  {
   "cell_type": "markdown",
   "metadata": {},
   "source": [
    "# Préparation des variables de ses"
   ]
  },
  {
   "cell_type": "code",
   "execution_count": null,
   "metadata": {
    "vscode": {
     "languageId": "r"
    }
   },
   "outputs": [],
   "source": [
    "library(tidyverse)\n",
    "library(factoextra)\n",
    "\n",
    "# Charger les données\n",
    "DataPilot <- readRDS(\"../../_PrivateFolder_datagotchi_federal_2025/data/clustering/can2025/01_pilot_2025.rds\")\n",
    "\n",
    "# Charger le fichier des variables\n",
    "source(\"01-1_variables.R\")\n",
    "\n",
    "df_ses <- DataPilot %>%\n",
    "  select(all_of(variables_ses))"
   ]
  },
  {
   "cell_type": "code",
   "execution_count": null,
   "metadata": {
    "vscode": {
     "languageId": "r"
    }
   },
   "outputs": [],
   "source": [
    "# Boucle pour afficher la table pour chaque variable\n",
    "for (v in variables_ses) {\n",
    "  if (v != \"id\") {\n",
    "    cat(\"Table pour la variable:\", v, \"\\n\")\n",
    "    print(table(df_ses[[v]]))\n",
    "    cat(\"\\n\\n\")\n",
    "  }\n",
    "}"
   ]
  },
  {
   "cell_type": "markdown",
   "metadata": {},
   "source": [
    "### Transformations\n",
    "\n",
    "Les variables age, éducation et income devraient être des variables ordinales"
   ]
  },
  {
   "cell_type": "code",
   "execution_count": null,
   "metadata": {
    "vscode": {
     "languageId": "r"
    }
   },
   "outputs": [],
   "source": [
    "# Transformation de âge en variable ordinale\n",
    "\n",
    "df_ses <- df_ses %>%\n",
    "  mutate(\n",
    "    ses_age = case_when(\n",
    "      ses_ageGroup5Years %in% c(\"18_19\", \"20_24\", \"25_29\", \"30_34\") ~ 0,\n",
    "      ses_ageGroup5Years %in% c(\"35_39\", \"40_44\", \"45_49\", \"50_54\") ~ 0.5,\n",
    "      ses_ageGroup5Years %in% c(\"55_59\", \"60_64\", \"65_69\", \"70_74\",\n",
    "                                \"75_79\", \"80_84\", \"85_89\", \"90_94\",\n",
    "                                \"95_99\", \"100+\") ~ 1,\n",
    "      TRUE ~ NA_real_\n",
    "    ) \n",
    "  ) %>%\n",
    "  select(\n",
    "    -ses_ageGroup5Years,\n",
    "    -ses_age_4Cat\n",
    "  )\n"
   ]
  },
  {
   "cell_type": "code",
   "execution_count": null,
   "metadata": {
    "vscode": {
     "languageId": "r"
    }
   },
   "outputs": [],
   "source": [
    "# Transformation de educ en variable ordinale\n",
    "#--------------------------------------------\n",
    "\n",
    "df_ses <- df_ses %>%\n",
    "  mutate(\n",
    "    ses_educ = case_when(\n",
    "      ses_educ_3Cat == \"educBHS\" ~ 0,\n",
    "      ses_educ_3Cat == \"educPostHS\" ~ 0.5,\n",
    "      TRUE ~ 1\n",
    "    )\n",
    "  ) %>%\n",
    "  select(-ses_educ_3Cat)\n"
   ]
  },
  {
   "cell_type": "code",
   "execution_count": null,
   "metadata": {
    "vscode": {
     "languageId": "r"
    }
   },
   "outputs": [],
   "source": [
    "# Transformation de income en variable ordinale\n",
    "#----------------------------------------------\n",
    "\n",
    "df_ses <- df_ses %>%\n",
    "  mutate(\n",
    "    ses_income = case_when(\n",
    "      ses_income3Cat == \"Low\" ~ 0,\n",
    "      ses_income3Cat == \"Mid\" ~ 0.5,\n",
    "      TRUE ~ 1\n",
    "    )\n",
    "  ) %>%\n",
    "  select(-ses_income3Cat)\n"
   ]
  },
  {
   "cell_type": "code",
   "execution_count": null,
   "metadata": {
    "vscode": {
     "languageId": "r"
    }
   },
   "outputs": [],
   "source": [
    "# Binariser ses_language\n",
    "#-----------------------------------------\n",
    "\n",
    "df_ses$ses_languageEnglish <- NA\n",
    "df_ses$ses_languageEnglish[df_ses$ses_language == 'english'] <- 1\n",
    "df_ses$ses_languageEnglish[df_ses$ses_language != 'english'] <- 0\n",
    "table(df_ses$ses_languageEnglish)\n",
    "\n",
    "df_ses$ses_languageFrench <- NA\n",
    "df_ses$ses_languageFrench[df_ses$ses_language == 'french'] <- 1\n",
    "df_ses$ses_languageFrench[df_ses$ses_language != 'french'] <- 0\n",
    "table(df_ses$ses_languageFrench)\n",
    "\n",
    "df_ses$ses_languageOther <- NA\n",
    "df_ses$ses_languageOther[df_ses$ses_language == 'other'] <- 1\n",
    "df_ses$ses_languageOther[df_ses$ses_language != 'other'] <- 0\n",
    "table(df_ses$ses_languageOther)"
   ]
  },
  {
   "cell_type": "code",
   "execution_count": null,
   "metadata": {
    "vscode": {
     "languageId": "r"
    }
   },
   "outputs": [],
   "source": [
    "# Binariser ses_ethnicityWB\n",
    "#-----------------------------------------\n",
    "\n",
    "df_ses$ses_ethnicityWhite <- NA\n",
    "df_ses$ses_ethnicityWhite[df_ses$ses_ethnicityWB == 'white'] <- 1\n",
    "df_ses$ses_ethnicityWhite[df_ses$ses_ethnicityWB != 'white'] <- 0\n",
    "table(df_ses$ses_ethnicityWhite)\n",
    "\n",
    "df_ses$ses_ethnicityBlack <- NA\n",
    "df_ses$ses_ethnicityBlack[df_ses$ses_ethnicityWB == 'black'] <- 1\n",
    "df_ses$ses_ethnicityBlack[df_ses$ses_ethnicityWB != 'black'] <- 0\n",
    "table(df_ses$ses_ethnicityBlack)\n",
    "\n",
    "df_ses$ses_ethnicityOther <- NA\n",
    "df_ses$ses_ethnicityOther[df_ses$ses_ethnicityWB == 'other'] <- 1\n",
    "df_ses$ses_ethnicityOther[df_ses$ses_ethnicityWB != 'other'] <- 0\n",
    "table(df_ses$ses_ethnicityOther)\n"
   ]
  },
  {
   "cell_type": "code",
   "execution_count": null,
   "metadata": {
    "vscode": {
     "languageId": "r"
    }
   },
   "outputs": [],
   "source": [
    "table(df_ses$ses_sexOrientation)"
   ]
  },
  {
   "cell_type": "code",
   "execution_count": null,
   "metadata": {
    "vscode": {
     "languageId": "r"
    }
   },
   "outputs": [],
   "source": [
    "# Binariser ses_sexOrientation\n",
    "#-----------------------------------------\n",
    "\n",
    "df_ses$ses_sexOrientationHetero <- NA\n",
    "df_ses$ses_sexOrientationHetero[df_ses$ses_sexOrientation == 'heterosexual'] <- 1\n",
    "df_ses$ses_sexOrientationHetero[df_ses$ses_sexOrientation != 'heterosexual'] <- 0\n",
    "table(df_ses$ses_sexOrientationHetero)\n",
    "\n",
    "df_ses$ses_sexOrientationQueer <- NA\n",
    "df_ses$ses_sexOrientationQueer[df_ses$ses_sexOrientation %in% c('gay', 'bisexual', 'other')] <- 1\n",
    "df_ses$ses_sexOrientationQueer[df_ses$ses_sexOrientation == 'heterosexual'] <- 0\n",
    "table(df_ses$ses_sexOrientationQueer)"
   ]
  },
  {
   "cell_type": "code",
   "execution_count": null,
   "metadata": {
    "vscode": {
     "languageId": "r"
    }
   },
   "outputs": [],
   "source": [
    "variables_ses_clust <- c(\n",
    "  \"id\",\n",
    "  \"ses_genderMale\",\n",
    "  \"ses_age\",\n",
    "  \"ses_languageEnglish\",\n",
    "  \"ses_languageFrench\",\n",
    "  \"ses_languageOther\",\n",
    "  \"ses_educ\",\n",
    "  \"ses_income\",\n",
    "  \"ses_immigrant\",\n",
    "  \"ses_ethnicityWhite\",\n",
    "  \"ses_ethnicityBlack\",\n",
    "  \"ses_ethnicityOther\",\n",
    "  \"ses_sexOrientationHetero\",\n",
    "  \"ses_sexOrientationQueer\"\n",
    ")"
   ]
  },
  {
   "cell_type": "code",
   "execution_count": null,
   "metadata": {
    "vscode": {
     "languageId": "r"
    }
   },
   "outputs": [],
   "source": [
    "# Boucle pour afficher la table pour chaque variable\n",
    "for (v in variables_ses_clust) {\n",
    "  if (v != \"id\") {\n",
    "    cat(\"Table pour la variable:\", v, \"\\n\")\n",
    "    print(table(df_ses[[v]]))\n",
    "    cat(\"\\n\\n\")\n",
    "  }\n",
    "}"
   ]
  },
  {
   "cell_type": "code",
   "execution_count": null,
   "metadata": {
    "vscode": {
     "languageId": "r"
    }
   },
   "outputs": [],
   "source": [
    "# Sauvegarder les données préparées\n",
    "saveRDS(df_ses, file = \"../../_PrivateFolder_datagotchi_federal_2025/data/clustering/can2025/02_pilot_2025_ses.rds\")"
   ]
  },
  {
   "cell_type": "markdown",
   "metadata": {},
   "source": [
    "---"
   ]
  },
  {
   "cell_type": "markdown",
   "metadata": {},
   "source": [
    "# SUGGESTION : Activité de Clustering\n",
    "\n",
    "Si souhaité, effectuer un exercice de clustering avec ce sous-groupe de variables pour mieux saisir les données et leur relation. \n",
    "\n",
    "Cet exercice est purement exploratoire et sert à voir si les données peuvent être utilisées pour faire du clustering."
   ]
  }
 ],
 "metadata": {
  "kernelspec": {
   "display_name": "R",
   "language": "R",
   "name": "ir"
  },
  "language_info": {
   "codemirror_mode": "r",
   "file_extension": ".r",
   "mimetype": "text/x-r-source",
   "name": "R",
   "pygments_lexer": "r",
   "version": "4.4.2"
  }
 },
 "nbformat": 4,
 "nbformat_minor": 2
}
