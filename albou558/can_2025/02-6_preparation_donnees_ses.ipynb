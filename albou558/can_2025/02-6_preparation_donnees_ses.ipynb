{
 "cells": [
  {
   "cell_type": "markdown",
   "metadata": {},
   "source": [
    "# Préparation des variables de ses"
   ]
  },
  {
   "cell_type": "code",
   "execution_count": 34,
   "metadata": {
    "vscode": {
     "languageId": "r"
    }
   },
   "outputs": [],
   "source": [
    "library(tidyverse)\n",
    "library(factoextra)\n",
    "\n",
    "# Charger les données\n",
    "DataPilot <- readRDS(\"../../_PrivateFolder_datagotchi_federal_2025/data/clustering/can2025/01_pilot_2025.rds\")\n",
    "\n",
    "# Charger le fichier des variables\n",
    "source(\"01-1_variables.R\")\n",
    "\n",
    "df_ses <- DataPilot %>%\n",
    "  select(all_of(variables_ses))"
   ]
  },
  {
   "cell_type": "code",
   "execution_count": 35,
   "metadata": {
    "vscode": {
     "languageId": "r"
    }
   },
   "outputs": [
    {
     "name": "stdout",
     "output_type": "stream",
     "text": [
      "Table pour la variable: ses_genderMale \n",
      "\n",
      "  0   1 \n",
      "493 539 \n",
      "\n",
      "\n",
      "Table pour la variable: ses_genderFemale \n",
      "\n",
      "  0   1 \n",
      "551 481 \n",
      "\n",
      "\n",
      "Table pour la variable: ses_gender \n",
      "\n",
      "    agender      female        male  non_binary       queer   trans_man \n",
      "          0         481         539           5           2           3 \n",
      "trans_woman \n",
      "          2 \n",
      "\n",
      "\n",
      "Table pour la variable: ses_ageGroup5Years \n",
      "\n",
      "18_19 20_24 25_29 30_34 35_39 40_44 45_49 50_54 55_59 60_64 65_69 70_74 75_79 \n",
      "   13    66   113    93   110     0    84    85    99   103    92    71    67 \n",
      "80_84 85_89 90_94 95_99  100+ \n",
      "   22    10     3     1     0 \n",
      "\n",
      "\n",
      "Table pour la variable: ses_age_4Cat \n",
      "\n",
      "18_24 25_44 45_64   65+ \n",
      "   79   316   371   266 \n",
      "\n",
      "\n",
      "Table pour la variable: ses_region \n",
      "\n",
      "         prairie british_columbia         atlantic          ontario \n",
      "             173              137               39              337 \n",
      "          quebec      territories \n",
      "             342                4 \n",
      "\n",
      "\n",
      "Table pour la variable: ses_language \n",
      "\n",
      "english  french   other \n",
      "    680     308      44 \n",
      "\n",
      "\n",
      "Table pour la variable: ses_educ_3Cat \n",
      "\n",
      "   educBHS educPostHS   educUniv \n",
      "       218        335        479 \n",
      "\n",
      "\n",
      "Table pour la variable: ses_income \n",
      "\n",
      "       no_income       1_to_30000   30001_to_60000   60001_to_90000 \n",
      "              19              128              215              226 \n",
      " 90001_to_110000 110001_to_150000 150001_to_200000 more_than_200000 \n",
      "             121              171               96               56 \n",
      "\n",
      "\n",
      "Table pour la variable: ses_income3Cat \n",
      "\n",
      "High  Low  Mid \n",
      " 152  147  733 \n",
      "\n",
      "\n",
      "Table pour la variable: ses_immigrant \n",
      "\n",
      "  0   1 \n",
      "195 837 \n",
      "\n",
      "\n",
      "Table pour la variable: ses_ethnicity \n",
      "\n",
      "     white      black indigenous      asian   hispanic       arab      other \n",
      "       812         26         20        126         11         11         26 \n",
      "\n",
      "\n",
      "Table pour la variable: ses_ethnicityWB \n",
      "\n",
      "white black other \n",
      "  812    26   194 \n",
      "\n",
      "\n",
      "Table pour la variable: ses_sexOrientation \n",
      "\n",
      "heterosexual          gay     bisexual        other \n",
      "         899           58           41           34 \n",
      "\n",
      "\n"
     ]
    }
   ],
   "source": [
    "# Boucle pour afficher la table pour chaque variable\n",
    "for (v in variables_ses) {\n",
    "  if (v != \"id\") {\n",
    "    cat(\"Table pour la variable:\", v, \"\\n\")\n",
    "    print(table(df_ses[[v]]))\n",
    "    cat(\"\\n\\n\")\n",
    "  }\n",
    "}"
   ]
  },
  {
   "cell_type": "markdown",
   "metadata": {},
   "source": [
    "### Transformations\n",
    "\n",
    "Les variables age, éducation et income devraient être des variables ordinales"
   ]
  },
  {
   "cell_type": "code",
   "execution_count": 36,
   "metadata": {
    "vscode": {
     "languageId": "r"
    }
   },
   "outputs": [],
   "source": [
    "# Transformation de âge en variable ordinale\n",
    "\n",
    "df_ses <- df_ses %>%\n",
    "  mutate(\n",
    "    ses_age = case_when(\n",
    "      ses_ageGroup5Years %in% c(\"18_19\", \"20_24\", \"25_29\", \"30_34\") ~ 0,\n",
    "      ses_ageGroup5Years %in% c(\"35_39\", \"40_44\", \"45_49\", \"50_54\") ~ 0.5,\n",
    "      ses_ageGroup5Years %in% c(\"55_59\", \"60_64\", \"65_69\", \"70_74\",\n",
    "                                \"75_79\", \"80_84\", \"85_89\", \"90_94\",\n",
    "                                \"95_99\", \"100+\") ~ 1,\n",
    "      TRUE ~ NA_real_\n",
    "    ) \n",
    "  ) %>%\n",
    "  select(\n",
    "    -ses_ageGroup5Years,\n",
    "    -ses_age_4Cat\n",
    "  )\n"
   ]
  },
  {
   "cell_type": "code",
   "execution_count": 37,
   "metadata": {
    "vscode": {
     "languageId": "r"
    }
   },
   "outputs": [
    {
     "data": {
      "text/plain": [
       "\n",
       "  0   1 \n",
       "814 218 "
      ]
     },
     "metadata": {},
     "output_type": "display_data"
    },
    {
     "data": {
      "text/plain": [
       "\n",
       "  0   1 \n",
       "697 335 "
      ]
     },
     "metadata": {},
     "output_type": "display_data"
    },
    {
     "data": {
      "text/plain": [
       "\n",
       "  0   1 \n",
       "553 479 "
      ]
     },
     "metadata": {},
     "output_type": "display_data"
    }
   ],
   "source": [
    "# Transformation de educ en variable ordinale\n",
    "#--------------------------------------------\n",
    "\n",
    "df_ses$ses_educBHS <- NA\n",
    "df_ses$ses_educBHS[df_ses$ses_educ_3Cat == 'educBHS'] <- 1\n",
    "df_ses$ses_educBHS[df_ses$ses_educ_3Cat != 'educBHS'] <- 0\n",
    "table(df_ses$ses_educBHS)\n",
    "\n",
    "df_ses$ses_educPostHS <- NA\n",
    "df_ses$ses_educPostHS[df_ses$ses_educ_3Cat == 'educPostHS'] <- 1\n",
    "df_ses$ses_educPostHS[df_ses$ses_educ_3Cat != 'educPostHS'] <- 0\n",
    "table(df_ses$ses_educPostHS)\n",
    "\n",
    "df_ses$ses_educUniv <- NA\n",
    "df_ses$ses_educUniv[df_ses$ses_educ_3Cat == 'educUniv'] <- 1\n",
    "df_ses$ses_educUniv[df_ses$ses_educ_3Cat != 'educUniv'] <- 0\n",
    "table(df_ses$ses_educUniv)\n"
   ]
  },
  {
   "cell_type": "code",
   "execution_count": 38,
   "metadata": {
    "vscode": {
     "languageId": "r"
    }
   },
   "outputs": [
    {
     "data": {
      "text/plain": [
       "\n",
       "   0    1 \n",
       "1013   19 "
      ]
     },
     "metadata": {},
     "output_type": "display_data"
    },
    {
     "data": {
      "text/plain": [
       "\n",
       "  0   1 \n",
       "904 128 "
      ]
     },
     "metadata": {},
     "output_type": "display_data"
    },
    {
     "data": {
      "text/plain": [
       "\n",
       "  0   1 \n",
       "817 215 "
      ]
     },
     "metadata": {},
     "output_type": "display_data"
    },
    {
     "data": {
      "text/plain": [
       "\n",
       "  0   1 \n",
       "806 226 "
      ]
     },
     "metadata": {},
     "output_type": "display_data"
    },
    {
     "data": {
      "text/plain": [
       "\n",
       "  0   1 \n",
       "911 121 "
      ]
     },
     "metadata": {},
     "output_type": "display_data"
    },
    {
     "data": {
      "text/plain": [
       "\n",
       "  0   1 \n",
       "861 171 "
      ]
     },
     "metadata": {},
     "output_type": "display_data"
    },
    {
     "data": {
      "text/plain": [
       "\n",
       "  0   1 \n",
       "936  96 "
      ]
     },
     "metadata": {},
     "output_type": "display_data"
    },
    {
     "data": {
      "text/plain": [
       "\n",
       "  0   1 \n",
       "976  56 "
      ]
     },
     "metadata": {},
     "output_type": "display_data"
    }
   ],
   "source": [
    "# Transformation de income en variable ordinale\n",
    "#----------------------------------------------\n",
    "df_ses$income_no_income <- ifelse(df_ses$ses_income == \"no_income\", 1, 0)\n",
    "df_ses$income_1_30000   <- ifelse(df_ses$ses_income == \"1_to_30000\", 1, 0)\n",
    "df_ses$income_30001_60000 <- ifelse(df_ses$ses_income == \"30001_to_60000\", 1, 0)\n",
    "df_ses$income_60001_90000 <- ifelse(df_ses$ses_income == \"60001_to_90000\", 1, 0)\n",
    "df_ses$income_90001_110000 <- ifelse(df_ses$ses_income == \"90001_to_110000\", 1, 0)\n",
    "df_ses$income_110001_150000 <- ifelse(df_ses$ses_income == \"110001_to_150000\", 1, 0)\n",
    "df_ses$income_150001_200000 <- ifelse(df_ses$ses_income == \"150001_to_200000\", 1, 0)\n",
    "df_ses$income_more_than_200000 <- ifelse(df_ses$ses_income == \"more_than_200000\", 1, 0)\n",
    "\n",
    "table(df_ses$income_no_income)\n",
    "table(df_ses$income_1_30000)\n",
    "table(df_ses$income_30001_60000)\n",
    "table(df_ses$income_60001_90000)\n",
    "table(df_ses$income_90001_110000)\n",
    "table(df_ses$income_110001_150000)\n",
    "table(df_ses$income_150001_200000)\n",
    "table(df_ses$income_more_than_200000)"
   ]
  },
  {
   "cell_type": "code",
   "execution_count": 39,
   "metadata": {
    "vscode": {
     "languageId": "r"
    }
   },
   "outputs": [
    {
     "data": {
      "text/plain": [
       "\n",
       "  0   1 \n",
       "352 680 "
      ]
     },
     "metadata": {},
     "output_type": "display_data"
    },
    {
     "data": {
      "text/plain": [
       "\n",
       "  0   1 \n",
       "724 308 "
      ]
     },
     "metadata": {},
     "output_type": "display_data"
    },
    {
     "data": {
      "text/plain": [
       "\n",
       "  0   1 \n",
       "988  44 "
      ]
     },
     "metadata": {},
     "output_type": "display_data"
    }
   ],
   "source": [
    "# Binariser ses_language\n",
    "#-----------------------------------------\n",
    "\n",
    "df_ses$ses_languageEnglish <- NA\n",
    "df_ses$ses_languageEnglish[df_ses$ses_language == 'english'] <- 1\n",
    "df_ses$ses_languageEnglish[df_ses$ses_language != 'english'] <- 0\n",
    "table(df_ses$ses_languageEnglish)\n",
    "\n",
    "df_ses$ses_languageFrench <- NA\n",
    "df_ses$ses_languageFrench[df_ses$ses_language == 'french'] <- 1\n",
    "df_ses$ses_languageFrench[df_ses$ses_language != 'french'] <- 0\n",
    "table(df_ses$ses_languageFrench)\n",
    "\n",
    "df_ses$ses_languageOther <- NA\n",
    "df_ses$ses_languageOther[df_ses$ses_language == 'other'] <- 1\n",
    "df_ses$ses_languageOther[df_ses$ses_language != 'other'] <- 0\n",
    "table(df_ses$ses_languageOther)"
   ]
  },
  {
   "cell_type": "code",
   "execution_count": 40,
   "metadata": {
    "vscode": {
     "languageId": "r"
    }
   },
   "outputs": [
    {
     "data": {
      "text/plain": [
       "\n",
       "  0   1 \n",
       "220 812 "
      ]
     },
     "metadata": {},
     "output_type": "display_data"
    },
    {
     "data": {
      "text/plain": [
       "\n",
       "   0    1 \n",
       "1006   26 "
      ]
     },
     "metadata": {},
     "output_type": "display_data"
    },
    {
     "data": {
      "text/plain": [
       "\n",
       "  0   1 \n",
       "838 194 "
      ]
     },
     "metadata": {},
     "output_type": "display_data"
    }
   ],
   "source": [
    "# Binariser ses_ethnicityWB\n",
    "#-----------------------------------------\n",
    "\n",
    "df_ses$ses_ethnicityWhite <- NA\n",
    "df_ses$ses_ethnicityWhite[df_ses$ses_ethnicityWB == 'white'] <- 1\n",
    "df_ses$ses_ethnicityWhite[df_ses$ses_ethnicityWB != 'white'] <- 0\n",
    "table(df_ses$ses_ethnicityWhite)\n",
    "\n",
    "df_ses$ses_ethnicityBlack <- NA\n",
    "df_ses$ses_ethnicityBlack[df_ses$ses_ethnicityWB == 'black'] <- 1\n",
    "df_ses$ses_ethnicityBlack[df_ses$ses_ethnicityWB != 'black'] <- 0\n",
    "table(df_ses$ses_ethnicityBlack)\n",
    "\n",
    "df_ses$ses_ethnicityOther <- NA\n",
    "df_ses$ses_ethnicityOther[df_ses$ses_ethnicityWB == 'other'] <- 1\n",
    "df_ses$ses_ethnicityOther[df_ses$ses_ethnicityWB != 'other'] <- 0\n",
    "table(df_ses$ses_ethnicityOther)\n"
   ]
  },
  {
   "cell_type": "code",
   "execution_count": 41,
   "metadata": {
    "vscode": {
     "languageId": "r"
    }
   },
   "outputs": [
    {
     "data": {
      "text/plain": [
       "\n",
       "heterosexual          gay     bisexual        other \n",
       "         899           58           41           34 "
      ]
     },
     "metadata": {},
     "output_type": "display_data"
    }
   ],
   "source": [
    "table(df_ses$ses_sexOrientation)"
   ]
  },
  {
   "cell_type": "code",
   "execution_count": 42,
   "metadata": {
    "vscode": {
     "languageId": "r"
    }
   },
   "outputs": [
    {
     "data": {
      "text/plain": [
       "\n",
       "  0   1 \n",
       "133 899 "
      ]
     },
     "metadata": {},
     "output_type": "display_data"
    },
    {
     "data": {
      "text/plain": [
       "\n",
       "  0   1 \n",
       "899 133 "
      ]
     },
     "metadata": {},
     "output_type": "display_data"
    }
   ],
   "source": [
    "# Binariser ses_sexOrientation\n",
    "#-----------------------------------------\n",
    "\n",
    "df_ses$ses_sexOrientationHetero <- NA\n",
    "df_ses$ses_sexOrientationHetero[df_ses$ses_sexOrientation == 'heterosexual'] <- 1\n",
    "df_ses$ses_sexOrientationHetero[df_ses$ses_sexOrientation != 'heterosexual'] <- 0\n",
    "table(df_ses$ses_sexOrientationHetero)\n",
    "\n",
    "df_ses$ses_sexOrientationQueer <- NA\n",
    "df_ses$ses_sexOrientationQueer[df_ses$ses_sexOrientation %in% c('gay', 'bisexual', 'other')] <- 1\n",
    "df_ses$ses_sexOrientationQueer[df_ses$ses_sexOrientation == 'heterosexual'] <- 0\n",
    "table(df_ses$ses_sexOrientationQueer)"
   ]
  },
  {
   "cell_type": "code",
   "execution_count": 43,
   "metadata": {
    "vscode": {
     "languageId": "r"
    }
   },
   "outputs": [],
   "source": [
    "variables_ses_clust <- c(\n",
    "  \"id\",\n",
    "  \"ses_genderMale\",\n",
    "  \"ses_age\",\n",
    "  \"ses_languageEnglish\",\n",
    "  \"ses_languageFrench\",\n",
    "  \"ses_languageOther\",\n",
    "  \"ses_educUniv\",\n",
    "  \"ses_educBHS\",\n",
    "  \"ses_educPostHS\",\n",
    "  \"ses_immigrant\",\n",
    "  \"ses_ethnicityWhite\",\n",
    "  \"ses_ethnicityBlack\",\n",
    "  \"ses_ethnicityOther\",\n",
    "  \"ses_sexOrientationHetero\",\n",
    "  \"ses_sexOrientationQueer\",\n",
    "  \"income_no_income\",\n",
    "  \"income_1_30000\",\n",
    "  \"income_30001_60000\",\n",
    "  \"income_60001_90000\",\n",
    "  \"income_90001_110000\",\n",
    "  \"income_110001_150000\",\n",
    "  \"income_150001_200000\",\n",
    "  \"income_more_than_200000\"\n",
    ")"
   ]
  },
  {
   "cell_type": "code",
   "execution_count": 44,
   "metadata": {
    "vscode": {
     "languageId": "r"
    }
   },
   "outputs": [
    {
     "name": "stdout",
     "output_type": "stream",
     "text": [
      "Table pour la variable: ses_genderMale \n",
      "\n",
      "  0   1 \n",
      "493 539 \n",
      "\n",
      "\n",
      "Table pour la variable: ses_age \n",
      "\n",
      "  0 0.5   1 \n",
      "285 279 468 \n",
      "\n",
      "\n",
      "Table pour la variable: ses_languageEnglish \n",
      "\n",
      "  0   1 \n",
      "352 680 \n",
      "\n",
      "\n",
      "Table pour la variable: ses_languageFrench \n",
      "\n",
      "  0   1 \n",
      "724 308 \n",
      "\n",
      "\n",
      "Table pour la variable: ses_languageOther \n",
      "\n",
      "  0   1 \n",
      "988  44 \n",
      "\n",
      "\n",
      "Table pour la variable: ses_educUniv \n",
      "\n",
      "  0   1 \n",
      "553 479 \n",
      "\n",
      "\n",
      "Table pour la variable: ses_educBHS \n",
      "\n",
      "  0   1 \n",
      "814 218 \n",
      "\n",
      "\n",
      "Table pour la variable: ses_educPostHS \n",
      "\n",
      "  0   1 \n",
      "697 335 \n",
      "\n",
      "\n",
      "Table pour la variable: ses_immigrant \n",
      "\n",
      "  0   1 \n",
      "195 837 \n",
      "\n",
      "\n",
      "Table pour la variable: ses_ethnicityWhite \n",
      "\n",
      "  0   1 \n",
      "220 812 \n",
      "\n",
      "\n",
      "Table pour la variable: ses_ethnicityBlack \n",
      "\n",
      "   0    1 \n",
      "1006   26 \n",
      "\n",
      "\n",
      "Table pour la variable: ses_ethnicityOther \n",
      "\n",
      "  0   1 \n",
      "838 194 \n",
      "\n",
      "\n",
      "Table pour la variable: ses_sexOrientationHetero \n",
      "\n",
      "  0   1 \n",
      "133 899 \n",
      "\n",
      "\n",
      "Table pour la variable: ses_sexOrientationQueer \n",
      "\n",
      "  0   1 \n",
      "899 133 \n",
      "\n",
      "\n",
      "Table pour la variable: income_no_income \n",
      "\n",
      "   0    1 \n",
      "1013   19 \n",
      "\n",
      "\n",
      "Table pour la variable: income_1_30000 \n",
      "\n",
      "  0   1 \n",
      "904 128 \n",
      "\n",
      "\n",
      "Table pour la variable: income_30001_60000 \n",
      "\n",
      "  0   1 \n",
      "817 215 \n",
      "\n",
      "\n",
      "Table pour la variable: income_60001_90000 \n",
      "\n",
      "  0   1 \n",
      "806 226 \n",
      "\n",
      "\n",
      "Table pour la variable: income_90001_110000 \n",
      "\n",
      "  0   1 \n",
      "911 121 \n",
      "\n",
      "\n",
      "Table pour la variable: income_110001_150000 \n",
      "\n",
      "  0   1 \n",
      "861 171 \n",
      "\n",
      "\n",
      "Table pour la variable: income_150001_200000 \n",
      "\n",
      "  0   1 \n",
      "936  96 \n",
      "\n",
      "\n",
      "Table pour la variable: income_more_than_200000 \n",
      "\n",
      "  0   1 \n",
      "976  56 \n",
      "\n",
      "\n"
     ]
    }
   ],
   "source": [
    "# Boucle pour afficher la table pour chaque variable\n",
    "for (v in variables_ses_clust) {\n",
    "  if (v != \"id\") {\n",
    "    cat(\"Table pour la variable:\", v, \"\\n\")\n",
    "    print(table(df_ses[[v]]))\n",
    "    cat(\"\\n\\n\")\n",
    "  }\n",
    "}"
   ]
  },
  {
   "cell_type": "code",
   "execution_count": 45,
   "metadata": {
    "vscode": {
     "languageId": "r"
    }
   },
   "outputs": [],
   "source": [
    "# Sauvegarder les données préparées\n",
    "saveRDS(df_ses, file = \"../../_PrivateFolder_datagotchi_federal_2025/data/clustering/can2025/02_pilot_2025_ses.rds\")"
   ]
  },
  {
   "cell_type": "markdown",
   "metadata": {},
   "source": [
    "---"
   ]
  },
  {
   "cell_type": "markdown",
   "metadata": {},
   "source": [
    "# SUGGESTION : Activité de Clustering\n",
    "\n",
    "Si souhaité, effectuer un exercice de clustering avec ce sous-groupe de variables pour mieux saisir les données et leur relation. \n",
    "\n",
    "Cet exercice est purement exploratoire et sert à voir si les données peuvent être utilisées pour faire du clustering."
   ]
  }
 ],
 "metadata": {
  "kernelspec": {
   "display_name": "R",
   "language": "R",
   "name": "ir"
  },
  "language_info": {
   "codemirror_mode": "r",
   "file_extension": ".r",
   "mimetype": "text/x-r-source",
   "name": "R",
   "pygments_lexer": "r",
   "version": "4.4.3"
  }
 },
 "nbformat": 4,
 "nbformat_minor": 2
}
