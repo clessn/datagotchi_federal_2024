{
 "cells": [
  {
   "cell_type": "markdown",
   "metadata": {},
   "source": [
    "# Préparation des variables commerce"
   ]
  },
  {
   "cell_type": "code",
   "execution_count": 1,
   "metadata": {
    "vscode": {
     "languageId": "r"
    }
   },
   "outputs": [
    {
     "name": "stderr",
     "output_type": "stream",
     "text": [
      "── \u001b[1mAttaching core tidyverse packages\u001b[22m ──────────────────────── tidyverse 2.0.0 ──\n",
      "\u001b[32m✔\u001b[39m \u001b[34mdplyr    \u001b[39m 1.1.4     \u001b[32m✔\u001b[39m \u001b[34mreadr    \u001b[39m 2.1.5\n",
      "\u001b[32m✔\u001b[39m \u001b[34mforcats  \u001b[39m 1.0.0     \u001b[32m✔\u001b[39m \u001b[34mstringr  \u001b[39m 1.5.1\n",
      "\u001b[32m✔\u001b[39m \u001b[34mggplot2  \u001b[39m 3.5.1     \u001b[32m✔\u001b[39m \u001b[34mtibble   \u001b[39m 3.2.1\n",
      "\u001b[32m✔\u001b[39m \u001b[34mlubridate\u001b[39m 1.9.3     \u001b[32m✔\u001b[39m \u001b[34mtidyr    \u001b[39m 1.3.1\n",
      "\u001b[32m✔\u001b[39m \u001b[34mpurrr    \u001b[39m 1.0.2     \n",
      "── \u001b[1mConflicts\u001b[22m ────────────────────────────────────────── tidyverse_conflicts() ──\n",
      "\u001b[31m✖\u001b[39m \u001b[34mdplyr\u001b[39m::\u001b[32mfilter()\u001b[39m masks \u001b[34mstats\u001b[39m::filter()\n",
      "\u001b[31m✖\u001b[39m \u001b[34mdplyr\u001b[39m::\u001b[32mlag()\u001b[39m    masks \u001b[34mstats\u001b[39m::lag()\n",
      "\u001b[36mℹ\u001b[39m Use the conflicted package (\u001b[3m\u001b[34m<http://conflicted.r-lib.org/>\u001b[39m\u001b[23m) to force all conflicts to become errors\n",
      "Welcome! Want to learn more? See two factoextra-related books at https://goo.gl/ve3WBa\n",
      "\n"
     ]
    }
   ],
   "source": [
    "library(tidyverse)\n",
    "library(factoextra)\n",
    "\n",
    "# Charger les données\n",
    "DataPilot <- readRDS(\"../../_PrivateFolder_datagotchi_federal_2025/data/clustering/can2025/01_pilot_2025.rds\")\n",
    "\n",
    "# Charger le fichier des variables\n",
    "source(\"01-1_variables.R\")\n",
    "\n",
    "df_commerce <- DataPilot %>%\n",
    "  select(all_of(variables_commerce))"
   ]
  },
  {
   "cell_type": "code",
   "execution_count": 2,
   "metadata": {
    "vscode": {
     "languageId": "r"
    }
   },
   "outputs": [
    {
     "name": "stdout",
     "output_type": "stream",
     "text": [
      "Table pour la variable: lifestyle_consClothesFrip \n",
      "\n",
      "  0   1 \n",
      "918 114 \n",
      "\n",
      "\n",
      "Table pour la variable: lifestyle_consClothesIndependent \n",
      "\n",
      "  0   1 \n",
      "913 119 \n",
      "\n",
      "\n",
      "Table pour la variable: lifestyle_consClothesChain \n",
      "\n",
      "  0   1 \n",
      "770 262 \n",
      "\n",
      "\n",
      "Table pour la variable: lifestyle_consClothesSuperstores \n",
      "\n",
      "  0   1 \n",
      "795 237 \n",
      "\n",
      "\n",
      "Table pour la variable: lifestyle_consClothesDepartment \n",
      "\n",
      "  0   1 \n",
      "836 196 \n",
      "\n",
      "\n",
      "Table pour la variable: lifestyle_consClothesOnline \n",
      "\n",
      "  0   1 \n",
      "959  73 \n",
      "\n",
      "\n",
      "Table pour la variable: lifestyle_consClothesOther \n",
      "\n",
      "   0    1 \n",
      "1001   31 \n",
      "\n",
      "\n",
      "Table pour la variable: lifestyle_consCoffeeTimHortons \n",
      "\n",
      "  0   1 \n",
      "702 330 \n",
      "\n",
      "\n",
      "Table pour la variable: lifestyle_consCoffeeStarbucks \n",
      "\n",
      "  0   1 \n",
      "906 126 \n",
      "\n",
      "\n",
      "Table pour la variable: lifestyle_consCoffeeSecondCup \n",
      "\n",
      "   0    1 \n",
      "1017   15 \n",
      "\n",
      "\n",
      "Table pour la variable: lifestyle_consCoffeeMcDo \n",
      "\n",
      "  0   1 \n",
      "927 105 \n",
      "\n",
      "\n",
      "Table pour la variable: lifestyle_consCoffeeOther \n",
      "\n",
      "   0    1 \n",
      "1026    6 \n",
      "\n",
      "\n",
      "Table pour la variable: lifestyle_consCoffeeIndependent \n",
      "\n",
      "  0   1 \n",
      "960  72 \n",
      "\n",
      "\n",
      "Table pour la variable: lifestyle_consCoffeeNone \n",
      "\n",
      "  0   1 \n",
      "654 378 \n",
      "\n",
      "\n"
     ]
    }
   ],
   "source": [
    "# Boucle pour afficher la table pour chaque variable\n",
    "for (v in variables_commerce) {\n",
    "  if (v != \"id\") {\n",
    "    cat(\"Table pour la variable:\", v, \"\\n\")\n",
    "    print(table(df_commerce[[v]]))\n",
    "    cat(\"\\n\\n\")\n",
    "  }\n",
    "}"
   ]
  },
  {
   "cell_type": "markdown",
   "metadata": {},
   "source": [
    "### Transformations\n",
    "\n",
    "- cons_brand : Aucun changement\n",
    "\n",
    "- cons_coffee : Regrouper SC (second cup) avec Other"
   ]
  },
  {
   "cell_type": "code",
   "execution_count": 3,
   "metadata": {
    "vscode": {
     "languageId": "r"
    }
   },
   "outputs": [],
   "source": [
    "# Regroupement de cons_coffee\n",
    "#-----------------------------\n",
    "\n",
    "df_commerce <- df_commerce %>%\n",
    "\n",
    "  mutate(\n",
    "    lifestyle_consCoffeeOther = if_else(\n",
    "      lifestyle_consCoffeeSecondCup == 1,\n",
    "      1,\n",
    "      lifestyle_consCoffeeOther\n",
    "    )\n",
    "  ) %>%\n",
    "  select(-lifestyle_consCoffeeSecondCup)"
   ]
  },
  {
   "cell_type": "code",
   "execution_count": 4,
   "metadata": {
    "vscode": {
     "languageId": "r"
    }
   },
   "outputs": [],
   "source": [
    "variables_commerce_clust <- c(\n",
    "  \"id\",\n",
    "  \"lifestyle_consClothesFrip\",\n",
    "  \"lifestyle_consClothesIndependent\",\n",
    "  \"lifestyle_consClothesChain\",\n",
    "  \"lifestyle_consClothesSuperstores\",\n",
    "  \"lifestyle_consClothesDepartment\",\n",
    "  \"lifestyle_consClothesOnline\",\n",
    "  \"lifestyle_consClothesOther\",\n",
    "  \"lifestyle_consCoffeeTimHortons\",\n",
    "  \"lifestyle_consCoffeeStarbucks\",\n",
    "  \"lifestyle_consCoffeeMcDo\",\n",
    "  \"lifestyle_consCoffeeOther\",\n",
    "  \"lifestyle_consCoffeeIndependent\",\n",
    "  \"lifestyle_consCoffeeNone\"\n",
    ")"
   ]
  },
  {
   "cell_type": "code",
   "execution_count": 5,
   "metadata": {
    "vscode": {
     "languageId": "r"
    }
   },
   "outputs": [
    {
     "name": "stdout",
     "output_type": "stream",
     "text": [
      "Table pour la variable: lifestyle_consClothesFrip \n",
      "\n",
      "  0   1 \n",
      "918 114 \n",
      "\n",
      "\n",
      "Table pour la variable: lifestyle_consClothesIndependent \n",
      "\n",
      "  0   1 \n",
      "913 119 \n",
      "\n",
      "\n",
      "Table pour la variable: lifestyle_consClothesChain \n",
      "\n",
      "  0   1 \n",
      "770 262 \n",
      "\n",
      "\n",
      "Table pour la variable: lifestyle_consClothesSuperstores \n",
      "\n",
      "  0   1 \n",
      "795 237 \n",
      "\n",
      "\n",
      "Table pour la variable: lifestyle_consClothesDepartment \n",
      "\n",
      "  0   1 \n",
      "836 196 \n",
      "\n",
      "\n",
      "Table pour la variable: lifestyle_consClothesOnline \n",
      "\n",
      "  0   1 \n",
      "959  73 \n",
      "\n",
      "\n",
      "Table pour la variable: lifestyle_consClothesOther \n",
      "\n",
      "   0    1 \n",
      "1001   31 \n",
      "\n",
      "\n",
      "Table pour la variable: lifestyle_consCoffeeTimHortons \n",
      "\n",
      "  0   1 \n",
      "702 330 \n",
      "\n",
      "\n",
      "Table pour la variable: lifestyle_consCoffeeStarbucks \n",
      "\n",
      "  0   1 \n",
      "906 126 \n",
      "\n",
      "\n",
      "Table pour la variable: lifestyle_consCoffeeMcDo \n",
      "\n",
      "  0   1 \n",
      "927 105 \n",
      "\n",
      "\n",
      "Table pour la variable: lifestyle_consCoffeeOther \n",
      "\n",
      "   0    1 \n",
      "1011   21 \n",
      "\n",
      "\n",
      "Table pour la variable: lifestyle_consCoffeeIndependent \n",
      "\n",
      "  0   1 \n",
      "960  72 \n",
      "\n",
      "\n",
      "Table pour la variable: lifestyle_consCoffeeNone \n",
      "\n",
      "  0   1 \n",
      "654 378 \n",
      "\n",
      "\n"
     ]
    }
   ],
   "source": [
    "# Boucle pour afficher la table pour chaque variable\n",
    "for (v in variables_commerce_clust) {\n",
    "  if (v != \"id\") {\n",
    "    cat(\"Table pour la variable:\", v, \"\\n\")\n",
    "    print(table(df_commerce[[v]]))\n",
    "    cat(\"\\n\\n\")\n",
    "  }\n",
    "}"
   ]
  },
  {
   "cell_type": "code",
   "execution_count": 6,
   "metadata": {
    "vscode": {
     "languageId": "r"
    }
   },
   "outputs": [],
   "source": [
    "# Sauvegarder les données préparées\n",
    "saveRDS(df_commerce, file = \"../../_PrivateFolder_datagotchi_federal_2025/data/clustering/can2025/02_pilot_2025_commerce.rds\")"
   ]
  },
  {
   "cell_type": "markdown",
   "metadata": {},
   "source": [
    "---"
   ]
  },
  {
   "cell_type": "markdown",
   "metadata": {},
   "source": [
    "# SUGGESTION : Activité de Clustering\n",
    "\n",
    "Si souhaité, effectuer un exercice de clustering avec ce sous-groupe de variables pour mieux saisir les données et leur relation. \n",
    "\n",
    "Cet exercice est purement exploratoire et sert à voir si les données peuvent être utilisées pour faire du clustering."
   ]
  }
 ],
 "metadata": {
  "kernelspec": {
   "display_name": "R",
   "language": "R",
   "name": "ir"
  },
  "language_info": {
   "codemirror_mode": "r",
   "file_extension": ".r",
   "mimetype": "text/x-r-source",
   "name": "R",
   "pygments_lexer": "r",
   "version": "4.4.3"
  }
 },
 "nbformat": 4,
 "nbformat_minor": 2
}
