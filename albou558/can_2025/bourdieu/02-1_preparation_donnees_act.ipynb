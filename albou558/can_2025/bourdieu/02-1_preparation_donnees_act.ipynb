{
 "cells": [
  {
   "cell_type": "markdown",
   "metadata": {},
   "source": [
    "# Préparation des variables pour les variables d'activités "
   ]
  },
  {
   "cell_type": "code",
   "execution_count": null,
   "metadata": {
    "vscode": {
     "languageId": "r"
    }
   },
   "outputs": [],
   "source": [
    "library(tidyverse)\n",
    "library(factoextra)\n",
    "\n",
    "# Charger les données\n",
    "DataPilot <- readRDS(\"../../_PrivateFolder_datagotchi_federal_2025/data/clustering/can2025/01_pilot_2025.rds\")\n",
    "\n",
    "# Charger le fichier des variables\n",
    "source(\"01-1_variables.R\")\n",
    "\n",
    "# Préparation du jeu de données pour les variables d'activités\n",
    "df_act <- DataPilot %>%\n",
    "  select(all_of(variables_act))"
   ]
  },
  {
   "cell_type": "code",
   "execution_count": null,
   "metadata": {
    "vscode": {
     "languageId": "r"
    }
   },
   "outputs": [],
   "source": [
    "# Boucle pour afficher la table pour chaque variable\n",
    "for (v in variables_act) {\n",
    "  if (v != \"id\") {\n",
    "    cat(\"Table pour la variable:\", v, \"\\n\")\n",
    "    print(table(df_act[[v]]))\n",
    "    cat(\"\\n\\n\")\n",
    "  }\n",
    "}\n"
   ]
  },
  {
   "cell_type": "markdown",
   "metadata": {},
   "source": [
    "### Transformations\n",
    "\n",
    "Transformer les variables ordinales pour un regroupement avec des sous-groupes de cardinalité plus adéquate pour\n",
    "la représentativité de la population.\n",
    "\n",
    "Les variables ordinales dénotent une intensité d'opinion (0, 0.25, 0.5, 0.75, 1)\n",
    "\n",
    "Comme les 1 sont peu nombreux, il semble avantageux de transformer les variables en 0, 0.5 et 1 où\n",
    "\n",
    "- 0.25 est intégré à 0.5\n",
    "- 0.75 est intégré à 1"
   ]
  },
  {
   "cell_type": "code",
   "execution_count": null,
   "metadata": {
    "vscode": {
     "languageId": "r"
    }
   },
   "outputs": [],
   "source": [
    "# S'assurer que les variables ont le bon type\n",
    "df_act$lifestyle_exerciseGym <- as.numeric(df_act$lifestyle_exerciseGym)\n",
    "df_act$lifestyle_exerciseTeamSport <- as.numeric(df_act$lifestyle_exerciseTeamSport)\n",
    "df_act$lifestyle_exerciseWalk <- as.numeric(df_act$lifestyle_exerciseWalk)\n",
    "df_act$lifestyle_exerciseRun <- as.numeric(df_act$lifestyle_exerciseRun)\n",
    "df_act$lifestyle_exerciseYoga <- as.numeric(df_act$lifestyle_exerciseYoga)\n",
    "df_act$lifestyle_exerciseSwim <- as.numeric(df_act$lifestyle_exerciseSwim)\n",
    "df_act$lifestyle_exerciseOther <- as.numeric(df_act$lifestyle_exerciseOther)\n",
    "df_act$lifestyle_exerciseNone <- as.numeric(df_act$lifestyle_exerciseNone)\n"
   ]
  },
  {
   "cell_type": "code",
   "execution_count": null,
   "metadata": {
    "vscode": {
     "languageId": "r"
    }
   },
   "outputs": [],
   "source": [
    "df_act$lifestyle_goFishingFreq_numeric <- ifelse(df_act$lifestyle_goFishingFreq_numeric == 0.25, 0.5,\n",
    "  ifelse(df_act$lifestyle_goFishingFreq_numeric == 0.75, 1, df_act$lifestyle_goFishingFreq_numeric))\n",
    "df_act$lifestyle_goHuntingFreq_numeric <- ifelse(df_act$lifestyle_goHuntingFreq_numeric == 0.25, 0.5,\n",
    "  ifelse(df_act$lifestyle_goHuntingFreq_numeric == 0.75, 1, df_act$lifestyle_goHuntingFreq_numeric))\n",
    "df_act$lifestyle_goMuseumsFreq_numeric <- ifelse(df_act$lifestyle_goMuseumsFreq_numeric == 0.25, 0.5,\n",
    "  ifelse(df_act$lifestyle_goMuseumsFreq_numeric == 0.75, 1, df_act$lifestyle_goMuseumsFreq_numeric))\n",
    "df_act$lifestyle_motorizedActFreq_numeric <- ifelse(df_act$lifestyle_motorizedActFreq_numeric == 0.25, 0.5,\n",
    "  ifelse(df_act$lifestyle_motorizedActFreq_numeric == 0.75, 1, df_act$lifestyle_motorizedActFreq_numeric))\n",
    "df_act$lifestyle_volunteeringFreq_numeric <- ifelse(df_act$lifestyle_volunteeringFreq_numeric == 0.25, 0.5,\n",
    "  ifelse(df_act$lifestyle_volunteeringFreq_numeric == 0.75, 1, df_act$lifestyle_volunteeringFreq_numeric))\n"
   ]
  },
  {
   "cell_type": "code",
   "execution_count": null,
   "metadata": {
    "vscode": {
     "languageId": "r"
    }
   },
   "outputs": [],
   "source": [
    "str(df_act)"
   ]
  },
  {
   "cell_type": "code",
   "execution_count": null,
   "metadata": {
    "vscode": {
     "languageId": "r"
    }
   },
   "outputs": [],
   "source": [
    "variables_act_clust <- c(\n",
    "  \"id\",\n",
    "  \"lifestyle_exerciseGym\",\n",
    "  \"lifestyle_exerciseTeamSport\",\n",
    "  \"lifestyle_exerciseWalk\",\n",
    "  \"lifestyle_exerciseRun\",\n",
    "  \"lifestyle_exerciseYoga\",\n",
    "  \"lifestyle_exerciseSwim\",\n",
    "  \"lifestyle_exerciseOther\",\n",
    "  \"lifestyle_exerciseNone\",\n",
    "  \"lifestyle_goFishingFreq_numeric\",\n",
    "  \"lifestyle_goHuntingFreq_numeric\",\n",
    "  \"lifestyle_goMuseumsFreq_numeric\",\n",
    "  \"lifestyle_motorizedActFreq_numeric\",\n",
    "  \"lifestyle_volunteeringFreq_numeric\"\n",
    ")"
   ]
  },
  {
   "cell_type": "code",
   "execution_count": null,
   "metadata": {
    "vscode": {
     "languageId": "r"
    }
   },
   "outputs": [],
   "source": [
    "# Boucle pour afficher la table pour chaque variable\n",
    "for (v in variables_act_clust) {\n",
    "  if (v != \"id\") {\n",
    "    cat(\"Table pour la variable:\", v, \"\\n\")\n",
    "    print(table(df_act[[v]]))\n",
    "    cat(\"\\n\\n\")\n",
    "  }\n",
    "}"
   ]
  },
  {
   "cell_type": "code",
   "execution_count": null,
   "metadata": {
    "vscode": {
     "languageId": "r"
    }
   },
   "outputs": [],
   "source": [
    "# Sauvegarder les données préparées\n",
    "saveRDS(df_act, file = \"../../_PrivateFolder_datagotchi_federal_2025/data/clustering/can2025/02_pilot_2025_act.rds\")"
   ]
  },
  {
   "cell_type": "markdown",
   "metadata": {},
   "source": [
    "---"
   ]
  },
  {
   "cell_type": "markdown",
   "metadata": {},
   "source": [
    "# SUGGESTION : Activité de Clustering\n",
    "\n",
    "Si souhaité, effectuer un exercice de clustering avec ce sous-groupe de variables pour mieux saisir les données et leur relation. \n",
    "\n",
    "Cet exercice est purement exploratoire et sert à voir si les données peuvent être utilisées pour faire du clustering."
   ]
  }
 ],
 "metadata": {
  "kernelspec": {
   "display_name": "R",
   "language": "R",
   "name": "ir"
  },
  "language_info": {
   "codemirror_mode": "r",
   "file_extension": ".r",
   "mimetype": "text/x-r-source",
   "name": "R",
   "pygments_lexer": "r",
   "version": "4.4.2"
  }
 },
 "nbformat": 4,
 "nbformat_minor": 2
}
