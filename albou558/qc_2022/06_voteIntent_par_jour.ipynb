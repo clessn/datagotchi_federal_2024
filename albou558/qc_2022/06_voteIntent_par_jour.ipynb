{
 "cells": [
  {
   "cell_type": "code",
   "execution_count": null,
   "metadata": {
    "vscode": {
     "languageId": "python"
    }
   },
   "outputs": [],
   "source": [
    "# Library ----------------------------------------------------------------\n",
    "library(dplyr)\n",
    "library(tidyr)\n",
    "library(ggplot2)\n",
    "library(lubridate)\n",
    "\n",
    "# Data\n",
    "app_data <- readRDS(\"../../../data/qc2022/preparation_donnees/05_app_2022_clustered.rds\")"
   ]
  },
  {
   "cell_type": "code",
   "execution_count": null,
   "metadata": {},
   "outputs": [],
   "source": [
    "# Tracking Each Day's Respondents -------------------------------------\n",
    "app_data$date <- as.Date(app_data$date)\n",
    "unique_dates <- sort(unique(app_data$date))\n",
    "date_to_day_number <- data.frame(\n",
    "  date = unique_dates,\n",
    "  day  = seq_along(unique_dates)\n",
    ")\n",
    "\n",
    "app_data <- app_data %>%\n",
    "  left_join(date_to_day_number, by = \"date\") %>%\n",
    "  arrange(date)\n",
    "\n",
    "all_assignments <- data.frame()\n",
    "\n",
    "# Assuming your K-means centroids are already scaled\n",
    "centroids <- as.data.frame(kmeans_result$centers)\n",
    "\n",
    "for (current_day in date_to_day_number$day) {\n",
    "  \n",
    "  # Filter data up to the current day (cumulative approach)\n",
    "  app_data <- app_data %>%\n",
    "    filter(day <= current_day)\n",
    "  \n",
    "  if (nrow(app_data) == 0) next\n",
    "  \n",
    "  # Exclude vote_intent from distance calculations\n",
    "  feature_cols <- setdiff(names(app_data), \"vote_intent\")\n",
    "  \n",
    "  # Align columns with the centroids\n",
    "  feature_cols <- intersect(feature_cols, names(centroids))\n",
    "  data_features <- app_data[, feature_cols, drop = FALSE]\n",
    "  centroids_features <- centroids[, feature_cols, drop = FALSE]\n",
    "  \n",
    "  # Assign each respondent to the nearest centroid\n",
    "  cluster_assignment <- assign_clusters(\n",
    "    data_features,\n",
    "    centroids_features\n",
    "  )\n",
    "  \n",
    "  # Store cluster and day\n",
    "  data_day_processed$cluster <- cluster_assignment\n",
    "  data_day_processed$day     <- current_day\n",
    "  \n",
    "  # Combine with the overall results\n",
    "  all_assignments <- bind_rows(all_assignments, data_day_processed)\n",
    "}"
   ]
  },
  {
   "cell_type": "code",
   "execution_count": null,
   "metadata": {},
   "outputs": [],
   "source": [
    "write_rds(all_assignments, file = \"data/qc2022/preparation_donnees/06_app2022_clustered_voteIntent.rds\")"
   ]
  }
 ],
 "metadata": {
  "language_info": {
   "name": "r"
  }
 },
 "nbformat": 4,
 "nbformat_minor": 2
}
