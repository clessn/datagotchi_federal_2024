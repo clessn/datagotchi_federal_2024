{
 "cells": [
  {
   "cell_type": "code",
   "execution_count": null,
   "metadata": {
    "vscode": {
     "languageId": "python"
    }
   },
   "outputs": [],
   "source": [
    "# Library ----------------------------------------------------------------\n",
    "library(dplyr)\n",
    "library(tidyr)\n",
    "library(ggplot2)\n",
    "library(lubridate)\n",
    "\n",
    "# Data\n",
    "app_data_with_clusters <- readRDS(\"../../_PrivateFolder_datagotchi_federal_2025/data/clustering/qc2022/05_app_2022_clustered.rds\")"
   ]
  },
  {
   "cell_type": "code",
   "execution_count": null,
   "metadata": {
    "vscode": {
     "languageId": "python"
    }
   },
   "outputs": [],
   "source": [
    "# Fonction pour analyser le voteIntent par jour\n",
    "analyze_voteintent_by_day <- function(app_data_with_clusters) {\n",
    "  # 1. Ajouter une colonne \"day\" si elle n'existe pas déjà\n",
    "  if (!\"day\" %in% names(app_data_with_clusters)) {\n",
    "    app_data_with_clusters$date <- as.Date(app_data_with_clusters$date)\n",
    "    unique_dates <- sort(unique(app_data_with_clusters$date))\n",
    "    date_to_day_number <- data.frame(\n",
    "      date = unique_dates,\n",
    "      day  = seq_along(unique_dates)\n",
    "    )\n",
    "    app_data_with_clusters <- app_data_with_clusters %>%\n",
    "      left_join(date_to_day_number, by = \"date\") %>%\n",
    "      arrange(date)\n",
    "  }\n",
    "  \n",
    "  # 2. Agréger les résultats par jour et par cluster\n",
    "  results_by_day <- app_data_with_clusters %>%\n",
    "    group_by(day, cluster) %>%\n",
    "    summarise(\n",
    "      total_respondents = n(),\n",
    "      mean_vote_intent = mean(vote_intent, na.rm = TRUE),\n",
    "      .groups = \"drop\"\n",
    "    )\n",
    "  \n",
    "  return(results_by_day)\n",
    "}\n",
    "\n",
    "# Appliquer la fonction pour obtenir les résultats par jour\n",
    "voteintent_by_day <- analyze_voteintent_by_day(app_data_with_clusters)"
   ]
  },
  {
   "cell_type": "code",
   "execution_count": null,
   "metadata": {
    "vscode": {
     "languageId": "python"
    }
   },
   "outputs": [],
   "source": [
    "write_rds(voteintent_by_day, file = \"../../_PrivateFolder_datagotchi_federal_2025/data/clustering/qc2022/06_app2022_clustered_voteIntent.rds\")"
   ]
  }
 ],
 "metadata": {
  "language_info": {
   "name": "r"
  }
 },
 "nbformat": 4,
 "nbformat_minor": 2
}
