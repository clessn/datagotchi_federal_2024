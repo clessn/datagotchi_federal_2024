{
 "cells": [
  {
   "cell_type": "code",
   "execution_count": null,
   "metadata": {},
   "outputs": [],
   "source": [
    "# Library ----------------------------------------------------------------\n",
    "library(dplyr)\n",
    "library(tidyr)\n",
    "library(ggplot2)\n",
    "library(lubridate)\n",
    "\n",
    "# Data\n",
    "app_data <- readRDS(\"../../../data/qc2022/preparation_donnees/05_app_2022_clustered.rds\")"
   ]
  },
  {
   "cell_type": "code",
   "execution_count": null,
   "metadata": {},
   "outputs": [],
   "source": [
    "# 4. Tracking Each Day's Respondents -------------------------------------\n",
    "app_data$date <- as.Date(app_data$date)\n",
    "unique_dates <- sort(unique(app_data$date))\n",
    "date_to_day_number <- data.frame(\n",
    "  date = unique_dates,\n",
    "  day  = seq_along(unique_dates)\n",
    ")\n",
    "\n",
    "app_data <- app_data %>%\n",
    "  left_join(date_to_day_number, by = \"date\") %>%\n",
    "  arrange(date)\n",
    "\n",
    "all_assignments <- data.frame()\n",
    "\n",
    "# Les centroids de votre K-means scaled\n",
    "centroids <- as.data.frame(kmeans_result$centers)\n",
    "\n",
    "for (current_day in date_to_day_number$day) {\n",
    "  \n",
    "  # Filtrer jusqu'au jour actuel (approche cumulative)\n",
    "  data_day <- app_data %>%\n",
    "    filter(day <= current_day)\n",
    "  \n",
    "  if (nrow(data_day) == 0) next\n",
    "  \n",
    "  # Process & scale les données de ce jour\n",
    "  data_day_processed <- process_app_data(data_day, orig_center, orig_scale)\n",
    "  if (nrow(data_day_processed) == 0) next\n",
    "  \n",
    "  # Exclure vote_intent pour le calcul des distances\n",
    "  feature_cols <- setdiff(names(data_day_processed), \"vote_intent\")\n",
    "  \n",
    "  # Vérifier l'alignement des colonnes\n",
    "  feature_cols <- intersect(feature_cols, names(centroids))\n",
    "  data_features <- data_day_processed[, feature_cols, drop = FALSE]\n",
    "  centroids_features <- centroids[, feature_cols, drop = FALSE]\n",
    "  \n",
    "  # Assigner chaque répondant au centroid le plus proche\n",
    "  cluster_assignment <- assign_clusters(\n",
    "    data_features,\n",
    "    centroids_features\n",
    "  )\n",
    "  \n",
    "  # Stocker le cluster et le jour\n",
    "  data_day_processed$cluster <- cluster_assignment\n",
    "  data_day_processed$day     <- current_day\n",
    "  \n",
    "  # Ajouter à all_assignments\n",
    "  all_assignments <- bind_rows(all_assignments, data_day_processed)\n",
    "}"
   ]
  }
 ],
 "metadata": {
  "language_info": {
   "name": "r"
  }
 },
 "nbformat": 4,
 "nbformat_minor": 2
}
