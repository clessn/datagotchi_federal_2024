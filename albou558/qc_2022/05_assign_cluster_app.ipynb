{
 "cells": [
  {
   "cell_type": "code",
   "execution_count": null,
   "metadata": {},
   "outputs": [],
   "source": [
    "# Library ----------------------------------------------------------------\n",
    "library(dplyr)\n",
    "library(tidyr)\n",
    "library(lubridate)\n",
    "\n",
    "# 1. Load Data, Clustering Results and Scale Vectors ---------------------------\n",
    "\n",
    "kmeans_result <- readRDS(\"../../../data/qc2022/preparation_donnees/03_pilot1_kmeans.rds\")\n",
    "\n",
    "appData <- readRDS(\"data/qc2022/preparation_donnees/01_app_2022.rds\")\n",
    "\n",
    "# pour process_app_data\n",
    "orig_center <- readRDS(\"kmeans_orig_center.rds\") \n",
    "orig_scale  <- readRDS(\"kmeans_orig_scale.rds\")"
   ]
  },
  {
   "cell_type": "markdown",
   "metadata": {},
   "source": [
    "Est-ce que les données de l'app ont été scale?\n",
    "Si non, fonction pour process_app_data"
   ]
  },
  {
   "cell_type": "code",
   "execution_count": null,
   "metadata": {},
   "outputs": [],
   "source": [
    "# Fonction pour assigner cluster\n",
    "assign_clusters <- function(data, centroids) {\n",
    "  # Convertir en matrices\n",
    "  data <- as.matrix(data)\n",
    "  centroids <- as.matrix(centroids)\n",
    "  \n",
    "  # Initialiser la matrice des distances\n",
    "  distances <- matrix(NA, nrow = nrow(data), ncol = nrow(centroids))\n",
    "  \n",
    "  # Calculer les distances Euclidiennes\n",
    "  for (k in seq_len(nrow(centroids))) {\n",
    "    diff <- sweep(data, 2, centroids[k, ], FUN = \"-\")\n",
    "    distances[, k] <- rowSums(diff^2)  # somme des différences au carré\n",
    "  }\n",
    "  \n",
    "  # Assigner le cluster le plus proche\n",
    "  cluster_assignment <- apply(distances, 1, which.min)\n",
    "  return(cluster_assignment)\n",
    "}"
   ]
  },
  {
   "cell_type": "code",
   "execution_count": null,
   "metadata": {},
   "outputs": [],
   "source": [
    "write_rds(cluster_assignment, file = \"data/qc2022/preparation_donnees/05_app_2022_clustered.rds\")"
   ]
  }
 ],
 "metadata": {
  "language_info": {
   "name": "r"
  }
 },
 "nbformat": 4,
 "nbformat_minor": 2
}
