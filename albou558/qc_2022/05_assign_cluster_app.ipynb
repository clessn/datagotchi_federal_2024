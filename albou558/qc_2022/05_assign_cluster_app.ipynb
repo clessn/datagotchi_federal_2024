{
 "cells": [
  {
   "cell_type": "code",
   "execution_count": 1,
   "metadata": {},
   "outputs": [],
   "source": [
    "# Library ----------------------------------------------------------------\n",
    "library(dplyr)\n",
    "library(tidyr)\n",
    "library(lubridate)\n",
    "\n",
    "# 1. Load Data, Clustering Results and Scale Vectors ---------------------------\n",
    "\n",
    "kmeans_result <- readRDS(\"../../_PrivateFolder_datagotchi_federal_2025/data/clustering/qc2022/03_pilot1_kmeans.rds\")\n",
    "\n",
    "appData <- readRDS(\"../../_PrivateFolder_datagotchi_federal_2025/data/clustering/qc2022/01_app_2022.rds\")\n",
    "\n",
    "# pour process_app_data\n",
    "scale_origins <- readRDS(\"../../_PrivateFolder_datagotchi_federal_2025/data/clustering/qc2022/03_pilot1_scale_origins.rds\")  # Moyennes\n",
    "scale_ecarts_types  <- readRDS(\"../../_PrivateFolder_datagotchi_federal_2025/data/clustering/qc2022/03_pilot1_scale_ecarts_types.rds\")  # Écarts-types"
   ]
  },
  {
   "cell_type": "code",
   "execution_count": 21,
   "metadata": {},
   "outputs": [],
   "source": [
    "# Fonction pour assigner les clusters à toutes les données de l'app\n",
    "assign_clusters_to_app_data <- function(app_data, scale_origins, scale_ecarts_types, centroids) {\n",
    "  # 1. Préparer et normaliser les données de l'app\n",
    "  app_data_processed <- process_app_data(app_data, scale_origins, scale_ecarts_types)\n",
    "  \n",
    "  # 2. Exclure vote_intent pour le calcul des distances\n",
    "  feature_cols <- setdiff(names(app_data_processed), \"vote_intent\")\n",
    "  data_features <- app_data_processed[, feature_cols, drop = FALSE]\n",
    "  centroids_features <- centroids[, feature_cols, drop = FALSE]\n",
    "  \n",
    "  # 3. Assigner chaque répondant au cluster le plus proche\n",
    "  cluster_assignment <- assign_clusters(data_features, centroids_features)\n",
    "  \n",
    "  # 4. Ajouter les clusters aux données\n",
    "  app_data_processed$cluster <- cluster_assignment\n",
    "  \n",
    "  return(app_data_processed)\n",
    "}\n",
    "\n",
    "# Appliquer la fonction à toutes les données de l'app\n",
    "app_data_with_clusters <- assign_clusters_to_app_data(app_data, scale_origins, scale_ecarts_types, centroids)"
   ]
  },
  {
   "cell_type": "code",
   "execution_count": 22,
   "metadata": {},
   "outputs": [],
   "source": [
    "app_data_with_clusters <- assign_clusters_to_app_data(app_data, scale_origins, scale_ecarts_types, centroids)"
   ]
  },
  {
   "cell_type": "code",
   "execution_count": 23,
   "metadata": {},
   "outputs": [],
   "source": [
    "write_rds(app_data_with_clusters, file = \"../../_PrivateFolder_datagotchi_federal_2025/data/clustering/qc2022/05_app_2022_clustered.rds\")"
   ]
  }
 ],
 "metadata": {
  "language_info": {
   "name": "r"
  }
 },
 "nbformat": 4,
 "nbformat_minor": 2
}
