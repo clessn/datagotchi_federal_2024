{
 "cells": [
  {
   "cell_type": "markdown",
   "metadata": {},
   "source": [
    "# Description de la composition des clusters\n",
    "\n",
    "- Calculer l'importance relative des variables\n",
    "- Décrire chaque cluster (persona) par la moyenne et l'écart type de chaque variable à l'intérieur du cluster\n",
    "- Pour chaque cluster afficher les variables les plus distinctives (par leur présence ou leur absence)"
   ]
  },
  {
   "cell_type": "code",
   "execution_count": null,
   "metadata": {
    "vscode": {
     "languageId": "r"
    }
   },
   "outputs": [],
   "source": [
    "# Notebook pour la description de la composition des clusters\n",
    "\n",
    "# Library ----------------------------------------------------------------\n",
    "library(dplyr)\n",
    "library(tidyr)\n",
    "library(ggplot2)\n",
    "library(ggtext)\n",
    "library(tidytext)\n",
    "library(ellipsellm)\n",
    "\n",
    "# Charger les données et le résultat du clustering\n",
    "kmeans_result <- readRDS(\"../../_PrivateFolder_datagotchi_federal_2025/data/clustering/qc2022/03_pilot1_kmeans.rds\")\n",
    "df_pilot1_2022 <- readRDS(\"../../_PrivateFolder_datagotchi_federal_2025/data/clustering/qc2022/03_pilot1_2022.rds\")\n",
    "\n",
    "# Sélectionner les variables utilisées pour le clustering\n",
    "variablesUsedForClustering <- colnames(df_pilot1_2022)[colnames(df_pilot1_2022) %in% colnames(kmeans_result$centers)] # nolint: line_length_linter.\n",
    "\n",
    "# Créer un dataframe enrichie avec la variable cluster convertie en facteur\n",
    "dfUsedForClustering <- df_pilot1_2022\n",
    "dfUsedForClustering$cluster <- as.factor(kmeans_result$cluster)"
   ]
  },
  {
   "cell_type": "markdown",
   "metadata": {
    "vscode": {
     "languageId": "plaintext"
    }
   },
   "source": [
    "## Calcul de l'importance relative des variables utilisées pour le clustering\n",
    "\n",
    "- Mesure l’importance relative des variables en comparant leurs moyennes par cluster à la moyenne globale.\n",
    "- Utilise l’écart-type pour rendre les différences comparables entre variables.\n",
    "- Normalise les scores pour les exprimer en proportions.\n",
    "\n",
    "Utilisation : Identifier quelles variables différencient le plus les clusters dans une segmentation."
   ]
  },
  {
   "cell_type": "code",
   "execution_count": null,
   "metadata": {
    "vscode": {
     "languageId": "r"
    }
   },
   "outputs": [],
   "source": [
    "# Fonction pour calculer l'importance relative des variables dans le clustering\n",
    "calculate_importance <- function(data, variables) {\n",
    "  importance_scores <- sapply(variables, function(var) {\n",
    "    overall_mean <- mean(data[[var]], na.rm = TRUE)\n",
    "    cluster_means <- tapply(data[[var]], data$cluster, mean, na.rm = TRUE)\n",
    "    abs_diff <- abs(cluster_means - overall_mean) / sd(data[[var]], na.rm = TRUE)\n",
    "    return(mean(abs_diff, na.rm = TRUE))\n",
    "  })\n",
    "  importance_scores <- importance_scores / sum(importance_scores)  # Normaliser\n",
    "  return(importance_scores)\n",
    "}"
   ]
  },
  {
   "cell_type": "code",
   "execution_count": null,
   "metadata": {
    "vscode": {
     "languageId": "r"
    }
   },
   "outputs": [],
   "source": [
    "# Calcul du score d'importance relatif pour chaque variable\n",
    "importance_scores <- calculate_importance(dfUsedForClustering, variablesUsedForClustering)\n",
    "print(importance_scores)"
   ]
  },
  {
   "cell_type": "markdown",
   "metadata": {
    "vscode": {
     "languageId": "r"
    }
   },
   "source": [
    "## Décrire les personas\n",
    "\n",
    "Calcule les moyennes et écarts-types de chaque variable par cluster"
   ]
  },
  {
   "cell_type": "code",
   "execution_count": null,
   "metadata": {
    "vscode": {
     "languageId": "r"
    }
   },
   "outputs": [],
   "source": [
    "# Fonction pour décrire les personas en affichant les moyennes et écarts-types par cluster\n",
    "# (La variable \"cluster\" doit déjà être présente et factorisée dans data)\n",
    "describe_personas <- function(data, variables) {\n",
    "  persona_summary <- data %>%\n",
    "    group_by(cluster) %>%\n",
    "    summarise(across(all_of(variables), list(mean = ~mean(.x, na.rm = TRUE),\n",
    "                                               sd = ~sd(.x, na.rm = TRUE))))\n",
    "  print(persona_summary)\n",
    "}"
   ]
  },
  {
   "cell_type": "code",
   "execution_count": null,
   "metadata": {
    "vscode": {
     "languageId": "r"
    }
   },
   "outputs": [],
   "source": [
    "# Afficher les statistiques descriptives par cluster\n",
    "describe_personas(dfUsedForClustering, variablesUsedForClustering)"
   ]
  },
  {
   "cell_type": "markdown",
   "metadata": {},
   "source": [
    "## Identification des variables distinctives\n",
    "\n",
    "Pour chaque cluster, identifier les variables qui le distingue des autres clusters.\n",
    "\n",
    "1. Calculer les moyennes globlale et par cluster de chaque variable\n",
    "1. Associer une couleur (rouge, vert, noir) à chaque variable de chaque cluster en fonction de la capacité de la variable à distinguer le cluster\n",
    "1. Afficher sous forme de graphique la différence entre la moyenne du cluster et la moyenne globale pour chaque variable de chaque cluster. \n",
    "\n",
    "Dans les graphiques, les variables distinctives seront colorées en \n",
    "\n",
    "- rouge si leur moyenne dans le cluster est significativement sous la moyenne globale. On dira que leur absence caractérise le cluster.\n",
    "- vert si leur moyenne est significativement au-dessus de la moyenne globale. On dira que leur présence caractérise le cluster."
   ]
  },
  {
   "cell_type": "code",
   "execution_count": null,
   "metadata": {
    "vscode": {
     "languageId": "r"
    }
   },
   "outputs": [],
   "source": [
    "# Initialiser une liste pour stocker tous les prompts\n",
    "# Initialiser une liste pour stocker tous les prompts\n",
    "prompts <- list()\n",
    "all_data_viz <- data.frame()\n",
    "\n",
    "for (cluster_value in levels(dfUsedForClustering$cluster)) {\n",
    "  # Extraire les données du cluster\n",
    "  cluster_data <- dfUsedForClustering %>% filter(cluster == cluster_value)\n",
    "  \n",
    "  # Calculer les moyennes par variable pour le cluster et globalement\n",
    "  means <- sapply(variablesUsedForClustering, function(var) mean(cluster_data[[var]], na.rm = TRUE))\n",
    "  overall_means <- sapply(variablesUsedForClustering, function(var) mean(dfUsedForClustering[[var]], na.rm = TRUE))\n",
    "  \n",
    "  # Identification des caractéristiques marquantes\n",
    "  characteristic_vars <- sapply(variablesUsedForClustering, function(var) {\n",
    "    if (all(dfUsedForClustering[[var]] %in% c(0, 1))) {\n",
    "      prop_cluster <- mean(cluster_data[[var]], na.rm = TRUE)\n",
    "      prop_overall <- mean(dfUsedForClustering[[var]], na.rm = TRUE)\n",
    "      p_value <- prop.test(x = c(sum(cluster_data[[var]]), sum(dfUsedForClustering[[var]])),\n",
    "                           n = c(nrow(cluster_data), nrow(dfUsedForClustering)))$p.value\n",
    "      prop_diff <- abs(prop_cluster - prop_overall)\n",
    "      if (p_value < 0.05 && prop_diff > 0.3) {\n",
    "        return(ifelse(prop_cluster > prop_overall, \"green\", \"red\"))\n",
    "      } else {\n",
    "        return(\"black\")\n",
    "      }\n",
    "    } else {\n",
    "      t_test <- t.test(cluster_data[[var]], dfUsedForClustering[[var]])\n",
    "      effect_size <- abs(t_test$estimate[1] - t_test$estimate[2]) / sd(dfUsedForClustering[[var]], na.rm = TRUE)\n",
    "      if (t_test$p.value < 0.05 && effect_size > 0.25) {\n",
    "        return(ifelse(t_test$estimate[1] > t_test$estimate[2], \"green\", \"red\"))\n",
    "      } else {\n",
    "        return(\"black\")\n",
    "      }\n",
    "    }\n",
    "  })\n",
    "  \n",
    "  # Préparer les données pour le graphique (si besoin)\n",
    "  data_viz <- data.frame(\n",
    "    Variable = variablesUsedForClustering, \n",
    "    Mean = means, \n",
    "    Overall = overall_means, \n",
    "    Cluster = cluster_value,\n",
    "    Color = characteristic_vars,\n",
    "    Persona = paste(\"Persona\", cluster_value)\n",
    "  )\n",
    "  all_data_viz <- rbind(all_data_viz, data_viz)\n",
    "}\n"
   ]
  },
  {
   "cell_type": "code",
   "execution_count": null,
   "metadata": {
    "vscode": {
     "languageId": "r"
    }
   },
   "outputs": [],
   "source": [
    "all_data_viz_signif <- all_data_viz %>%\n",
    "  filter(Color %in% c(\"green\", \"red\"))\n",
    "\n",
    "ggplot(all_data_viz_signif, aes(x = reorder_within(Variable, Mean, Persona), \n",
    "                                y = Mean, fill = Color)) +\n",
    "  geom_bar(stat = \"identity\", color = \"black\", show.legend = FALSE) +\n",
    "  scale_fill_identity() +\n",
    "  labs(title = \"Visualisation des personas (Variables significatives)\", x = \"\", y = \"Moyenne / Proportion\") +\n",
    "  theme_minimal() +\n",
    "  coord_flip() +\n",
    "  facet_wrap(~ Persona, scales = \"free_y\") +\n",
    "  scale_x_reordered()"
   ]
  }
 ],
 "metadata": {
  "kernelspec": {
   "display_name": "R",
   "language": "R",
   "name": "ir"
  },
  "language_info": {
   "codemirror_mode": "r",
   "file_extension": ".r",
   "mimetype": "text/x-r-source",
   "name": "R",
   "pygments_lexer": "r",
   "version": "4.4.1"
  }
 },
 "nbformat": 4,
 "nbformat_minor": 2
}
