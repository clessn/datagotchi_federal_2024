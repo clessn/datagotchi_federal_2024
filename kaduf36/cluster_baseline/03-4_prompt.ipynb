{
 "cells": [
  {
   "cell_type": "markdown",
   "metadata": {},
   "source": [
    "# Création de prompts pour le nommage et la description des clusters"
   ]
  },
  {
   "cell_type": "code",
   "execution_count": null,
   "metadata": {
    "vscode": {
     "languageId": "r"
    }
   },
   "outputs": [],
   "source": [
    "Sys.setlocale(\"LC_ALL\", \"fr_CA.UTF-8\")\n",
    "\n",
    "# Library\n",
    "library(dplyr)\n",
    "library(tidyr)\n",
    "library(ggplot2)\n",
    "library(ggtext)\n",
    "library(tidytext)\n",
    "library(ellipsellm)\n",
    "\n",
    "# Load Data and Clustering Results\n",
    "kmeans_result <- readRDS(\"../../_PrivateFolder_datagotchi_federal_2025/data/clustering/qc2022/03_pilot1_kmeans.rds\") # nolint\n",
    "dfUsedForClustering <- readRDS(\"../../_PrivateFolder_datagotchi_federal_2025/data/clustering/qc2022/03_pilot1_2022.rds\")\n",
    "df_clusters_composition <- readRDS(\"../../_PrivateFolder_datagotchi_federal_2025/data/clustering/qc2022/03_pilot1_clusters_composition.rds\")"
   ]
  },
  {
   "cell_type": "code",
   "execution_count": null,
   "metadata": {
    "vscode": {
     "languageId": "r"
    }
   },
   "outputs": [],
   "source": [
    "cluster_names <- unique(dfUsedForClustering$cluster_name)\n",
    "cluster_names <- cluster_names[order(cluster_names)]\n",
    "\n",
    "prompts <- list()\n",
    "\n",
    "for (cluster_value in cluster_names) {\n",
    "  cluster_data <- dfUsedForClustering %>% filter(cluster_name == cluster_value)\n",
    "  cluster_vars <- df_clusters_composition %>% filter(cluster_name == cluster_value)\n",
    "\n",
    "  # Calculer quelques statistiques démographiques pour le cluster\n",
    "  perc_femmes     <- mean(cluster_data$female, na.rm = TRUE) * 100\n",
    "  perc_immigrants <- mean(cluster_data$immigrant, na.rm = TRUE) * 100\n",
    "  perc_langEn     <- mean(cluster_data$langEn, na.rm = TRUE) * 100\n",
    "  perc_langFr     <- mean(cluster_data$langFr, na.rm = TRUE) * 100\n",
    "  perc_ses_languageOther <- mean(cluster_data$ses_languageOther, na.rm = TRUE) * 100\n",
    "  perc_ethn_white <- mean(cluster_data$ses_ethn_White, na.rm = TRUE) * 100\n",
    "  perc_hetero     <- mean(cluster_data$ses_hetero, na.rm = TRUE) * 100\n",
    "  educ_mean       <- mean(cluster_data$educ, na.rm = TRUE)\n",
    "  age_mean        <- mean(cluster_data$age, na.rm = TRUE) * 80\n",
    "  revenu_moyen    <- mean(cluster_data$ses_income, na.rm = TRUE) * 225000\n",
    "\n",
    "  # Génération du prompt de suggestion de noms\n",
    "  prompt_description <- (paste0(\n",
    "    \"Propose un prénom et donne une brève description pour le persona \", cluster_value, \" :\\n\",\n",
    "\n",
    "    \"Variables avec une moyenne significativement plus élevée que la moyenne de la population en général :\\n\",\n",
    "    if (any(cluster_vars$color == \"green\")) {\n",
    "      paste(cluster_vars[cluster_vars$color == \"green\", \"variable\"], collapse = \"\\n\")\n",
    "    } else {\n",
    "      \"Aucune variable n'a une moyenne significativement plus élevée que la moyenne de la population en général.\"\n",
    "    },\n",
    "    \"\\nVariables avec une moyenne significativement plus basse que la moyenne de la population en général :\\n\",\n",
    "    if (any(cluster_vars$color == \"red\")) {\n",
    "      paste(cluster_vars[cluster_vars$color == \"red\", \"variable\"], collapse = \"\\n\")\n",
    "    } else {\n",
    "      \"Aucune variable avec une moyenne significativement plus basse que la moyenne de la population en général.\"\n",
    "    },\n",
    "    \"\\n\\nCe cluster est composé de \\n\", \n",
    "    \"Femmes: \", round(perc_femmes, 1), \"%, \n",
    "     Immigrants: \", round(perc_immigrants, 1), \"%\\n\",\n",
    "    \"Âge: \", round(age_mean, 1), \" ans, \n",
    "     Revenu: \", round(revenu_moyen, 1), \" k$\\n\",\n",
    "    \"Langues: \n",
    "     En \", round(perc_langEn, 1), \"%, \n",
    "     Fr \", round(perc_langFr, 1), \"%, \n",
    "     Autres: \", round(perc_ses_languageOther, 1), \"%\\n\",\n",
    "    \"Édu: \", round(educ_mean, 1), \" (0=bas, 1=élevé), \n",
    "     Ethnie (Blanc): \", round(perc_ethn_white, 1), \"%\\n\",\n",
    "    \"Orientation (Hétéro): \", round(perc_hetero, 1), \"%\\n\"\n",
    "  ))\n",
    "\n",
    "  # Stocker le prompt dans la liste\n",
    "  prompts[[cluster_value]] <- prompt_description\n",
    "}"
   ]
  },
  {
   "cell_type": "code",
   "execution_count": null,
   "metadata": {
    "vscode": {
     "languageId": "r"
    }
   },
   "outputs": [],
   "source": [
    "prompts"
   ]
  },
  {
   "cell_type": "code",
   "execution_count": null,
   "metadata": {
    "vscode": {
     "languageId": "r"
    }
   },
   "outputs": [],
   "source": [
    "reponses_openai <- list()\n",
    "# Afficher ou traiter tous les prompts\n",
    "for (cluster in names(prompts)) {\n",
    "  # Par exemple, envoyer chaque prompt à OpenAI (si la fonction est correctement définie)\n",
    "  conv <- openai_create_conversation(prompts[[cluster]])\n",
    "  resp <- openai_chat_completion(conv)\n",
    "  reponses_openai[[cluster]] <- resp$content\n",
    "}\n"
   ]
  },
  {
   "cell_type": "code",
   "execution_count": null,
   "metadata": {
    "vscode": {
     "languageId": "r"
    }
   },
   "outputs": [],
   "source": [
    "reponses_openai"
   ]
  },
  {
   "cell_type": "code",
   "execution_count": null,
   "metadata": {
    "vscode": {
     "languageId": "r"
    }
   },
   "outputs": [],
   "source": [
    "description_clusters <- data.frame(prompt = unlist(prompts), description = unlist(reponses_openai))"
   ]
  },
  {
   "cell_type": "code",
   "execution_count": null,
   "metadata": {
    "vscode": {
     "languageId": "r"
    }
   },
   "outputs": [],
   "source": [
    "description_clusters"
   ]
  },
  {
   "cell_type": "code",
   "execution_count": null,
   "metadata": {
    "vscode": {
     "languageId": "r"
    }
   },
   "outputs": [],
   "source": [
    "saveRDS(description_clusters, file = \"../../_PrivateFolder_datagotchi_federal_2025/data/clustering/qc2022/03_pilot1_clusters_description.rds\")"
   ]
  }
 ],
 "metadata": {
  "kernelspec": {
   "display_name": "R",
   "language": "R",
   "name": "ir"
  },
  "language_info": {
   "codemirror_mode": "r",
   "file_extension": ".r",
   "mimetype": "text/x-r-source",
   "name": "R",
   "pygments_lexer": "r",
   "version": "4.4.1"
  }
 },
 "nbformat": 4,
 "nbformat_minor": 2
}
