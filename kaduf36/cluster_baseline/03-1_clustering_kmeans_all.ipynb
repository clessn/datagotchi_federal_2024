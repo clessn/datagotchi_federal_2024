{
 "cells": [
  {
   "cell_type": "markdown",
   "metadata": {},
   "source": [
    "# Clustering\n",
    "\n",
    "Dans cet essai qui constitue le baseline des clusters pour le jeu de données, \n",
    "\n",
    "- Toutes les variables disponibles sont utilisées\n",
    "- L'algorithme du k-means est utilisé (même si les variables ne sont pas tout à fait adéquates pour ce genre de méthode étant donné qu'elles sont binaires et ordinales plutôt que continues)\n",
    "\n",
    "À la fin de cette étape, nous aurons : \n",
    "\n",
    "- Les valeurs des moyennes et ecart-type pour le scaling des variables (`03_pilot1_scale_origins.rds` et `03_pilot1_scale_ecarts_types.rds`)\n",
    "- Le modèle de k-means (`03_pilot1_kmeans.rds`)\n",
    "- Le fichier de données original augmenté des variables de cluster (`03_pilot1_2022.rds`)\n",
    "- Un fichier csv (pour ouverture dans excel par exemple) qui contient la moyenne par cluster par variable afin de déterminer \"à la main\" quels sont les éléments distinctifs de chaque cluster (`03_pilot1_clusters_desc.csv`)"
   ]
  },
  {
   "cell_type": "code",
   "execution_count": null,
   "metadata": {
    "vscode": {
     "languageId": "r"
    }
   },
   "outputs": [],
   "source": [
    "library(dplyr)\n",
    "library(factoextra)\n",
    "\n",
    "df_pilot1_2022 <- readRDS(file = \"../../_PrivateFolder_datagotchi_federal_2025/data/clustering/qc2022/02_pilot1_2022.rds\")"
   ]
  },
  {
   "cell_type": "code",
   "execution_count": null,
   "metadata": {
    "vscode": {
     "languageId": "r"
    }
   },
   "outputs": [],
   "source": [
    "# Sélection des variables pour le clustering\n",
    "source(\"03-0_variables.R\")\n",
    "df_pilot1_2022_clust <- df_pilot1_2022 %>% select(all_of(variables_clust)) %>% select(-id)"
   ]
  },
  {
   "cell_type": "code",
   "execution_count": null,
   "metadata": {
    "vscode": {
     "languageId": "r"
    }
   },
   "outputs": [],
   "source": [
    "# Scaling des variables\n",
    "df_scaled <- scale(df_pilot1_2022_clust)\n",
    "\n",
    "# Récupérer les moyennes et écarts-types\n",
    "origines <- attr(df_scaled, \"scaled:center\")  # Moyennes utilisées pour centrer\n",
    "ecarts_types <- attr(df_scaled, \"scaled:scale\")  # Écarts-types utilisés pour réduire"
   ]
  },
  {
   "cell_type": "code",
   "execution_count": null,
   "metadata": {
    "vscode": {
     "languageId": "r"
    }
   },
   "outputs": [],
   "source": [
    "# Détermination du nombre optimal de clusters\n",
    "# Méthode de l’élbow (coude) et l’indice de silhouette.\n",
    "\n",
    "# Méthode du coude\n",
    "fviz_nbclust(df_scaled, kmeans, method = \"wss\") +\n",
    "  ggtitle(\"Méthode du coude\")\n",
    "\n",
    "# Indice de silhouette\n",
    "fviz_nbclust(df_scaled, kmeans, method = \"silhouette\") +\n",
    "  ggtitle(\"Indice de silhouette\")"
   ]
  },
  {
   "cell_type": "code",
   "execution_count": null,
   "metadata": {
    "vscode": {
     "languageId": "r"
    }
   },
   "outputs": [],
   "source": [
    "# Application de K-Means Clustering\n",
    "\n",
    "# Choisissez un nombre de clusters approprié (par exemple, 3).\n",
    "k <- 4\n",
    "\n",
    "# K-Means Clustering\n",
    "set.seed(123)  # Pour la reproductibilité\n",
    "kmeans_result <- kmeans(df_scaled, centers = k, nstart = 25)"
   ]
  },
  {
   "cell_type": "code",
   "execution_count": null,
   "metadata": {
    "vscode": {
     "languageId": "r"
    }
   },
   "outputs": [],
   "source": [
    "kmeans_result"
   ]
  },
  {
   "cell_type": "code",
   "execution_count": null,
   "metadata": {
    "vscode": {
     "languageId": "r"
    }
   },
   "outputs": [],
   "source": [
    "# Visualisation des clusters\n",
    "\n",
    "# Visualisation des clusters dans l’espace des deux premières dimensions :\n",
    "\n",
    "# Utilisation de factoextra pour représenter les clusters\n",
    "fviz_cluster(kmeans_result, data = df_scaled, ellipse.type = \"euclid\") +\n",
    "  ggtitle(\"Visualisation des clusters avec K-Means\")"
   ]
  },
  {
   "cell_type": "code",
   "execution_count": null,
   "metadata": {
    "vscode": {
     "languageId": "r"
    }
   },
   "outputs": [],
   "source": [
    "library(dplyr)\n",
    "library(tidyr)\n",
    "\n",
    "# Ajouter les clusters au dataframe original\n",
    "df_pilot1_2022$cluster <- as.factor(kmeans_result$cluster)\n",
    "\n",
    "# Préparer les données pour pouvoir donner des noms aux clusters\n",
    "df_pilot1_2022 <- df_pilot1_2022 %>%\n",
    "  mutate(cluster_name = as.character(cluster))\n",
    "\n",
    "# Créer des variables dummy\n",
    "# Liste des clusters\n",
    "clusters_uniques <- unique(df_pilot1_2022$cluster)\n",
    "# Création des variables\n",
    "for (i in clusters_uniques) {\n",
    "  df_pilot1_2022[[paste0(\"cluster_\", i)]] <- ifelse(df_pilot1_2022$cluster == i, 1, 0)\n",
    "}"
   ]
  },
  {
   "cell_type": "code",
   "execution_count": null,
   "metadata": {
    "vscode": {
     "languageId": "r"
    }
   },
   "outputs": [],
   "source": [
    "# Sauvegarder les résultats du clustering\n",
    "saveRDS(origines, file=\"../../_PrivateFolder_datagotchi_federal_2025/data/clustering/qc2022/03_pilot1_scale_origins.rds\")\n",
    "saveRDS(ecarts_types, file=\"../../_PrivateFolder_datagotchi_federal_2025/data/clustering/qc2022/03_pilot1_scale_ecarts_types.rds\")\n",
    "saveRDS(kmeans_result, file = \"../../_PrivateFolder_datagotchi_federal_2025/data/clustering/qc2022/03_pilot1_kmeans.rds\")\n",
    "saveRDS(df_pilot1_2022, file = \"../../_PrivateFolder_datagotchi_federal_2025/data/clustering/qc2022/03_pilot1_2022.rds\")"
   ]
  }
 ],
 "metadata": {
  "kernelspec": {
   "display_name": "R",
   "language": "R",
   "name": "ir"
  },
  "language_info": {
   "codemirror_mode": "r",
   "file_extension": ".r",
   "mimetype": "text/x-r-source",
   "name": "R",
   "pygments_lexer": "r",
   "version": "4.4.1"
  }
 },
 "nbformat": 4,
 "nbformat_minor": 2
}
