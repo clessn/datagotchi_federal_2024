{
 "cells": [
  {
   "cell_type": "code",
   "execution_count": null,
   "metadata": {
    "vscode": {
     "languageId": "r"
    }
   },
   "outputs": [],
   "source": [
    "library(dplyr)\n",
    "library(factoextra)\n",
    "\n",
    "df_pilot1_2022 <- readRDS(file = \"../../../_PrivateFolder_datagotchi_federal_2025/data/clustering/qc2022/02_pilot1_2022.rds\")"
   ]
  },
  {
   "cell_type": "code",
   "execution_count": null,
   "metadata": {
    "vscode": {
     "languageId": "r"
    }
   },
   "outputs": [],
   "source": [
    "df_pilot1_2022_clust <- df_pilot1_2022 %>% select(-id)\n",
    "df_scaled <- scale(df_pilot1_2022_clust)\n",
    "\n",
    "# Récupérer les moyennes et écarts-types\n",
    "origines <- attr(df_scaled, \"scaled:center\")  # Moyennes utilisées pour centrer\n",
    "ecarts_types <- attr(df_scaled, \"scaled:scale\")  # Écarts-types utilisés pour réduire\n",
    "\n",
    "# Détermination du nombre optimal de clusters\n",
    "# Méthode de l’élbow (coude) et l’indice de silhouette.\n",
    "\n",
    "# Méthode du coude\n",
    "fviz_nbclust(df_scaled, kmeans, method = \"wss\") +\n",
    "  ggtitle(\"Méthode du coude\")\n",
    "\n",
    "# Indice de silhouette\n",
    "fviz_nbclust(df_scaled, kmeans, method = \"silhouette\") +\n",
    "  ggtitle(\"Indice de silhouette\")"
   ]
  },
  {
   "cell_type": "code",
   "execution_count": 3,
   "metadata": {
    "vscode": {
     "languageId": "r"
    }
   },
   "outputs": [],
   "source": [
    "# Application de K-Means Clustering\n",
    "\n",
    "# Choisissez un nombre de clusters approprié (par exemple, 3).\n",
    "k <- 6\n",
    "\n",
    "# K-Means Clustering\n",
    "set.seed(123)  # Pour la reproductibilité\n",
    "kmeans_result <- kmeans(df_scaled, centers = k, nstart = 25)"
   ]
  },
  {
   "cell_type": "code",
   "execution_count": 4,
   "metadata": {
    "vscode": {
     "languageId": "r"
    }
   },
   "outputs": [],
   "source": [
    "# Ajouter les clusters au dataframe original\n",
    "df_pilot1_2022$cluster <- as.factor(kmeans_result$cluster)\n",
    "df_pilot1_2022_clust$cluster <- as.factor(kmeans_result$cluster)"
   ]
  },
  {
   "cell_type": "code",
   "execution_count": null,
   "metadata": {
    "vscode": {
     "languageId": "r"
    }
   },
   "outputs": [],
   "source": [
    "kmeans_result"
   ]
  },
  {
   "cell_type": "code",
   "execution_count": null,
   "metadata": {
    "vscode": {
     "languageId": "r"
    }
   },
   "outputs": [],
   "source": [
    "# Visualisation des clusters\n",
    "\n",
    "# Visualisation des clusters dans l’espace des deux premières dimensions :\n",
    "\n",
    "# Utilisation de factoextra pour représenter les clusters\n",
    "fviz_cluster(kmeans_result, data = df_scaled, ellipse.type = \"euclid\") +\n",
    "  ggtitle(\"Visualisation des clusters avec K-Means\")"
   ]
  },
  {
   "cell_type": "code",
   "execution_count": 7,
   "metadata": {
    "vscode": {
     "languageId": "r"
    }
   },
   "outputs": [],
   "source": [
    "# Effectuewr les moyennes de chaque groupe pour déterminert s'il y a des tendances marquantes\n",
    "clusters_means <- aggregate(. ~ cluster, data = df_pilot1_2022_clust, function(x) mean(as.numeric(as.character(x)), na.rm = TRUE))"
   ]
  },
  {
   "cell_type": "code",
   "execution_count": 8,
   "metadata": {
    "vscode": {
     "languageId": "r"
    }
   },
   "outputs": [],
   "source": [
    "library(dplyr)\n",
    "library(tidyr)\n",
    "\n",
    "# Donner des noms aux clusters\n",
    "df_pilot1_2022 <- df_pilot1_2022 %>%\n",
    "  mutate(cluster_name = case_when(\n",
    "    cluster == 1 ~ \"Marie\",\n",
    "    cluster == 2 ~ \"Jonathan\",\n",
    "    cluster == 3 ~ \"Amélie\",\n",
    "    cluster == 4 ~ \"Sam\",\n",
    "    cluster == 5 ~ \"Connor\",\n",
    "    cluster == 6 ~ \"Dominic\"\n",
    "  ))\n",
    "\n",
    "# Créer des variables dummy\n",
    "for (i in 1:6) {\n",
    "  df_pilot1_2022[[paste0(\"cluster_\", i)]] <- ifelse(df_pilot1_2022$cluster == i, 1, 0)\n",
    "}\n"
   ]
  },
  {
   "cell_type": "code",
   "execution_count": 9,
   "metadata": {
    "vscode": {
     "languageId": "r"
    }
   },
   "outputs": [],
   "source": [
    "# Sauvegarder les résultats du clustering\n",
    "saveRDS(origines, file=\"../../../_PrivateFolder_datagotchi_federal_2025/data/clustering/qc2022/03_pilot1_scale_origins.rds\")\n",
    "saveRDS(ecarts_types, file=\"../../../_PrivateFolder_datagotchi_federal_2025/data/clustering/qc2022/03_pilot1_scale_ecarts_types.rds\")\n",
    "saveRDS(kmeans_result, file = \"../../../_PrivateFolder_datagotchi_federal_2025/data/clustering/qc2022/03_pilot1_kmeans.rds\")\n",
    "saveRDS(df_pilot1_2022, file = \"../../../_PrivateFolder_datagotchi_federal_2025/data/clustering/qc2022/03_pilot1_2022.rds\")\n",
    "write.csv(clusters_means, file = \"../../../_PrivateFolder_datagotchi_federal_2025/data/clustering/qc2022/03_pilot1_clusters_desc.csv\", row.names = FALSE)"
   ]
  },
  {
   "cell_type": "code",
   "execution_count": null,
   "metadata": {
    "vscode": {
     "languageId": "r"
    }
   },
   "outputs": [],
   "source": [
    "head(df_pilot1_2022)"
   ]
  }
 ],
 "metadata": {
  "kernelspec": {
   "display_name": "R",
   "language": "R",
   "name": "ir"
  },
  "language_info": {
   "codemirror_mode": "r",
   "file_extension": ".r",
   "mimetype": "text/x-r-source",
   "name": "R",
   "pygments_lexer": "r",
   "version": "4.4.1"
  }
 },
 "nbformat": 4,
 "nbformat_minor": 2
}
