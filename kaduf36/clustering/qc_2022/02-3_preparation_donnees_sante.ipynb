{
 "cells": [
  {
   "cell_type": "markdown",
   "metadata": {},
   "source": [
    "# Préparation des variables de sante"
   ]
  },
  {
   "cell_type": "code",
   "execution_count": 1,
   "metadata": {
    "vscode": {
     "languageId": "r"
    }
   },
   "outputs": [
    {
     "name": "stderr",
     "output_type": "stream",
     "text": [
      "-- \u001b[1mAttaching core tidyverse packages\u001b[22m ------------------------ tidyverse 2.0.0 --\n",
      "\u001b[32mv\u001b[39m \u001b[34mdplyr    \u001b[39m 1.1.4     \u001b[32mv\u001b[39m \u001b[34mreadr    \u001b[39m 2.1.5\n",
      "\u001b[32mv\u001b[39m \u001b[34mforcats  \u001b[39m 1.0.0     \u001b[32mv\u001b[39m \u001b[34mstringr  \u001b[39m 1.5.1\n",
      "\u001b[32mv\u001b[39m \u001b[34mggplot2  \u001b[39m 3.5.1     \u001b[32mv\u001b[39m \u001b[34mtibble   \u001b[39m 3.2.1\n",
      "\u001b[32mv\u001b[39m \u001b[34mlubridate\u001b[39m 1.9.3     \u001b[32mv\u001b[39m \u001b[34mtidyr    \u001b[39m 1.3.1\n",
      "\u001b[32mv\u001b[39m \u001b[34mpurrr    \u001b[39m 1.0.2     \n",
      "-- \u001b[1mConflicts\u001b[22m ------------------------------------------ tidyverse_conflicts() --\n",
      "\u001b[31mx\u001b[39m \u001b[34mdplyr\u001b[39m::\u001b[32mfilter()\u001b[39m masks \u001b[34mstats\u001b[39m::filter()\n",
      "\u001b[31mx\u001b[39m \u001b[34mdplyr\u001b[39m::\u001b[32mlag()\u001b[39m    masks \u001b[34mstats\u001b[39m::lag()\n",
      "\u001b[36mi\u001b[39m Use the conflicted package (\u001b[3m\u001b[34m<http://conflicted.r-lib.org/>\u001b[39m\u001b[23m) to force all conflicts to become errors\n",
      "Welcome! Want to learn more? See two factoextra-related books at https://goo.gl/ve3WBa\n",
      "\n"
     ]
    }
   ],
   "source": [
    "library(tidyverse)\n",
    "library(factoextra)\n",
    "\n",
    "# Charger les données\n",
    "df_pilot1_2022 <- readRDS(\"../../../data/qc2022/preparation_donnees/01_pilot1_2022.rds\")\n",
    "\n",
    "# Préparation du jeu de données pour les variables de style\n",
    "variables_sante <- c(\n",
    "  \"id\",\n",
    "  \"cons_meat_never\",\n",
    "  \"cons_meat_almost_never\",\n",
    "  \"cons_meat_once_month\",\n",
    "  \"cons_meat_once_week\",\n",
    "  \"cons_meat_few_week\",\n",
    "  \"cons_meat_daily\",\n",
    "  \"cons_meat_few_daily\",\n",
    "  \"cons_redWineDrink\",\n",
    "  \"cons_whiteWineDrink\",\n",
    "  \"cons_roseDrink\",\n",
    "  \"cons_spiritDrink\",\n",
    "  \"cons_bubbleDrink\",\n",
    "  \"cons_beerDrink\",\n",
    "  \"cons_microDrink\",\n",
    "  \"cons_cocktailDrink\",\n",
    "  \"cons_noDrink\",\n",
    "  \"cons_Smoke_never\",\n",
    "  \"cons_Smoke_few_times_year\",\n",
    "  \"cons_Smoke_month\",\n",
    "  \"cons_Smoke_once_week\",\n",
    "  \"cons_Smoke_few_times_week\",\n",
    "  \"cons_Smoke_once_day\",\n",
    "  \"cons_Smoke_few_times_day\"\n",
    ")\n",
    "\n",
    "df_sante <- df_pilot1_2022 %>%\n",
    "  select(all_of(variables_sante))"
   ]
  },
  {
   "cell_type": "code",
   "execution_count": 2,
   "metadata": {
    "vscode": {
     "languageId": "r"
    }
   },
   "outputs": [
    {
     "name": "stdout",
     "output_type": "stream",
     "text": [
      "Table pour la variable: cons_meat_never \n",
      "\n",
      "   0    1 \n",
      "1455   45 \n",
      "\n",
      "\n",
      "Table pour la variable: cons_meat_almost_never \n",
      "\n",
      "   0    1 \n",
      "1480   20 \n",
      "\n",
      "\n",
      "Table pour la variable: cons_meat_once_month \n",
      "\n",
      "   0    1 \n",
      "1459   41 \n",
      "\n",
      "\n",
      "Table pour la variable: cons_meat_once_week \n",
      "\n",
      "   0    1 \n",
      "1351  149 \n",
      "\n",
      "\n",
      "Table pour la variable: cons_meat_few_week \n",
      "\n",
      "  0   1 \n",
      "725 775 \n",
      "\n",
      "\n",
      "Table pour la variable: cons_meat_daily \n",
      "\n",
      "   0    1 \n",
      "1155  345 \n",
      "\n",
      "\n",
      "Table pour la variable: cons_meat_few_daily \n",
      "\n",
      "   0    1 \n",
      "1375  125 \n",
      "\n",
      "\n",
      "Table pour la variable: cons_redWineDrink \n",
      "\n",
      "   0    1 \n",
      "1186  314 \n",
      "\n",
      "\n",
      "Table pour la variable: cons_whiteWineDrink \n",
      "\n",
      "   0    1 \n",
      "1299  201 \n",
      "\n",
      "\n",
      "Table pour la variable: cons_roseDrink \n",
      "\n",
      "   0    1 \n",
      "1451   49 \n",
      "\n",
      "\n",
      "Table pour la variable: cons_spiritDrink \n",
      "\n",
      "   0    1 \n",
      "1401   99 \n",
      "\n",
      "\n",
      "Table pour la variable: cons_noDrink \n",
      "\n",
      "   0    1 \n",
      "1191  309 \n",
      "\n",
      "\n",
      "Table pour la variable: cons_Smoke_never \n",
      "\n",
      "   0    1 \n",
      " 251 1249 \n",
      "\n",
      "\n",
      "Table pour la variable: cons_Smoke_few_times_year \n",
      "\n",
      "   0    1 \n",
      "1463   37 \n",
      "\n",
      "\n",
      "Table pour la variable: cons_Smoke_month \n",
      "\n",
      "   0    1 \n",
      "1485   15 \n",
      "\n",
      "\n",
      "Table pour la variable: cons_Smoke_once_week \n",
      "\n",
      "   0    1 \n",
      "1493    7 \n",
      "\n",
      "\n",
      "Table pour la variable: cons_Smoke_few_times_week \n",
      "\n",
      "   0    1 \n",
      "1478   22 \n",
      "\n",
      "\n",
      "Table pour la variable: cons_Smoke_once_day \n",
      "\n",
      "   0    1 \n",
      "1486   14 \n",
      "\n",
      "\n",
      "Table pour la variable: cons_Smoke_few_times_day \n",
      "\n",
      "   0    1 \n",
      "1344  156 \n",
      "\n",
      "\n"
     ]
    }
   ],
   "source": [
    "# Boucle pour afficher la table pour chaque variable\n",
    "for (v in variables_sante) {\n",
    "  if (v != \"id\") {\n",
    "    cat(\"Table pour la variable:\", v, \"\\n\")\n",
    "    print(table(df_sante[[v]]))\n",
    "    cat(\"\\n\\n\")\n",
    "  }\n",
    "}"
   ]
  },
  {
   "cell_type": "markdown",
   "metadata": {},
   "source": [
    "### Transformations\n",
    "\n",
    "- cons_meat : Devrait être une variable ordinale \n",
    "  - 0 Not more than once a month\n",
    "  - 0.5 Few weekly\n",
    "  - 1 Daily\n",
    "\n",
    "- cons_..._Drink : On peut conserver tel quel\n",
    "\n",
    "- cons_Smoke : Devrait être une variable ordinale\n",
    "  - 0 Never\n",
    "  - 0.5 Not daily\n",
    "  - 1 Daily"
   ]
  },
  {
   "cell_type": "code",
   "execution_count": null,
   "metadata": {
    "vscode": {
     "languageId": "r"
    }
   },
   "outputs": [],
   "source": [
    "# Transformation de cons_meat en variable ordinale\n",
    "#-------------------------------------------------\n",
    "\n",
    "df_sante <- df_sante %>%\n",
    "\n",
    "  mutate(\n",
    "    cons_Meat = if_else(\n",
    "      cons_meat_never == 1 | cons_meat_almost_never == 1 | cons_meat_once_month == 1,\n",
    "      0,\n",
    "      if_else(\n",
    "        cons_meat_once_week == 1 | cons_meat_few_week == 1,\n",
    "        0.5,\n",
    "        1\n",
    "      )\n",
    "    )\n",
    "  ) %>%\n",
    "  select(\n",
    "    -cons_meat_never,\n",
    "    -cons_meat_almost_never,\n",
    "    -cons_meat_once_month,\n",
    "    -cons_meat_once_week,\n",
    "    -cons_meat_few_week,\n",
    "    -cons_meat_daily,\n",
    "    -cons_meat_few_daily\n",
    "  )"
   ]
  },
  {
   "cell_type": "code",
   "execution_count": 5,
   "metadata": {
    "vscode": {
     "languageId": "r"
    }
   },
   "outputs": [],
   "source": [
    "# Transformation de cons_Smoke variable ordinale\n",
    "#-------------------------------------------------\n",
    "\n",
    "df_sante <- df_sante %>%\n",
    "\n",
    "  mutate(\n",
    "    cons_Smoke = if_else(\n",
    "      cons_Smoke_never == 1,\n",
    "      0,\n",
    "      if_else(\n",
    "        cons_Smoke_few_times_year == 1 | cons_Smoke_month == 1 | cons_Smoke_once_week == 1 | cons_Smoke_few_times_week == 1,\n",
    "        0.5,\n",
    "        1\n",
    "      )\n",
    "    )\n",
    "  ) %>%\n",
    "  select(\n",
    "    -cons_Smoke_never,\n",
    "    -cons_Smoke_few_times_year,\n",
    "    -cons_Smoke_month,\n",
    "    -cons_Smoke_once_week,\n",
    "    -cons_Smoke_few_times_week,\n",
    "    -cons_Smoke_once_day,\n",
    "    -cons_Smoke_few_times_day\n",
    "  )"
   ]
  },
  {
   "cell_type": "code",
   "execution_count": 7,
   "metadata": {
    "vscode": {
     "languageId": "r"
    }
   },
   "outputs": [],
   "source": [
    "variables_sante_clust <- c(\n",
    "  \"id\",\n",
    "  \"cons_Meat\",\n",
    "  \"cons_redWineDrink\",\n",
    "  \"cons_whiteWineDrink\",\n",
    "  \"cons_roseDrink\",\n",
    "  \"cons_spiritDrink\",\n",
    "  \"cons_noDrink\",\n",
    "  \"cons_Smoke\"\n",
    ")"
   ]
  },
  {
   "cell_type": "code",
   "execution_count": 8,
   "metadata": {
    "vscode": {
     "languageId": "r"
    }
   },
   "outputs": [
    {
     "name": "stdout",
     "output_type": "stream",
     "text": [
      "Table pour la variable: cons_Meat \n",
      "\n",
      "  0 0.5   1 \n",
      "106 924 470 \n",
      "\n",
      "\n",
      "Table pour la variable: cons_redWineDrink \n",
      "\n",
      "   0    1 \n",
      "1186  314 \n",
      "\n",
      "\n",
      "Table pour la variable: cons_whiteWineDrink \n",
      "\n",
      "   0    1 \n",
      "1299  201 \n",
      "\n",
      "\n",
      "Table pour la variable: cons_roseDrink \n",
      "\n",
      "   0    1 \n",
      "1451   49 \n",
      "\n",
      "\n",
      "Table pour la variable: cons_spiritDrink \n",
      "\n",
      "   0    1 \n",
      "1401   99 \n",
      "\n",
      "\n",
      "Table pour la variable: cons_noDrink \n",
      "\n",
      "   0    1 \n",
      "1191  309 \n",
      "\n",
      "\n",
      "Table pour la variable: cons_Smoke \n",
      "\n",
      "   0  0.5    1 \n",
      "1249   81  170 \n",
      "\n",
      "\n"
     ]
    }
   ],
   "source": [
    "# Boucle pour afficher la table pour chaque variable\n",
    "for (v in variables_sante_clust) {\n",
    "  if (v != \"id\") {\n",
    "    cat(\"Table pour la variable:\", v, \"\\n\")\n",
    "    print(table(df_sante[[v]]))\n",
    "    cat(\"\\n\\n\")\n",
    "  }\n",
    "}"
   ]
  },
  {
   "cell_type": "code",
   "execution_count": 9,
   "metadata": {
    "vscode": {
     "languageId": "r"
    }
   },
   "outputs": [],
   "source": [
    "# Sauvegarder les données préparées\n",
    "saveRDS(df_sante, file = \"../../../data/qc2022/preparation_donnees/02_pilot1_2022_sante.rds\")"
   ]
  }
 ],
 "metadata": {
  "kernelspec": {
   "display_name": "R",
   "language": "R",
   "name": "ir"
  },
  "language_info": {
   "codemirror_mode": "r",
   "file_extension": ".r",
   "mimetype": "text/x-r-source",
   "name": "R",
   "pygments_lexer": "r",
   "version": "4.4.1"
  }
 },
 "nbformat": 4,
 "nbformat_minor": 2
}
