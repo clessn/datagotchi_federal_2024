{
 "cells": [
  {
   "cell_type": "markdown",
   "metadata": {},
   "source": [
    "# Préparation des variables commerce"
   ]
  },
  {
   "cell_type": "code",
   "execution_count": 1,
   "metadata": {
    "vscode": {
     "languageId": "r"
    }
   },
   "outputs": [
    {
     "name": "stderr",
     "output_type": "stream",
     "text": [
      "-- \u001b[1mAttaching core tidyverse packages\u001b[22m ------------------------ tidyverse 2.0.0 --\n",
      "\u001b[32mv\u001b[39m \u001b[34mdplyr    \u001b[39m 1.1.4     \u001b[32mv\u001b[39m \u001b[34mreadr    \u001b[39m 2.1.5\n",
      "\u001b[32mv\u001b[39m \u001b[34mforcats  \u001b[39m 1.0.0     \u001b[32mv\u001b[39m \u001b[34mstringr  \u001b[39m 1.5.1\n",
      "\u001b[32mv\u001b[39m \u001b[34mggplot2  \u001b[39m 3.5.1     \u001b[32mv\u001b[39m \u001b[34mtibble   \u001b[39m 3.2.1\n",
      "\u001b[32mv\u001b[39m \u001b[34mlubridate\u001b[39m 1.9.3     \u001b[32mv\u001b[39m \u001b[34mtidyr    \u001b[39m 1.3.1\n",
      "\u001b[32mv\u001b[39m \u001b[34mpurrr    \u001b[39m 1.0.2     \n",
      "-- \u001b[1mConflicts\u001b[22m ------------------------------------------ tidyverse_conflicts() --\n",
      "\u001b[31mx\u001b[39m \u001b[34mdplyr\u001b[39m::\u001b[32mfilter()\u001b[39m masks \u001b[34mstats\u001b[39m::filter()\n",
      "\u001b[31mx\u001b[39m \u001b[34mdplyr\u001b[39m::\u001b[32mlag()\u001b[39m    masks \u001b[34mstats\u001b[39m::lag()\n",
      "\u001b[36mi\u001b[39m Use the conflicted package (\u001b[3m\u001b[34m<http://conflicted.r-lib.org/>\u001b[39m\u001b[23m) to force all conflicts to become errors\n",
      "Welcome! Want to learn more? See two factoextra-related books at https://goo.gl/ve3WBa\n",
      "\n"
     ]
    }
   ],
   "source": [
    "library(tidyverse)\n",
    "library(factoextra)\n",
    "\n",
    "# Charger les données\n",
    "df_pilot1_2022 <- readRDS(\"../../../data/qc2022/preparation_donnees/01_pilot1_2022.rds\")\n",
    "\n",
    "# Préparation du jeu de données pour les variables de style\n",
    "variables_commerce <- c(\n",
    "  \"id\",\n",
    "  \"cons_brand_MaR\",\n",
    "  \"cons_brand_BInd\",\n",
    "  \"cons_brand_ChainesB\",\n",
    "  \"cons_brand_GSurf\",\n",
    "  \"cons_brand_OnlineOnly\",\n",
    "  \"cons_brand_Frip\",\n",
    "  \"cons_brand_Other\",\n",
    "  \"cons_coffee_TimH\",\n",
    "  \"cons_coffee_Starbucks\",\n",
    "  \"cons_coffee_SC\",\n",
    "  \"cons_coffee_McDo\",\n",
    "  \"cons_coffee_Other\",\n",
    "  \"cons_coffee_place_ind\"\n",
    ")\n",
    "\n",
    "df_commerce <- df_pilot1_2022 %>%\n",
    "  select(all_of(variables_commerce))"
   ]
  },
  {
   "cell_type": "code",
   "execution_count": 3,
   "metadata": {
    "vscode": {
     "languageId": "r"
    }
   },
   "outputs": [
    {
     "name": "stdout",
     "output_type": "stream",
     "text": [
      "Table pour la variable: cons_brand_MaR \n",
      "\n",
      "   0    1 \n",
      "1093  407 \n",
      "\n",
      "\n",
      "Table pour la variable: cons_brand_BInd \n",
      "\n",
      "   0    1 \n",
      "1369  131 \n",
      "\n",
      "\n",
      "Table pour la variable: cons_brand_ChainesB \n",
      "\n",
      "   0    1 \n",
      "1173  327 \n",
      "\n",
      "\n",
      "Table pour la variable: cons_brand_GSurf \n",
      "\n",
      "   0    1 \n",
      "1111  389 \n",
      "\n",
      "\n",
      "Table pour la variable: cons_brand_OnlineOnly \n",
      "\n",
      "   0    1 \n",
      "1414   86 \n",
      "\n",
      "\n",
      "Table pour la variable: cons_brand_Frip \n",
      "\n",
      "   0    1 \n",
      "1390  110 \n",
      "\n",
      "\n",
      "Table pour la variable: cons_brand_Other \n",
      "\n",
      "   0    1 \n",
      "1450   50 \n",
      "\n",
      "\n",
      "Table pour la variable: cons_coffee_TimH \n",
      "\n",
      "   0    1 \n",
      "1147  353 \n",
      "\n",
      "\n",
      "Table pour la variable: cons_coffee_Starbucks \n",
      "\n",
      "   0    1 \n",
      "1387  113 \n",
      "\n",
      "\n",
      "Table pour la variable: cons_coffee_SC \n",
      "\n",
      "   0    1 \n",
      "1492    8 \n",
      "\n",
      "\n",
      "Table pour la variable: cons_coffee_McDo \n",
      "\n",
      "   0    1 \n",
      "1330  170 \n",
      "\n",
      "\n",
      "Table pour la variable: cons_coffee_Other \n",
      "\n",
      "   0    1 \n",
      "1476   24 \n",
      "\n",
      "\n",
      "Table pour la variable: cons_coffee_place_ind \n",
      "\n",
      "   0    1 \n",
      "1404   96 \n",
      "\n",
      "\n"
     ]
    }
   ],
   "source": [
    "# Boucle pour afficher la table pour chaque variable\n",
    "for (v in variables_commerce) {\n",
    "  if (v != \"id\") {\n",
    "    cat(\"Table pour la variable:\", v, \"\\n\")\n",
    "    print(table(df_commerce[[v]]))\n",
    "    cat(\"\\n\\n\")\n",
    "  }\n",
    "}"
   ]
  },
  {
   "cell_type": "markdown",
   "metadata": {},
   "source": [
    "### Transformations\n",
    "\n",
    "- cons_brand : Aucun changement\n",
    "\n",
    "- cons_coffee : Regrouper SC (second cup) avec Other"
   ]
  },
  {
   "cell_type": "code",
   "execution_count": 4,
   "metadata": {
    "vscode": {
     "languageId": "r"
    }
   },
   "outputs": [],
   "source": [
    "# Regroupement de cons_coffee\n",
    "#-----------------------------\n",
    "\n",
    "df_commerce <- df_commerce %>%\n",
    "\n",
    "  mutate(\n",
    "    cons_coffee_Other = if_else(\n",
    "      cons_coffee_SC == 1,\n",
    "      1,\n",
    "      cons_coffee_Other\n",
    "    )\n",
    "  ) %>%\n",
    "  select(-cons_coffee_SC)"
   ]
  },
  {
   "cell_type": "code",
   "execution_count": 7,
   "metadata": {
    "vscode": {
     "languageId": "r"
    }
   },
   "outputs": [],
   "source": [
    "variables_commerce_clust <- c(\n",
    "  \"id\",\n",
    "  \"cons_brand_MaR\",\n",
    "  \"cons_brand_BInd\",\n",
    "  \"cons_brand_ChainesB\",\n",
    "  \"cons_brand_GSurf\",\n",
    "  \"cons_brand_OnlineOnly\",\n",
    "  \"cons_brand_Frip\",\n",
    "  \"cons_brand_Other\",\n",
    "  \"cons_coffee_TimH\",\n",
    "  \"cons_coffee_Starbucks\",\n",
    "  \"cons_coffee_McDo\",\n",
    "  \"cons_coffee_Other\",\n",
    "  \"cons_coffee_place_ind\"\n",
    ")"
   ]
  },
  {
   "cell_type": "code",
   "execution_count": 8,
   "metadata": {
    "vscode": {
     "languageId": "r"
    }
   },
   "outputs": [
    {
     "name": "stdout",
     "output_type": "stream",
     "text": [
      "Table pour la variable: cons_brand_MaR \n",
      "\n",
      "   0    1 \n",
      "1093  407 \n",
      "\n",
      "\n",
      "Table pour la variable: cons_brand_BInd \n",
      "\n",
      "   0    1 \n",
      "1369  131 \n",
      "\n",
      "\n",
      "Table pour la variable: cons_brand_ChainesB \n",
      "\n",
      "   0    1 \n",
      "1173  327 \n",
      "\n",
      "\n",
      "Table pour la variable: cons_brand_GSurf \n",
      "\n",
      "   0    1 \n",
      "1111  389 \n",
      "\n",
      "\n",
      "Table pour la variable: cons_brand_OnlineOnly \n",
      "\n",
      "   0    1 \n",
      "1414   86 \n",
      "\n",
      "\n",
      "Table pour la variable: cons_brand_Frip \n",
      "\n",
      "   0    1 \n",
      "1390  110 \n",
      "\n",
      "\n",
      "Table pour la variable: cons_brand_Other \n",
      "\n",
      "   0    1 \n",
      "1450   50 \n",
      "\n",
      "\n",
      "Table pour la variable: cons_coffee_TimH \n",
      "\n",
      "   0    1 \n",
      "1147  353 \n",
      "\n",
      "\n",
      "Table pour la variable: cons_coffee_Starbucks \n",
      "\n",
      "   0    1 \n",
      "1387  113 \n",
      "\n",
      "\n",
      "Table pour la variable: cons_coffee_McDo \n",
      "\n",
      "   0    1 \n",
      "1330  170 \n",
      "\n",
      "\n",
      "Table pour la variable: cons_coffee_Other \n",
      "\n",
      "   0    1 \n",
      "1468   32 \n",
      "\n",
      "\n",
      "Table pour la variable: cons_coffee_place_ind \n",
      "\n",
      "   0    1 \n",
      "1404   96 \n",
      "\n",
      "\n"
     ]
    }
   ],
   "source": [
    "# Boucle pour afficher la table pour chaque variable\n",
    "for (v in variables_commerce_clust) {\n",
    "  if (v != \"id\") {\n",
    "    cat(\"Table pour la variable:\", v, \"\\n\")\n",
    "    print(table(df_commerce[[v]]))\n",
    "    cat(\"\\n\\n\")\n",
    "  }\n",
    "}"
   ]
  },
  {
   "cell_type": "code",
   "execution_count": 9,
   "metadata": {
    "vscode": {
     "languageId": "r"
    }
   },
   "outputs": [],
   "source": [
    "# Sauvegarder les données préparées\n",
    "saveRDS(df_commerce, file = \"../../../data/qc2022/preparation_donnees/02_pilot1_2022_commerce.rds\")"
   ]
  }
 ],
 "metadata": {
  "kernelspec": {
   "display_name": "R",
   "language": "R",
   "name": "ir"
  },
  "language_info": {
   "codemirror_mode": "r",
   "file_extension": ".r",
   "mimetype": "text/x-r-source",
   "name": "R",
   "pygments_lexer": "r",
   "version": "4.4.1"
  }
 },
 "nbformat": 4,
 "nbformat_minor": 2
}
