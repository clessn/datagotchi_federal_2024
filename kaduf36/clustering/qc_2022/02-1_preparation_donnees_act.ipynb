{
 "cells": [
  {
   "cell_type": "markdown",
   "metadata": {},
   "source": [
    "# Préparation des variables pour les variables d'activités "
   ]
  },
  {
   "cell_type": "code",
   "execution_count": null,
   "metadata": {
    "vscode": {
     "languageId": "r"
    }
   },
   "outputs": [],
   "source": [
    "library(tidyverse)\n",
    "library(factoextra)\n",
    "\n",
    "# Charger les données\n",
    "df_pilot1_2022 <- readRDS(\"../../../_PrivateFolder_datagotchi_federal_2025/data/clustering/qc2022/01_pilot1_2022.rds\")"
   ]
  },
  {
   "cell_type": "code",
   "execution_count": 3,
   "metadata": {
    "vscode": {
     "languageId": "r"
    }
   },
   "outputs": [],
   "source": [
    "# Préparation du jeu de données pour les variables d'activités\n",
    "variables_act <- c(\n",
    "  \"id\",\n",
    "  \"act_Gym\",\n",
    "  \"act_Walk\",\n",
    "  \"act_Run\",\n",
    "  \"act_Yoga\",\n",
    "  \"act_Other\",\n",
    "  \"act_None\",\n",
    "  \"act_Fishing\",\n",
    "  \"act_Hunting\",\n",
    "  \"act_VisitsMuseumsGaleries\",\n",
    "  \"act_MotorizedOutdoorActivities\",\n",
    "  \"act_Volunteering\"\n",
    ")\n",
    "\n",
    "df_act <- df_pilot1_2022 %>%\n",
    "  select(all_of(variables_act))"
   ]
  },
  {
   "cell_type": "code",
   "execution_count": null,
   "metadata": {
    "vscode": {
     "languageId": "r"
    }
   },
   "outputs": [],
   "source": [
    "# Tables\n",
    "table(df_act$act_Gym)\n",
    "table(df_act$act_Walk)\n",
    "table(df_act$act_Run)\n",
    "table(df_act$act_Yoga)\n",
    "table(df_act$act_Other)\n",
    "table(df_act$act_Non)\n",
    "table(df_act$act_Fishing)\n",
    "table(df_act$act_Hunting)\n",
    "table(df_act$act_VisitsMuseumsGaleries)\n",
    "table(df_act$act_MotorizedOutdoorActivities)\n",
    "table(df_act$act_Volunteering)\n"
   ]
  },
  {
   "cell_type": "markdown",
   "metadata": {},
   "source": [
    "### Transformations\n",
    "\n",
    "Transformer les variables avec nuance (0, 0.25, 0.5, 0.75, 1)\n",
    "\n",
    "Comme les 1 sont peu nombreux, il semble avantageux de transformer les variables en 0, 0.5 et 1 où\n",
    "\n",
    "- 0.25 est intégré à 0.5\n",
    "- 0.75 est intégré à 1"
   ]
  },
  {
   "cell_type": "code",
   "execution_count": 5,
   "metadata": {
    "vscode": {
     "languageId": "r"
    }
   },
   "outputs": [],
   "source": [
    "df_act$act_Gym <- as.numeric(df_act$act_Gym)\n",
    "df_act$act_Walk <- as.numeric(df_act$act_Walk)\n",
    "df_act$act_Run <- as.numeric(df_act$act_Run)\n",
    "df_act$act_Yoga <- as.numeric(df_act$act_Yoga)\n",
    "df_act$act_Other <- as.numeric(df_act$act_Other)\n",
    "df_act$act_None <- as.numeric(df_act$act_None)"
   ]
  },
  {
   "cell_type": "code",
   "execution_count": 6,
   "metadata": {
    "vscode": {
     "languageId": "r"
    }
   },
   "outputs": [],
   "source": [
    "df_act$act_Fishing <- ifelse(df_act$act_Fishing == 0.25, 0.5, ifelse(df_act$act_Fishing == 0.75, 1, df_act$act_Fishing))\n",
    "df_act$act_Hunting <- ifelse(df_act$act_Hunting == 0.25, 0.5, ifelse(df_act$act_Hunting == 0.75, 1, df_act$act_Hunting))\n",
    "df_act$act_VisitsMuseumsGaleries <- ifelse(df_act$act_VisitsMuseumsGaleries == 0.25, 0.5, ifelse(df_act$act_VisitsMuseumsGaleries == 0.75, 1, df_act$act_VisitsMuseumsGaleries))\n",
    "df_act$act_MotorizedOutdoorActivities <- ifelse(df_act$act_MotorizedOutdoorActivities == 0.25, 0.5, ifelse(df_act$act_MotorizedOutdoorActivities == 0.75, 1, df_act$act_MotorizedOutdoorActivities))\n",
    "df_act$act_Volunteering <- ifelse(df_act$act_Volunteering == 0.25, 0.5, ifelse(df_act$act_Volunteering == 0.75, 1, df_act$act_Volunteering))\n"
   ]
  },
  {
   "cell_type": "code",
   "execution_count": null,
   "metadata": {
    "vscode": {
     "languageId": "r"
    }
   },
   "outputs": [],
   "source": [
    "str(df_act)"
   ]
  },
  {
   "cell_type": "code",
   "execution_count": null,
   "metadata": {
    "vscode": {
     "languageId": "r"
    }
   },
   "outputs": [],
   "source": [
    "table(df_act$act_Fishing)\n",
    "table(df_act$act_Hunting)\n",
    "table(df_act$act_VisitsMuseumsGaleries)\n",
    "table(df_act$act_MotorizedOutdoorActivities)\n",
    "table(df_act$act_Volunteering)"
   ]
  },
  {
   "cell_type": "code",
   "execution_count": 9,
   "metadata": {
    "vscode": {
     "languageId": "r"
    }
   },
   "outputs": [],
   "source": [
    "# Sauvegarder les données préparées\n",
    "saveRDS(df_act, file = \"../../../_PrivateFolder_datagotchi_federal_2025/data/clustering/qc2022/02_pilot1_2022_act.rds\")"
   ]
  },
  {
   "cell_type": "markdown",
   "metadata": {},
   "source": [
    "---"
   ]
  },
  {
   "cell_type": "markdown",
   "metadata": {},
   "source": [
    "### Activité de Clustering\n",
    "\n",
    "Effectuer un exercice de clustering pour mieux saisir les données et leur relation. \n",
    "\n",
    "Cet exercice est purement exploratoire et sert à voir si les données peuvent être utilisées pour faire du clustering."
   ]
  },
  {
   "cell_type": "code",
   "execution_count": null,
   "metadata": {
    "vscode": {
     "languageId": "r"
    }
   },
   "outputs": [],
   "source": [
    "# 2. Exploration des données\n",
    "\n",
    "# Aperçu et exploration initiale :\n",
    "\n",
    "# Aperçu des données\n",
    "head(df_act)\n",
    "\n",
    "# Distribution des données pour chaque variable\n",
    "# table(df_act[, -which(names(df_act) == \"id\")]) #Trop de combinaisons\n",
    "\n",
    "# # Vérification des données manquantes\n",
    "sum(is.na(df_act))\n",
    "\n",
    "# # Statistiques descriptives\n",
    "summary(df_act %>% select(-id))"
   ]
  },
  {
   "cell_type": "code",
   "execution_count": null,
   "metadata": {
    "vscode": {
     "languageId": "r"
    }
   },
   "outputs": [],
   "source": [
    "str(df_act)"
   ]
  },
  {
   "cell_type": "code",
   "execution_count": null,
   "metadata": {
    "vscode": {
     "languageId": "r"
    }
   },
   "outputs": [],
   "source": [
    "# # Détermination du nombre optimal de clusters\n",
    "\n",
    "#df_scaled <- scale(df_act)\n",
    "df_scaled <- df_act %>% select(-id)\n",
    "head(df_scaled)\n",
    "\n",
    "#table(df_act)"
   ]
  },
  {
   "cell_type": "code",
   "execution_count": null,
   "metadata": {
    "vscode": {
     "languageId": "r"
    }
   },
   "outputs": [],
   "source": [
    "# Utilisons la méthode de l’élbow (coude) et l’indice de silhouette.\n",
    "\n",
    "# Méthode du coude\n",
    "fviz_nbclust(df_scaled, kmeans, method = \"wss\") +\n",
    "  ggtitle(\"Méthode du coude\")\n",
    "\n",
    "# Indice de silhouette\n",
    "fviz_nbclust(df_scaled, kmeans, method = \"silhouette\") +\n",
    "  ggtitle(\"Indice de silhouette\")"
   ]
  },
  {
   "cell_type": "code",
   "execution_count": 13,
   "metadata": {
    "vscode": {
     "languageId": "r"
    }
   },
   "outputs": [],
   "source": [
    "# Application de K-Means Clustering\n",
    "\n",
    "# Choisissez un nombre de clusters approprié (par exemple, 3).\n",
    "k <- 4\n",
    "\n",
    "# K-Means Clustering\n",
    "set.seed(123)  # Pour la reproductibilité\n",
    "kmeans_result <- kmeans(df_scaled, centers = k, nstart = 25)\n",
    "\n",
    "# Ajouter les clusters au dataframe original\n",
    "df_act$cluster <- as.factor(kmeans_result$cluster)\n"
   ]
  },
  {
   "cell_type": "code",
   "execution_count": null,
   "metadata": {
    "vscode": {
     "languageId": "r"
    }
   },
   "outputs": [],
   "source": [
    "# Visualisation des clusters\n",
    "\n",
    "# head(df_act)\n",
    "kmeans_result"
   ]
  },
  {
   "cell_type": "code",
   "execution_count": null,
   "metadata": {
    "vscode": {
     "languageId": "r"
    }
   },
   "outputs": [],
   "source": [
    "# Visualisation des clusters\n",
    "\n",
    "# Visualisation des clusters dans l’espace des deux premières dimensions :\n",
    "\n",
    "# Utilisation de factoextra pour représenter les clusters\n",
    "fviz_cluster(kmeans_result, data = df_scaled, ellipse.type = \"euclid\") +\n",
    "  ggtitle(\"Visualisation des clusters avec K-Means\")\n",
    "\n",
    "# Graphique par variables\n",
    "\n",
    "# Variables binaires\n",
    "g_var_bin <- function(df, var) {\n",
    "  # Distribution des clusters par var\n",
    "  g <- ggplot(df, aes(x = .data[[var]], fill = cluster)) +\n",
    "    geom_bar(position = \"dodge\") +\n",
    "    ggtitle(paste(\"Distribution des clusters pour\", var)) +\n",
    "    theme_minimal()\n",
    "  return(g)\n",
    "}\n",
    "g_var_bin(df_act, \"act_Gym\")\n",
    "g_var_bin(df_act, \"act_Walk\")\n",
    "g_var_bin(df_act, \"act_Run\")\n",
    "g_var_bin(df_act, \"act_Yoga\")\n",
    "g_var_bin(df_act, \"act_Other\")\n",
    "g_var_bin(df_act, \"act_None\")\n",
    "\n",
    "# Variables nuancées\n",
    "g_var_nuancee <- function(df, var) {\n",
    "  # Distribution des clusters par var\n",
    "  g <- ggplot(df, aes(x = .data[[var]], fill = cluster)) +\n",
    "    geom_histogram(binwidth = 0.25, position = \"dodge\") +\n",
    "    ggtitle(paste(\"Distribution des clusters pour\", var)) +\n",
    "    theme_minimal()\n",
    "  return(g)\n",
    "}\n",
    "g_var_nuancee(df_act, \"act_Fishing\")\n",
    "g_var_nuancee(df_act, \"act_Hunting\")\n",
    "g_var_nuancee(df_act, \"act_VisitsMuseumsGaleries\")\n",
    "g_var_nuancee(df_act, \"act_MotorizedOutdoorActivities\")\n",
    "g_var_nuancee(df_act, \"act_Volunteering\")\n",
    "\n",
    "# # Distribution des clusters par `cons_Smoke_few_times_day`\n",
    "# ggplot(df_act, aes(x = cons_Smoke_few_times_day, fill = cluster)) +\n",
    "#   geom_bar(position = \"dodge\") +\n",
    "#   ggtitle(\"Distribution des clusters pour cons_Smoke_few_times_day\") +\n",
    "#   theme_minimal()"
   ]
  }
 ],
 "metadata": {
  "kernelspec": {
   "display_name": "R",
   "language": "R",
   "name": "ir"
  },
  "language_info": {
   "codemirror_mode": "r",
   "file_extension": ".r",
   "mimetype": "text/x-r-source",
   "name": "R",
   "pygments_lexer": "r",
   "version": "4.4.1"
  }
 },
 "nbformat": 4,
 "nbformat_minor": 2
}
