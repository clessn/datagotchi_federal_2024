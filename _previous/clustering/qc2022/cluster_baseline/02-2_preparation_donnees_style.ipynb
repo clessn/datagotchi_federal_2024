{
 "cells": [
  {
   "cell_type": "markdown",
   "metadata": {},
   "source": [
    "# Préparation des variables pour les variables de style"
   ]
  },
  {
   "cell_type": "code",
   "execution_count": null,
   "metadata": {
    "vscode": {
     "languageId": "r"
    }
   },
   "outputs": [],
   "source": [
    "library(tidyverse)\n",
    "library(factoextra)\n",
    "\n",
    "# Charger les données\n",
    "df_pilot1_2022 <- readRDS(\"../../_PrivateFolder_datagotchi_federal_2025/data/clustering/qc2022/01_pilot1_2022.rds\")\n",
    "\n",
    "# Charger le fichier des variables\n",
    "source(\"01-1_variables.R\")\n",
    "\n",
    "# Préparation du jeu de données pour les variables de style\n",
    "df_style <- df_pilot1_2022 %>%\n",
    "  select(all_of(variables_style))"
   ]
  },
  {
   "cell_type": "code",
   "execution_count": null,
   "metadata": {
    "vscode": {
     "languageId": "r"
    }
   },
   "outputs": [],
   "source": [
    "# Boucle pour afficher la table pour chaque variable\n",
    "for (v in variables_style) {\n",
    "  if (v != \"id\") {\n",
    "    cat(\"Table pour la variable:\", v, \"\\n\")\n",
    "    print(table(df_style[[v]]))\n",
    "    cat(\"\\n\\n\")\n",
    "  }\n",
    "}"
   ]
  },
  {
   "cell_type": "markdown",
   "metadata": {},
   "source": [
    "## Transformations\n",
    "\n",
    "- app_swag\n",
    "\n",
    "Les variables app_swag sont telles que certaines catégories sont très peu peuplées. Regrouper les styles pour en faire des styles plus généraux.\n",
    "\n",
    "- noTatoo\n",
    "\n",
    "Retourner le sens logique pour que vrai soit avec tatou => deviendra Tatoo\n",
    "\n",
    "- animal\n",
    "\n",
    "Regrouper certaines classes d'animal pour avoir des catégories plus générales\n"
   ]
  },
  {
   "cell_type": "code",
   "execution_count": null,
   "metadata": {
    "vscode": {
     "languageId": "r"
    }
   },
   "outputs": [],
   "source": [
    "# Regroupement de app_swag\n",
    "#-------------------------\n",
    "\n",
    "df_style <- df_style %>%\n",
    "\n",
    "  # Regrouper Formel et Chic sous Classique\n",
    "  mutate(\n",
    "    app_swag_Classique = if_else(\n",
    "      app_swag_Formel == 1 | app_swag_Chic == 1,\n",
    "      1,\n",
    "      app_swag_Classique\n",
    "    )\n",
    "  ) %>%\n",
    "  select(-app_swag_Formel, -app_swag_Chic) %>%\n",
    "\n",
    "  # Regrouper HippBoheme, Punk, Rock sous Other\n",
    "  mutate(\n",
    "    app_swag_Other = if_else(\n",
    "      app_swag_HippBoheme == 1 | app_swag_Punk == 1 | app_swag_Rock == 1,\n",
    "      1,\n",
    "      app_swag_Other\n",
    "    )\n",
    "  ) %>%\n",
    "  select(-app_swag_HippBoheme, -app_swag_Punk, -app_swag_Rock)"
   ]
  },
  {
   "cell_type": "code",
   "execution_count": null,
   "metadata": {
    "vscode": {
     "languageId": "r"
    }
   },
   "outputs": [],
   "source": [
    "# Changement de sens logique de NoTatoo\n",
    "#--------------------------------------\n",
    "\n",
    "df_style <- df_style %>%\n",
    "  mutate(app_withTattoo = if_else(app_noTattoo == 1, 0, 1)) %>%\n",
    "  select(-app_noTattoo)"
   ]
  },
  {
   "cell_type": "code",
   "execution_count": null,
   "metadata": {
    "vscode": {
     "languageId": "r"
    }
   },
   "outputs": [],
   "source": [
    "# Regroupement de animal\n",
    "#-----------------------\n",
    "\n",
    "df_style <- df_style %>%\n",
    "  mutate(animal_other = if_else(\n",
    "    animal_domestic == 1 | animal_farm == 1,\n",
    "    1,\n",
    "    0\n",
    "  )\n",
    "  ) %>%\n",
    "  select(-animal_domestic, -animal_farm)"
   ]
  },
  {
   "cell_type": "code",
   "execution_count": null,
   "metadata": {
    "vscode": {
     "languageId": "r"
    }
   },
   "outputs": [],
   "source": [
    "variables_style_clust <- c(\n",
    "  \"id\",\n",
    "  \"app_swag_Classique\",\n",
    "  \"app_swag_Casual\",\n",
    "  \"app_swag_Sport\",\n",
    "  \"app_swag_Other\",\n",
    "  \"app_withTattoo\",\n",
    "  \"animal_cat\",\n",
    "  \"animal_dog\",\n",
    "  \"animal_other\",\n",
    "  \"animal_noPet\"\n",
    ")"
   ]
  },
  {
   "cell_type": "code",
   "execution_count": null,
   "metadata": {
    "vscode": {
     "languageId": "r"
    }
   },
   "outputs": [],
   "source": [
    "# Boucle pour afficher la table pour chaque variable\n",
    "for (v in variables_style_clust) {\n",
    "  if (v != \"id\") {\n",
    "    cat(\"Table pour la variable:\", v, \"\\n\")\n",
    "    print(table(df_style[[v]]))\n",
    "    cat(\"\\n\\n\")\n",
    "  }\n",
    "}"
   ]
  },
  {
   "cell_type": "code",
   "execution_count": null,
   "metadata": {
    "vscode": {
     "languageId": "r"
    }
   },
   "outputs": [],
   "source": [
    "# Sauvegarder les données préparées\n",
    "saveRDS(df_style, file = \"../../_PrivateFolder_datagotchi_federal_2025/data/clustering/qc2022/02_pilot1_2022_style.rds\")"
   ]
  },
  {
   "cell_type": "markdown",
   "metadata": {},
   "source": [
    "---"
   ]
  },
  {
   "cell_type": "markdown",
   "metadata": {},
   "source": [
    "# SUGGESTION : Activité de Clustering\n",
    "\n",
    "Si souhaité, effectuer un exercice de clustering avec ce sous-groupe de variables pour mieux saisir les données et leur relation. \n",
    "\n",
    "Cet exercice est purement exploratoire et sert à voir si les données peuvent être utilisées pour faire du clustering."
   ]
  }
 ],
 "metadata": {
  "kernelspec": {
   "display_name": "R",
   "language": "R",
   "name": "ir"
  },
  "language_info": {
   "codemirror_mode": "r",
   "file_extension": ".r",
   "mimetype": "text/x-r-source",
   "name": "R",
   "pygments_lexer": "r",
   "version": "4.4.1"
  }
 },
 "nbformat": 4,
 "nbformat_minor": 2
}
