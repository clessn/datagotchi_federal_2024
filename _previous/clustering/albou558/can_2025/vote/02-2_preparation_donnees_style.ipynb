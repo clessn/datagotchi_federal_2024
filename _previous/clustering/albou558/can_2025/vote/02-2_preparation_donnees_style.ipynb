{
 "cells": [
  {
   "cell_type": "markdown",
   "metadata": {},
   "source": [
    "# Préparation des variables pour les variables de style"
   ]
  },
  {
   "cell_type": "code",
   "execution_count": 1,
   "metadata": {
    "vscode": {
     "languageId": "r"
    }
   },
   "outputs": [
    {
     "name": "stderr",
     "output_type": "stream",
     "text": [
      "── \u001b[1mAttaching core tidyverse packages\u001b[22m ──────────────────────── tidyverse 2.0.0 ──\n",
      "\u001b[32m✔\u001b[39m \u001b[34mdplyr    \u001b[39m 1.1.4     \u001b[32m✔\u001b[39m \u001b[34mreadr    \u001b[39m 2.1.5\n",
      "\u001b[32m✔\u001b[39m \u001b[34mforcats  \u001b[39m 1.0.0     \u001b[32m✔\u001b[39m \u001b[34mstringr  \u001b[39m 1.5.1\n",
      "\u001b[32m✔\u001b[39m \u001b[34mggplot2  \u001b[39m 3.5.1     \u001b[32m✔\u001b[39m \u001b[34mtibble   \u001b[39m 3.2.1\n",
      "\u001b[32m✔\u001b[39m \u001b[34mlubridate\u001b[39m 1.9.3     \u001b[32m✔\u001b[39m \u001b[34mtidyr    \u001b[39m 1.3.1\n",
      "\u001b[32m✔\u001b[39m \u001b[34mpurrr    \u001b[39m 1.0.2     \n",
      "── \u001b[1mConflicts\u001b[22m ────────────────────────────────────────── tidyverse_conflicts() ──\n",
      "\u001b[31m✖\u001b[39m \u001b[34mdplyr\u001b[39m::\u001b[32mfilter()\u001b[39m masks \u001b[34mstats\u001b[39m::filter()\n",
      "\u001b[31m✖\u001b[39m \u001b[34mdplyr\u001b[39m::\u001b[32mlag()\u001b[39m    masks \u001b[34mstats\u001b[39m::lag()\n",
      "\u001b[36mℹ\u001b[39m Use the conflicted package (\u001b[3m\u001b[34m<http://conflicted.r-lib.org/>\u001b[39m\u001b[23m) to force all conflicts to become errors\n",
      "Welcome! Want to learn more? See two factoextra-related books at https://goo.gl/ve3WBa\n",
      "\n"
     ]
    }
   ],
   "source": [
    "library(tidyverse)\n",
    "library(factoextra)\n",
    "\n",
    "# Charger les données\n",
    "DataPilot <- readRDS(\"../../../_PrivateFolder_datagotchi_federal_2025/data/clustering/can2025/01_pilot_2025.rds\")\n",
    "\n",
    "# Charger le fichier des variables\n",
    "source(\"01-1_variables.R\")\n",
    "\n",
    "# Préparation du jeu de données pour les variables de style\n",
    "df_style <- DataPilot %>%\n",
    "  select(all_of(variables_style))"
   ]
  },
  {
   "cell_type": "code",
   "execution_count": 2,
   "metadata": {
    "vscode": {
     "languageId": "r"
    }
   },
   "outputs": [
    {
     "name": "stdout",
     "output_type": "stream",
     "text": [
      "Table pour la variable: lifestyle_clothingStyleFormal \n",
      "\n",
      "  0   1 \n",
      "985  36 \n",
      "\n",
      "\n",
      "Table pour la variable: lifestyle_clothingStyleClassic \n",
      "\n",
      "  0   1 \n",
      "910 111 \n",
      "\n",
      "\n",
      "Table pour la variable: lifestyle_clothingStyleCasual \n",
      "\n",
      "  0   1 \n",
      "260 761 \n",
      "\n",
      "\n",
      "Table pour la variable: lifestyle_clothingStyleSport \n",
      "\n",
      "  0   1 \n",
      "970  51 \n",
      "\n",
      "\n",
      "Table pour la variable: lifestyle_clothingStyleElegant \n",
      "\n",
      "   0    1 \n",
      "1000   21 \n",
      "\n",
      "\n",
      "Table pour la variable: lifestyle_clothingStyleHippie \n",
      "\n",
      "   0    1 \n",
      "1008   13 \n",
      "\n",
      "\n",
      "Table pour la variable: lifestyle_clothingStylePunk \n",
      "\n",
      "   0    1 \n",
      "1018    3 \n",
      "\n",
      "\n",
      "Table pour la variable: lifestyle_clothingStyleRock \n",
      "\n",
      "   0    1 \n",
      "1009   12 \n",
      "\n",
      "\n",
      "Table pour la variable: lifestyle_clothingStyleOther \n",
      "\n",
      "   0    1 \n",
      "1008   13 \n",
      "\n",
      "\n",
      "Table pour la variable: lifestyle_hasTattoos \n",
      "\n",
      "  0   1 \n",
      "723 298 \n",
      "\n",
      "\n",
      "Table pour la variable: lifestyle_ownPetCat \n",
      "\n",
      "  0   1 \n",
      "814 207 \n",
      "\n",
      "\n",
      "Table pour la variable: lifestyle_ownPetDog \n",
      "\n",
      "  0   1 \n",
      "810 211 \n",
      "\n",
      "\n",
      "Table pour la variable: lifestyle_ownPetOther \n",
      "\n",
      "   0    1 \n",
      "1007   14 \n",
      "\n",
      "\n",
      "Table pour la variable: lifestyle_ownPetCatAndDog \n",
      "\n",
      "  0   1 \n",
      "941  80 \n",
      "\n",
      "\n",
      "Table pour la variable: lifestyle_ownPetFarmAnimals \n",
      "\n",
      "   0    1 \n",
      "1017    4 \n",
      "\n",
      "\n",
      "Table pour la variable: lifestyle_ownPetNone \n",
      "\n",
      "  0   1 \n",
      "544 477 \n",
      "\n",
      "\n"
     ]
    }
   ],
   "source": [
    "# Boucle pour afficher la table pour chaque variable\n",
    "for (v in variables_style) {\n",
    "  if (v != \"id\") {\n",
    "    cat(\"Table pour la variable:\", v, \"\\n\")\n",
    "    print(table(df_style[[v]]))\n",
    "    cat(\"\\n\\n\")\n",
    "  }\n",
    "}"
   ]
  },
  {
   "cell_type": "markdown",
   "metadata": {},
   "source": [
    "## Transformations\n",
    "\n",
    "- app_swag\n",
    "\n",
    "Les variables app_swag sont telles que certaines catégories sont très peu peuplées. Regrouper les styles pour en faire des styles plus généraux.\n",
    "\n",
    "- animal\n",
    "\n",
    "Regrouper certaines classes d'animal pour avoir des catégories plus générales\n"
   ]
  },
  {
   "cell_type": "code",
   "execution_count": 3,
   "metadata": {
    "vscode": {
     "languageId": "r"
    }
   },
   "outputs": [],
   "source": [
    "# Regroupement de app_swag\n",
    "#-------------------------\n",
    "\n",
    "df_style <- df_style %>%\n",
    "\n",
    "  # Regrouper Formel et Chic sous Classique\n",
    "  mutate(\n",
    "    lifestyle_clothingStyleClassic = if_else(\n",
    "      lifestyle_clothingStyleFormal == 1 | lifestyle_clothingStyleElegant == 1,\n",
    "      1,\n",
    "      lifestyle_clothingStyleClassic\n",
    "    )\n",
    "  ) %>%\n",
    "  select(-lifestyle_clothingStyleFormal, -lifestyle_clothingStyleElegant) %>%\n",
    "\n",
    "  # Regrouper HippBoheme, Punk, Rock sous Other\n",
    "  mutate(\n",
    "    lifestyle_clothingStyleOther = if_else(\n",
    "      lifestyle_clothingStyleHippie == 1 | lifestyle_clothingStylePunk == 1 | lifestyle_clothingStyleRock == 1,\n",
    "      1,\n",
    "      lifestyle_clothingStyleOther\n",
    "    )\n",
    "  ) %>%\n",
    "  select(-lifestyle_clothingStyleHippie, -lifestyle_clothingStylePunk, -lifestyle_clothingStyleRock)"
   ]
  },
  {
   "cell_type": "code",
   "execution_count": 4,
   "metadata": {
    "vscode": {
     "languageId": "r"
    }
   },
   "outputs": [
    {
     "data": {
      "text/plain": [
       "\n",
       "  0   1 \n",
       "970  51 "
      ]
     },
     "metadata": {},
     "output_type": "display_data"
    }
   ],
   "source": [
    "table(df_style$lifestyle_clothingStyleSport)"
   ]
  },
  {
   "cell_type": "code",
   "execution_count": 5,
   "metadata": {
    "vscode": {
     "languageId": "r"
    }
   },
   "outputs": [],
   "source": [
    "# Regroupement de animal\n",
    "#-----------------------\n",
    "\n",
    "df_style <- df_style %>%\n",
    "  mutate(lifestyle_ownPetOther = if_else(\n",
    "   lifestyle_ownPetFarmAnimals == 1,\n",
    "    1,\n",
    "    lifestyle_ownPetOther\n",
    "  )\n",
    "  ) %>%\n",
    "  select(-lifestyle_ownPetFarmAnimals)"
   ]
  },
  {
   "cell_type": "code",
   "execution_count": 6,
   "metadata": {
    "vscode": {
     "languageId": "r"
    }
   },
   "outputs": [],
   "source": [
    "variables_style_clust <- c(\n",
    "  \"id\",\n",
    "  \"lifestyle_clothingStyleClassic\",\n",
    "  \"lifestyle_clothingStyleCasual\",\n",
    "  \"lifestyle_clothingStyleSport\",\n",
    "  \"lifestyle_clothingStyleOther\",\n",
    "  \"lifestyle_hasTattoos\",\n",
    "  \"lifestyle_ownPetCat\",\n",
    "  \"lifestyle_ownPetDog\",\n",
    "  \"lifestyle_ownPetOther\",\n",
    "  \"lifestyle_ownPetCatAndDog\",\n",
    "  \"lifestyle_ownPetNone\"\n",
    ")"
   ]
  },
  {
   "cell_type": "code",
   "execution_count": 7,
   "metadata": {
    "vscode": {
     "languageId": "r"
    }
   },
   "outputs": [
    {
     "name": "stdout",
     "output_type": "stream",
     "text": [
      "Table pour la variable: lifestyle_clothingStyleClassic \n",
      "\n",
      "  0   1 \n",
      "853 168 \n",
      "\n",
      "\n",
      "Table pour la variable: lifestyle_clothingStyleCasual \n",
      "\n",
      "  0   1 \n",
      "260 761 \n",
      "\n",
      "\n",
      "Table pour la variable: lifestyle_clothingStyleSport \n",
      "\n",
      "  0   1 \n",
      "970  51 \n",
      "\n",
      "\n",
      "Table pour la variable: lifestyle_clothingStyleOther \n",
      "\n",
      "  0   1 \n",
      "980  41 \n",
      "\n",
      "\n",
      "Table pour la variable: lifestyle_hasTattoos \n",
      "\n",
      "  0   1 \n",
      "723 298 \n",
      "\n",
      "\n",
      "Table pour la variable: lifestyle_ownPetCat \n",
      "\n",
      "  0   1 \n",
      "814 207 \n",
      "\n",
      "\n",
      "Table pour la variable: lifestyle_ownPetDog \n",
      "\n",
      "  0   1 \n",
      "810 211 \n",
      "\n",
      "\n",
      "Table pour la variable: lifestyle_ownPetOther \n",
      "\n",
      "   0    1 \n",
      "1003   18 \n",
      "\n",
      "\n",
      "Table pour la variable: lifestyle_ownPetCatAndDog \n",
      "\n",
      "  0   1 \n",
      "941  80 \n",
      "\n",
      "\n",
      "Table pour la variable: lifestyle_ownPetNone \n",
      "\n",
      "  0   1 \n",
      "544 477 \n",
      "\n",
      "\n"
     ]
    }
   ],
   "source": [
    "# Boucle pour afficher la table pour chaque variable\n",
    "for (v in variables_style_clust) {\n",
    "  if (v != \"id\") {\n",
    "    cat(\"Table pour la variable:\", v, \"\\n\")\n",
    "    print(table(df_style[[v]]))\n",
    "    cat(\"\\n\\n\")\n",
    "  }\n",
    "}"
   ]
  },
  {
   "cell_type": "code",
   "execution_count": 9,
   "metadata": {
    "vscode": {
     "languageId": "r"
    }
   },
   "outputs": [],
   "source": [
    "# Sauvegarder les données préparées\n",
    "saveRDS(df_style, file = \"../../../_PrivateFolder_datagotchi_federal_2025/data/clustering/can2025/02_pilot_2025_style.rds\")"
   ]
  },
  {
   "cell_type": "markdown",
   "metadata": {},
   "source": [
    "---"
   ]
  },
  {
   "cell_type": "markdown",
   "metadata": {},
   "source": [
    "# SUGGESTION : Activité de Clustering\n",
    "\n",
    "Si souhaité, effectuer un exercice de clustering avec ce sous-groupe de variables pour mieux saisir les données et leur relation. \n",
    "\n",
    "Cet exercice est purement exploratoire et sert à voir si les données peuvent être utilisées pour faire du clustering."
   ]
  }
 ],
 "metadata": {
  "kernelspec": {
   "display_name": "R",
   "language": "R",
   "name": "ir"
  },
  "language_info": {
   "codemirror_mode": "r",
   "file_extension": ".r",
   "mimetype": "text/x-r-source",
   "name": "R",
   "pygments_lexer": "r",
   "version": "4.4.3"
  }
 },
 "nbformat": 4,
 "nbformat_minor": 2
}
