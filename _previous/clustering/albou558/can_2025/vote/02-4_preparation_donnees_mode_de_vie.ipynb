{
 "cells": [
  {
   "cell_type": "markdown",
   "metadata": {},
   "source": [
    "# Préparation des variables de mode de vie"
   ]
  },
  {
   "cell_type": "code",
   "execution_count": 1,
   "metadata": {
    "vscode": {
     "languageId": "r"
    }
   },
   "outputs": [
    {
     "name": "stderr",
     "output_type": "stream",
     "text": [
      "── \u001b[1mAttaching core tidyverse packages\u001b[22m ──────────────────────── tidyverse 2.0.0 ──\n",
      "\u001b[32m✔\u001b[39m \u001b[34mdplyr    \u001b[39m 1.1.4     \u001b[32m✔\u001b[39m \u001b[34mreadr    \u001b[39m 2.1.5\n",
      "\u001b[32m✔\u001b[39m \u001b[34mforcats  \u001b[39m 1.0.0     \u001b[32m✔\u001b[39m \u001b[34mstringr  \u001b[39m 1.5.1\n",
      "\u001b[32m✔\u001b[39m \u001b[34mggplot2  \u001b[39m 3.5.1     \u001b[32m✔\u001b[39m \u001b[34mtibble   \u001b[39m 3.2.1\n",
      "\u001b[32m✔\u001b[39m \u001b[34mlubridate\u001b[39m 1.9.3     \u001b[32m✔\u001b[39m \u001b[34mtidyr    \u001b[39m 1.3.1\n",
      "\u001b[32m✔\u001b[39m \u001b[34mpurrr    \u001b[39m 1.0.2     \n",
      "── \u001b[1mConflicts\u001b[22m ────────────────────────────────────────── tidyverse_conflicts() ──\n",
      "\u001b[31m✖\u001b[39m \u001b[34mdplyr\u001b[39m::\u001b[32mfilter()\u001b[39m masks \u001b[34mstats\u001b[39m::filter()\n",
      "\u001b[31m✖\u001b[39m \u001b[34mdplyr\u001b[39m::\u001b[32mlag()\u001b[39m    masks \u001b[34mstats\u001b[39m::lag()\n",
      "\u001b[36mℹ\u001b[39m Use the conflicted package (\u001b[3m\u001b[34m<http://conflicted.r-lib.org/>\u001b[39m\u001b[23m) to force all conflicts to become errors\n",
      "Welcome! Want to learn more? See two factoextra-related books at https://goo.gl/ve3WBa\n",
      "\n"
     ]
    }
   ],
   "source": [
    "library(tidyverse)\n",
    "library(factoextra)\n",
    "\n",
    "# Charger les données\n",
    "DataPilot <- readRDS(\"../../../_PrivateFolder_datagotchi_federal_2025/data/clustering/can2025/01_pilot_2025.rds\")\n",
    "DensityData <- readRDS(\"../../../_SharedFolder_datagotchi_federal_2024/data/clustering/can_2025/density_data.rds\")\n",
    "\n",
    "# Charger le fichier des variables\n",
    "source(\"01-1_variables.R\")\n",
    "\n",
    "df_mode_de_vie <- DataPilot %>%\n",
    "  select(all_of(variables_mode_de_vie))"
   ]
  },
  {
   "cell_type": "code",
   "execution_count": 2,
   "metadata": {
    "vscode": {
     "languageId": "r"
    }
   },
   "outputs": [
    {
     "data": {
      "text/html": [
       "<table class=\"dataframe\">\n",
       "<caption>A data.frame: 1 × 6</caption>\n",
       "<thead>\n",
       "\t<tr><th scope=col>lifestyle_typeTransportCar</th><th scope=col>lifestyle_typeTransportSUV</th><th scope=col>lifestyle_typeTransportMoto</th><th scope=col>lifestyle_typeTransportWalk</th><th scope=col>lifestyle_typeTransportBicycle</th><th scope=col>lifestyle_typeTransportPublicTransit</th></tr>\n",
       "\t<tr><th scope=col>&lt;dbl&gt;</th><th scope=col>&lt;dbl&gt;</th><th scope=col>&lt;dbl&gt;</th><th scope=col>&lt;dbl&gt;</th><th scope=col>&lt;dbl&gt;</th><th scope=col>&lt;dbl&gt;</th></tr>\n",
       "</thead>\n",
       "<tbody>\n",
       "\t<tr><td>598</td><td>204</td><td>6</td><td>88</td><td>11</td><td>111</td></tr>\n",
       "</tbody>\n",
       "</table>\n"
      ],
      "text/latex": [
       "A data.frame: 1 × 6\n",
       "\\begin{tabular}{llllll}\n",
       " lifestyle\\_typeTransportCar & lifestyle\\_typeTransportSUV & lifestyle\\_typeTransportMoto & lifestyle\\_typeTransportWalk & lifestyle\\_typeTransportBicycle & lifestyle\\_typeTransportPublicTransit\\\\\n",
       " <dbl> & <dbl> & <dbl> & <dbl> & <dbl> & <dbl>\\\\\n",
       "\\hline\n",
       "\t 598 & 204 & 6 & 88 & 11 & 111\\\\\n",
       "\\end{tabular}\n"
      ],
      "text/markdown": [
       "\n",
       "A data.frame: 1 × 6\n",
       "\n",
       "| lifestyle_typeTransportCar &lt;dbl&gt; | lifestyle_typeTransportSUV &lt;dbl&gt; | lifestyle_typeTransportMoto &lt;dbl&gt; | lifestyle_typeTransportWalk &lt;dbl&gt; | lifestyle_typeTransportBicycle &lt;dbl&gt; | lifestyle_typeTransportPublicTransit &lt;dbl&gt; |\n",
       "|---|---|---|---|---|---|\n",
       "| 598 | 204 | 6 | 88 | 11 | 111 |\n",
       "\n"
      ],
      "text/plain": [
       "  lifestyle_typeTransportCar lifestyle_typeTransportSUV\n",
       "1 598                        204                       \n",
       "  lifestyle_typeTransportMoto lifestyle_typeTransportWalk\n",
       "1 6                           88                         \n",
       "  lifestyle_typeTransportBicycle lifestyle_typeTransportPublicTransit\n",
       "1 11                             111                                 "
      ]
     },
     "metadata": {},
     "output_type": "display_data"
    }
   ],
   "source": [
    "library(dplyr)\n",
    "\n",
    "df_mode_de_vie %>%\n",
    "  select(starts_with(\"lifestyle_typeTransport\")) %>%\n",
    "  summarise(across(everything(), \\(x) sum(x, na.rm = TRUE)))\n",
    "#  summarise(across(everything(), sum, na.rm = TRUE))"
   ]
  },
  {
   "cell_type": "code",
   "execution_count": 3,
   "metadata": {
    "vscode": {
     "languageId": "r"
    }
   },
   "outputs": [
    {
     "name": "stdout",
     "output_type": "stream",
     "text": [
      "Table pour la variable: ses_postalCode \n",
      "\n",
      "4J1 a0a A0E a0g A0G A0M A0P A1B A1E a2a A2H B0E B0K B0P B1T b2x b3a B3H B3J b3k \n",
      "  1   2   1   1   2   1   1   2   2   1   1   1   1   1   1   1   1   1   1   1 \n",
      "B3M B3S B4A B4E B4N B4P B4V c0a C1A C1C C1E G0A G0C G0G G0K G0l G0M G0R G0s G0S \n",
      "  1   1   1   1   1   2   2   1   1   1   1   2   3   1   1   2   1   1   2   1 \n",
      "G0W G0X g1b G1B g1h G1h G1H g1k g1t G1T G1V G1w G1W G1x G1Y G2B G2j G3A G3e G3E \n",
      "  2   1   1   2   1   2   2   1   1   1   2   1   2   1   1   1   1   1   1   1 \n",
      "G3h G3H G3J g3k g3L G4R G4s g4z G4z g5b G5C G5l G5L G5V G5Y G5Z G6e G6G G6L G6P \n",
      "  1   1   1   1   1   3   1   1   1   1   1   1   2   1   1   1   1   1   1   2 \n",
      "g6w G6W G6Y G7A G7G G7H G7p G7P G7S G7X G8B g8h G8P G8V G8W g8y G8Y G8z G8Z G9A \n",
      "  1   1   2   1   1   1   1   1   2   2   1   1   1   1   1   1   1   1   2   1 \n",
      "G9b G9H G9n H1A h1b H1E H1G H1K H1L H1M h1n H1P h1t H1t H1T H1W H1x H1X H1Y h2b \n",
      "  1   1   1   1   1   1   1   1   1   4   1   1   1   1   1   2   1   2   3   1 \n",
      "H2C H2G H2H H2J H2K H2M H2S H2X H2z H3c H3C H3e H3H h3k H3K h3r H3T H3W H3y h3z \n",
      "  1   1   1   1   2   3   2   1   1   1   4   1   1   1   2   1   3   1   1   1 \n",
      "H4B H4c h4h H4H H4J H4N H4v H4W H4X h7a H7e H7g H7G H7K H7l H7L H7m H7N H7p H7r \n",
      "  1   1   1   1   1   1   1   1   1   1   1   1   1   3   1   1   1   1   2   1 \n",
      "H7R H7t H7T h7v H7W h7x H7x h7y h8n H8R h8y H8Z h9b H9E H9G H9j H9R H9S J0A j0b \n",
      "  1   1   1   1   2   1   1   1   1   1   1   2   1   1   1   1   3   1   2   1 \n",
      "J0B J0c J0E J0G J0h j0j J0k J0K J0l J0L j0n J0N J0P J0R J0S J0T J0V J0Y j0z J0Z \n",
      "  1   2   2   1   1   1   1   2   1   2   2   1   1   2   1   1   1   1   1   1 \n",
      "J1C J1e J1E J1M J1N J1R J1V J1X J2b J2C J2G J2J j2k J2K J2L j2m J2R J2S j2t j2T \n",
      "  1   1   2   1   1   1   1   4   1   1   2   1   1   3   1   1   1   2   1   1 \n",
      "J2T j2x J2X J2Y J3b J3B j3e J3E J3g J3H j3l J3l J3L j3m J3n J3V J3x J3y J3Y J4B \n",
      "  1   1   1   1   1   1   1   1   1   1   1   1   2   1   1   1   1   2   1   1 \n",
      "j4g J4J J4l J4L j4m J4n J4P J4R J4W j4x J4Y J4Z J5A J5C J5j J5K J5l j5r J5r J5R \n",
      "  1   1   1   1   1   1   1   1   1   1   2   1   1   1   1   1   1   1   2   1 \n",
      "J5x J5y J5Y j5z j6e J6E J6j J6s J6S J6T J6x J6X J6Y J6Z J7e j7j J7j J7J J7K J7n \n",
      "  1   2   1   1   1   1   1   2   1   1   1   1   1   1   1   1   1   1   1   1 \n",
      "J7R J7V J7W j7y J7z J8b J8B J8C J8G J8M J8r J8R J8T J8X J9a J9A J9e J9h J9H j9j \n",
      "  1   1   1   1   1   1   1   2   1   1   1   1   3   1   1   1   1   1   2   1 \n",
      "J9J J9l j9x J9x Jot K0C K0H K0J k0k K0K K1C K1g K1G K1L K1n K1N K1S K1W K2B k2E \n",
      "  1   1   1   1   1   4   1   1   1   1   2   1   1   1   1   3   1   1   1   1 \n",
      "K2e K2E k2g K2J K2P K4a k4b K4p K6A K6V k7k K7L K7M K7P K8A K8n K8N K8V K9a K9h \n",
      "  1   1   2   2   1   1   1   1   1   1   1   1   2   1   1   1   2   1   1   1 \n",
      "K9H K9J K9K K9V KOK L0L L0P L0R L0S L1E L1G L1H L1J L1l L1N L1R L1S L1T L1Z L2E \n",
      "  3   1   1   1   1   1   1   1   2   1   1   1   1   1   1   2   1   1   1   1 \n",
      "L2g L2G L2H L2M L2R L3C L3m l3p L3P L3R L3S L3T L3V L3y L4A L4b L4B L4C L4e L4h \n",
      "  1   1   1   2   1   1   1   1   1   3   1   1   1   1   4   1   1   1   1   1 \n",
      "L4H l4j L4J L4K l4l L4l L4L L4M L4n L4N L4P L4s L4S L5e L5J L5M L5n L5R L6A L6C \n",
      "  2   1   5   2   1   1   1   3   1   1   1   1   3   1   1   2   1   1   1   1 \n",
      "L6m L6M L6P L6r l6s L6T L6x L6X L6Y L7A L7B L7j L7L L8E L8G L8M L8N L8W L9g L9h \n",
      "  1   1   1   1   1   2   1   1   1   2   1   1   1   1   2   1   1   1   1   1 \n",
      "L9H L9N L9R L9s L9X L9Y L9Z M1E M1H M1l M1L M1n M1N M1R M1W M2j M2k M2K M2L M2N \n",
      "  3   2   2   1   1   1   1   1   2   1   2   1   1   1   3   1   1   2   1   1 \n",
      "M2r M3A M3h M3J M3L M3n M4A M4B M4C M4G M4J M4L M4m M4M M4N M4T M4V M4W M4y M4Y \n",
      "  1   3   1   1   1   1   1   3   2   1   2   2   1   2   1   1   2   1   1   3 \n",
      "m5a M5a M5A M5B M5E M5M M5T M5v M6A M6B M6C M6G M6J m6k M6l M6M M6P M8w M8W M8X \n",
      "  1   1   4   1   2   1   2   1   1   2   1   1   1   1   1   1   1   1   1   1 \n",
      "M8Z M9a M9A m9b M9C M9L M9v M9V M9W N0B n0e N0E N0G N0H N0J N0L N0M N0N n1h N1h \n",
      "  1   1   1   1   3   1   1   1   2   2   2   1   1   1   2   1   2   1   1   1 \n",
      "N1H N1L N1R N1S N2e N2E N2J N2K N2L n2n N2n n2p N2r N2R N2T n3r N3T N3Y N4G N4I \n",
      "  2   1   1   1   1   1   1   1   1   1   1   1   1   1   3   1   1   1   1   1 \n",
      "N4K N4N N5A N5V N5W N5Y n6a N6G N6H N6J N6L n6m N6M N6N n6p N7l N7M N7S N8H N8L \n",
      "  1   1   2   1   1   1   1   1   2   1   1   1   1   1   1   1   1   1   1   1 \n",
      "N8x N9B n9h N9V p0b P0J P0r P1B P1L P3B P3E P4r P5A P6A P6B P6C p7a P7a P7c P8N \n",
      "  1   3   1   1   1   1   1   1   1   1   2   1   1   1   1   1   1   1   1   1 \n",
      "P9A R0C R0G R0J R0K R0M R1a R1N R2c r2h R2H R2J R2M R2n R2N R2p r2v R2V R2Y R3J \n",
      "  1   2   1   2   2   1   1   1   2   1   1   1   1   1   1   1   1   1   1   1 \n",
      "R3m R3M R3R R5A R6W R7A R7N R9a S0C S0E S0G S0H S0k S0K S4A s4n S4R S4S s4t S4t \n",
      "  1   1   1   1   1   1   1   1   1   3   1   1   1   1   1   1   1   1   1   1 \n",
      "S4T S4W s6h S6H S6J s7j S7j S7k S7l S7L S7m S7M S7N S7T S7w S9H T0B t0c T0c T0C \n",
      "  3   1   1   2   1   1   1   1   2   1   1   2   2   1   1   1   1   1   1   1 \n",
      "T0G T0H T0J T0K T1H T1K T1P T1W T1X T1Y T2B T2c T2C T2E t2g T2G t2h T2J T2L T2W \n",
      "  1   3   2   1   2   1   1   1   3   3   1   1   2   1   1   2   1   1   1   2 \n",
      "T2z T3A T3C T3E T3G T3J T3K t3l T3L T3M T3N T3R T3z T4C T4E T4H T4M T4N T4p T4R \n",
      "  1   1   1   1   1   1   3   1   1   4   2   1   1   2   1   1   1   1   1   1 \n",
      "T5J T5k T5K T5M T5R T5S T5T T5W t5x T5X T5Y T5Z T6E T6H T6j T6J T6K t6l T6L T6t \n",
      "  2   1   1   1   1   1   2   1   1   2   1   1   1   2   1   1   1   1   1   1 \n",
      "t6v T6W T6X T7X t7y T7Z T8A T8H T8N t8v T8V T9A T9H t9s T9V T9X V0B V0E V0H V0J \n",
      "  1   1   1   2   1   2   4   1   2   1   1   1   1   1   1   1   1   1   1   4 \n",
      "V0r V0T V1b V1C V1T V1w v1x V1X V1Y V1Z V2A v2b V2B V2G V2H V2K V2r V2R v2s V2T \n",
      "  1   1   1   2   1   1   2   1   2   1   2   1   2   1   1   1   1   2   3   2 \n",
      "v2v V2V v2x V2y v3/ V3A V3B V3C V3E V3h V3K V3L V3N v3r V3r V3R v3s V3S v3t V3T \n",
      "  1   2   1   2   1   2   2   2   1   1   1   2   1   1   2   1   1   1   1   3 \n",
      "V3w V3Y V4B V4C v4l v4n V4t V4T V4X v4y V5B V5C V5g V5G V5H v5j V5K V5L V5M V5n \n",
      "  1   2   1   1   1   1   1   1   1   1   1   1   1   1   2   1   1   2   1   1 \n",
      "V5S V5X V6A V6B V6e v6g v6h V6H V6J V6T V6W V6X v6y V7C V7E V7K v7l V7M v7n V7R \n",
      "  2   2   1   1   1   1   1   1   1   1   1   1   1   2   1   1   1   1   1   1 \n",
      "V8G V8L v8n V8N V8T V8Z V9A v9b V9B V9C V9e V9K V9p V9P V9R V9Y VRL X0A Y1a Y1A \n",
      "  1   1   1   1   1   1   3   1   1   2   1   1   1   1   2   1   1   1   1   2 \n",
      "\n",
      "\n",
      "Table pour la variable: ses_dwellingApp \n",
      "\n",
      "  0   1 \n",
      "881 140 \n",
      "\n",
      "\n",
      "Table pour la variable: ses_dwellingLoft \n",
      "\n",
      "   0    1 \n",
      "1012    9 \n",
      "\n",
      "\n",
      "Table pour la variable: ses_dwellingCondo \n",
      "\n",
      "  0   1 \n",
      "925  96 \n",
      "\n",
      "\n",
      "Table pour la variable: ses_dwellingTour \n",
      "\n",
      "  0   1 \n",
      "968  53 \n",
      "\n",
      "\n",
      "Table pour la variable: ses_dwellingDetachedHouse \n",
      "\n",
      "  0   1 \n",
      "486 535 \n",
      "\n",
      "\n",
      "Table pour la variable: ses_dwellingTownhouse \n",
      "\n",
      "  0   1 \n",
      "941  80 \n",
      "\n",
      "\n",
      "Table pour la variable: ses_dwellingDuplex \n",
      "\n",
      "  0   1 \n",
      "968  53 \n",
      "\n",
      "\n",
      "Table pour la variable: ses_dwellingCoop \n",
      "\n",
      "   0    1 \n",
      "1014    7 \n",
      "\n",
      "\n",
      "Table pour la variable: ses_dwellingHLM \n",
      "\n",
      "   0    1 \n",
      "1014    7 \n",
      "\n",
      "\n",
      "Table pour la variable: ses_dwellingMobile \n",
      "\n",
      "   0    1 \n",
      "1011   10 \n",
      "\n",
      "\n",
      "Table pour la variable: ses_dwellingOther \n",
      "\n",
      "  0   1 \n",
      "990  31 \n",
      "\n",
      "\n",
      "Table pour la variable: lifestyle_typeTransportCar \n",
      "\n",
      "  0   1 \n",
      "423 598 \n",
      "\n",
      "\n",
      "Table pour la variable: lifestyle_typeTransportSUV \n",
      "\n",
      "  0   1 \n",
      "817 204 \n",
      "\n",
      "\n",
      "Table pour la variable: lifestyle_typeTransportMoto \n",
      "\n",
      "   0    1 \n",
      "1015    6 \n",
      "\n",
      "\n",
      "Table pour la variable: lifestyle_typeTransportWalk \n",
      "\n",
      "  0   1 \n",
      "933  88 \n",
      "\n",
      "\n",
      "Table pour la variable: lifestyle_typeTransportBicycle \n",
      "\n",
      "   0    1 \n",
      "1010   11 \n",
      "\n",
      "\n",
      "Table pour la variable: lifestyle_typeTransportPublicTransit \n",
      "\n",
      "  0   1 \n",
      "910 111 \n",
      "\n",
      "\n"
     ]
    }
   ],
   "source": [
    "# Boucle pour afficher la table pour chaque variable\n",
    "for (v in variables_mode_de_vie) {\n",
    "  if (v != \"id\") {\n",
    "    cat(\"Table pour la variable:\", v, \"\\n\")\n",
    "    print(table(df_mode_de_vie[[v]]))\n",
    "    cat(\"\\n\\n\")\n",
    "  }\n",
    "}"
   ]
  },
  {
   "cell_type": "markdown",
   "metadata": {},
   "source": [
    "### Transformations\n",
    "\n",
    "- Regroupement de ses_dwelling\n",
    "  - ses_dwellingCondo : ses_dwellingCondo + ses_dwellingLoft + ses_dwellingTour\n",
    "  - ses_dwellingOther : ses_dwellingOther + ses_dwellingCoop + ses_dwellingHLM + ses_dwellingMobile\n",
    "\n",
    "- Regroupement des act_transport\n",
    "  - lifestyle_typeTransportCar : lifestyle_typeTransportCar + lifestyle_typeTransportMoto (parce qu'il y avraiment trop peu de moto, assigner la classe la plus populeuse)\n",
    "  - lifestyle_typeTransportActive:   lifestyle_typeTransportWalk + lifestyle_typeTransportBicycle\n",
    "  - Les autres ne sont pas regroupés"
   ]
  },
  {
   "cell_type": "code",
   "execution_count": 4,
   "metadata": {
    "vscode": {
     "languageId": "r"
    }
   },
   "outputs": [],
   "source": [
    "# Regroupement de ses_dwelling\n",
    "#-----------------------------\n",
    "\n",
    "df_mode_de_vie <- df_mode_de_vie %>%\n",
    "\n",
    "  mutate(\n",
    "    ses_dwellingCondo = if_else(\n",
    "      ses_dwellingLoft == 1 | ses_dwellingTour == 1,\n",
    "      1,\n",
    "      ses_dwellingCondo\n",
    "    ),\n",
    "    ses_dwellingOther = if_else(\n",
    "      ses_dwellingCoop == 1 | ses_dwellingHLM == 1 | ses_dwellingMobile == 1,\n",
    "      1,\n",
    "      ses_dwellingOther\n",
    "    )\n",
    "  ) %>%\n",
    "  select(\n",
    "    -ses_dwellingLoft,\n",
    "    -ses_dwellingTour,\n",
    "    -ses_dwellingCoop,\n",
    "    -ses_dwellingHLM,\n",
    "    -ses_dwellingMobile\n",
    "  )"
   ]
  },
  {
   "cell_type": "code",
   "execution_count": 5,
   "metadata": {
    "vscode": {
     "languageId": "r"
    }
   },
   "outputs": [],
   "source": [
    "# Regroupement de act_transport\n",
    "#------------------------------\n",
    "\n",
    "df_mode_de_vie <- df_mode_de_vie %>%\n",
    "  mutate(\n",
    "    lifestyle_typeTransportCar = if_else(\n",
    "      lifestyle_typeTransportMoto == 1 | lifestyle_typeTransportSUV == 1,\n",
    "      1,\n",
    "      lifestyle_typeTransportCar\n",
    "    ),\n",
    "    lifestyle_typeTransportNoCar = if_else(\n",
    "      lifestyle_typeTransportWalk == 1 | lifestyle_typeTransportBicycle == 1 | lifestyle_typeTransportPublicTransit == 1,\n",
    "      1,\n",
    "      0\n",
    "    )\n",
    "  ) %>%\n",
    "  select(\n",
    "    -lifestyle_typeTransportMoto,\n",
    "    -lifestyle_typeTransportSUV,\n",
    "    -lifestyle_typeTransportWalk,\n",
    "    -lifestyle_typeTransportBicycle,\n",
    "    -lifestyle_typeTransportPublicTransit)"
   ]
  },
  {
   "cell_type": "code",
   "execution_count": 6,
   "metadata": {
    "vscode": {
     "languageId": "r"
    }
   },
   "outputs": [],
   "source": [
    "variables_mode_de_vie_clust <- c(\n",
    "  \"id\",\n",
    "  \"ses_postalCode\",\n",
    "  \"ses_dwellingApp\",\n",
    "  \"ses_dwellingCondo\",\n",
    "  \"ses_dwellingDetachedHouse\",\n",
    "  \"ses_dwellingTownhouse\",\n",
    "  \"ses_dwellingDuplex\",\n",
    "  \"ses_dwellingOther\",\n",
    "  \"lifestyle_typeTransportCar\",\n",
    "  \"lifestyle_typeTransportNoCar\"\n",
    ")"
   ]
  },
  {
   "cell_type": "code",
   "execution_count": 7,
   "metadata": {
    "vscode": {
     "languageId": "r"
    }
   },
   "outputs": [
    {
     "name": "stdout",
     "output_type": "stream",
     "text": [
      "Table pour la variable: ses_postalCode \n",
      "\n",
      "4J1 a0a A0E a0g A0G A0M A0P A1B A1E a2a A2H B0E B0K B0P B1T b2x b3a B3H B3J b3k \n",
      "  1   2   1   1   2   1   1   2   2   1   1   1   1   1   1   1   1   1   1   1 \n",
      "B3M B3S B4A B4E B4N B4P B4V c0a C1A C1C C1E G0A G0C G0G G0K G0l G0M G0R G0s G0S \n",
      "  1   1   1   1   1   2   2   1   1   1   1   2   3   1   1   2   1   1   2   1 \n",
      "G0W G0X g1b G1B g1h G1h G1H g1k g1t G1T G1V G1w G1W G1x G1Y G2B G2j G3A G3e G3E \n",
      "  2   1   1   2   1   2   2   1   1   1   2   1   2   1   1   1   1   1   1   1 \n",
      "G3h G3H G3J g3k g3L G4R G4s g4z G4z g5b G5C G5l G5L G5V G5Y G5Z G6e G6G G6L G6P \n",
      "  1   1   1   1   1   3   1   1   1   1   1   1   2   1   1   1   1   1   1   2 \n",
      "g6w G6W G6Y G7A G7G G7H G7p G7P G7S G7X G8B g8h G8P G8V G8W g8y G8Y G8z G8Z G9A \n",
      "  1   1   2   1   1   1   1   1   2   2   1   1   1   1   1   1   1   1   2   1 \n",
      "G9b G9H G9n H1A h1b H1E H1G H1K H1L H1M h1n H1P h1t H1t H1T H1W H1x H1X H1Y h2b \n",
      "  1   1   1   1   1   1   1   1   1   4   1   1   1   1   1   2   1   2   3   1 \n",
      "H2C H2G H2H H2J H2K H2M H2S H2X H2z H3c H3C H3e H3H h3k H3K h3r H3T H3W H3y h3z \n",
      "  1   1   1   1   2   3   2   1   1   1   4   1   1   1   2   1   3   1   1   1 \n",
      "H4B H4c h4h H4H H4J H4N H4v H4W H4X h7a H7e H7g H7G H7K H7l H7L H7m H7N H7p H7r \n",
      "  1   1   1   1   1   1   1   1   1   1   1   1   1   3   1   1   1   1   2   1 \n",
      "H7R H7t H7T h7v H7W h7x H7x h7y h8n H8R h8y H8Z h9b H9E H9G H9j H9R H9S J0A j0b \n",
      "  1   1   1   1   2   1   1   1   1   1   1   2   1   1   1   1   3   1   2   1 \n",
      "J0B J0c J0E J0G J0h j0j J0k J0K J0l J0L j0n J0N J0P J0R J0S J0T J0V J0Y j0z J0Z \n",
      "  1   2   2   1   1   1   1   2   1   2   2   1   1   2   1   1   1   1   1   1 \n",
      "J1C J1e J1E J1M J1N J1R J1V J1X J2b J2C J2G J2J j2k J2K J2L j2m J2R J2S j2t j2T \n",
      "  1   1   2   1   1   1   1   4   1   1   2   1   1   3   1   1   1   2   1   1 \n",
      "J2T j2x J2X J2Y J3b J3B j3e J3E J3g J3H j3l J3l J3L j3m J3n J3V J3x J3y J3Y J4B \n",
      "  1   1   1   1   1   1   1   1   1   1   1   1   2   1   1   1   1   2   1   1 \n",
      "j4g J4J J4l J4L j4m J4n J4P J4R J4W j4x J4Y J4Z J5A J5C J5j J5K J5l j5r J5r J5R \n",
      "  1   1   1   1   1   1   1   1   1   1   2   1   1   1   1   1   1   1   2   1 \n",
      "J5x J5y J5Y j5z j6e J6E J6j J6s J6S J6T J6x J6X J6Y J6Z J7e j7j J7j J7J J7K J7n \n",
      "  1   2   1   1   1   1   1   2   1   1   1   1   1   1   1   1   1   1   1   1 \n",
      "J7R J7V J7W j7y J7z J8b J8B J8C J8G J8M J8r J8R J8T J8X J9a J9A J9e J9h J9H j9j \n",
      "  1   1   1   1   1   1   1   2   1   1   1   1   3   1   1   1   1   1   2   1 \n",
      "J9J J9l j9x J9x Jot K0C K0H K0J k0k K0K K1C K1g K1G K1L K1n K1N K1S K1W K2B k2E \n",
      "  1   1   1   1   1   4   1   1   1   1   2   1   1   1   1   3   1   1   1   1 \n",
      "K2e K2E k2g K2J K2P K4a k4b K4p K6A K6V k7k K7L K7M K7P K8A K8n K8N K8V K9a K9h \n",
      "  1   1   2   2   1   1   1   1   1   1   1   1   2   1   1   1   2   1   1   1 \n",
      "K9H K9J K9K K9V KOK L0L L0P L0R L0S L1E L1G L1H L1J L1l L1N L1R L1S L1T L1Z L2E \n",
      "  3   1   1   1   1   1   1   1   2   1   1   1   1   1   1   2   1   1   1   1 \n",
      "L2g L2G L2H L2M L2R L3C L3m l3p L3P L3R L3S L3T L3V L3y L4A L4b L4B L4C L4e L4h \n",
      "  1   1   1   2   1   1   1   1   1   3   1   1   1   1   4   1   1   1   1   1 \n",
      "L4H l4j L4J L4K l4l L4l L4L L4M L4n L4N L4P L4s L4S L5e L5J L5M L5n L5R L6A L6C \n",
      "  2   1   5   2   1   1   1   3   1   1   1   1   3   1   1   2   1   1   1   1 \n",
      "L6m L6M L6P L6r l6s L6T L6x L6X L6Y L7A L7B L7j L7L L8E L8G L8M L8N L8W L9g L9h \n",
      "  1   1   1   1   1   2   1   1   1   2   1   1   1   1   2   1   1   1   1   1 \n",
      "L9H L9N L9R L9s L9X L9Y L9Z M1E M1H M1l M1L M1n M1N M1R M1W M2j M2k M2K M2L M2N \n",
      "  3   2   2   1   1   1   1   1   2   1   2   1   1   1   3   1   1   2   1   1 \n",
      "M2r M3A M3h M3J M3L M3n M4A M4B M4C M4G M4J M4L M4m M4M M4N M4T M4V M4W M4y M4Y \n",
      "  1   3   1   1   1   1   1   3   2   1   2   2   1   2   1   1   2   1   1   3 \n",
      "m5a M5a M5A M5B M5E M5M M5T M5v M6A M6B M6C M6G M6J m6k M6l M6M M6P M8w M8W M8X \n",
      "  1   1   4   1   2   1   2   1   1   2   1   1   1   1   1   1   1   1   1   1 \n",
      "M8Z M9a M9A m9b M9C M9L M9v M9V M9W N0B n0e N0E N0G N0H N0J N0L N0M N0N n1h N1h \n",
      "  1   1   1   1   3   1   1   1   2   2   2   1   1   1   2   1   2   1   1   1 \n",
      "N1H N1L N1R N1S N2e N2E N2J N2K N2L n2n N2n n2p N2r N2R N2T n3r N3T N3Y N4G N4I \n",
      "  2   1   1   1   1   1   1   1   1   1   1   1   1   1   3   1   1   1   1   1 \n",
      "N4K N4N N5A N5V N5W N5Y n6a N6G N6H N6J N6L n6m N6M N6N n6p N7l N7M N7S N8H N8L \n",
      "  1   1   2   1   1   1   1   1   2   1   1   1   1   1   1   1   1   1   1   1 \n",
      "N8x N9B n9h N9V p0b P0J P0r P1B P1L P3B P3E P4r P5A P6A P6B P6C p7a P7a P7c P8N \n",
      "  1   3   1   1   1   1   1   1   1   1   2   1   1   1   1   1   1   1   1   1 \n",
      "P9A R0C R0G R0J R0K R0M R1a R1N R2c r2h R2H R2J R2M R2n R2N R2p r2v R2V R2Y R3J \n",
      "  1   2   1   2   2   1   1   1   2   1   1   1   1   1   1   1   1   1   1   1 \n",
      "R3m R3M R3R R5A R6W R7A R7N R9a S0C S0E S0G S0H S0k S0K S4A s4n S4R S4S s4t S4t \n",
      "  1   1   1   1   1   1   1   1   1   3   1   1   1   1   1   1   1   1   1   1 \n",
      "S4T S4W s6h S6H S6J s7j S7j S7k S7l S7L S7m S7M S7N S7T S7w S9H T0B t0c T0c T0C \n",
      "  3   1   1   2   1   1   1   1   2   1   1   2   2   1   1   1   1   1   1   1 \n",
      "T0G T0H T0J T0K T1H T1K T1P T1W T1X T1Y T2B T2c T2C T2E t2g T2G t2h T2J T2L T2W \n",
      "  1   3   2   1   2   1   1   1   3   3   1   1   2   1   1   2   1   1   1   2 \n",
      "T2z T3A T3C T3E T3G T3J T3K t3l T3L T3M T3N T3R T3z T4C T4E T4H T4M T4N T4p T4R \n",
      "  1   1   1   1   1   1   3   1   1   4   2   1   1   2   1   1   1   1   1   1 \n",
      "T5J T5k T5K T5M T5R T5S T5T T5W t5x T5X T5Y T5Z T6E T6H T6j T6J T6K t6l T6L T6t \n",
      "  2   1   1   1   1   1   2   1   1   2   1   1   1   2   1   1   1   1   1   1 \n",
      "t6v T6W T6X T7X t7y T7Z T8A T8H T8N t8v T8V T9A T9H t9s T9V T9X V0B V0E V0H V0J \n",
      "  1   1   1   2   1   2   4   1   2   1   1   1   1   1   1   1   1   1   1   4 \n",
      "V0r V0T V1b V1C V1T V1w v1x V1X V1Y V1Z V2A v2b V2B V2G V2H V2K V2r V2R v2s V2T \n",
      "  1   1   1   2   1   1   2   1   2   1   2   1   2   1   1   1   1   2   3   2 \n",
      "v2v V2V v2x V2y v3/ V3A V3B V3C V3E V3h V3K V3L V3N v3r V3r V3R v3s V3S v3t V3T \n",
      "  1   2   1   2   1   2   2   2   1   1   1   2   1   1   2   1   1   1   1   3 \n",
      "V3w V3Y V4B V4C v4l v4n V4t V4T V4X v4y V5B V5C V5g V5G V5H v5j V5K V5L V5M V5n \n",
      "  1   2   1   1   1   1   1   1   1   1   1   1   1   1   2   1   1   2   1   1 \n",
      "V5S V5X V6A V6B V6e v6g v6h V6H V6J V6T V6W V6X v6y V7C V7E V7K v7l V7M v7n V7R \n",
      "  2   2   1   1   1   1   1   1   1   1   1   1   1   2   1   1   1   1   1   1 \n",
      "V8G V8L v8n V8N V8T V8Z V9A v9b V9B V9C V9e V9K V9p V9P V9R V9Y VRL X0A Y1a Y1A \n",
      "  1   1   1   1   1   1   3   1   1   2   1   1   1   1   2   1   1   1   1   2 \n",
      "\n",
      "\n",
      "Table pour la variable: ses_dwellingApp \n",
      "\n",
      "  0   1 \n",
      "881 140 \n",
      "\n",
      "\n",
      "Table pour la variable: ses_dwellingCondo \n",
      "\n",
      "  0   1 \n",
      "863 158 \n",
      "\n",
      "\n",
      "Table pour la variable: ses_dwellingDetachedHouse \n",
      "\n",
      "  0   1 \n",
      "486 535 \n",
      "\n",
      "\n",
      "Table pour la variable: ses_dwellingTownhouse \n",
      "\n",
      "  0   1 \n",
      "941  80 \n",
      "\n",
      "\n",
      "Table pour la variable: ses_dwellingDuplex \n",
      "\n",
      "  0   1 \n",
      "968  53 \n",
      "\n",
      "\n",
      "Table pour la variable: ses_dwellingOther \n",
      "\n",
      "  0   1 \n",
      "966  55 \n",
      "\n",
      "\n",
      "Table pour la variable: lifestyle_typeTransportCar \n",
      "\n",
      "  0   1 \n",
      "213 808 \n",
      "\n",
      "\n",
      "Table pour la variable: lifestyle_typeTransportNoCar \n",
      "\n",
      "  0   1 \n",
      "811 210 \n",
      "\n",
      "\n"
     ]
    }
   ],
   "source": [
    "# Boucle pour afficher la table pour chaque variable\n",
    "for (v in variables_mode_de_vie_clust) {\n",
    "  if (v != \"id\") {\n",
    "    cat(\"Table pour la variable:\", v, \"\\n\")\n",
    "    print(table(df_mode_de_vie[[v]]))\n",
    "    cat(\"\\n\\n\")\n",
    "  }\n",
    "}"
   ]
  },
  {
   "cell_type": "code",
   "execution_count": 8,
   "metadata": {
    "vscode": {
     "languageId": "r"
    }
   },
   "outputs": [
    {
     "data": {
      "text/plain": [
       "\n",
       "population_centre             rural \n",
       "              648               373 "
      ]
     },
     "metadata": {},
     "output_type": "display_data"
    },
    {
     "data": {
      "text/plain": [
       "\n",
       "  0   1 \n",
       "373 648 "
      ]
     },
     "metadata": {},
     "output_type": "display_data"
    }
   ],
   "source": [
    "# Créer une variable rural/urbain avec les codes postaux\n",
    "library(dplyr)\n",
    "\n",
    "# Mettre tous les codes postaux en majuscule\n",
    "df_mode_de_vie <- df_mode_de_vie %>%\n",
    "  mutate(ses_postalCode = toupper(ses_postalCode))\n",
    "\n",
    "# Join pour avoir la classification des codes postaux\n",
    "df_mode_de_vie <- left_join(df_mode_de_vie, DensityData, by = c(\"ses_postalCode\" = \"fsa\")) %>%\n",
    "  rename(ses_urbanity = ses_population_centre)\n",
    "\n",
    "# Calculer le code postal (FSA) le plus populaire parmi les observations valides\n",
    "mode_fsa <- df_mode_de_vie %>%\n",
    "  filter(!is.na(ses_urbanity)) %>%\n",
    "  count(ses_postalCode, sort = TRUE) %>%\n",
    "  slice(1) %>%\n",
    "  pull(ses_postalCode)\n",
    "\n",
    "# Imputer le mode pour les codes non appariés\n",
    "df_mode_de_vie <- df_mode_de_vie %>%\n",
    "  mutate(ses_postalCode = if_else(is.na(ses_urbanity), mode_fsa, ses_postalCode))\n",
    "\n",
    "# Supprimer l'ancienne variable\n",
    "df_mode_de_vie <- df_mode_de_vie %>% select(-ses_urbanity)\n",
    "\n",
    "# Refaire le join pour mettre à jour le matching avec le code postal imputé\n",
    "df_mode_de_vie <- left_join(df_mode_de_vie, DensityData, by = c(\"ses_postalCode\" = \"fsa\")) %>%\n",
    "  rename(ses_urbanity = ses_population_centre)\n",
    "\n",
    "# Vérifier le résultat\n",
    "table(df_mode_de_vie$ses_urbanity, useNA = \"ifany\")\n",
    "\n",
    "#Créer la variable binaire\n",
    "df_mode_de_vie$ses_urban <- NA\n",
    "df_mode_de_vie$ses_urban[df_mode_de_vie$ses_urbanity == \"population_centre\"] <- 1\n",
    "df_mode_de_vie$ses_urban[df_mode_de_vie$ses_urbanity != \"population_centre\"] <- 0\n",
    "table(df_mode_de_vie$ses_urban, useNA = \"ifany\") "
   ]
  },
  {
   "cell_type": "code",
   "execution_count": 10,
   "metadata": {
    "vscode": {
     "languageId": "r"
    }
   },
   "outputs": [
    {
     "data": {
      "text/html": [
       "<style>\n",
       ".list-inline {list-style: none; margin:0; padding: 0}\n",
       ".list-inline>li {display: inline-block}\n",
       ".list-inline>li:not(:last-child)::after {content: \"\\00b7\"; padding: 0 .5ex}\n",
       "</style>\n",
       "<ol class=list-inline><li>'id'</li><li>'ses_postalCode'</li><li>'ses_dwellingApp'</li><li>'ses_dwellingCondo'</li><li>'ses_dwellingDetachedHouse'</li><li>'ses_dwellingTownhouse'</li><li>'ses_dwellingDuplex'</li><li>'ses_dwellingOther'</li><li>'lifestyle_typeTransportCar'</li><li>'lifestyle_typeTransportNoCar'</li><li>'population.x'</li><li>'area_km2.x'</li><li>'density_by_km2.x'</li><li>'province.x'</li><li>'population.y'</li><li>'area_km2.y'</li><li>'density_by_km2.y'</li><li>'province.y'</li><li>'ses_urbanity'</li><li>'ses_urban'</li></ol>\n"
      ],
      "text/latex": [
       "\\begin{enumerate*}\n",
       "\\item 'id'\n",
       "\\item 'ses\\_postalCode'\n",
       "\\item 'ses\\_dwellingApp'\n",
       "\\item 'ses\\_dwellingCondo'\n",
       "\\item 'ses\\_dwellingDetachedHouse'\n",
       "\\item 'ses\\_dwellingTownhouse'\n",
       "\\item 'ses\\_dwellingDuplex'\n",
       "\\item 'ses\\_dwellingOther'\n",
       "\\item 'lifestyle\\_typeTransportCar'\n",
       "\\item 'lifestyle\\_typeTransportNoCar'\n",
       "\\item 'population.x'\n",
       "\\item 'area\\_km2.x'\n",
       "\\item 'density\\_by\\_km2.x'\n",
       "\\item 'province.x'\n",
       "\\item 'population.y'\n",
       "\\item 'area\\_km2.y'\n",
       "\\item 'density\\_by\\_km2.y'\n",
       "\\item 'province.y'\n",
       "\\item 'ses\\_urbanity'\n",
       "\\item 'ses\\_urban'\n",
       "\\end{enumerate*}\n"
      ],
      "text/markdown": [
       "1. 'id'\n",
       "2. 'ses_postalCode'\n",
       "3. 'ses_dwellingApp'\n",
       "4. 'ses_dwellingCondo'\n",
       "5. 'ses_dwellingDetachedHouse'\n",
       "6. 'ses_dwellingTownhouse'\n",
       "7. 'ses_dwellingDuplex'\n",
       "8. 'ses_dwellingOther'\n",
       "9. 'lifestyle_typeTransportCar'\n",
       "10. 'lifestyle_typeTransportNoCar'\n",
       "11. 'population.x'\n",
       "12. 'area_km2.x'\n",
       "13. 'density_by_km2.x'\n",
       "14. 'province.x'\n",
       "15. 'population.y'\n",
       "16. 'area_km2.y'\n",
       "17. 'density_by_km2.y'\n",
       "18. 'province.y'\n",
       "19. 'ses_urbanity'\n",
       "20. 'ses_urban'\n",
       "\n",
       "\n"
      ],
      "text/plain": [
       " [1] \"id\"                           \"ses_postalCode\"              \n",
       " [3] \"ses_dwellingApp\"              \"ses_dwellingCondo\"           \n",
       " [5] \"ses_dwellingDetachedHouse\"    \"ses_dwellingTownhouse\"       \n",
       " [7] \"ses_dwellingDuplex\"           \"ses_dwellingOther\"           \n",
       " [9] \"lifestyle_typeTransportCar\"   \"lifestyle_typeTransportNoCar\"\n",
       "[11] \"population.x\"                 \"area_km2.x\"                  \n",
       "[13] \"density_by_km2.x\"             \"province.x\"                  \n",
       "[15] \"population.y\"                 \"area_km2.y\"                  \n",
       "[17] \"density_by_km2.y\"             \"province.y\"                  \n",
       "[19] \"ses_urbanity\"                 \"ses_urban\"                   "
      ]
     },
     "metadata": {},
     "output_type": "display_data"
    }
   ],
   "source": [
    "\n",
    "names(df_mode_de_vie)\n",
    "# Sauvegarder les données préparées\n",
    "saveRDS(df_mode_de_vie, file = \"../../../_PrivateFolder_datagotchi_federal_2025/data/clustering/can2025/02_pilot_2025_mode_de_vie.rds\")"
   ]
  },
  {
   "cell_type": "markdown",
   "metadata": {},
   "source": [
    "---"
   ]
  },
  {
   "cell_type": "markdown",
   "metadata": {},
   "source": [
    "# SUGGESTION : Activité de Clustering\n",
    "\n",
    "Si souhaité, effectuer un exercice de clustering avec ce sous-groupe de variables pour mieux saisir les données et leur relation. \n",
    "\n",
    "Cet exercice est purement exploratoire et sert à voir si les données peuvent être utilisées pour faire du clustering."
   ]
  }
 ],
 "metadata": {
  "kernelspec": {
   "display_name": "R",
   "language": "R",
   "name": "ir"
  },
  "language_info": {
   "codemirror_mode": "r",
   "file_extension": ".r",
   "mimetype": "text/x-r-source",
   "name": "R",
   "pygments_lexer": "r",
   "version": "4.4.3"
  }
 },
 "nbformat": 4,
 "nbformat_minor": 2
}
