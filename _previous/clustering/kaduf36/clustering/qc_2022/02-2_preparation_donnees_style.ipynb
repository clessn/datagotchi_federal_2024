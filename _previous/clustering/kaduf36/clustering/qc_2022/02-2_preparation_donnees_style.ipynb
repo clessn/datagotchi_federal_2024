{
 "cells": [
  {
   "cell_type": "markdown",
   "metadata": {},
   "source": [
    "# Préparation des variables pour les variables de style"
   ]
  },
  {
   "cell_type": "code",
   "execution_count": null,
   "metadata": {
    "vscode": {
     "languageId": "r"
    }
   },
   "outputs": [],
   "source": [
    "library(tidyverse)\n",
    "library(factoextra)\n",
    "\n",
    "# Charger les données\n",
    "df_pilot1_2022 <- readRDS(\"../../../_PrivateFolder_datagotchi_federal_2025/data/clustering/qc2022/01_pilot1_2022.rds\")"
   ]
  },
  {
   "cell_type": "code",
   "execution_count": 2,
   "metadata": {
    "vscode": {
     "languageId": "r"
    }
   },
   "outputs": [],
   "source": [
    "# Préparation du jeu de données pour les variables de style\n",
    "variables_style <- c(\n",
    "  \"id\",\n",
    "  \"app_swag_Formel\",\n",
    "  \"app_swag_Classique\",\n",
    "  \"app_swag_Casual\",\n",
    "  \"app_swag_Sport\",\n",
    "  \"app_swag_Chic\",\n",
    "  \"app_swag_HippBoheme\",\n",
    "  \"app_swag_Punk\",\n",
    "  \"app_swag_Rock\",\n",
    "  \"app_swag_Other\",\n",
    "  \"app_noTattoo\",\n",
    "  \"animal_cat\",\n",
    "  \"animal_dog\",\n",
    "  \"animal_domestic\",\n",
    "  \"animal_farm\",\n",
    "  \"animal_noPet\"\n",
    ")\n",
    "\n",
    "df_style <- df_pilot1_2022 %>%\n",
    "  select(all_of(variables_style))"
   ]
  },
  {
   "cell_type": "code",
   "execution_count": null,
   "metadata": {
    "vscode": {
     "languageId": "r"
    }
   },
   "outputs": [],
   "source": [
    "# Boucle pour afficher la table pour chaque variable\n",
    "for (v in variables_style) {\n",
    "  if (v != \"id\") {\n",
    "    cat(\"Table pour la variable:\", v, \"\\n\")\n",
    "    print(table(df_style[[v]]))\n",
    "    cat(\"\\n\\n\")\n",
    "  }\n",
    "}"
   ]
  },
  {
   "cell_type": "markdown",
   "metadata": {},
   "source": [
    "## Transformations\n",
    "\n",
    "- app_swag\n",
    "\n",
    "Les variables app_swag sont telles que certaines catégories sont très peu peuplées. Regrouper les styles pour en faire des styles plus généraux.\n",
    "\n",
    "- noTatoo\n",
    "\n",
    "Retourner le sens logique pour que vrai soit avec tatou => deviendra Tatoo\n",
    "\n",
    "- animal\n",
    "\n",
    "Regrouper certaines classes d'animal pour avoir des catégories plus générales\n"
   ]
  },
  {
   "cell_type": "code",
   "execution_count": 4,
   "metadata": {
    "vscode": {
     "languageId": "r"
    }
   },
   "outputs": [],
   "source": [
    "# Regroupement de app_swag\n",
    "#-------------------------\n",
    "\n",
    "df_style <- df_style %>%\n",
    "\n",
    "  # Regrouper Formel et Chic sous Classique\n",
    "  mutate(\n",
    "    app_swag_Classique = if_else(\n",
    "      app_swag_Formel == 1 | app_swag_Chic == 1,\n",
    "      1,\n",
    "      app_swag_Classique\n",
    "    )\n",
    "  ) %>%\n",
    "  select(-app_swag_Formel, -app_swag_Chic) %>%\n",
    "\n",
    "  # Regrouper HippBoheme, Punk, Rock sous Other\n",
    "  mutate(\n",
    "    app_swag_Other = if_else(\n",
    "      app_swag_HippBoheme == 1 | app_swag_Punk == 1 | app_swag_Rock == 1,\n",
    "      1,\n",
    "      app_swag_Other\n",
    "    )\n",
    "  ) %>%\n",
    "  select(-app_swag_HippBoheme, -app_swag_Punk, -app_swag_Rock)"
   ]
  },
  {
   "cell_type": "code",
   "execution_count": 5,
   "metadata": {
    "vscode": {
     "languageId": "r"
    }
   },
   "outputs": [],
   "source": [
    "# Changement de sens logique de NoTatoo\n",
    "#--------------------------------------\n",
    "\n",
    "df_style <- df_style %>%\n",
    "  mutate(app_withTattoo = if_else(app_noTattoo == 1, 0, 1)) %>%\n",
    "  select(-app_noTattoo)"
   ]
  },
  {
   "cell_type": "code",
   "execution_count": 6,
   "metadata": {
    "vscode": {
     "languageId": "r"
    }
   },
   "outputs": [],
   "source": [
    "# Regroupement de animal\n",
    "#-----------------------\n",
    "\n",
    "df_style <- df_style %>%\n",
    "  mutate(animal_other = if_else(\n",
    "    animal_domestic == 1 | animal_farm == 1,\n",
    "    1,\n",
    "    0\n",
    "  )\n",
    "  ) %>%\n",
    "  select(-animal_domestic, -animal_farm)"
   ]
  },
  {
   "cell_type": "code",
   "execution_count": 7,
   "metadata": {
    "vscode": {
     "languageId": "r"
    }
   },
   "outputs": [],
   "source": [
    "variables_style_clust <- c(\n",
    "  \"id\",\n",
    "  \"app_swag_Classique\",\n",
    "  \"app_swag_Casual\",\n",
    "  \"app_swag_Sport\",\n",
    "  \"app_swag_Other\",\n",
    "  \"app_withTattoo\",\n",
    "  \"animal_cat\",\n",
    "  \"animal_dog\",\n",
    "  \"animal_other\",\n",
    "  \"animal_noPet\"\n",
    ")"
   ]
  },
  {
   "cell_type": "code",
   "execution_count": null,
   "metadata": {
    "vscode": {
     "languageId": "r"
    }
   },
   "outputs": [],
   "source": [
    "# Boucle pour afficher la table pour chaque variable\n",
    "for (v in variables_style_clust) {\n",
    "  if (v != \"id\") {\n",
    "    cat(\"Table pour la variable:\", v, \"\\n\")\n",
    "    print(table(df_style[[v]]))\n",
    "    cat(\"\\n\\n\")\n",
    "  }\n",
    "}"
   ]
  },
  {
   "cell_type": "code",
   "execution_count": 9,
   "metadata": {
    "vscode": {
     "languageId": "r"
    }
   },
   "outputs": [],
   "source": [
    "# Sauvegarder les données préparées\n",
    "saveRDS(df_style, file = \"../../../_PrivateFolder_datagotchi_federal_2025/data/clustering/qc2022/02_pilot1_2022_style.rds\")"
   ]
  },
  {
   "cell_type": "markdown",
   "metadata": {},
   "source": [
    "---"
   ]
  },
  {
   "cell_type": "markdown",
   "metadata": {},
   "source": [
    "### Activité de Clustering\n",
    "\n",
    "Effectuer un exercice de clustering pour mieux saisir les données et leur relation. \n",
    "\n",
    "Cet exercice est purement exploratoire et sert à voir si les données peuvent être utilisées pour faire du clustering."
   ]
  },
  {
   "cell_type": "code",
   "execution_count": 2,
   "metadata": {
    "vscode": {
     "languageId": "r"
    }
   },
   "outputs": [],
   "source": [
    "df_style <- readRDS(file = \"../../../_PrivateFolder_datagotchi_federal_2025/data/clustering/qc2022/02_pilot1_2022_style.rds\")"
   ]
  },
  {
   "cell_type": "code",
   "execution_count": null,
   "metadata": {
    "vscode": {
     "languageId": "r"
    }
   },
   "outputs": [],
   "source": [
    "library(dplyr)\n",
    "\n",
    "# Exploration des données\n",
    "df_clust <- df_style %>% select(-id)\n",
    "\n",
    "# Aperçu et exploration initiale :\n",
    "\n",
    "# Aperçu des données\n",
    "head(df_clust)\n",
    "\n",
    "# # Vérification des données manquantes\n",
    "sum(is.na(df_clust))\n",
    "\n",
    "# # Statistiques descriptives\n",
    "summary(df_clust)\n",
    "\n"
   ]
  },
  {
   "cell_type": "code",
   "execution_count": null,
   "metadata": {
    "vscode": {
     "languageId": "r"
    }
   },
   "outputs": [],
   "source": [
    "# Analyser la distribution des variables pour décider quelle méthode utiliser\n",
    "\n",
    "# Calcul de la variance pour chaque colonne\n",
    "variances <- apply(df_clust, 2, var)\n",
    "\n",
    "# Calcul de l'écart-type pour chaque colonne\n",
    "std_devs <- apply(df_clust, 2, sd)\n",
    "\n",
    "# Afficher les résultats\n",
    "print(variances)\n",
    "print(std_devs)\n",
    "\n",
    "# Calcul du ratio max/min\n",
    "ratio_var <- max(variances) / min(variances)\n",
    "\n",
    "# Afficher le ratio\n",
    "print(ratio_var)\n",
    "\n",
    "# Test de Bartlett sur les colonnes\n",
    "library(car)\n",
    "bartlett.test(df_clust)"
   ]
  },
  {
   "cell_type": "markdown",
   "metadata": {},
   "source": [
    "### Clustering avec kmeans"
   ]
  },
  {
   "cell_type": "code",
   "execution_count": null,
   "metadata": {
    "vscode": {
     "languageId": "r"
    }
   },
   "outputs": [],
   "source": [
    "library(factoextra)\n",
    "\n",
    "## Clustering avec k-means\n",
    "df_scaled <- scale(df_clust)\n",
    "\n",
    "# Utilisons la méthode de l’élbow (coude) et l’indice de silhouette.\n",
    "\n",
    "# Méthode du coude\n",
    "fviz_nbclust(df_scaled, kmeans, method = \"wss\") +\n",
    "  ggtitle(\"Méthode du coude\")\n",
    "\n",
    "# Indice de silhouette\n",
    "fviz_nbclust(df_scaled, kmeans, method = \"silhouette\") +\n",
    "  ggtitle(\"Indice de silhouette\")"
   ]
  },
  {
   "cell_type": "code",
   "execution_count": 11,
   "metadata": {
    "vscode": {
     "languageId": "r"
    }
   },
   "outputs": [],
   "source": [
    "# Application de K-Means Clustering\n",
    "\n",
    "# Choisissez un nombre de clusters approprié (par exemple, 3).\n",
    "k <- 4\n",
    "\n",
    "# K-Means Clustering\n",
    "set.seed(123)  # Pour la reproductibilité\n",
    "kmeans_result <- kmeans(df_scaled, centers = k, nstart = 25)\n",
    "\n",
    "# Ajouter les clusters au dataframe original\n",
    "df_style$cluster_kmeans <- as.factor(kmeans_result$cluster)"
   ]
  },
  {
   "cell_type": "code",
   "execution_count": null,
   "metadata": {
    "vscode": {
     "languageId": "r"
    }
   },
   "outputs": [],
   "source": [
    "kmeans_result"
   ]
  },
  {
   "cell_type": "code",
   "execution_count": null,
   "metadata": {
    "vscode": {
     "languageId": "r"
    }
   },
   "outputs": [],
   "source": [
    "# Visualisation des clusters\n",
    "\n",
    "# Visualisation des clusters dans l’espace des deux premières dimensions :\n",
    "\n",
    "# Utilisation de factoextra pour représenter les clusters\n",
    "fviz_cluster(kmeans_result, data = df_scaled, ellipse.type = \"euclid\") +\n",
    "  ggtitle(\"Visualisation des clusters avec K-Means\")\n",
    "\n",
    "# Graphique par variables\n",
    "\n",
    "# Variables binaires\n",
    "g_var_bin <- function(df, nom_var) {\n",
    "  # Distribution des clusters par var\n",
    "  g <- ggplot(df, aes(x = .data[[nom_var]], fill = cluster_kmeans)) +\n",
    "    geom_bar(position = \"dodge\") +\n",
    "    ggtitle(paste(\"Distribution des clusters pour\", nom_var)) +\n",
    "    theme_minimal()\n",
    "  return(g)\n",
    "}\n",
    "g_var_bin(df_style, \"app_swag_Classique\")\n",
    "g_var_bin(df_style, \"app_swag_Casual\")\n",
    "g_var_bin(df_style, \"app_swag_Sport\")\n",
    "g_var_bin(df_style, \"app_swag_Other\")\n",
    "g_var_bin(df_style, \"app_withTattoo\")\n",
    "g_var_bin(df_style, \"animal_cat\")\n",
    "g_var_bin(df_style, \"animal_dog\")\n",
    "g_var_bin(df_style, \"animal_other\")\n",
    "g_var_bin(df_style, \"animal_noPet\")"
   ]
  },
  {
   "cell_type": "markdown",
   "metadata": {},
   "source": [
    "### Clustering avec kmodes"
   ]
  },
  {
   "cell_type": "code",
   "execution_count": null,
   "metadata": {
    "vscode": {
     "languageId": "r"
    }
   },
   "outputs": [],
   "source": [
    "library(cluster)\n",
    "library(klaR)\n",
    "\n",
    "# Créer un échantillon de données catégorielles (exemple)\n",
    "set.seed(123)\n",
    "\n",
    "# Appliquer KModes pour différents nombres de clusters\n",
    "n <- 10\n",
    "wss <- numeric(n)  # Stocker l'inertie pour différents k\n",
    "\n",
    "# Calculer la silhouette pour différents nombres de clusters\n",
    "sil_width <- numeric(n)\n",
    "\n",
    "for (k in 2:n) {\n",
    "  kmodes_result <- kmodes(df_clust, modes = k, iter.max = 100, weighted = FALSE)\n",
    "  wss[k] <- sum(kmodes_result$withindiff)  # Somme des distances intra-cluster\n",
    "  silhouette_result <- silhouette(kmodes_result$cluster, dist(df_clust))  # Utiliser la distance catégorielle\n",
    "  sil_width[k] <- mean(silhouette_result[, 3])\n",
    "}\n",
    "\n",
    "# Tracer le graphique du coude\n",
    "plot(2:n, wss[2:n], type = \"b\", pch = 19, col = \"blue\", xlab = \"Nombre de clusters\", ylab = \"Somme des distances intra-cluster\", main = \"Méthode du coude\")\n",
    "\n",
    "# Tracer le graphique des scores de silhouette\n",
    "plot(2:n, sil_width[2:n], type = \"b\", pch = 19, col = \"red\", xlab = \"Nombre de clusters\", ylab = \"Score de silhouette\", main = \"Méthode de silhouette\")"
   ]
  },
  {
   "cell_type": "code",
   "execution_count": null,
   "metadata": {
    "vscode": {
     "languageId": "r"
    }
   },
   "outputs": [],
   "source": [
    "library(klaR)\n",
    "\n",
    "# Choisissez un nombre de clusters approprié (par exemple, 3).\n",
    "k <- 7\n",
    "\n",
    "# Exemple de clustering avec K-Modes\n",
    "set.seed(123)\n",
    "kmodes_result <- kmodes(df_clust, modes = k, iter.max = 10, weighted = FALSE)\n",
    "\n",
    "print(kmodes_result)\n",
    "\n",
    "# Résultats\n",
    "kmodes_result$cluster    # Les clusters attribués\n",
    "kmodes_result$modes      # Les centres des clusters"
   ]
  },
  {
   "cell_type": "code",
   "execution_count": 140,
   "metadata": {
    "vscode": {
     "languageId": "r"
    }
   },
   "outputs": [],
   "source": [
    "# Ajouter les clusters au dataframe original\n",
    "df_style$cluster_kmodes <- as.factor(kmodes_result$cluster)"
   ]
  },
  {
   "cell_type": "code",
   "execution_count": null,
   "metadata": {
    "vscode": {
     "languageId": "r"
    }
   },
   "outputs": [],
   "source": [
    "# Visualisation des clusters\n",
    "\n",
    "# Visualisation des clusters dans l’espace des deux premières dimensions :\n",
    "\n",
    "# Utilisation de factoextra pour représenter les clusters\n",
    "fviz_cluster(list(data = df_clust, cluster = df_style$cluster_kmodes), data = df_clust, ellipse.type = \"euclid\") +\n",
    "  ggtitle(\"Visualisation des clusters avec DBScan\")\n",
    "\n",
    "# Graphique par variables\n",
    "\n",
    "# Variables binaires\n",
    "g_var_bin <- function(df, nom_var) {\n",
    "  # Distribution des clusters par var\n",
    "  g <- ggplot(df, aes(x = .data[[nom_var]], fill = cluster_kmodes)) +\n",
    "    geom_bar(position = \"dodge\") +\n",
    "    ggtitle(paste(\"Distribution des clusters pour\", nom_var)) +\n",
    "    theme_minimal()\n",
    "  return(g)\n",
    "}\n",
    "g_var_bin(df_style, \"app_swag_Classique\")\n",
    "g_var_bin(df_style, \"app_swag_Casual\")\n",
    "g_var_bin(df_style, \"app_swag_Sport\")\n",
    "g_var_bin(df_style, \"app_swag_Other\")\n",
    "g_var_bin(df_style, \"app_withTattoo\")\n",
    "g_var_bin(df_style, \"animal_cat\")\n",
    "g_var_bin(df_style, \"animal_dog\")\n",
    "g_var_bin(df_style, \"animal_other\")\n",
    "g_var_bin(df_style, \"animal_noPet\")"
   ]
  },
  {
   "cell_type": "markdown",
   "metadata": {},
   "source": [
    "### Clustering avec DBSCAN\n",
    "\n",
    "Il semble que ça n'ait pas de sens étant donné la nature binaire des données"
   ]
  },
  {
   "cell_type": "code",
   "execution_count": null,
   "metadata": {
    "vscode": {
     "languageId": "r"
    }
   },
   "outputs": [],
   "source": [
    "library(dbscan)\n",
    "\n",
    "# Pour touvre la valeur pour eps : Trouver la distance des 4 plus proches voisins\n",
    "#\n",
    "# Dans le graphique abline : \n",
    "#   Ajuster h pour estimer `eps`\n",
    "#   eps correspond à h qui correspond à l'\"épaule\"\n",
    "#   le h sert à tracer ne ligne rouge vis-à-vis l'épaule\n",
    "#\n",
    "# k devrait être égal à nb_var\n",
    "\n",
    "#df_scaled <- scale(df_clust)\n",
    "#head(df_scaled)\n",
    "\n",
    "kNNdistplot(df_clust, k = 9)\n",
    "h <- 1\n",
    "abline(h = h, col = \"red\", lty = 2)"
   ]
  },
  {
   "cell_type": "code",
   "execution_count": null,
   "metadata": {
    "vscode": {
     "languageId": "r"
    }
   },
   "outputs": [],
   "source": [
    "# Appliquer DBSCAN\n",
    "dbscan_result <- dbscan(df_clust, eps = h, minPts = 30)\n",
    "\n",
    "# Afficher les clusters\n",
    "print(dbscan_result)\n",
    "\n",
    "dbscan_result$metric\n",
    "dbscan_result$cluster\n"
   ]
  },
  {
   "cell_type": "code",
   "execution_count": 135,
   "metadata": {
    "vscode": {
     "languageId": "r"
    }
   },
   "outputs": [],
   "source": [
    "# Ajouter les résultats des clusters aux données\n",
    "df_style$cluster_dbscan <- as.factor(dbscan_result$cluster)"
   ]
  },
  {
   "cell_type": "code",
   "execution_count": null,
   "metadata": {
    "vscode": {
     "languageId": "r"
    }
   },
   "outputs": [],
   "source": [
    "# Visualisation des clusters\n",
    "\n",
    "# Visualisation des clusters dans l’espace des deux premières dimensions :\n",
    "\n",
    "# Utilisation de factoextra pour représenter les clusters\n",
    "fviz_cluster(dbscan_result, data = df_clust, ellipse.type = \"euclid\") +\n",
    "  ggtitle(\"Visualisation des clusters avec DBScan\")\n",
    "\n",
    "# Graphique par variables\n",
    "\n",
    "# Variables binaires\n",
    "g_var_bin <- function(df, nom_var) {\n",
    "  # Distribution des clusters par var\n",
    "  g <- ggplot(df, aes(x = .data[[nom_var]], fill = cluster_dbscan)) +\n",
    "    geom_bar(position = \"dodge\") +\n",
    "    ggtitle(paste(\"Distribution des clusters pour\", nom_var)) +\n",
    "    theme_minimal()\n",
    "  return(g)\n",
    "}\n",
    "g_var_bin(df_style, \"app_swag_Classique\")\n",
    "g_var_bin(df_style, \"app_swag_Casual\")\n",
    "g_var_bin(df_style, \"app_swag_Sport\")\n",
    "g_var_bin(df_style, \"app_swag_Other\")\n",
    "g_var_bin(df_style, \"app_withTattoo\")\n",
    "g_var_bin(df_style, \"animal_cat\")\n",
    "g_var_bin(df_style, \"animal_dog\")\n",
    "g_var_bin(df_style, \"animal_other\")\n",
    "g_var_bin(df_style, \"animal_noPet\")"
   ]
  },
  {
   "cell_type": "markdown",
   "metadata": {},
   "source": [
    "### Reste du code"
   ]
  },
  {
   "cell_type": "code",
   "execution_count": null,
   "metadata": {
    "vscode": {
     "languageId": "r"
    }
   },
   "outputs": [],
   "source": [
    "library(cluster)\n",
    "dissimilarity_matrix <- daisy(df_scaled, metric = \"gower\")"
   ]
  },
  {
   "cell_type": "code",
   "execution_count": null,
   "metadata": {
    "vscode": {
     "languageId": "r"
    }
   },
   "outputs": [],
   "source": [
    "dissimilarity_matrix"
   ]
  },
  {
   "cell_type": "code",
   "execution_count": null,
   "metadata": {
    "vscode": {
     "languageId": "r"
    }
   },
   "outputs": [],
   "source": [
    "# Création d'un tableau des fréquences\n",
    "combinations <- as.data.frame(table(df_scaled))\n",
    "\n",
    "# Filtrer uniquement les combinaisons ayant au moins une occurrence\n",
    "combinations <- combinations[combinations$Freq > 0, ]\n",
    "\n",
    "print(combinations)\n",
    "\n",
    "library(ggplot2)\n",
    "\n",
    "# Créer un identifiant pour chaque combinaison\n",
    "combinations$combination <- apply(combinations[, 1:9], 1, paste, collapse = \"\")\n",
    "\n",
    "# Visualiser les fréquences\n",
    "ggplot(combinations, aes(x = reorder(combination, -Freq), y = Freq)) +\n",
    "  geom_bar(stat = \"identity\") +\n",
    "  labs(x = \"Combinaisons\", y = \"Fréquence\") +\n",
    "  theme(axis.text.x = element_text(angle = 90, hjust = 1))"
   ]
  },
  {
   "cell_type": "code",
   "execution_count": null,
   "metadata": {
    "vscode": {
     "languageId": "r"
    }
   },
   "outputs": [],
   "source": [
    "# Appliquer DBSCAN\n",
    "dbscan_result <- dbscan(df_scaled, eps = 1, minPts = 30)\n",
    "\n",
    "# Afficher les clusters\n",
    "print(dbscan_result)\n",
    "\n",
    "# Visualisation\n",
    "# library(ggplot2)\n",
    "# df_scaled$cluster <- as.factor(dbscan_result$cluster)\n",
    "# ggplot(df_scaled, aes(x = mpg, y = disp, color = cluster)) +\n",
    "#   geom_point(size = 3) +\n",
    "#   labs(title = \"DBSCAN Clustering\", color = \"Cluster\")"
   ]
  },
  {
   "cell_type": "code",
   "execution_count": 16,
   "metadata": {
    "vscode": {
     "languageId": "r"
    }
   },
   "outputs": [],
   "source": [
    "# Appliquer PCA pour réduire la dimensionnalité\n",
    "pca_result <- prcomp(df_scaled, scale = TRUE)\n",
    "\n",
    "# Extraire les 2 premières composantes principales pour le graphique\n",
    "pca_data <- data.frame(pca_result$x[, 1:2])  # Première et deuxième composantes principales\n",
    "\n",
    "# Ajouter les résultats de DBSCAN aux données PCA\n",
    "pca_data$cluster <- as.factor(dbscan_result$cluster)"
   ]
  },
  {
   "cell_type": "code",
   "execution_count": null,
   "metadata": {
    "vscode": {
     "languageId": "r"
    }
   },
   "outputs": [],
   "source": [
    "library(ggplot2)\n",
    "\n",
    "# Créer un graphique des clusters DBSCAN\n",
    "ggplot(pca_data, aes(x = PC1, y = PC2, color = cluster)) +\n",
    "  geom_point(size = 3) +\n",
    "  labs(title = \"DBSCAN Clustering avec PCA\",\n",
    "       x = \"Composante Principale 1\",\n",
    "       y = \"Composante Principale 2\",\n",
    "       color = \"Cluster\") +\n",
    "  theme_minimal()"
   ]
  },
  {
   "cell_type": "code",
   "execution_count": null,
   "metadata": {
    "vscode": {
     "languageId": "r"
    }
   },
   "outputs": [],
   "source": [
    "library(Rtsne)\n",
    "\n",
    "# Appliquer t-SNE pour réduire à 2 dimensions\n",
    "tsne_result <- Rtsne(df_scaled, dims = 2)\n",
    "\n",
    "# Créer un dataframe avec les résultats t-SNE\n",
    "tsne_data <- data.frame(tsne_result$Y)\n",
    "tsne_data$cluster <- as.factor(dbscan_result$cluster)\n",
    "\n",
    "# Visualisation t-SNE\n",
    "ggplot(tsne_data, aes(x = V1, y = V2, color = cluster)) +\n",
    "  geom_point(size = 3) +\n",
    "  labs(title = \"DBSCAN Clustering avec t-SNE\",\n",
    "       x = \"t-SNE Dimension 1\",\n",
    "       y = \"t-SNE Dimension 2\",\n",
    "       color = \"Cluster\") +\n",
    "  theme_minimal()"
   ]
  },
  {
   "cell_type": "code",
   "execution_count": null,
   "metadata": {
    "vscode": {
     "languageId": "r"
    }
   },
   "outputs": [],
   "source": [
    "library(dplyr)\n",
    "# Ajouter les résultats des clusters aux données\n",
    "df_scaled$cluster <- as.factor(dbscan_result$cluster)\n",
    "# Calculer la moyenne et l'écart-type pour chaque variable par cluster\n",
    "summary_clusters <- df_scaled %>%\n",
    "  group_by(cluster) %>%\n",
    "  summarise(across(starts_with(\"app_\") | starts_with(\"animal_\"), list(mean = mean, sd = sd), .names = \"{.col}_{.fn}\"))\n",
    "\n",
    "# Afficher le résumé des statistiques pour chaque cluster\n",
    "View(summary_clusters)"
   ]
  }
 ],
 "metadata": {
  "kernelspec": {
   "display_name": "R",
   "language": "R",
   "name": "ir"
  },
  "language_info": {
   "codemirror_mode": "r",
   "file_extension": ".r",
   "mimetype": "text/x-r-source",
   "name": "R",
   "pygments_lexer": "r",
   "version": "4.4.1"
  }
 },
 "nbformat": 4,
 "nbformat_minor": 2
}
